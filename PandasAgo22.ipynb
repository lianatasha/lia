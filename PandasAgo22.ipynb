{
  "nbformat": 4,
  "nbformat_minor": 0,
  "metadata": {
    "colab": {
      "name": "PandasAgo22.ipynb",
      "provenance": [],
      "collapsed_sections": [],
      "include_colab_link": true
    },
    "kernelspec": {
      "name": "python3",
      "display_name": "Python 3"
    }
  },
  "cells": [
    {
      "cell_type": "markdown",
      "metadata": {
        "id": "view-in-github",
        "colab_type": "text"
      },
      "source": [
        "<a href=\"https://colab.research.google.com/github/lianatasha/lia/blob/master/PandasAgo22.ipynb\" target=\"_parent\"><img src=\"https://colab.research.google.com/assets/colab-badge.svg\" alt=\"Open In Colab\"/></a>"
      ]
    },
    {
      "cell_type": "markdown",
      "metadata": {
        "id": "CcO06esNJc49"
      },
      "source": [
        "# Pandas\n",
        "\n",
        "Pandas es un paquete de Python que provee dos estructuras de datos para el análisis de datos \"relacionales\" de manera rápida, flexible y expresiva. Pandas está construido sobre Numpy, por lo que muchas de las ventajas de utilizar Numpy se trasladan a Pandas.\n",
        "\n",
        "Pandas puede ser utilizado para trabajar con diferentes tipos de datos:\n",
        "\n",
        "* Tabulares, con datos en columnas que comparten un mismo tipo (por ejemplo, tablas de una base de datos y hojas de Excel).\n",
        "* Series de tiempo.\n",
        "* Matrices con columnas y filas etiquetadas.\n",
        "* Datos de experimentos estadísticos en general.\n"
      ]
    },
    {
      "cell_type": "code",
      "metadata": {
        "id": "3PmEICGYLh4Q"
      },
      "source": [
        "#pd es el alias comun de pandas\n",
        "import pandas as pd\n",
        "import numpy as np"
      ],
      "execution_count": 1,
      "outputs": []
    },
    {
      "cell_type": "markdown",
      "metadata": {
        "id": "OTXIJU1jJoJx"
      },
      "source": [
        "# Estructuras"
      ]
    },
    {
      "cell_type": "markdown",
      "metadata": {
        "id": "95kIZu4KJf14"
      },
      "source": [
        "## Series\n",
        "\n",
        "La primera estructura de datos de Pandas son las Series. Una Serie es utilizada para arreglos 1D etiquetados con un mismo tipo de dato en todos sus elementos. Una serie es un arreglo 1D donde cada elemento tiene asignado un índice:\n",
        "\n",
        "\n",
        "| index   || |\n",
        "|---||----|\n",
        "| a || s1 |\n",
        "| b || s2 |\n",
        "| c || s3 |\n",
        "| ... || ... |"
      ]
    },
    {
      "cell_type": "code",
      "metadata": {
        "id": "_lshPHLAJf_f",
        "colab": {
          "base_uri": "https://localhost:8080/"
        },
        "outputId": "e4331fbf-7c24-4455-c391-725921440b12"
      },
      "source": [
        "#un objeto series desde una lista\n",
        "s1 = pd.Series(data=[1, 1, 2, 3, 5], index=[\"a\", \"b\", \"c\", \"d\", \"e\"])\n",
        "s1"
      ],
      "execution_count": 2,
      "outputs": [
        {
          "output_type": "execute_result",
          "data": {
            "text/plain": [
              "a    1\n",
              "b    1\n",
              "c    2\n",
              "d    3\n",
              "e    5\n",
              "dtype: int64"
            ]
          },
          "metadata": {},
          "execution_count": 2
        }
      ]
    },
    {
      "cell_type": "markdown",
      "metadata": {
        "id": "EIblWSe0JgIb"
      },
      "source": [
        "## Dataframe\n",
        "\n",
        "Los Dataframes son la segunda estructura en Pandas, éstos son utilizados para datos 2D etiquetados (columnas con nombres generalmente). Las columnas de un Dataframe pueden tener tipos de dato diferentes. Puedes pensar en un Dataframe  como un contenedor de Series, donde cada columna es una Serie (arreglo 1D con etiquetas). Un Dataframe puede representarse como una tabla donde cada fila tiene asignado un índice y cada columna un nombre:\n",
        "\n",
        "| index\\columns  || A  | B  | C  | D  |\n",
        "|---||----|----|----|----|\n",
        "| 1 || a1 | b1 | c1 | d1 |\n",
        "| 2 || a2 | b2 | c2 | d2 |\n",
        "| 3 || a3 | b3 | c3 | d3 |"
      ]
    },
    {
      "cell_type": "code",
      "metadata": {
        "id": "6BdTW6AVJgPx",
        "colab": {
          "base_uri": "https://localhost:8080/",
          "height": 238
        },
        "outputId": "16dccdbe-76f1-4d58-ba9e-d5d8321d2749"
      },
      "source": [
        "#un dataframe aleatorio con numpy random\n",
        "df = pd.DataFrame(np.random.randn(6, 4), columns=[\"A\", \"B\", \"C\", \"D\"])\n",
        "df"
      ],
      "execution_count": 3,
      "outputs": [
        {
          "output_type": "execute_result",
          "data": {
            "text/plain": [
              "          A         B         C         D\n",
              "0 -0.407549  0.746503 -0.486613  0.490029\n",
              "1 -1.045711 -0.335270  0.071375  2.071805\n",
              "2  0.258904 -0.582571 -0.385520  0.449454\n",
              "3  1.549497  1.052465  1.246970  0.982632\n",
              "4 -0.019649 -0.597528  0.128990 -0.163149\n",
              "5 -0.765895 -1.201212  1.074760  0.569080"
            ],
            "text/html": [
              "\n",
              "  <div id=\"df-cff8ed8c-4c5c-44f4-a932-5f4a495a8a1c\">\n",
              "    <div class=\"colab-df-container\">\n",
              "      <div>\n",
              "<style scoped>\n",
              "    .dataframe tbody tr th:only-of-type {\n",
              "        vertical-align: middle;\n",
              "    }\n",
              "\n",
              "    .dataframe tbody tr th {\n",
              "        vertical-align: top;\n",
              "    }\n",
              "\n",
              "    .dataframe thead th {\n",
              "        text-align: right;\n",
              "    }\n",
              "</style>\n",
              "<table border=\"1\" class=\"dataframe\">\n",
              "  <thead>\n",
              "    <tr style=\"text-align: right;\">\n",
              "      <th></th>\n",
              "      <th>A</th>\n",
              "      <th>B</th>\n",
              "      <th>C</th>\n",
              "      <th>D</th>\n",
              "    </tr>\n",
              "  </thead>\n",
              "  <tbody>\n",
              "    <tr>\n",
              "      <th>0</th>\n",
              "      <td>-0.407549</td>\n",
              "      <td>0.746503</td>\n",
              "      <td>-0.486613</td>\n",
              "      <td>0.490029</td>\n",
              "    </tr>\n",
              "    <tr>\n",
              "      <th>1</th>\n",
              "      <td>-1.045711</td>\n",
              "      <td>-0.335270</td>\n",
              "      <td>0.071375</td>\n",
              "      <td>2.071805</td>\n",
              "    </tr>\n",
              "    <tr>\n",
              "      <th>2</th>\n",
              "      <td>0.258904</td>\n",
              "      <td>-0.582571</td>\n",
              "      <td>-0.385520</td>\n",
              "      <td>0.449454</td>\n",
              "    </tr>\n",
              "    <tr>\n",
              "      <th>3</th>\n",
              "      <td>1.549497</td>\n",
              "      <td>1.052465</td>\n",
              "      <td>1.246970</td>\n",
              "      <td>0.982632</td>\n",
              "    </tr>\n",
              "    <tr>\n",
              "      <th>4</th>\n",
              "      <td>-0.019649</td>\n",
              "      <td>-0.597528</td>\n",
              "      <td>0.128990</td>\n",
              "      <td>-0.163149</td>\n",
              "    </tr>\n",
              "    <tr>\n",
              "      <th>5</th>\n",
              "      <td>-0.765895</td>\n",
              "      <td>-1.201212</td>\n",
              "      <td>1.074760</td>\n",
              "      <td>0.569080</td>\n",
              "    </tr>\n",
              "  </tbody>\n",
              "</table>\n",
              "</div>\n",
              "      <button class=\"colab-df-convert\" onclick=\"convertToInteractive('df-cff8ed8c-4c5c-44f4-a932-5f4a495a8a1c')\"\n",
              "              title=\"Convert this dataframe to an interactive table.\"\n",
              "              style=\"display:none;\">\n",
              "        \n",
              "  <svg xmlns=\"http://www.w3.org/2000/svg\" height=\"24px\"viewBox=\"0 0 24 24\"\n",
              "       width=\"24px\">\n",
              "    <path d=\"M0 0h24v24H0V0z\" fill=\"none\"/>\n",
              "    <path d=\"M18.56 5.44l.94 2.06.94-2.06 2.06-.94-2.06-.94-.94-2.06-.94 2.06-2.06.94zm-11 1L8.5 8.5l.94-2.06 2.06-.94-2.06-.94L8.5 2.5l-.94 2.06-2.06.94zm10 10l.94 2.06.94-2.06 2.06-.94-2.06-.94-.94-2.06-.94 2.06-2.06.94z\"/><path d=\"M17.41 7.96l-1.37-1.37c-.4-.4-.92-.59-1.43-.59-.52 0-1.04.2-1.43.59L10.3 9.45l-7.72 7.72c-.78.78-.78 2.05 0 2.83L4 21.41c.39.39.9.59 1.41.59.51 0 1.02-.2 1.41-.59l7.78-7.78 2.81-2.81c.8-.78.8-2.07 0-2.86zM5.41 20L4 18.59l7.72-7.72 1.47 1.35L5.41 20z\"/>\n",
              "  </svg>\n",
              "      </button>\n",
              "      \n",
              "  <style>\n",
              "    .colab-df-container {\n",
              "      display:flex;\n",
              "      flex-wrap:wrap;\n",
              "      gap: 12px;\n",
              "    }\n",
              "\n",
              "    .colab-df-convert {\n",
              "      background-color: #E8F0FE;\n",
              "      border: none;\n",
              "      border-radius: 50%;\n",
              "      cursor: pointer;\n",
              "      display: none;\n",
              "      fill: #1967D2;\n",
              "      height: 32px;\n",
              "      padding: 0 0 0 0;\n",
              "      width: 32px;\n",
              "    }\n",
              "\n",
              "    .colab-df-convert:hover {\n",
              "      background-color: #E2EBFA;\n",
              "      box-shadow: 0px 1px 2px rgba(60, 64, 67, 0.3), 0px 1px 3px 1px rgba(60, 64, 67, 0.15);\n",
              "      fill: #174EA6;\n",
              "    }\n",
              "\n",
              "    [theme=dark] .colab-df-convert {\n",
              "      background-color: #3B4455;\n",
              "      fill: #D2E3FC;\n",
              "    }\n",
              "\n",
              "    [theme=dark] .colab-df-convert:hover {\n",
              "      background-color: #434B5C;\n",
              "      box-shadow: 0px 1px 3px 1px rgba(0, 0, 0, 0.15);\n",
              "      filter: drop-shadow(0px 1px 2px rgba(0, 0, 0, 0.3));\n",
              "      fill: #FFFFFF;\n",
              "    }\n",
              "  </style>\n",
              "\n",
              "      <script>\n",
              "        const buttonEl =\n",
              "          document.querySelector('#df-cff8ed8c-4c5c-44f4-a932-5f4a495a8a1c button.colab-df-convert');\n",
              "        buttonEl.style.display =\n",
              "          google.colab.kernel.accessAllowed ? 'block' : 'none';\n",
              "\n",
              "        async function convertToInteractive(key) {\n",
              "          const element = document.querySelector('#df-cff8ed8c-4c5c-44f4-a932-5f4a495a8a1c');\n",
              "          const dataTable =\n",
              "            await google.colab.kernel.invokeFunction('convertToInteractive',\n",
              "                                                     [key], {});\n",
              "          if (!dataTable) return;\n",
              "\n",
              "          const docLinkHtml = 'Like what you see? Visit the ' +\n",
              "            '<a target=\"_blank\" href=https://colab.research.google.com/notebooks/data_table.ipynb>data table notebook</a>'\n",
              "            + ' to learn more about interactive tables.';\n",
              "          element.innerHTML = '';\n",
              "          dataTable['output_type'] = 'display_data';\n",
              "          await google.colab.output.renderOutput(dataTable, element);\n",
              "          const docLink = document.createElement('div');\n",
              "          docLink.innerHTML = docLinkHtml;\n",
              "          element.appendChild(docLink);\n",
              "        }\n",
              "      </script>\n",
              "    </div>\n",
              "  </div>\n",
              "  "
            ]
          },
          "metadata": {},
          "execution_count": 3
        }
      ]
    },
    {
      "cell_type": "markdown",
      "metadata": {
        "id": "amSx3Uy5Jgs_"
      },
      "source": [
        "# Creación y almacenamiento"
      ]
    },
    {
      "cell_type": "markdown",
      "metadata": {
        "id": "Efe8EN4EUNr6"
      },
      "source": [
        "## Creación desde diccionarios de listas"
      ]
    },
    {
      "cell_type": "code",
      "metadata": {
        "id": "W3sLNcoIKZ5t",
        "colab": {
          "base_uri": "https://localhost:8080/",
          "height": 143
        },
        "outputId": "b27c99fd-08df-4a5f-f976-de1b3b374802"
      },
      "source": [
        "#Un diccionario de python\n",
        "dict1 = {'pais': ['Mexico',\n",
        "'EUA', \"Francia\"], 'continente': [\"America\", \"America\", \"Europa\"], 'poblacion': [129, 325, 67]}\n",
        "\n",
        "paises = pd.DataFrame(dict1)\n",
        "paises"
      ],
      "execution_count": 4,
      "outputs": [
        {
          "output_type": "execute_result",
          "data": {
            "text/plain": [
              "      pais continente  poblacion\n",
              "0   Mexico    America        129\n",
              "1      EUA    America        325\n",
              "2  Francia     Europa         67"
            ],
            "text/html": [
              "\n",
              "  <div id=\"df-99bec336-81d3-4583-806e-0123e6bbe474\">\n",
              "    <div class=\"colab-df-container\">\n",
              "      <div>\n",
              "<style scoped>\n",
              "    .dataframe tbody tr th:only-of-type {\n",
              "        vertical-align: middle;\n",
              "    }\n",
              "\n",
              "    .dataframe tbody tr th {\n",
              "        vertical-align: top;\n",
              "    }\n",
              "\n",
              "    .dataframe thead th {\n",
              "        text-align: right;\n",
              "    }\n",
              "</style>\n",
              "<table border=\"1\" class=\"dataframe\">\n",
              "  <thead>\n",
              "    <tr style=\"text-align: right;\">\n",
              "      <th></th>\n",
              "      <th>pais</th>\n",
              "      <th>continente</th>\n",
              "      <th>poblacion</th>\n",
              "    </tr>\n",
              "  </thead>\n",
              "  <tbody>\n",
              "    <tr>\n",
              "      <th>0</th>\n",
              "      <td>Mexico</td>\n",
              "      <td>America</td>\n",
              "      <td>129</td>\n",
              "    </tr>\n",
              "    <tr>\n",
              "      <th>1</th>\n",
              "      <td>EUA</td>\n",
              "      <td>America</td>\n",
              "      <td>325</td>\n",
              "    </tr>\n",
              "    <tr>\n",
              "      <th>2</th>\n",
              "      <td>Francia</td>\n",
              "      <td>Europa</td>\n",
              "      <td>67</td>\n",
              "    </tr>\n",
              "  </tbody>\n",
              "</table>\n",
              "</div>\n",
              "      <button class=\"colab-df-convert\" onclick=\"convertToInteractive('df-99bec336-81d3-4583-806e-0123e6bbe474')\"\n",
              "              title=\"Convert this dataframe to an interactive table.\"\n",
              "              style=\"display:none;\">\n",
              "        \n",
              "  <svg xmlns=\"http://www.w3.org/2000/svg\" height=\"24px\"viewBox=\"0 0 24 24\"\n",
              "       width=\"24px\">\n",
              "    <path d=\"M0 0h24v24H0V0z\" fill=\"none\"/>\n",
              "    <path d=\"M18.56 5.44l.94 2.06.94-2.06 2.06-.94-2.06-.94-.94-2.06-.94 2.06-2.06.94zm-11 1L8.5 8.5l.94-2.06 2.06-.94-2.06-.94L8.5 2.5l-.94 2.06-2.06.94zm10 10l.94 2.06.94-2.06 2.06-.94-2.06-.94-.94-2.06-.94 2.06-2.06.94z\"/><path d=\"M17.41 7.96l-1.37-1.37c-.4-.4-.92-.59-1.43-.59-.52 0-1.04.2-1.43.59L10.3 9.45l-7.72 7.72c-.78.78-.78 2.05 0 2.83L4 21.41c.39.39.9.59 1.41.59.51 0 1.02-.2 1.41-.59l7.78-7.78 2.81-2.81c.8-.78.8-2.07 0-2.86zM5.41 20L4 18.59l7.72-7.72 1.47 1.35L5.41 20z\"/>\n",
              "  </svg>\n",
              "      </button>\n",
              "      \n",
              "  <style>\n",
              "    .colab-df-container {\n",
              "      display:flex;\n",
              "      flex-wrap:wrap;\n",
              "      gap: 12px;\n",
              "    }\n",
              "\n",
              "    .colab-df-convert {\n",
              "      background-color: #E8F0FE;\n",
              "      border: none;\n",
              "      border-radius: 50%;\n",
              "      cursor: pointer;\n",
              "      display: none;\n",
              "      fill: #1967D2;\n",
              "      height: 32px;\n",
              "      padding: 0 0 0 0;\n",
              "      width: 32px;\n",
              "    }\n",
              "\n",
              "    .colab-df-convert:hover {\n",
              "      background-color: #E2EBFA;\n",
              "      box-shadow: 0px 1px 2px rgba(60, 64, 67, 0.3), 0px 1px 3px 1px rgba(60, 64, 67, 0.15);\n",
              "      fill: #174EA6;\n",
              "    }\n",
              "\n",
              "    [theme=dark] .colab-df-convert {\n",
              "      background-color: #3B4455;\n",
              "      fill: #D2E3FC;\n",
              "    }\n",
              "\n",
              "    [theme=dark] .colab-df-convert:hover {\n",
              "      background-color: #434B5C;\n",
              "      box-shadow: 0px 1px 3px 1px rgba(0, 0, 0, 0.15);\n",
              "      filter: drop-shadow(0px 1px 2px rgba(0, 0, 0, 0.3));\n",
              "      fill: #FFFFFF;\n",
              "    }\n",
              "  </style>\n",
              "\n",
              "      <script>\n",
              "        const buttonEl =\n",
              "          document.querySelector('#df-99bec336-81d3-4583-806e-0123e6bbe474 button.colab-df-convert');\n",
              "        buttonEl.style.display =\n",
              "          google.colab.kernel.accessAllowed ? 'block' : 'none';\n",
              "\n",
              "        async function convertToInteractive(key) {\n",
              "          const element = document.querySelector('#df-99bec336-81d3-4583-806e-0123e6bbe474');\n",
              "          const dataTable =\n",
              "            await google.colab.kernel.invokeFunction('convertToInteractive',\n",
              "                                                     [key], {});\n",
              "          if (!dataTable) return;\n",
              "\n",
              "          const docLinkHtml = 'Like what you see? Visit the ' +\n",
              "            '<a target=\"_blank\" href=https://colab.research.google.com/notebooks/data_table.ipynb>data table notebook</a>'\n",
              "            + ' to learn more about interactive tables.';\n",
              "          element.innerHTML = '';\n",
              "          dataTable['output_type'] = 'display_data';\n",
              "          await google.colab.output.renderOutput(dataTable, element);\n",
              "          const docLink = document.createElement('div');\n",
              "          docLink.innerHTML = docLinkHtml;\n",
              "          element.appendChild(docLink);\n",
              "        }\n",
              "      </script>\n",
              "    </div>\n",
              "  </div>\n",
              "  "
            ]
          },
          "metadata": {},
          "execution_count": 4
        }
      ]
    },
    {
      "cell_type": "markdown",
      "metadata": {
        "id": "t0IUUYdWKaQ7"
      },
      "source": [
        "## Creación desde diccionario anidado"
      ]
    },
    {
      "cell_type": "code",
      "metadata": {
        "id": "oPN4K2gSMH8U",
        "colab": {
          "base_uri": "https://localhost:8080/",
          "height": 143
        },
        "outputId": "78cfbb9f-3c3f-40ad-c160-bb15d2812ce7"
      },
      "source": [
        "#Un diccionario anidado de python\n",
        "#las claves anidadas especifican el indice de las filas\n",
        "dict2 = {'pais': {\"p1\": 'Mexico',\n",
        "\"p2\": 'EUA', \"p3\": \"Francia\"}, 'continente': {\"p1\": \"America\", \"p2\": \"America\", \"p3\": \"Europa\"}, 'poblacion': {\"p1\": 129, \"p2\": 325, \"p3\": 67}}\n",
        "\n",
        "paises = pd.DataFrame(dict2)\n",
        "paises"
      ],
      "execution_count": 5,
      "outputs": [
        {
          "output_type": "execute_result",
          "data": {
            "text/plain": [
              "       pais continente  poblacion\n",
              "p1   Mexico    America        129\n",
              "p2      EUA    America        325\n",
              "p3  Francia     Europa         67"
            ],
            "text/html": [
              "\n",
              "  <div id=\"df-f733b76d-51f7-4ead-bd49-c6660b1a587f\">\n",
              "    <div class=\"colab-df-container\">\n",
              "      <div>\n",
              "<style scoped>\n",
              "    .dataframe tbody tr th:only-of-type {\n",
              "        vertical-align: middle;\n",
              "    }\n",
              "\n",
              "    .dataframe tbody tr th {\n",
              "        vertical-align: top;\n",
              "    }\n",
              "\n",
              "    .dataframe thead th {\n",
              "        text-align: right;\n",
              "    }\n",
              "</style>\n",
              "<table border=\"1\" class=\"dataframe\">\n",
              "  <thead>\n",
              "    <tr style=\"text-align: right;\">\n",
              "      <th></th>\n",
              "      <th>pais</th>\n",
              "      <th>continente</th>\n",
              "      <th>poblacion</th>\n",
              "    </tr>\n",
              "  </thead>\n",
              "  <tbody>\n",
              "    <tr>\n",
              "      <th>p1</th>\n",
              "      <td>Mexico</td>\n",
              "      <td>America</td>\n",
              "      <td>129</td>\n",
              "    </tr>\n",
              "    <tr>\n",
              "      <th>p2</th>\n",
              "      <td>EUA</td>\n",
              "      <td>America</td>\n",
              "      <td>325</td>\n",
              "    </tr>\n",
              "    <tr>\n",
              "      <th>p3</th>\n",
              "      <td>Francia</td>\n",
              "      <td>Europa</td>\n",
              "      <td>67</td>\n",
              "    </tr>\n",
              "  </tbody>\n",
              "</table>\n",
              "</div>\n",
              "      <button class=\"colab-df-convert\" onclick=\"convertToInteractive('df-f733b76d-51f7-4ead-bd49-c6660b1a587f')\"\n",
              "              title=\"Convert this dataframe to an interactive table.\"\n",
              "              style=\"display:none;\">\n",
              "        \n",
              "  <svg xmlns=\"http://www.w3.org/2000/svg\" height=\"24px\"viewBox=\"0 0 24 24\"\n",
              "       width=\"24px\">\n",
              "    <path d=\"M0 0h24v24H0V0z\" fill=\"none\"/>\n",
              "    <path d=\"M18.56 5.44l.94 2.06.94-2.06 2.06-.94-2.06-.94-.94-2.06-.94 2.06-2.06.94zm-11 1L8.5 8.5l.94-2.06 2.06-.94-2.06-.94L8.5 2.5l-.94 2.06-2.06.94zm10 10l.94 2.06.94-2.06 2.06-.94-2.06-.94-.94-2.06-.94 2.06-2.06.94z\"/><path d=\"M17.41 7.96l-1.37-1.37c-.4-.4-.92-.59-1.43-.59-.52 0-1.04.2-1.43.59L10.3 9.45l-7.72 7.72c-.78.78-.78 2.05 0 2.83L4 21.41c.39.39.9.59 1.41.59.51 0 1.02-.2 1.41-.59l7.78-7.78 2.81-2.81c.8-.78.8-2.07 0-2.86zM5.41 20L4 18.59l7.72-7.72 1.47 1.35L5.41 20z\"/>\n",
              "  </svg>\n",
              "      </button>\n",
              "      \n",
              "  <style>\n",
              "    .colab-df-container {\n",
              "      display:flex;\n",
              "      flex-wrap:wrap;\n",
              "      gap: 12px;\n",
              "    }\n",
              "\n",
              "    .colab-df-convert {\n",
              "      background-color: #E8F0FE;\n",
              "      border: none;\n",
              "      border-radius: 50%;\n",
              "      cursor: pointer;\n",
              "      display: none;\n",
              "      fill: #1967D2;\n",
              "      height: 32px;\n",
              "      padding: 0 0 0 0;\n",
              "      width: 32px;\n",
              "    }\n",
              "\n",
              "    .colab-df-convert:hover {\n",
              "      background-color: #E2EBFA;\n",
              "      box-shadow: 0px 1px 2px rgba(60, 64, 67, 0.3), 0px 1px 3px 1px rgba(60, 64, 67, 0.15);\n",
              "      fill: #174EA6;\n",
              "    }\n",
              "\n",
              "    [theme=dark] .colab-df-convert {\n",
              "      background-color: #3B4455;\n",
              "      fill: #D2E3FC;\n",
              "    }\n",
              "\n",
              "    [theme=dark] .colab-df-convert:hover {\n",
              "      background-color: #434B5C;\n",
              "      box-shadow: 0px 1px 3px 1px rgba(0, 0, 0, 0.15);\n",
              "      filter: drop-shadow(0px 1px 2px rgba(0, 0, 0, 0.3));\n",
              "      fill: #FFFFFF;\n",
              "    }\n",
              "  </style>\n",
              "\n",
              "      <script>\n",
              "        const buttonEl =\n",
              "          document.querySelector('#df-f733b76d-51f7-4ead-bd49-c6660b1a587f button.colab-df-convert');\n",
              "        buttonEl.style.display =\n",
              "          google.colab.kernel.accessAllowed ? 'block' : 'none';\n",
              "\n",
              "        async function convertToInteractive(key) {\n",
              "          const element = document.querySelector('#df-f733b76d-51f7-4ead-bd49-c6660b1a587f');\n",
              "          const dataTable =\n",
              "            await google.colab.kernel.invokeFunction('convertToInteractive',\n",
              "                                                     [key], {});\n",
              "          if (!dataTable) return;\n",
              "\n",
              "          const docLinkHtml = 'Like what you see? Visit the ' +\n",
              "            '<a target=\"_blank\" href=https://colab.research.google.com/notebooks/data_table.ipynb>data table notebook</a>'\n",
              "            + ' to learn more about interactive tables.';\n",
              "          element.innerHTML = '';\n",
              "          dataTable['output_type'] = 'display_data';\n",
              "          await google.colab.output.renderOutput(dataTable, element);\n",
              "          const docLink = document.createElement('div');\n",
              "          docLink.innerHTML = docLinkHtml;\n",
              "          element.appendChild(docLink);\n",
              "        }\n",
              "      </script>\n",
              "    </div>\n",
              "  </div>\n",
              "  "
            ]
          },
          "metadata": {},
          "execution_count": 5
        }
      ]
    },
    {
      "cell_type": "markdown",
      "metadata": {
        "id": "vEl2HU6hUKBk"
      },
      "source": [
        "## Creación desde archivos csv"
      ]
    },
    {
      "cell_type": "code",
      "metadata": {
        "id": "zYIeBGnrNupt",
        "colab": {
          "base_uri": "https://localhost:8080/"
        },
        "outputId": "1676feee-5a3d-4d31-cba7-fd2f0086e356"
      },
      "source": [
        "!ls sample_data/"
      ],
      "execution_count": 7,
      "outputs": [
        {
          "output_type": "stream",
          "name": "stdout",
          "text": [
            "anscombe.json\t\t      mnist_test.csv\n",
            "california_housing_test.csv   mnist_train_small.csv\n",
            "california_housing_train.csv  README.md\n"
          ]
        }
      ]
    },
    {
      "cell_type": "code",
      "metadata": {
        "id": "SW7PjbOONhIn",
        "colab": {
          "base_uri": "https://localhost:8080/",
          "height": 427
        },
        "outputId": "5c04fb3b-d6da-46d1-8141-61615dd5a4b6"
      },
      "source": [
        "#leamos un archivo csv almacenado por colab\n",
        "cali_housing = pd.read_csv(\"sample_data/california_housing_test.csv\", nrows=10,)\n",
        "cali_housing"
      ],
      "execution_count": 6,
      "outputs": [
        {
          "output_type": "execute_result",
          "data": {
            "text/plain": [
              "   longitude  latitude  housing_median_age  total_rooms  total_bedrooms  \\\n",
              "0    -122.05     37.37                27.0       3885.0           661.0   \n",
              "1    -118.30     34.26                43.0       1510.0           310.0   \n",
              "2    -117.81     33.78                27.0       3589.0           507.0   \n",
              "3    -118.36     33.82                28.0         67.0            15.0   \n",
              "4    -119.67     36.33                19.0       1241.0           244.0   \n",
              "5    -119.56     36.51                37.0       1018.0           213.0   \n",
              "6    -121.43     38.63                43.0       1009.0           225.0   \n",
              "7    -120.65     35.48                19.0       2310.0           471.0   \n",
              "8    -122.84     38.40                15.0       3080.0           617.0   \n",
              "9    -118.02     34.08                31.0       2402.0           632.0   \n",
              "\n",
              "   population  households  median_income  median_house_value  \n",
              "0      1537.0       606.0         6.6085            344700.0  \n",
              "1       809.0       277.0         3.5990            176500.0  \n",
              "2      1484.0       495.0         5.7934            270500.0  \n",
              "3        49.0        11.0         6.1359            330000.0  \n",
              "4       850.0       237.0         2.9375             81700.0  \n",
              "5       663.0       204.0         1.6635             67000.0  \n",
              "6       604.0       218.0         1.6641             67000.0  \n",
              "7      1341.0       441.0         3.2250            166900.0  \n",
              "8      1446.0       599.0         3.6696            194400.0  \n",
              "9      2830.0       603.0         2.3333            164200.0  "
            ],
            "text/html": [
              "\n",
              "  <div id=\"df-fa02a4d4-4493-43b6-97be-d3a44374142a\">\n",
              "    <div class=\"colab-df-container\">\n",
              "      <div>\n",
              "<style scoped>\n",
              "    .dataframe tbody tr th:only-of-type {\n",
              "        vertical-align: middle;\n",
              "    }\n",
              "\n",
              "    .dataframe tbody tr th {\n",
              "        vertical-align: top;\n",
              "    }\n",
              "\n",
              "    .dataframe thead th {\n",
              "        text-align: right;\n",
              "    }\n",
              "</style>\n",
              "<table border=\"1\" class=\"dataframe\">\n",
              "  <thead>\n",
              "    <tr style=\"text-align: right;\">\n",
              "      <th></th>\n",
              "      <th>longitude</th>\n",
              "      <th>latitude</th>\n",
              "      <th>housing_median_age</th>\n",
              "      <th>total_rooms</th>\n",
              "      <th>total_bedrooms</th>\n",
              "      <th>population</th>\n",
              "      <th>households</th>\n",
              "      <th>median_income</th>\n",
              "      <th>median_house_value</th>\n",
              "    </tr>\n",
              "  </thead>\n",
              "  <tbody>\n",
              "    <tr>\n",
              "      <th>0</th>\n",
              "      <td>-122.05</td>\n",
              "      <td>37.37</td>\n",
              "      <td>27.0</td>\n",
              "      <td>3885.0</td>\n",
              "      <td>661.0</td>\n",
              "      <td>1537.0</td>\n",
              "      <td>606.0</td>\n",
              "      <td>6.6085</td>\n",
              "      <td>344700.0</td>\n",
              "    </tr>\n",
              "    <tr>\n",
              "      <th>1</th>\n",
              "      <td>-118.30</td>\n",
              "      <td>34.26</td>\n",
              "      <td>43.0</td>\n",
              "      <td>1510.0</td>\n",
              "      <td>310.0</td>\n",
              "      <td>809.0</td>\n",
              "      <td>277.0</td>\n",
              "      <td>3.5990</td>\n",
              "      <td>176500.0</td>\n",
              "    </tr>\n",
              "    <tr>\n",
              "      <th>2</th>\n",
              "      <td>-117.81</td>\n",
              "      <td>33.78</td>\n",
              "      <td>27.0</td>\n",
              "      <td>3589.0</td>\n",
              "      <td>507.0</td>\n",
              "      <td>1484.0</td>\n",
              "      <td>495.0</td>\n",
              "      <td>5.7934</td>\n",
              "      <td>270500.0</td>\n",
              "    </tr>\n",
              "    <tr>\n",
              "      <th>3</th>\n",
              "      <td>-118.36</td>\n",
              "      <td>33.82</td>\n",
              "      <td>28.0</td>\n",
              "      <td>67.0</td>\n",
              "      <td>15.0</td>\n",
              "      <td>49.0</td>\n",
              "      <td>11.0</td>\n",
              "      <td>6.1359</td>\n",
              "      <td>330000.0</td>\n",
              "    </tr>\n",
              "    <tr>\n",
              "      <th>4</th>\n",
              "      <td>-119.67</td>\n",
              "      <td>36.33</td>\n",
              "      <td>19.0</td>\n",
              "      <td>1241.0</td>\n",
              "      <td>244.0</td>\n",
              "      <td>850.0</td>\n",
              "      <td>237.0</td>\n",
              "      <td>2.9375</td>\n",
              "      <td>81700.0</td>\n",
              "    </tr>\n",
              "    <tr>\n",
              "      <th>5</th>\n",
              "      <td>-119.56</td>\n",
              "      <td>36.51</td>\n",
              "      <td>37.0</td>\n",
              "      <td>1018.0</td>\n",
              "      <td>213.0</td>\n",
              "      <td>663.0</td>\n",
              "      <td>204.0</td>\n",
              "      <td>1.6635</td>\n",
              "      <td>67000.0</td>\n",
              "    </tr>\n",
              "    <tr>\n",
              "      <th>6</th>\n",
              "      <td>-121.43</td>\n",
              "      <td>38.63</td>\n",
              "      <td>43.0</td>\n",
              "      <td>1009.0</td>\n",
              "      <td>225.0</td>\n",
              "      <td>604.0</td>\n",
              "      <td>218.0</td>\n",
              "      <td>1.6641</td>\n",
              "      <td>67000.0</td>\n",
              "    </tr>\n",
              "    <tr>\n",
              "      <th>7</th>\n",
              "      <td>-120.65</td>\n",
              "      <td>35.48</td>\n",
              "      <td>19.0</td>\n",
              "      <td>2310.0</td>\n",
              "      <td>471.0</td>\n",
              "      <td>1341.0</td>\n",
              "      <td>441.0</td>\n",
              "      <td>3.2250</td>\n",
              "      <td>166900.0</td>\n",
              "    </tr>\n",
              "    <tr>\n",
              "      <th>8</th>\n",
              "      <td>-122.84</td>\n",
              "      <td>38.40</td>\n",
              "      <td>15.0</td>\n",
              "      <td>3080.0</td>\n",
              "      <td>617.0</td>\n",
              "      <td>1446.0</td>\n",
              "      <td>599.0</td>\n",
              "      <td>3.6696</td>\n",
              "      <td>194400.0</td>\n",
              "    </tr>\n",
              "    <tr>\n",
              "      <th>9</th>\n",
              "      <td>-118.02</td>\n",
              "      <td>34.08</td>\n",
              "      <td>31.0</td>\n",
              "      <td>2402.0</td>\n",
              "      <td>632.0</td>\n",
              "      <td>2830.0</td>\n",
              "      <td>603.0</td>\n",
              "      <td>2.3333</td>\n",
              "      <td>164200.0</td>\n",
              "    </tr>\n",
              "  </tbody>\n",
              "</table>\n",
              "</div>\n",
              "      <button class=\"colab-df-convert\" onclick=\"convertToInteractive('df-fa02a4d4-4493-43b6-97be-d3a44374142a')\"\n",
              "              title=\"Convert this dataframe to an interactive table.\"\n",
              "              style=\"display:none;\">\n",
              "        \n",
              "  <svg xmlns=\"http://www.w3.org/2000/svg\" height=\"24px\"viewBox=\"0 0 24 24\"\n",
              "       width=\"24px\">\n",
              "    <path d=\"M0 0h24v24H0V0z\" fill=\"none\"/>\n",
              "    <path d=\"M18.56 5.44l.94 2.06.94-2.06 2.06-.94-2.06-.94-.94-2.06-.94 2.06-2.06.94zm-11 1L8.5 8.5l.94-2.06 2.06-.94-2.06-.94L8.5 2.5l-.94 2.06-2.06.94zm10 10l.94 2.06.94-2.06 2.06-.94-2.06-.94-.94-2.06-.94 2.06-2.06.94z\"/><path d=\"M17.41 7.96l-1.37-1.37c-.4-.4-.92-.59-1.43-.59-.52 0-1.04.2-1.43.59L10.3 9.45l-7.72 7.72c-.78.78-.78 2.05 0 2.83L4 21.41c.39.39.9.59 1.41.59.51 0 1.02-.2 1.41-.59l7.78-7.78 2.81-2.81c.8-.78.8-2.07 0-2.86zM5.41 20L4 18.59l7.72-7.72 1.47 1.35L5.41 20z\"/>\n",
              "  </svg>\n",
              "      </button>\n",
              "      \n",
              "  <style>\n",
              "    .colab-df-container {\n",
              "      display:flex;\n",
              "      flex-wrap:wrap;\n",
              "      gap: 12px;\n",
              "    }\n",
              "\n",
              "    .colab-df-convert {\n",
              "      background-color: #E8F0FE;\n",
              "      border: none;\n",
              "      border-radius: 50%;\n",
              "      cursor: pointer;\n",
              "      display: none;\n",
              "      fill: #1967D2;\n",
              "      height: 32px;\n",
              "      padding: 0 0 0 0;\n",
              "      width: 32px;\n",
              "    }\n",
              "\n",
              "    .colab-df-convert:hover {\n",
              "      background-color: #E2EBFA;\n",
              "      box-shadow: 0px 1px 2px rgba(60, 64, 67, 0.3), 0px 1px 3px 1px rgba(60, 64, 67, 0.15);\n",
              "      fill: #174EA6;\n",
              "    }\n",
              "\n",
              "    [theme=dark] .colab-df-convert {\n",
              "      background-color: #3B4455;\n",
              "      fill: #D2E3FC;\n",
              "    }\n",
              "\n",
              "    [theme=dark] .colab-df-convert:hover {\n",
              "      background-color: #434B5C;\n",
              "      box-shadow: 0px 1px 3px 1px rgba(0, 0, 0, 0.15);\n",
              "      filter: drop-shadow(0px 1px 2px rgba(0, 0, 0, 0.3));\n",
              "      fill: #FFFFFF;\n",
              "    }\n",
              "  </style>\n",
              "\n",
              "      <script>\n",
              "        const buttonEl =\n",
              "          document.querySelector('#df-fa02a4d4-4493-43b6-97be-d3a44374142a button.colab-df-convert');\n",
              "        buttonEl.style.display =\n",
              "          google.colab.kernel.accessAllowed ? 'block' : 'none';\n",
              "\n",
              "        async function convertToInteractive(key) {\n",
              "          const element = document.querySelector('#df-fa02a4d4-4493-43b6-97be-d3a44374142a');\n",
              "          const dataTable =\n",
              "            await google.colab.kernel.invokeFunction('convertToInteractive',\n",
              "                                                     [key], {});\n",
              "          if (!dataTable) return;\n",
              "\n",
              "          const docLinkHtml = 'Like what you see? Visit the ' +\n",
              "            '<a target=\"_blank\" href=https://colab.research.google.com/notebooks/data_table.ipynb>data table notebook</a>'\n",
              "            + ' to learn more about interactive tables.';\n",
              "          element.innerHTML = '';\n",
              "          dataTable['output_type'] = 'display_data';\n",
              "          await google.colab.output.renderOutput(dataTable, element);\n",
              "          const docLink = document.createElement('div');\n",
              "          docLink.innerHTML = docLinkHtml;\n",
              "          element.appendChild(docLink);\n",
              "        }\n",
              "      </script>\n",
              "    </div>\n",
              "  </div>\n",
              "  "
            ]
          },
          "metadata": {},
          "execution_count": 6
        }
      ]
    },
    {
      "cell_type": "markdown",
      "metadata": {
        "id": "2elveR7cNUJW"
      },
      "source": [
        "## Creación desde archivos excel"
      ]
    },
    {
      "cell_type": "code",
      "source": [
        "pip install xlrd==1.2.0"
      ],
      "metadata": {
        "colab": {
          "base_uri": "https://localhost:8080/",
          "height": 284
        },
        "id": "QWZwHyODnUy0",
        "outputId": "e7d30811-bfc8-4b39-8229-5ede1034a542"
      },
      "execution_count": 9,
      "outputs": [
        {
          "output_type": "stream",
          "name": "stdout",
          "text": [
            "Looking in indexes: https://pypi.org/simple, https://us-python.pkg.dev/colab-wheels/public/simple/\n",
            "Collecting xlrd==1.2.0\n",
            "  Downloading xlrd-1.2.0-py2.py3-none-any.whl (103 kB)\n",
            "\u001b[K     |████████████████████████████████| 103 kB 34.8 MB/s \n",
            "\u001b[?25hInstalling collected packages: xlrd\n",
            "  Attempting uninstall: xlrd\n",
            "    Found existing installation: xlrd 1.1.0\n",
            "    Uninstalling xlrd-1.1.0:\n",
            "      Successfully uninstalled xlrd-1.1.0\n",
            "Successfully installed xlrd-1.2.0\n"
          ]
        },
        {
          "output_type": "display_data",
          "data": {
            "application/vnd.colab-display-data+json": {
              "pip_warning": {
                "packages": [
                  "xlrd"
                ]
              }
            }
          },
          "metadata": {}
        }
      ]
    },
    {
      "cell_type": "code",
      "metadata": {
        "id": "-13jjqLENhe1",
        "colab": {
          "base_uri": "https://localhost:8080/",
          "height": 488
        },
        "outputId": "5602f2fa-d150-49b9-c12b-36c533589b28"
      },
      "source": [
        "#cargar el archivo en formato xls a un pandas dataframe\n",
        "#cali_housing = pd.read_excel(\"california_housing_test.xlsx\", index_col=0, header_col=0)\n",
        "cali_housing = pd.read_excel(\"/content/california_housing_test2.xlsx\")\n",
        "cali_housing"
      ],
      "execution_count": 10,
      "outputs": [
        {
          "output_type": "execute_result",
          "data": {
            "text/plain": [
              "      longitude  latitude  housing_median_age  total_rooms  total_bedrooms  \\\n",
              "0       -122.05     37.37                  27         3885             661   \n",
              "1       -118.30     34.26                  43         1510             310   \n",
              "2       -117.81     33.78                  27         3589             507   \n",
              "3       -118.36     33.82                  28           67              15   \n",
              "4       -119.67     36.33                  19         1241             244   \n",
              "...         ...       ...                 ...          ...             ...   \n",
              "2995    -119.86     34.42                  23         1450             642   \n",
              "2996    -118.14     34.06                  27         5257            1082   \n",
              "2997    -119.70     36.30                  10          956             201   \n",
              "2998    -117.12     34.10                  40           96              14   \n",
              "2999    -119.63     34.42                  42         1765             263   \n",
              "\n",
              "      population  households  median_income  median_house_value  \n",
              "0           1537         606         6.6085              344700  \n",
              "1            809         277         3.5990              176500  \n",
              "2           1484         495         5.7934              270500  \n",
              "3             49          11         6.1359              330000  \n",
              "4            850         237         2.9375               81700  \n",
              "...          ...         ...            ...                 ...  \n",
              "2995        1258         607         1.1790              225000  \n",
              "2996        3496        1036         3.3906              237200  \n",
              "2997         693         220         2.2895               62000  \n",
              "2998          46          14         3.2708              162500  \n",
              "2999         753         260         8.5608              500001  \n",
              "\n",
              "[3000 rows x 9 columns]"
            ],
            "text/html": [
              "\n",
              "  <div id=\"df-7a1fcf95-5553-4d6b-ad8f-78065228e12a\">\n",
              "    <div class=\"colab-df-container\">\n",
              "      <div>\n",
              "<style scoped>\n",
              "    .dataframe tbody tr th:only-of-type {\n",
              "        vertical-align: middle;\n",
              "    }\n",
              "\n",
              "    .dataframe tbody tr th {\n",
              "        vertical-align: top;\n",
              "    }\n",
              "\n",
              "    .dataframe thead th {\n",
              "        text-align: right;\n",
              "    }\n",
              "</style>\n",
              "<table border=\"1\" class=\"dataframe\">\n",
              "  <thead>\n",
              "    <tr style=\"text-align: right;\">\n",
              "      <th></th>\n",
              "      <th>longitude</th>\n",
              "      <th>latitude</th>\n",
              "      <th>housing_median_age</th>\n",
              "      <th>total_rooms</th>\n",
              "      <th>total_bedrooms</th>\n",
              "      <th>population</th>\n",
              "      <th>households</th>\n",
              "      <th>median_income</th>\n",
              "      <th>median_house_value</th>\n",
              "    </tr>\n",
              "  </thead>\n",
              "  <tbody>\n",
              "    <tr>\n",
              "      <th>0</th>\n",
              "      <td>-122.05</td>\n",
              "      <td>37.37</td>\n",
              "      <td>27</td>\n",
              "      <td>3885</td>\n",
              "      <td>661</td>\n",
              "      <td>1537</td>\n",
              "      <td>606</td>\n",
              "      <td>6.6085</td>\n",
              "      <td>344700</td>\n",
              "    </tr>\n",
              "    <tr>\n",
              "      <th>1</th>\n",
              "      <td>-118.30</td>\n",
              "      <td>34.26</td>\n",
              "      <td>43</td>\n",
              "      <td>1510</td>\n",
              "      <td>310</td>\n",
              "      <td>809</td>\n",
              "      <td>277</td>\n",
              "      <td>3.5990</td>\n",
              "      <td>176500</td>\n",
              "    </tr>\n",
              "    <tr>\n",
              "      <th>2</th>\n",
              "      <td>-117.81</td>\n",
              "      <td>33.78</td>\n",
              "      <td>27</td>\n",
              "      <td>3589</td>\n",
              "      <td>507</td>\n",
              "      <td>1484</td>\n",
              "      <td>495</td>\n",
              "      <td>5.7934</td>\n",
              "      <td>270500</td>\n",
              "    </tr>\n",
              "    <tr>\n",
              "      <th>3</th>\n",
              "      <td>-118.36</td>\n",
              "      <td>33.82</td>\n",
              "      <td>28</td>\n",
              "      <td>67</td>\n",
              "      <td>15</td>\n",
              "      <td>49</td>\n",
              "      <td>11</td>\n",
              "      <td>6.1359</td>\n",
              "      <td>330000</td>\n",
              "    </tr>\n",
              "    <tr>\n",
              "      <th>4</th>\n",
              "      <td>-119.67</td>\n",
              "      <td>36.33</td>\n",
              "      <td>19</td>\n",
              "      <td>1241</td>\n",
              "      <td>244</td>\n",
              "      <td>850</td>\n",
              "      <td>237</td>\n",
              "      <td>2.9375</td>\n",
              "      <td>81700</td>\n",
              "    </tr>\n",
              "    <tr>\n",
              "      <th>...</th>\n",
              "      <td>...</td>\n",
              "      <td>...</td>\n",
              "      <td>...</td>\n",
              "      <td>...</td>\n",
              "      <td>...</td>\n",
              "      <td>...</td>\n",
              "      <td>...</td>\n",
              "      <td>...</td>\n",
              "      <td>...</td>\n",
              "    </tr>\n",
              "    <tr>\n",
              "      <th>2995</th>\n",
              "      <td>-119.86</td>\n",
              "      <td>34.42</td>\n",
              "      <td>23</td>\n",
              "      <td>1450</td>\n",
              "      <td>642</td>\n",
              "      <td>1258</td>\n",
              "      <td>607</td>\n",
              "      <td>1.1790</td>\n",
              "      <td>225000</td>\n",
              "    </tr>\n",
              "    <tr>\n",
              "      <th>2996</th>\n",
              "      <td>-118.14</td>\n",
              "      <td>34.06</td>\n",
              "      <td>27</td>\n",
              "      <td>5257</td>\n",
              "      <td>1082</td>\n",
              "      <td>3496</td>\n",
              "      <td>1036</td>\n",
              "      <td>3.3906</td>\n",
              "      <td>237200</td>\n",
              "    </tr>\n",
              "    <tr>\n",
              "      <th>2997</th>\n",
              "      <td>-119.70</td>\n",
              "      <td>36.30</td>\n",
              "      <td>10</td>\n",
              "      <td>956</td>\n",
              "      <td>201</td>\n",
              "      <td>693</td>\n",
              "      <td>220</td>\n",
              "      <td>2.2895</td>\n",
              "      <td>62000</td>\n",
              "    </tr>\n",
              "    <tr>\n",
              "      <th>2998</th>\n",
              "      <td>-117.12</td>\n",
              "      <td>34.10</td>\n",
              "      <td>40</td>\n",
              "      <td>96</td>\n",
              "      <td>14</td>\n",
              "      <td>46</td>\n",
              "      <td>14</td>\n",
              "      <td>3.2708</td>\n",
              "      <td>162500</td>\n",
              "    </tr>\n",
              "    <tr>\n",
              "      <th>2999</th>\n",
              "      <td>-119.63</td>\n",
              "      <td>34.42</td>\n",
              "      <td>42</td>\n",
              "      <td>1765</td>\n",
              "      <td>263</td>\n",
              "      <td>753</td>\n",
              "      <td>260</td>\n",
              "      <td>8.5608</td>\n",
              "      <td>500001</td>\n",
              "    </tr>\n",
              "  </tbody>\n",
              "</table>\n",
              "<p>3000 rows × 9 columns</p>\n",
              "</div>\n",
              "      <button class=\"colab-df-convert\" onclick=\"convertToInteractive('df-7a1fcf95-5553-4d6b-ad8f-78065228e12a')\"\n",
              "              title=\"Convert this dataframe to an interactive table.\"\n",
              "              style=\"display:none;\">\n",
              "        \n",
              "  <svg xmlns=\"http://www.w3.org/2000/svg\" height=\"24px\"viewBox=\"0 0 24 24\"\n",
              "       width=\"24px\">\n",
              "    <path d=\"M0 0h24v24H0V0z\" fill=\"none\"/>\n",
              "    <path d=\"M18.56 5.44l.94 2.06.94-2.06 2.06-.94-2.06-.94-.94-2.06-.94 2.06-2.06.94zm-11 1L8.5 8.5l.94-2.06 2.06-.94-2.06-.94L8.5 2.5l-.94 2.06-2.06.94zm10 10l.94 2.06.94-2.06 2.06-.94-2.06-.94-.94-2.06-.94 2.06-2.06.94z\"/><path d=\"M17.41 7.96l-1.37-1.37c-.4-.4-.92-.59-1.43-.59-.52 0-1.04.2-1.43.59L10.3 9.45l-7.72 7.72c-.78.78-.78 2.05 0 2.83L4 21.41c.39.39.9.59 1.41.59.51 0 1.02-.2 1.41-.59l7.78-7.78 2.81-2.81c.8-.78.8-2.07 0-2.86zM5.41 20L4 18.59l7.72-7.72 1.47 1.35L5.41 20z\"/>\n",
              "  </svg>\n",
              "      </button>\n",
              "      \n",
              "  <style>\n",
              "    .colab-df-container {\n",
              "      display:flex;\n",
              "      flex-wrap:wrap;\n",
              "      gap: 12px;\n",
              "    }\n",
              "\n",
              "    .colab-df-convert {\n",
              "      background-color: #E8F0FE;\n",
              "      border: none;\n",
              "      border-radius: 50%;\n",
              "      cursor: pointer;\n",
              "      display: none;\n",
              "      fill: #1967D2;\n",
              "      height: 32px;\n",
              "      padding: 0 0 0 0;\n",
              "      width: 32px;\n",
              "    }\n",
              "\n",
              "    .colab-df-convert:hover {\n",
              "      background-color: #E2EBFA;\n",
              "      box-shadow: 0px 1px 2px rgba(60, 64, 67, 0.3), 0px 1px 3px 1px rgba(60, 64, 67, 0.15);\n",
              "      fill: #174EA6;\n",
              "    }\n",
              "\n",
              "    [theme=dark] .colab-df-convert {\n",
              "      background-color: #3B4455;\n",
              "      fill: #D2E3FC;\n",
              "    }\n",
              "\n",
              "    [theme=dark] .colab-df-convert:hover {\n",
              "      background-color: #434B5C;\n",
              "      box-shadow: 0px 1px 3px 1px rgba(0, 0, 0, 0.15);\n",
              "      filter: drop-shadow(0px 1px 2px rgba(0, 0, 0, 0.3));\n",
              "      fill: #FFFFFF;\n",
              "    }\n",
              "  </style>\n",
              "\n",
              "      <script>\n",
              "        const buttonEl =\n",
              "          document.querySelector('#df-7a1fcf95-5553-4d6b-ad8f-78065228e12a button.colab-df-convert');\n",
              "        buttonEl.style.display =\n",
              "          google.colab.kernel.accessAllowed ? 'block' : 'none';\n",
              "\n",
              "        async function convertToInteractive(key) {\n",
              "          const element = document.querySelector('#df-7a1fcf95-5553-4d6b-ad8f-78065228e12a');\n",
              "          const dataTable =\n",
              "            await google.colab.kernel.invokeFunction('convertToInteractive',\n",
              "                                                     [key], {});\n",
              "          if (!dataTable) return;\n",
              "\n",
              "          const docLinkHtml = 'Like what you see? Visit the ' +\n",
              "            '<a target=\"_blank\" href=https://colab.research.google.com/notebooks/data_table.ipynb>data table notebook</a>'\n",
              "            + ' to learn more about interactive tables.';\n",
              "          element.innerHTML = '';\n",
              "          dataTable['output_type'] = 'display_data';\n",
              "          await google.colab.output.renderOutput(dataTable, element);\n",
              "          const docLink = document.createElement('div');\n",
              "          docLink.innerHTML = docLinkHtml;\n",
              "          element.appendChild(docLink);\n",
              "        }\n",
              "      </script>\n",
              "    </div>\n",
              "  </div>\n",
              "  "
            ]
          },
          "metadata": {},
          "execution_count": 10
        }
      ]
    },
    {
      "cell_type": "code",
      "metadata": {
        "id": "UswNxhhtruT6",
        "colab": {
          "base_uri": "https://localhost:8080/"
        },
        "outputId": "566a923f-23d2-4532-91bb-be85d2f25671"
      },
      "source": [
        "# Cargar un archivo de excel a colab desde github\n",
        "!curl --remote-name \\\n",
        "     -H 'Accept: application/vnd.github.v3.raw' \\\n",
        "     --location https://github.com/jhermosillo/diplomado_CDD2019/raw/master/Programaci%C3%B3n%20en%20Python/data/california_housing_test.xlsx"
      ],
      "execution_count": 9,
      "outputs": [
        {
          "output_type": "stream",
          "name": "stdout",
          "text": [
            "  % Total    % Received % Xferd  Average Speed   Time    Time     Time  Current\n",
            "                                 Dload  Upload   Total   Spent    Left  Speed\n",
            "\r  0     0    0     0    0     0      0      0 --:--:-- --:--:-- --:--:--     0\r  0     0    0     0    0     0      0      0 --:--:-- --:--:-- --:--:--     0\r100  194k    0  194k    0     0  1981k      0 --:--:-- --:--:-- --:--:-- 1961k\n"
          ]
        }
      ]
    },
    {
      "cell_type": "markdown",
      "metadata": {
        "id": "PDkNmW3rUKFD"
      },
      "source": [
        "## Persistencia a disco"
      ]
    },
    {
      "cell_type": "code",
      "metadata": {
        "id": "Tiz6wLPAJgx3"
      },
      "source": [
        "cali_housing.to_csv(\"cali_housing.csv\")\n",
        "#o en formato de excel:\n",
        "cali_housing.to_excel(\"cali_housing.xlsx\")"
      ],
      "execution_count": null,
      "outputs": []
    },
    {
      "cell_type": "markdown",
      "metadata": {
        "id": "J9cBi012RwX2"
      },
      "source": [
        "Ahora se crearon dos archivos en colab"
      ]
    },
    {
      "cell_type": "code",
      "metadata": {
        "id": "vA-S4UqPRtaB",
        "colab": {
          "base_uri": "https://localhost:8080/"
        },
        "outputId": "f9a108b5-ed13-4e9d-a964-237ec4bdcc68"
      },
      "source": [
        "!ls"
      ],
      "execution_count": null,
      "outputs": [
        {
          "output_type": "stream",
          "name": "stdout",
          "text": [
            "california_housing_test.xlsx  cali_housing.csv\tcali_housing.xlsx  sample_data\n"
          ]
        }
      ]
    },
    {
      "cell_type": "markdown",
      "metadata": {
        "id": "BIZpbhUppe62"
      },
      "source": [
        "# Accediendo a los datos"
      ]
    },
    {
      "cell_type": "markdown",
      "metadata": {
        "id": "YYvyNYxymZcV"
      },
      "source": [
        "## info()\n",
        "\n",
        "El método info() puede usarse para , mostrar la información general del objeto de Pandas, como el índice y los tipos de datos usados."
      ]
    },
    {
      "cell_type": "code",
      "metadata": {
        "id": "W2IlfVfaQdb4"
      },
      "source": [
        "cali_housing.info()"
      ],
      "execution_count": null,
      "outputs": []
    },
    {
      "cell_type": "markdown",
      "metadata": {
        "id": "wboMyaQ4ltYo"
      },
      "source": [
        "## head() y tail()\n",
        "\n",
        "Los métodos head() y tail() devuelven una pequeña muestra de los primeros o últimos elementos de un objeto Series o Dataframe. Ambas pueden recibir como parámetro el número de elementos que se desean visualizar, por defecto es igual a 5."
      ]
    },
    {
      "cell_type": "code",
      "metadata": {
        "id": "8w1nVek4ltdb",
        "colab": {
          "base_uri": "https://localhost:8080/",
          "height": 206
        },
        "outputId": "e281ae77-b5bc-44cc-c53e-60ee0d46be04"
      },
      "source": [
        "cali_housing.head()"
      ],
      "execution_count": null,
      "outputs": [
        {
          "output_type": "execute_result",
          "data": {
            "text/plain": [
              "   longitude  latitude  housing_median_age  total_rooms  total_bedrooms  \\\n",
              "0    -122.05     37.37                27.0       3885.0           661.0   \n",
              "1    -118.30     34.26                43.0       1510.0           310.0   \n",
              "2    -117.81     33.78                27.0       3589.0           507.0   \n",
              "3    -118.36     33.82                28.0         67.0            15.0   \n",
              "4    -119.67     36.33                19.0       1241.0           244.0   \n",
              "\n",
              "   population  households  median_income  median_house_value  \n",
              "0      1537.0       606.0         6.6085            344700.0  \n",
              "1       809.0       277.0         3.5990            176500.0  \n",
              "2      1484.0       495.0         5.7934            270500.0  \n",
              "3        49.0        11.0         6.1359            330000.0  \n",
              "4       850.0       237.0         2.9375             81700.0  "
            ],
            "text/html": [
              "\n",
              "  <div id=\"df-51684dbd-28c3-461f-a02e-125742e6d0f7\">\n",
              "    <div class=\"colab-df-container\">\n",
              "      <div>\n",
              "<style scoped>\n",
              "    .dataframe tbody tr th:only-of-type {\n",
              "        vertical-align: middle;\n",
              "    }\n",
              "\n",
              "    .dataframe tbody tr th {\n",
              "        vertical-align: top;\n",
              "    }\n",
              "\n",
              "    .dataframe thead th {\n",
              "        text-align: right;\n",
              "    }\n",
              "</style>\n",
              "<table border=\"1\" class=\"dataframe\">\n",
              "  <thead>\n",
              "    <tr style=\"text-align: right;\">\n",
              "      <th></th>\n",
              "      <th>longitude</th>\n",
              "      <th>latitude</th>\n",
              "      <th>housing_median_age</th>\n",
              "      <th>total_rooms</th>\n",
              "      <th>total_bedrooms</th>\n",
              "      <th>population</th>\n",
              "      <th>households</th>\n",
              "      <th>median_income</th>\n",
              "      <th>median_house_value</th>\n",
              "    </tr>\n",
              "  </thead>\n",
              "  <tbody>\n",
              "    <tr>\n",
              "      <th>0</th>\n",
              "      <td>-122.05</td>\n",
              "      <td>37.37</td>\n",
              "      <td>27.0</td>\n",
              "      <td>3885.0</td>\n",
              "      <td>661.0</td>\n",
              "      <td>1537.0</td>\n",
              "      <td>606.0</td>\n",
              "      <td>6.6085</td>\n",
              "      <td>344700.0</td>\n",
              "    </tr>\n",
              "    <tr>\n",
              "      <th>1</th>\n",
              "      <td>-118.30</td>\n",
              "      <td>34.26</td>\n",
              "      <td>43.0</td>\n",
              "      <td>1510.0</td>\n",
              "      <td>310.0</td>\n",
              "      <td>809.0</td>\n",
              "      <td>277.0</td>\n",
              "      <td>3.5990</td>\n",
              "      <td>176500.0</td>\n",
              "    </tr>\n",
              "    <tr>\n",
              "      <th>2</th>\n",
              "      <td>-117.81</td>\n",
              "      <td>33.78</td>\n",
              "      <td>27.0</td>\n",
              "      <td>3589.0</td>\n",
              "      <td>507.0</td>\n",
              "      <td>1484.0</td>\n",
              "      <td>495.0</td>\n",
              "      <td>5.7934</td>\n",
              "      <td>270500.0</td>\n",
              "    </tr>\n",
              "    <tr>\n",
              "      <th>3</th>\n",
              "      <td>-118.36</td>\n",
              "      <td>33.82</td>\n",
              "      <td>28.0</td>\n",
              "      <td>67.0</td>\n",
              "      <td>15.0</td>\n",
              "      <td>49.0</td>\n",
              "      <td>11.0</td>\n",
              "      <td>6.1359</td>\n",
              "      <td>330000.0</td>\n",
              "    </tr>\n",
              "    <tr>\n",
              "      <th>4</th>\n",
              "      <td>-119.67</td>\n",
              "      <td>36.33</td>\n",
              "      <td>19.0</td>\n",
              "      <td>1241.0</td>\n",
              "      <td>244.0</td>\n",
              "      <td>850.0</td>\n",
              "      <td>237.0</td>\n",
              "      <td>2.9375</td>\n",
              "      <td>81700.0</td>\n",
              "    </tr>\n",
              "  </tbody>\n",
              "</table>\n",
              "</div>\n",
              "      <button class=\"colab-df-convert\" onclick=\"convertToInteractive('df-51684dbd-28c3-461f-a02e-125742e6d0f7')\"\n",
              "              title=\"Convert this dataframe to an interactive table.\"\n",
              "              style=\"display:none;\">\n",
              "        \n",
              "  <svg xmlns=\"http://www.w3.org/2000/svg\" height=\"24px\"viewBox=\"0 0 24 24\"\n",
              "       width=\"24px\">\n",
              "    <path d=\"M0 0h24v24H0V0z\" fill=\"none\"/>\n",
              "    <path d=\"M18.56 5.44l.94 2.06.94-2.06 2.06-.94-2.06-.94-.94-2.06-.94 2.06-2.06.94zm-11 1L8.5 8.5l.94-2.06 2.06-.94-2.06-.94L8.5 2.5l-.94 2.06-2.06.94zm10 10l.94 2.06.94-2.06 2.06-.94-2.06-.94-.94-2.06-.94 2.06-2.06.94z\"/><path d=\"M17.41 7.96l-1.37-1.37c-.4-.4-.92-.59-1.43-.59-.52 0-1.04.2-1.43.59L10.3 9.45l-7.72 7.72c-.78.78-.78 2.05 0 2.83L4 21.41c.39.39.9.59 1.41.59.51 0 1.02-.2 1.41-.59l7.78-7.78 2.81-2.81c.8-.78.8-2.07 0-2.86zM5.41 20L4 18.59l7.72-7.72 1.47 1.35L5.41 20z\"/>\n",
              "  </svg>\n",
              "      </button>\n",
              "      \n",
              "  <style>\n",
              "    .colab-df-container {\n",
              "      display:flex;\n",
              "      flex-wrap:wrap;\n",
              "      gap: 12px;\n",
              "    }\n",
              "\n",
              "    .colab-df-convert {\n",
              "      background-color: #E8F0FE;\n",
              "      border: none;\n",
              "      border-radius: 50%;\n",
              "      cursor: pointer;\n",
              "      display: none;\n",
              "      fill: #1967D2;\n",
              "      height: 32px;\n",
              "      padding: 0 0 0 0;\n",
              "      width: 32px;\n",
              "    }\n",
              "\n",
              "    .colab-df-convert:hover {\n",
              "      background-color: #E2EBFA;\n",
              "      box-shadow: 0px 1px 2px rgba(60, 64, 67, 0.3), 0px 1px 3px 1px rgba(60, 64, 67, 0.15);\n",
              "      fill: #174EA6;\n",
              "    }\n",
              "\n",
              "    [theme=dark] .colab-df-convert {\n",
              "      background-color: #3B4455;\n",
              "      fill: #D2E3FC;\n",
              "    }\n",
              "\n",
              "    [theme=dark] .colab-df-convert:hover {\n",
              "      background-color: #434B5C;\n",
              "      box-shadow: 0px 1px 3px 1px rgba(0, 0, 0, 0.15);\n",
              "      filter: drop-shadow(0px 1px 2px rgba(0, 0, 0, 0.3));\n",
              "      fill: #FFFFFF;\n",
              "    }\n",
              "  </style>\n",
              "\n",
              "      <script>\n",
              "        const buttonEl =\n",
              "          document.querySelector('#df-51684dbd-28c3-461f-a02e-125742e6d0f7 button.colab-df-convert');\n",
              "        buttonEl.style.display =\n",
              "          google.colab.kernel.accessAllowed ? 'block' : 'none';\n",
              "\n",
              "        async function convertToInteractive(key) {\n",
              "          const element = document.querySelector('#df-51684dbd-28c3-461f-a02e-125742e6d0f7');\n",
              "          const dataTable =\n",
              "            await google.colab.kernel.invokeFunction('convertToInteractive',\n",
              "                                                     [key], {});\n",
              "          if (!dataTable) return;\n",
              "\n",
              "          const docLinkHtml = 'Like what you see? Visit the ' +\n",
              "            '<a target=\"_blank\" href=https://colab.research.google.com/notebooks/data_table.ipynb>data table notebook</a>'\n",
              "            + ' to learn more about interactive tables.';\n",
              "          element.innerHTML = '';\n",
              "          dataTable['output_type'] = 'display_data';\n",
              "          await google.colab.output.renderOutput(dataTable, element);\n",
              "          const docLink = document.createElement('div');\n",
              "          docLink.innerHTML = docLinkHtml;\n",
              "          element.appendChild(docLink);\n",
              "        }\n",
              "      </script>\n",
              "    </div>\n",
              "  </div>\n",
              "  "
            ]
          },
          "metadata": {},
          "execution_count": 31
        }
      ]
    },
    {
      "cell_type": "code",
      "metadata": {
        "id": "jXLeXz3SmL2g",
        "colab": {
          "base_uri": "https://localhost:8080/",
          "height": 143
        },
        "outputId": "eee00e18-4772-4f08-b3eb-c0b42b1f1a8d"
      },
      "source": [
        "cali_housing.tail(3)"
      ],
      "execution_count": null,
      "outputs": [
        {
          "output_type": "execute_result",
          "data": {
            "text/plain": [
              "   longitude  latitude  housing_median_age  total_rooms  total_bedrooms  \\\n",
              "7    -120.65     35.48                19.0       2310.0           471.0   \n",
              "8    -122.84     38.40                15.0       3080.0           617.0   \n",
              "9    -118.02     34.08                31.0       2402.0           632.0   \n",
              "\n",
              "   population  households  median_income  median_house_value  \n",
              "7      1341.0       441.0         3.2250            166900.0  \n",
              "8      1446.0       599.0         3.6696            194400.0  \n",
              "9      2830.0       603.0         2.3333            164200.0  "
            ],
            "text/html": [
              "\n",
              "  <div id=\"df-7908bbf4-e4b6-4226-ae1b-bf5fe93916b1\">\n",
              "    <div class=\"colab-df-container\">\n",
              "      <div>\n",
              "<style scoped>\n",
              "    .dataframe tbody tr th:only-of-type {\n",
              "        vertical-align: middle;\n",
              "    }\n",
              "\n",
              "    .dataframe tbody tr th {\n",
              "        vertical-align: top;\n",
              "    }\n",
              "\n",
              "    .dataframe thead th {\n",
              "        text-align: right;\n",
              "    }\n",
              "</style>\n",
              "<table border=\"1\" class=\"dataframe\">\n",
              "  <thead>\n",
              "    <tr style=\"text-align: right;\">\n",
              "      <th></th>\n",
              "      <th>longitude</th>\n",
              "      <th>latitude</th>\n",
              "      <th>housing_median_age</th>\n",
              "      <th>total_rooms</th>\n",
              "      <th>total_bedrooms</th>\n",
              "      <th>population</th>\n",
              "      <th>households</th>\n",
              "      <th>median_income</th>\n",
              "      <th>median_house_value</th>\n",
              "    </tr>\n",
              "  </thead>\n",
              "  <tbody>\n",
              "    <tr>\n",
              "      <th>7</th>\n",
              "      <td>-120.65</td>\n",
              "      <td>35.48</td>\n",
              "      <td>19.0</td>\n",
              "      <td>2310.0</td>\n",
              "      <td>471.0</td>\n",
              "      <td>1341.0</td>\n",
              "      <td>441.0</td>\n",
              "      <td>3.2250</td>\n",
              "      <td>166900.0</td>\n",
              "    </tr>\n",
              "    <tr>\n",
              "      <th>8</th>\n",
              "      <td>-122.84</td>\n",
              "      <td>38.40</td>\n",
              "      <td>15.0</td>\n",
              "      <td>3080.0</td>\n",
              "      <td>617.0</td>\n",
              "      <td>1446.0</td>\n",
              "      <td>599.0</td>\n",
              "      <td>3.6696</td>\n",
              "      <td>194400.0</td>\n",
              "    </tr>\n",
              "    <tr>\n",
              "      <th>9</th>\n",
              "      <td>-118.02</td>\n",
              "      <td>34.08</td>\n",
              "      <td>31.0</td>\n",
              "      <td>2402.0</td>\n",
              "      <td>632.0</td>\n",
              "      <td>2830.0</td>\n",
              "      <td>603.0</td>\n",
              "      <td>2.3333</td>\n",
              "      <td>164200.0</td>\n",
              "    </tr>\n",
              "  </tbody>\n",
              "</table>\n",
              "</div>\n",
              "      <button class=\"colab-df-convert\" onclick=\"convertToInteractive('df-7908bbf4-e4b6-4226-ae1b-bf5fe93916b1')\"\n",
              "              title=\"Convert this dataframe to an interactive table.\"\n",
              "              style=\"display:none;\">\n",
              "        \n",
              "  <svg xmlns=\"http://www.w3.org/2000/svg\" height=\"24px\"viewBox=\"0 0 24 24\"\n",
              "       width=\"24px\">\n",
              "    <path d=\"M0 0h24v24H0V0z\" fill=\"none\"/>\n",
              "    <path d=\"M18.56 5.44l.94 2.06.94-2.06 2.06-.94-2.06-.94-.94-2.06-.94 2.06-2.06.94zm-11 1L8.5 8.5l.94-2.06 2.06-.94-2.06-.94L8.5 2.5l-.94 2.06-2.06.94zm10 10l.94 2.06.94-2.06 2.06-.94-2.06-.94-.94-2.06-.94 2.06-2.06.94z\"/><path d=\"M17.41 7.96l-1.37-1.37c-.4-.4-.92-.59-1.43-.59-.52 0-1.04.2-1.43.59L10.3 9.45l-7.72 7.72c-.78.78-.78 2.05 0 2.83L4 21.41c.39.39.9.59 1.41.59.51 0 1.02-.2 1.41-.59l7.78-7.78 2.81-2.81c.8-.78.8-2.07 0-2.86zM5.41 20L4 18.59l7.72-7.72 1.47 1.35L5.41 20z\"/>\n",
              "  </svg>\n",
              "      </button>\n",
              "      \n",
              "  <style>\n",
              "    .colab-df-container {\n",
              "      display:flex;\n",
              "      flex-wrap:wrap;\n",
              "      gap: 12px;\n",
              "    }\n",
              "\n",
              "    .colab-df-convert {\n",
              "      background-color: #E8F0FE;\n",
              "      border: none;\n",
              "      border-radius: 50%;\n",
              "      cursor: pointer;\n",
              "      display: none;\n",
              "      fill: #1967D2;\n",
              "      height: 32px;\n",
              "      padding: 0 0 0 0;\n",
              "      width: 32px;\n",
              "    }\n",
              "\n",
              "    .colab-df-convert:hover {\n",
              "      background-color: #E2EBFA;\n",
              "      box-shadow: 0px 1px 2px rgba(60, 64, 67, 0.3), 0px 1px 3px 1px rgba(60, 64, 67, 0.15);\n",
              "      fill: #174EA6;\n",
              "    }\n",
              "\n",
              "    [theme=dark] .colab-df-convert {\n",
              "      background-color: #3B4455;\n",
              "      fill: #D2E3FC;\n",
              "    }\n",
              "\n",
              "    [theme=dark] .colab-df-convert:hover {\n",
              "      background-color: #434B5C;\n",
              "      box-shadow: 0px 1px 3px 1px rgba(0, 0, 0, 0.15);\n",
              "      filter: drop-shadow(0px 1px 2px rgba(0, 0, 0, 0.3));\n",
              "      fill: #FFFFFF;\n",
              "    }\n",
              "  </style>\n",
              "\n",
              "      <script>\n",
              "        const buttonEl =\n",
              "          document.querySelector('#df-7908bbf4-e4b6-4226-ae1b-bf5fe93916b1 button.colab-df-convert');\n",
              "        buttonEl.style.display =\n",
              "          google.colab.kernel.accessAllowed ? 'block' : 'none';\n",
              "\n",
              "        async function convertToInteractive(key) {\n",
              "          const element = document.querySelector('#df-7908bbf4-e4b6-4226-ae1b-bf5fe93916b1');\n",
              "          const dataTable =\n",
              "            await google.colab.kernel.invokeFunction('convertToInteractive',\n",
              "                                                     [key], {});\n",
              "          if (!dataTable) return;\n",
              "\n",
              "          const docLinkHtml = 'Like what you see? Visit the ' +\n",
              "            '<a target=\"_blank\" href=https://colab.research.google.com/notebooks/data_table.ipynb>data table notebook</a>'\n",
              "            + ' to learn more about interactive tables.';\n",
              "          element.innerHTML = '';\n",
              "          dataTable['output_type'] = 'display_data';\n",
              "          await google.colab.output.renderOutput(dataTable, element);\n",
              "          const docLink = document.createElement('div');\n",
              "          docLink.innerHTML = docLinkHtml;\n",
              "          element.appendChild(docLink);\n",
              "        }\n",
              "      </script>\n",
              "    </div>\n",
              "  </div>\n",
              "  "
            ]
          },
          "metadata": {},
          "execution_count": 32
        }
      ]
    },
    {
      "cell_type": "markdown",
      "metadata": {
        "id": "0noSgAwmbj6S"
      },
      "source": [
        "## df.sample()\n",
        "\n",
        "Para obtener una muestra aleatoria del objeto."
      ]
    },
    {
      "cell_type": "code",
      "metadata": {
        "id": "Zs2159iMbkAL",
        "colab": {
          "base_uri": "https://localhost:8080/",
          "height": 143
        },
        "outputId": "e95f2599-fc09-4f48-fc3d-37818cc28086"
      },
      "source": [
        "cali_housing.sample(n=3)"
      ],
      "execution_count": null,
      "outputs": [
        {
          "output_type": "execute_result",
          "data": {
            "text/plain": [
              "   longitude  latitude  housing_median_age  total_rooms  total_bedrooms  \\\n",
              "5    -119.56     36.51                37.0       1018.0           213.0   \n",
              "8    -122.84     38.40                15.0       3080.0           617.0   \n",
              "9    -118.02     34.08                31.0       2402.0           632.0   \n",
              "\n",
              "   population  households  median_income  median_house_value  \n",
              "5       663.0       204.0         1.6635             67000.0  \n",
              "8      1446.0       599.0         3.6696            194400.0  \n",
              "9      2830.0       603.0         2.3333            164200.0  "
            ],
            "text/html": [
              "\n",
              "  <div id=\"df-5c3f1566-0fb5-4f01-8ac9-ce8af59239e9\">\n",
              "    <div class=\"colab-df-container\">\n",
              "      <div>\n",
              "<style scoped>\n",
              "    .dataframe tbody tr th:only-of-type {\n",
              "        vertical-align: middle;\n",
              "    }\n",
              "\n",
              "    .dataframe tbody tr th {\n",
              "        vertical-align: top;\n",
              "    }\n",
              "\n",
              "    .dataframe thead th {\n",
              "        text-align: right;\n",
              "    }\n",
              "</style>\n",
              "<table border=\"1\" class=\"dataframe\">\n",
              "  <thead>\n",
              "    <tr style=\"text-align: right;\">\n",
              "      <th></th>\n",
              "      <th>longitude</th>\n",
              "      <th>latitude</th>\n",
              "      <th>housing_median_age</th>\n",
              "      <th>total_rooms</th>\n",
              "      <th>total_bedrooms</th>\n",
              "      <th>population</th>\n",
              "      <th>households</th>\n",
              "      <th>median_income</th>\n",
              "      <th>median_house_value</th>\n",
              "    </tr>\n",
              "  </thead>\n",
              "  <tbody>\n",
              "    <tr>\n",
              "      <th>5</th>\n",
              "      <td>-119.56</td>\n",
              "      <td>36.51</td>\n",
              "      <td>37.0</td>\n",
              "      <td>1018.0</td>\n",
              "      <td>213.0</td>\n",
              "      <td>663.0</td>\n",
              "      <td>204.0</td>\n",
              "      <td>1.6635</td>\n",
              "      <td>67000.0</td>\n",
              "    </tr>\n",
              "    <tr>\n",
              "      <th>8</th>\n",
              "      <td>-122.84</td>\n",
              "      <td>38.40</td>\n",
              "      <td>15.0</td>\n",
              "      <td>3080.0</td>\n",
              "      <td>617.0</td>\n",
              "      <td>1446.0</td>\n",
              "      <td>599.0</td>\n",
              "      <td>3.6696</td>\n",
              "      <td>194400.0</td>\n",
              "    </tr>\n",
              "    <tr>\n",
              "      <th>9</th>\n",
              "      <td>-118.02</td>\n",
              "      <td>34.08</td>\n",
              "      <td>31.0</td>\n",
              "      <td>2402.0</td>\n",
              "      <td>632.0</td>\n",
              "      <td>2830.0</td>\n",
              "      <td>603.0</td>\n",
              "      <td>2.3333</td>\n",
              "      <td>164200.0</td>\n",
              "    </tr>\n",
              "  </tbody>\n",
              "</table>\n",
              "</div>\n",
              "      <button class=\"colab-df-convert\" onclick=\"convertToInteractive('df-5c3f1566-0fb5-4f01-8ac9-ce8af59239e9')\"\n",
              "              title=\"Convert this dataframe to an interactive table.\"\n",
              "              style=\"display:none;\">\n",
              "        \n",
              "  <svg xmlns=\"http://www.w3.org/2000/svg\" height=\"24px\"viewBox=\"0 0 24 24\"\n",
              "       width=\"24px\">\n",
              "    <path d=\"M0 0h24v24H0V0z\" fill=\"none\"/>\n",
              "    <path d=\"M18.56 5.44l.94 2.06.94-2.06 2.06-.94-2.06-.94-.94-2.06-.94 2.06-2.06.94zm-11 1L8.5 8.5l.94-2.06 2.06-.94-2.06-.94L8.5 2.5l-.94 2.06-2.06.94zm10 10l.94 2.06.94-2.06 2.06-.94-2.06-.94-.94-2.06-.94 2.06-2.06.94z\"/><path d=\"M17.41 7.96l-1.37-1.37c-.4-.4-.92-.59-1.43-.59-.52 0-1.04.2-1.43.59L10.3 9.45l-7.72 7.72c-.78.78-.78 2.05 0 2.83L4 21.41c.39.39.9.59 1.41.59.51 0 1.02-.2 1.41-.59l7.78-7.78 2.81-2.81c.8-.78.8-2.07 0-2.86zM5.41 20L4 18.59l7.72-7.72 1.47 1.35L5.41 20z\"/>\n",
              "  </svg>\n",
              "      </button>\n",
              "      \n",
              "  <style>\n",
              "    .colab-df-container {\n",
              "      display:flex;\n",
              "      flex-wrap:wrap;\n",
              "      gap: 12px;\n",
              "    }\n",
              "\n",
              "    .colab-df-convert {\n",
              "      background-color: #E8F0FE;\n",
              "      border: none;\n",
              "      border-radius: 50%;\n",
              "      cursor: pointer;\n",
              "      display: none;\n",
              "      fill: #1967D2;\n",
              "      height: 32px;\n",
              "      padding: 0 0 0 0;\n",
              "      width: 32px;\n",
              "    }\n",
              "\n",
              "    .colab-df-convert:hover {\n",
              "      background-color: #E2EBFA;\n",
              "      box-shadow: 0px 1px 2px rgba(60, 64, 67, 0.3), 0px 1px 3px 1px rgba(60, 64, 67, 0.15);\n",
              "      fill: #174EA6;\n",
              "    }\n",
              "\n",
              "    [theme=dark] .colab-df-convert {\n",
              "      background-color: #3B4455;\n",
              "      fill: #D2E3FC;\n",
              "    }\n",
              "\n",
              "    [theme=dark] .colab-df-convert:hover {\n",
              "      background-color: #434B5C;\n",
              "      box-shadow: 0px 1px 3px 1px rgba(0, 0, 0, 0.15);\n",
              "      filter: drop-shadow(0px 1px 2px rgba(0, 0, 0, 0.3));\n",
              "      fill: #FFFFFF;\n",
              "    }\n",
              "  </style>\n",
              "\n",
              "      <script>\n",
              "        const buttonEl =\n",
              "          document.querySelector('#df-5c3f1566-0fb5-4f01-8ac9-ce8af59239e9 button.colab-df-convert');\n",
              "        buttonEl.style.display =\n",
              "          google.colab.kernel.accessAllowed ? 'block' : 'none';\n",
              "\n",
              "        async function convertToInteractive(key) {\n",
              "          const element = document.querySelector('#df-5c3f1566-0fb5-4f01-8ac9-ce8af59239e9');\n",
              "          const dataTable =\n",
              "            await google.colab.kernel.invokeFunction('convertToInteractive',\n",
              "                                                     [key], {});\n",
              "          if (!dataTable) return;\n",
              "\n",
              "          const docLinkHtml = 'Like what you see? Visit the ' +\n",
              "            '<a target=\"_blank\" href=https://colab.research.google.com/notebooks/data_table.ipynb>data table notebook</a>'\n",
              "            + ' to learn more about interactive tables.';\n",
              "          element.innerHTML = '';\n",
              "          dataTable['output_type'] = 'display_data';\n",
              "          await google.colab.output.renderOutput(dataTable, element);\n",
              "          const docLink = document.createElement('div');\n",
              "          docLink.innerHTML = docLinkHtml;\n",
              "          element.appendChild(docLink);\n",
              "        }\n",
              "      </script>\n",
              "    </div>\n",
              "  </div>\n",
              "  "
            ]
          },
          "metadata": {},
          "execution_count": 33
        }
      ]
    },
    {
      "cell_type": "markdown",
      "metadata": {
        "id": "9rFDtUgonaCT"
      },
      "source": [
        "## df.index\n",
        "\n",
        "El atributo index regresa el índice del objeto de Pandas."
      ]
    },
    {
      "cell_type": "code",
      "metadata": {
        "id": "Apbkp5B-naHD",
        "colab": {
          "base_uri": "https://localhost:8080/"
        },
        "outputId": "abcb12f9-51c0-4fc2-fc7e-329808d21d6b"
      },
      "source": [
        "cali_housing.index"
      ],
      "execution_count": null,
      "outputs": [
        {
          "output_type": "execute_result",
          "data": {
            "text/plain": [
              "RangeIndex(start=0, stop=10, step=1)"
            ]
          },
          "metadata": {},
          "execution_count": 34
        }
      ]
    },
    {
      "cell_type": "markdown",
      "metadata": {
        "id": "HDC-5YyqnaOV"
      },
      "source": [
        "## df.columns\n",
        "\n",
        "El atributo columns de un DataFrame devuelve las columnas del mismo."
      ]
    },
    {
      "cell_type": "code",
      "metadata": {
        "id": "sNVXAfLQnaSS",
        "colab": {
          "base_uri": "https://localhost:8080/"
        },
        "outputId": "39d3105a-eaec-42a3-d7f5-41691275162a"
      },
      "source": [
        "cali_housing.columns"
      ],
      "execution_count": null,
      "outputs": [
        {
          "output_type": "execute_result",
          "data": {
            "text/plain": [
              "Index(['longitude', 'latitude', 'housing_median_age', 'total_rooms',\n",
              "       'total_bedrooms', 'population', 'households', 'median_income',\n",
              "       'median_house_value'],\n",
              "      dtype='object')"
            ]
          },
          "metadata": {},
          "execution_count": 35
        }
      ]
    },
    {
      "cell_type": "markdown",
      "metadata": {
        "id": "9WdqAWo7oDwj"
      },
      "source": [
        "## describe()\n",
        "\n",
        "El método describe() regresa un resúmen estadístico del objeto."
      ]
    },
    {
      "cell_type": "code",
      "metadata": {
        "id": "qwaMTDgKoD1D",
        "colab": {
          "base_uri": "https://localhost:8080/",
          "height": 300
        },
        "outputId": "eea3893d-5978-41c2-ae8b-4b929cf33f16"
      },
      "source": [
        "cali_housing.describe()"
      ],
      "execution_count": null,
      "outputs": [
        {
          "output_type": "execute_result",
          "data": {
            "text/plain": [
              "        longitude   latitude  housing_median_age  total_rooms  total_bedrooms  \\\n",
              "count   10.000000  10.000000           10.000000    10.000000       10.000000   \n",
              "mean  -119.869000  35.866000           28.900000  2011.100000      389.500000   \n",
              "std      1.800077   1.868108            9.803061  1247.223267      218.753159   \n",
              "min   -122.840000  33.780000           15.000000    67.000000       15.000000   \n",
              "25%   -121.235000  34.125000           21.000000  1073.750000      229.750000   \n",
              "50%   -119.615000  35.905000           27.500000  1910.000000      390.500000   \n",
              "75%   -118.315000  37.155000           35.500000  2910.500000      589.500000   \n",
              "max   -117.810000  38.630000           43.000000  3885.000000      661.000000   \n",
              "\n",
              "        population  households  median_income  median_house_value  \n",
              "count    10.000000   10.000000      10.000000           10.000000  \n",
              "mean   1161.300000  369.100000       3.762980       186290.000000  \n",
              "std     757.210678  207.889634       1.817015       101796.337524  \n",
              "min      49.000000   11.000000       1.663500        67000.000000  \n",
              "25%     699.500000  222.750000       2.484350       102325.000000  \n",
              "50%    1095.500000  359.000000       3.412000       171700.000000  \n",
              "75%    1474.500000  573.000000       5.262450       251475.000000  \n",
              "max    2830.000000  606.000000       6.608500       344700.000000  "
            ],
            "text/html": [
              "\n",
              "  <div id=\"df-4d3aca8d-a854-4dd1-8b3d-0e03e014781c\">\n",
              "    <div class=\"colab-df-container\">\n",
              "      <div>\n",
              "<style scoped>\n",
              "    .dataframe tbody tr th:only-of-type {\n",
              "        vertical-align: middle;\n",
              "    }\n",
              "\n",
              "    .dataframe tbody tr th {\n",
              "        vertical-align: top;\n",
              "    }\n",
              "\n",
              "    .dataframe thead th {\n",
              "        text-align: right;\n",
              "    }\n",
              "</style>\n",
              "<table border=\"1\" class=\"dataframe\">\n",
              "  <thead>\n",
              "    <tr style=\"text-align: right;\">\n",
              "      <th></th>\n",
              "      <th>longitude</th>\n",
              "      <th>latitude</th>\n",
              "      <th>housing_median_age</th>\n",
              "      <th>total_rooms</th>\n",
              "      <th>total_bedrooms</th>\n",
              "      <th>population</th>\n",
              "      <th>households</th>\n",
              "      <th>median_income</th>\n",
              "      <th>median_house_value</th>\n",
              "    </tr>\n",
              "  </thead>\n",
              "  <tbody>\n",
              "    <tr>\n",
              "      <th>count</th>\n",
              "      <td>10.000000</td>\n",
              "      <td>10.000000</td>\n",
              "      <td>10.000000</td>\n",
              "      <td>10.000000</td>\n",
              "      <td>10.000000</td>\n",
              "      <td>10.000000</td>\n",
              "      <td>10.000000</td>\n",
              "      <td>10.000000</td>\n",
              "      <td>10.000000</td>\n",
              "    </tr>\n",
              "    <tr>\n",
              "      <th>mean</th>\n",
              "      <td>-119.869000</td>\n",
              "      <td>35.866000</td>\n",
              "      <td>28.900000</td>\n",
              "      <td>2011.100000</td>\n",
              "      <td>389.500000</td>\n",
              "      <td>1161.300000</td>\n",
              "      <td>369.100000</td>\n",
              "      <td>3.762980</td>\n",
              "      <td>186290.000000</td>\n",
              "    </tr>\n",
              "    <tr>\n",
              "      <th>std</th>\n",
              "      <td>1.800077</td>\n",
              "      <td>1.868108</td>\n",
              "      <td>9.803061</td>\n",
              "      <td>1247.223267</td>\n",
              "      <td>218.753159</td>\n",
              "      <td>757.210678</td>\n",
              "      <td>207.889634</td>\n",
              "      <td>1.817015</td>\n",
              "      <td>101796.337524</td>\n",
              "    </tr>\n",
              "    <tr>\n",
              "      <th>min</th>\n",
              "      <td>-122.840000</td>\n",
              "      <td>33.780000</td>\n",
              "      <td>15.000000</td>\n",
              "      <td>67.000000</td>\n",
              "      <td>15.000000</td>\n",
              "      <td>49.000000</td>\n",
              "      <td>11.000000</td>\n",
              "      <td>1.663500</td>\n",
              "      <td>67000.000000</td>\n",
              "    </tr>\n",
              "    <tr>\n",
              "      <th>25%</th>\n",
              "      <td>-121.235000</td>\n",
              "      <td>34.125000</td>\n",
              "      <td>21.000000</td>\n",
              "      <td>1073.750000</td>\n",
              "      <td>229.750000</td>\n",
              "      <td>699.500000</td>\n",
              "      <td>222.750000</td>\n",
              "      <td>2.484350</td>\n",
              "      <td>102325.000000</td>\n",
              "    </tr>\n",
              "    <tr>\n",
              "      <th>50%</th>\n",
              "      <td>-119.615000</td>\n",
              "      <td>35.905000</td>\n",
              "      <td>27.500000</td>\n",
              "      <td>1910.000000</td>\n",
              "      <td>390.500000</td>\n",
              "      <td>1095.500000</td>\n",
              "      <td>359.000000</td>\n",
              "      <td>3.412000</td>\n",
              "      <td>171700.000000</td>\n",
              "    </tr>\n",
              "    <tr>\n",
              "      <th>75%</th>\n",
              "      <td>-118.315000</td>\n",
              "      <td>37.155000</td>\n",
              "      <td>35.500000</td>\n",
              "      <td>2910.500000</td>\n",
              "      <td>589.500000</td>\n",
              "      <td>1474.500000</td>\n",
              "      <td>573.000000</td>\n",
              "      <td>5.262450</td>\n",
              "      <td>251475.000000</td>\n",
              "    </tr>\n",
              "    <tr>\n",
              "      <th>max</th>\n",
              "      <td>-117.810000</td>\n",
              "      <td>38.630000</td>\n",
              "      <td>43.000000</td>\n",
              "      <td>3885.000000</td>\n",
              "      <td>661.000000</td>\n",
              "      <td>2830.000000</td>\n",
              "      <td>606.000000</td>\n",
              "      <td>6.608500</td>\n",
              "      <td>344700.000000</td>\n",
              "    </tr>\n",
              "  </tbody>\n",
              "</table>\n",
              "</div>\n",
              "      <button class=\"colab-df-convert\" onclick=\"convertToInteractive('df-4d3aca8d-a854-4dd1-8b3d-0e03e014781c')\"\n",
              "              title=\"Convert this dataframe to an interactive table.\"\n",
              "              style=\"display:none;\">\n",
              "        \n",
              "  <svg xmlns=\"http://www.w3.org/2000/svg\" height=\"24px\"viewBox=\"0 0 24 24\"\n",
              "       width=\"24px\">\n",
              "    <path d=\"M0 0h24v24H0V0z\" fill=\"none\"/>\n",
              "    <path d=\"M18.56 5.44l.94 2.06.94-2.06 2.06-.94-2.06-.94-.94-2.06-.94 2.06-2.06.94zm-11 1L8.5 8.5l.94-2.06 2.06-.94-2.06-.94L8.5 2.5l-.94 2.06-2.06.94zm10 10l.94 2.06.94-2.06 2.06-.94-2.06-.94-.94-2.06-.94 2.06-2.06.94z\"/><path d=\"M17.41 7.96l-1.37-1.37c-.4-.4-.92-.59-1.43-.59-.52 0-1.04.2-1.43.59L10.3 9.45l-7.72 7.72c-.78.78-.78 2.05 0 2.83L4 21.41c.39.39.9.59 1.41.59.51 0 1.02-.2 1.41-.59l7.78-7.78 2.81-2.81c.8-.78.8-2.07 0-2.86zM5.41 20L4 18.59l7.72-7.72 1.47 1.35L5.41 20z\"/>\n",
              "  </svg>\n",
              "      </button>\n",
              "      \n",
              "  <style>\n",
              "    .colab-df-container {\n",
              "      display:flex;\n",
              "      flex-wrap:wrap;\n",
              "      gap: 12px;\n",
              "    }\n",
              "\n",
              "    .colab-df-convert {\n",
              "      background-color: #E8F0FE;\n",
              "      border: none;\n",
              "      border-radius: 50%;\n",
              "      cursor: pointer;\n",
              "      display: none;\n",
              "      fill: #1967D2;\n",
              "      height: 32px;\n",
              "      padding: 0 0 0 0;\n",
              "      width: 32px;\n",
              "    }\n",
              "\n",
              "    .colab-df-convert:hover {\n",
              "      background-color: #E2EBFA;\n",
              "      box-shadow: 0px 1px 2px rgba(60, 64, 67, 0.3), 0px 1px 3px 1px rgba(60, 64, 67, 0.15);\n",
              "      fill: #174EA6;\n",
              "    }\n",
              "\n",
              "    [theme=dark] .colab-df-convert {\n",
              "      background-color: #3B4455;\n",
              "      fill: #D2E3FC;\n",
              "    }\n",
              "\n",
              "    [theme=dark] .colab-df-convert:hover {\n",
              "      background-color: #434B5C;\n",
              "      box-shadow: 0px 1px 3px 1px rgba(0, 0, 0, 0.15);\n",
              "      filter: drop-shadow(0px 1px 2px rgba(0, 0, 0, 0.3));\n",
              "      fill: #FFFFFF;\n",
              "    }\n",
              "  </style>\n",
              "\n",
              "      <script>\n",
              "        const buttonEl =\n",
              "          document.querySelector('#df-4d3aca8d-a854-4dd1-8b3d-0e03e014781c button.colab-df-convert');\n",
              "        buttonEl.style.display =\n",
              "          google.colab.kernel.accessAllowed ? 'block' : 'none';\n",
              "\n",
              "        async function convertToInteractive(key) {\n",
              "          const element = document.querySelector('#df-4d3aca8d-a854-4dd1-8b3d-0e03e014781c');\n",
              "          const dataTable =\n",
              "            await google.colab.kernel.invokeFunction('convertToInteractive',\n",
              "                                                     [key], {});\n",
              "          if (!dataTable) return;\n",
              "\n",
              "          const docLinkHtml = 'Like what you see? Visit the ' +\n",
              "            '<a target=\"_blank\" href=https://colab.research.google.com/notebooks/data_table.ipynb>data table notebook</a>'\n",
              "            + ' to learn more about interactive tables.';\n",
              "          element.innerHTML = '';\n",
              "          dataTable['output_type'] = 'display_data';\n",
              "          await google.colab.output.renderOutput(dataTable, element);\n",
              "          const docLink = document.createElement('div');\n",
              "          docLink.innerHTML = docLinkHtml;\n",
              "          element.appendChild(docLink);\n",
              "        }\n",
              "      </script>\n",
              "    </div>\n",
              "  </div>\n",
              "  "
            ]
          },
          "metadata": {},
          "execution_count": 36
        }
      ]
    },
    {
      "cell_type": "markdown",
      "metadata": {
        "id": "AqJUI2dwQdL-"
      },
      "source": [
        "# Selección - asignación"
      ]
    },
    {
      "cell_type": "markdown",
      "metadata": {
        "id": "aStR2xhVs5oo"
      },
      "source": [
        "## Seleccionando columnas\n",
        "\n",
        "Puedes usar dos notaciones para seleccionar una columna de un DataFrame, cualquiera de éstas devolverá un objeto Series.\n",
        "\n",
        "\n",
        "\n",
        "```\n",
        "df.[\"A\"]\n",
        "```\n",
        "\n",
        "o\n",
        "\n",
        "\n",
        "\n",
        "```\n",
        "df.A\n",
        "```\n",
        "\n",
        "\n",
        "\n"
      ]
    },
    {
      "cell_type": "code",
      "metadata": {
        "id": "AoTIBTUas5sm",
        "colab": {
          "base_uri": "https://localhost:8080/",
          "height": 218
        },
        "outputId": "a990e0cb-55e9-4075-a194-40e640a4efe2"
      },
      "source": [
        "#seleccionar la columna devuelve un objeto Series\n",
        "cali_housing[\"latitude\"]"
      ],
      "execution_count": null,
      "outputs": [
        {
          "output_type": "execute_result",
          "data": {
            "text/plain": [
              "0       37.37\n",
              "1       34.26\n",
              "2       33.78\n",
              "3       33.82\n",
              "4       36.33\n",
              "        ...  \n",
              "2995    34.42\n",
              "2996    34.06\n",
              "2997    36.30\n",
              "2998    34.10\n",
              "2999    34.42\n",
              "Name: latitude, Length: 3000, dtype: float64"
            ]
          },
          "metadata": {
            "tags": []
          },
          "execution_count": 26
        }
      ]
    },
    {
      "cell_type": "code",
      "metadata": {
        "id": "R5__s0jktINE",
        "colab": {
          "base_uri": "https://localhost:8080/",
          "height": 218
        },
        "outputId": "483e0e11-8924-44b9-92cd-51f85862c081"
      },
      "source": [
        "#usa segunda opcion para seleccionar columnas\n",
        "cali_housing.latitude"
      ],
      "execution_count": null,
      "outputs": [
        {
          "output_type": "execute_result",
          "data": {
            "text/plain": [
              "0       37.37\n",
              "1       34.26\n",
              "2       33.78\n",
              "3       33.82\n",
              "4       36.33\n",
              "        ...  \n",
              "2995    34.42\n",
              "2996    34.06\n",
              "2997    36.30\n",
              "2998    34.10\n",
              "2999    34.42\n",
              "Name: latitude, Length: 3000, dtype: float64"
            ]
          },
          "metadata": {
            "tags": []
          },
          "execution_count": 27
        }
      ]
    },
    {
      "cell_type": "code",
      "metadata": {
        "id": "aL5laUlqKL6F",
        "colab": {
          "base_uri": "https://localhost:8080/",
          "height": 402
        },
        "outputId": "ba336001-e596-4a07-d76a-b8c9ef3f5c1a"
      },
      "source": [
        "#seleccionando una columna como un dataframe\n",
        "cali_housing[[\"latitude\"]]"
      ],
      "execution_count": null,
      "outputs": [
        {
          "output_type": "execute_result",
          "data": {
            "text/html": [
              "<div>\n",
              "<style scoped>\n",
              "    .dataframe tbody tr th:only-of-type {\n",
              "        vertical-align: middle;\n",
              "    }\n",
              "\n",
              "    .dataframe tbody tr th {\n",
              "        vertical-align: top;\n",
              "    }\n",
              "\n",
              "    .dataframe thead th {\n",
              "        text-align: right;\n",
              "    }\n",
              "</style>\n",
              "<table border=\"1\" class=\"dataframe\">\n",
              "  <thead>\n",
              "    <tr style=\"text-align: right;\">\n",
              "      <th></th>\n",
              "      <th>latitude</th>\n",
              "    </tr>\n",
              "  </thead>\n",
              "  <tbody>\n",
              "    <tr>\n",
              "      <th>0</th>\n",
              "      <td>37.37</td>\n",
              "    </tr>\n",
              "    <tr>\n",
              "      <th>1</th>\n",
              "      <td>34.26</td>\n",
              "    </tr>\n",
              "    <tr>\n",
              "      <th>2</th>\n",
              "      <td>33.78</td>\n",
              "    </tr>\n",
              "    <tr>\n",
              "      <th>3</th>\n",
              "      <td>33.82</td>\n",
              "    </tr>\n",
              "    <tr>\n",
              "      <th>4</th>\n",
              "      <td>36.33</td>\n",
              "    </tr>\n",
              "    <tr>\n",
              "      <th>...</th>\n",
              "      <td>...</td>\n",
              "    </tr>\n",
              "    <tr>\n",
              "      <th>2995</th>\n",
              "      <td>34.42</td>\n",
              "    </tr>\n",
              "    <tr>\n",
              "      <th>2996</th>\n",
              "      <td>34.06</td>\n",
              "    </tr>\n",
              "    <tr>\n",
              "      <th>2997</th>\n",
              "      <td>36.30</td>\n",
              "    </tr>\n",
              "    <tr>\n",
              "      <th>2998</th>\n",
              "      <td>34.10</td>\n",
              "    </tr>\n",
              "    <tr>\n",
              "      <th>2999</th>\n",
              "      <td>34.42</td>\n",
              "    </tr>\n",
              "  </tbody>\n",
              "</table>\n",
              "<p>3000 rows × 1 columns</p>\n",
              "</div>"
            ],
            "text/plain": [
              "      latitude\n",
              "0        37.37\n",
              "1        34.26\n",
              "2        33.78\n",
              "3        33.82\n",
              "4        36.33\n",
              "...        ...\n",
              "2995     34.42\n",
              "2996     34.06\n",
              "2997     36.30\n",
              "2998     34.10\n",
              "2999     34.42\n",
              "\n",
              "[3000 rows x 1 columns]"
            ]
          },
          "metadata": {
            "tags": []
          },
          "execution_count": 28
        }
      ]
    },
    {
      "cell_type": "markdown",
      "metadata": {
        "id": "CjqwQ2SFvO8-"
      },
      "source": [
        "Seleccionando múltiples columnas\n",
        "\n",
        "\n",
        "\n",
        "```\n",
        "df[[\"A\", ...]]\n",
        "```\n",
        "\n"
      ]
    },
    {
      "cell_type": "code",
      "metadata": {
        "id": "VvnPz531vPDZ",
        "colab": {
          "base_uri": "https://localhost:8080/",
          "height": 402
        },
        "outputId": "18924f21-ac3c-466e-e286-fbe8d56b6c49"
      },
      "source": [
        "cali_housing[[\"longitude\", \"latitude\"]]"
      ],
      "execution_count": null,
      "outputs": [
        {
          "output_type": "execute_result",
          "data": {
            "text/html": [
              "<div>\n",
              "<style scoped>\n",
              "    .dataframe tbody tr th:only-of-type {\n",
              "        vertical-align: middle;\n",
              "    }\n",
              "\n",
              "    .dataframe tbody tr th {\n",
              "        vertical-align: top;\n",
              "    }\n",
              "\n",
              "    .dataframe thead th {\n",
              "        text-align: right;\n",
              "    }\n",
              "</style>\n",
              "<table border=\"1\" class=\"dataframe\">\n",
              "  <thead>\n",
              "    <tr style=\"text-align: right;\">\n",
              "      <th></th>\n",
              "      <th>longitude</th>\n",
              "      <th>latitude</th>\n",
              "    </tr>\n",
              "  </thead>\n",
              "  <tbody>\n",
              "    <tr>\n",
              "      <th>0</th>\n",
              "      <td>-122.05</td>\n",
              "      <td>37.37</td>\n",
              "    </tr>\n",
              "    <tr>\n",
              "      <th>1</th>\n",
              "      <td>-118.30</td>\n",
              "      <td>34.26</td>\n",
              "    </tr>\n",
              "    <tr>\n",
              "      <th>2</th>\n",
              "      <td>-117.81</td>\n",
              "      <td>33.78</td>\n",
              "    </tr>\n",
              "    <tr>\n",
              "      <th>3</th>\n",
              "      <td>-118.36</td>\n",
              "      <td>33.82</td>\n",
              "    </tr>\n",
              "    <tr>\n",
              "      <th>4</th>\n",
              "      <td>-119.67</td>\n",
              "      <td>36.33</td>\n",
              "    </tr>\n",
              "    <tr>\n",
              "      <th>...</th>\n",
              "      <td>...</td>\n",
              "      <td>...</td>\n",
              "    </tr>\n",
              "    <tr>\n",
              "      <th>2995</th>\n",
              "      <td>-119.86</td>\n",
              "      <td>34.42</td>\n",
              "    </tr>\n",
              "    <tr>\n",
              "      <th>2996</th>\n",
              "      <td>-118.14</td>\n",
              "      <td>34.06</td>\n",
              "    </tr>\n",
              "    <tr>\n",
              "      <th>2997</th>\n",
              "      <td>-119.70</td>\n",
              "      <td>36.30</td>\n",
              "    </tr>\n",
              "    <tr>\n",
              "      <th>2998</th>\n",
              "      <td>-117.12</td>\n",
              "      <td>34.10</td>\n",
              "    </tr>\n",
              "    <tr>\n",
              "      <th>2999</th>\n",
              "      <td>-119.63</td>\n",
              "      <td>34.42</td>\n",
              "    </tr>\n",
              "  </tbody>\n",
              "</table>\n",
              "<p>3000 rows × 2 columns</p>\n",
              "</div>"
            ],
            "text/plain": [
              "      longitude  latitude\n",
              "0       -122.05     37.37\n",
              "1       -118.30     34.26\n",
              "2       -117.81     33.78\n",
              "3       -118.36     33.82\n",
              "4       -119.67     36.33\n",
              "...         ...       ...\n",
              "2995    -119.86     34.42\n",
              "2996    -118.14     34.06\n",
              "2997    -119.70     36.30\n",
              "2998    -117.12     34.10\n",
              "2999    -119.63     34.42\n",
              "\n",
              "[3000 rows x 2 columns]"
            ]
          },
          "metadata": {
            "tags": []
          },
          "execution_count": 29
        }
      ]
    },
    {
      "cell_type": "markdown",
      "metadata": {
        "id": "CxB5qTZys52B"
      },
      "source": [
        "## Seleccionando filas con slicing"
      ]
    },
    {
      "cell_type": "code",
      "metadata": {
        "id": "t10uKI8Ss56d",
        "colab": {
          "base_uri": "https://localhost:8080/",
          "height": 156
        },
        "outputId": "51e7e54e-8cd0-4c7d-a884-50e50954d228"
      },
      "source": [
        "cali_housing[0:3]"
      ],
      "execution_count": null,
      "outputs": [
        {
          "output_type": "execute_result",
          "data": {
            "text/html": [
              "<div>\n",
              "<style scoped>\n",
              "    .dataframe tbody tr th:only-of-type {\n",
              "        vertical-align: middle;\n",
              "    }\n",
              "\n",
              "    .dataframe tbody tr th {\n",
              "        vertical-align: top;\n",
              "    }\n",
              "\n",
              "    .dataframe thead th {\n",
              "        text-align: right;\n",
              "    }\n",
              "</style>\n",
              "<table border=\"1\" class=\"dataframe\">\n",
              "  <thead>\n",
              "    <tr style=\"text-align: right;\">\n",
              "      <th></th>\n",
              "      <th>longitude</th>\n",
              "      <th>latitude</th>\n",
              "      <th>housing_median_age</th>\n",
              "      <th>total_rooms</th>\n",
              "      <th>total_bedrooms</th>\n",
              "      <th>population</th>\n",
              "      <th>households</th>\n",
              "      <th>median_income</th>\n",
              "      <th>median_house_value</th>\n",
              "    </tr>\n",
              "  </thead>\n",
              "  <tbody>\n",
              "    <tr>\n",
              "      <th>0</th>\n",
              "      <td>-122.05</td>\n",
              "      <td>37.37</td>\n",
              "      <td>27</td>\n",
              "      <td>3885</td>\n",
              "      <td>661</td>\n",
              "      <td>1537</td>\n",
              "      <td>606</td>\n",
              "      <td>6.6085</td>\n",
              "      <td>344700</td>\n",
              "    </tr>\n",
              "    <tr>\n",
              "      <th>1</th>\n",
              "      <td>-118.30</td>\n",
              "      <td>34.26</td>\n",
              "      <td>43</td>\n",
              "      <td>1510</td>\n",
              "      <td>310</td>\n",
              "      <td>809</td>\n",
              "      <td>277</td>\n",
              "      <td>3.5990</td>\n",
              "      <td>176500</td>\n",
              "    </tr>\n",
              "    <tr>\n",
              "      <th>2</th>\n",
              "      <td>-117.81</td>\n",
              "      <td>33.78</td>\n",
              "      <td>27</td>\n",
              "      <td>3589</td>\n",
              "      <td>507</td>\n",
              "      <td>1484</td>\n",
              "      <td>495</td>\n",
              "      <td>5.7934</td>\n",
              "      <td>270500</td>\n",
              "    </tr>\n",
              "  </tbody>\n",
              "</table>\n",
              "</div>"
            ],
            "text/plain": [
              "   longitude  latitude  ...  median_income  median_house_value\n",
              "0    -122.05     37.37  ...         6.6085              344700\n",
              "1    -118.30     34.26  ...         3.5990              176500\n",
              "2    -117.81     33.78  ...         5.7934              270500\n",
              "\n",
              "[3 rows x 9 columns]"
            ]
          },
          "metadata": {
            "tags": []
          },
          "execution_count": 30
        }
      ]
    },
    {
      "cell_type": "markdown",
      "metadata": {
        "id": "jsZdWJbmu55Y"
      },
      "source": [
        "## Selección con etiquetas loc"
      ]
    },
    {
      "cell_type": "code",
      "metadata": {
        "id": "cAFiM2puu5-4",
        "colab": {
          "base_uri": "https://localhost:8080/",
          "height": 402
        },
        "outputId": "fac1829b-eab5-411c-ae92-adcd8463371d"
      },
      "source": [
        "cali_housing.loc[:, \"total_rooms\":\"households\"]"
      ],
      "execution_count": null,
      "outputs": [
        {
          "output_type": "execute_result",
          "data": {
            "text/html": [
              "<div>\n",
              "<style scoped>\n",
              "    .dataframe tbody tr th:only-of-type {\n",
              "        vertical-align: middle;\n",
              "    }\n",
              "\n",
              "    .dataframe tbody tr th {\n",
              "        vertical-align: top;\n",
              "    }\n",
              "\n",
              "    .dataframe thead th {\n",
              "        text-align: right;\n",
              "    }\n",
              "</style>\n",
              "<table border=\"1\" class=\"dataframe\">\n",
              "  <thead>\n",
              "    <tr style=\"text-align: right;\">\n",
              "      <th></th>\n",
              "      <th>total_rooms</th>\n",
              "      <th>total_bedrooms</th>\n",
              "      <th>population</th>\n",
              "      <th>households</th>\n",
              "    </tr>\n",
              "  </thead>\n",
              "  <tbody>\n",
              "    <tr>\n",
              "      <th>0</th>\n",
              "      <td>3885</td>\n",
              "      <td>661</td>\n",
              "      <td>1537</td>\n",
              "      <td>606</td>\n",
              "    </tr>\n",
              "    <tr>\n",
              "      <th>1</th>\n",
              "      <td>1510</td>\n",
              "      <td>310</td>\n",
              "      <td>809</td>\n",
              "      <td>277</td>\n",
              "    </tr>\n",
              "    <tr>\n",
              "      <th>2</th>\n",
              "      <td>3589</td>\n",
              "      <td>507</td>\n",
              "      <td>1484</td>\n",
              "      <td>495</td>\n",
              "    </tr>\n",
              "    <tr>\n",
              "      <th>3</th>\n",
              "      <td>67</td>\n",
              "      <td>15</td>\n",
              "      <td>49</td>\n",
              "      <td>11</td>\n",
              "    </tr>\n",
              "    <tr>\n",
              "      <th>4</th>\n",
              "      <td>1241</td>\n",
              "      <td>244</td>\n",
              "      <td>850</td>\n",
              "      <td>237</td>\n",
              "    </tr>\n",
              "    <tr>\n",
              "      <th>...</th>\n",
              "      <td>...</td>\n",
              "      <td>...</td>\n",
              "      <td>...</td>\n",
              "      <td>...</td>\n",
              "    </tr>\n",
              "    <tr>\n",
              "      <th>2995</th>\n",
              "      <td>1450</td>\n",
              "      <td>642</td>\n",
              "      <td>1258</td>\n",
              "      <td>607</td>\n",
              "    </tr>\n",
              "    <tr>\n",
              "      <th>2996</th>\n",
              "      <td>5257</td>\n",
              "      <td>1082</td>\n",
              "      <td>3496</td>\n",
              "      <td>1036</td>\n",
              "    </tr>\n",
              "    <tr>\n",
              "      <th>2997</th>\n",
              "      <td>956</td>\n",
              "      <td>201</td>\n",
              "      <td>693</td>\n",
              "      <td>220</td>\n",
              "    </tr>\n",
              "    <tr>\n",
              "      <th>2998</th>\n",
              "      <td>96</td>\n",
              "      <td>14</td>\n",
              "      <td>46</td>\n",
              "      <td>14</td>\n",
              "    </tr>\n",
              "    <tr>\n",
              "      <th>2999</th>\n",
              "      <td>1765</td>\n",
              "      <td>263</td>\n",
              "      <td>753</td>\n",
              "      <td>260</td>\n",
              "    </tr>\n",
              "  </tbody>\n",
              "</table>\n",
              "<p>3000 rows × 4 columns</p>\n",
              "</div>"
            ],
            "text/plain": [
              "      total_rooms  total_bedrooms  population  households\n",
              "0            3885             661        1537         606\n",
              "1            1510             310         809         277\n",
              "2            3589             507        1484         495\n",
              "3              67              15          49          11\n",
              "4            1241             244         850         237\n",
              "...           ...             ...         ...         ...\n",
              "2995         1450             642        1258         607\n",
              "2996         5257            1082        3496        1036\n",
              "2997          956             201         693         220\n",
              "2998           96              14          46          14\n",
              "2999         1765             263         753         260\n",
              "\n",
              "[3000 rows x 4 columns]"
            ]
          },
          "metadata": {
            "tags": []
          },
          "execution_count": 31
        }
      ]
    },
    {
      "cell_type": "markdown",
      "metadata": {
        "id": "oCHwl3yuvCch"
      },
      "source": [
        "## Selección con enteros iloc"
      ]
    },
    {
      "cell_type": "code",
      "metadata": {
        "id": "zYt4MKkUvCi2",
        "colab": {
          "base_uri": "https://localhost:8080/",
          "height": 402
        },
        "outputId": "917ceb59-8154-4653-b8dc-5e1f0cfdb12c"
      },
      "source": [
        "cali_housing.iloc[:, 6:]"
      ],
      "execution_count": null,
      "outputs": [
        {
          "output_type": "execute_result",
          "data": {
            "text/html": [
              "<div>\n",
              "<style scoped>\n",
              "    .dataframe tbody tr th:only-of-type {\n",
              "        vertical-align: middle;\n",
              "    }\n",
              "\n",
              "    .dataframe tbody tr th {\n",
              "        vertical-align: top;\n",
              "    }\n",
              "\n",
              "    .dataframe thead th {\n",
              "        text-align: right;\n",
              "    }\n",
              "</style>\n",
              "<table border=\"1\" class=\"dataframe\">\n",
              "  <thead>\n",
              "    <tr style=\"text-align: right;\">\n",
              "      <th></th>\n",
              "      <th>households</th>\n",
              "      <th>median_income</th>\n",
              "      <th>median_house_value</th>\n",
              "    </tr>\n",
              "  </thead>\n",
              "  <tbody>\n",
              "    <tr>\n",
              "      <th>0</th>\n",
              "      <td>606</td>\n",
              "      <td>6.6085</td>\n",
              "      <td>344700</td>\n",
              "    </tr>\n",
              "    <tr>\n",
              "      <th>1</th>\n",
              "      <td>277</td>\n",
              "      <td>3.5990</td>\n",
              "      <td>176500</td>\n",
              "    </tr>\n",
              "    <tr>\n",
              "      <th>2</th>\n",
              "      <td>495</td>\n",
              "      <td>5.7934</td>\n",
              "      <td>270500</td>\n",
              "    </tr>\n",
              "    <tr>\n",
              "      <th>3</th>\n",
              "      <td>11</td>\n",
              "      <td>6.1359</td>\n",
              "      <td>330000</td>\n",
              "    </tr>\n",
              "    <tr>\n",
              "      <th>4</th>\n",
              "      <td>237</td>\n",
              "      <td>2.9375</td>\n",
              "      <td>81700</td>\n",
              "    </tr>\n",
              "    <tr>\n",
              "      <th>...</th>\n",
              "      <td>...</td>\n",
              "      <td>...</td>\n",
              "      <td>...</td>\n",
              "    </tr>\n",
              "    <tr>\n",
              "      <th>2995</th>\n",
              "      <td>607</td>\n",
              "      <td>1.1790</td>\n",
              "      <td>225000</td>\n",
              "    </tr>\n",
              "    <tr>\n",
              "      <th>2996</th>\n",
              "      <td>1036</td>\n",
              "      <td>3.3906</td>\n",
              "      <td>237200</td>\n",
              "    </tr>\n",
              "    <tr>\n",
              "      <th>2997</th>\n",
              "      <td>220</td>\n",
              "      <td>2.2895</td>\n",
              "      <td>62000</td>\n",
              "    </tr>\n",
              "    <tr>\n",
              "      <th>2998</th>\n",
              "      <td>14</td>\n",
              "      <td>3.2708</td>\n",
              "      <td>162500</td>\n",
              "    </tr>\n",
              "    <tr>\n",
              "      <th>2999</th>\n",
              "      <td>260</td>\n",
              "      <td>8.5608</td>\n",
              "      <td>500001</td>\n",
              "    </tr>\n",
              "  </tbody>\n",
              "</table>\n",
              "<p>3000 rows × 3 columns</p>\n",
              "</div>"
            ],
            "text/plain": [
              "      households  median_income  median_house_value\n",
              "0            606         6.6085              344700\n",
              "1            277         3.5990              176500\n",
              "2            495         5.7934              270500\n",
              "3             11         6.1359              330000\n",
              "4            237         2.9375               81700\n",
              "...          ...            ...                 ...\n",
              "2995         607         1.1790              225000\n",
              "2996        1036         3.3906              237200\n",
              "2997         220         2.2895               62000\n",
              "2998          14         3.2708              162500\n",
              "2999         260         8.5608              500001\n",
              "\n",
              "[3000 rows x 3 columns]"
            ]
          },
          "metadata": {
            "tags": []
          },
          "execution_count": 32
        }
      ]
    },
    {
      "cell_type": "markdown",
      "metadata": {
        "id": "dj7r1S5_o7Mw"
      },
      "source": [
        "## Asignación por rango"
      ]
    },
    {
      "cell_type": "code",
      "metadata": {
        "id": "MRN2Ykxzo_Rv",
        "colab": {
          "base_uri": "https://localhost:8080/",
          "height": 422
        },
        "outputId": "fdb34465-50ac-428c-c416-43c5089af4d4"
      },
      "source": [
        "#primero agregamos una columna random inicializada a 0\n",
        "cali_housing[\"random\"] = 0.0\n",
        "#reasignamos usando np.random\n",
        "cali_housing.loc[:, \"random\"] = np.random.randn(cali_housing.shape[0])\n",
        "cali_housing"
      ],
      "execution_count": null,
      "outputs": [
        {
          "output_type": "execute_result",
          "data": {
            "text/html": [
              "<div>\n",
              "<style scoped>\n",
              "    .dataframe tbody tr th:only-of-type {\n",
              "        vertical-align: middle;\n",
              "    }\n",
              "\n",
              "    .dataframe tbody tr th {\n",
              "        vertical-align: top;\n",
              "    }\n",
              "\n",
              "    .dataframe thead th {\n",
              "        text-align: right;\n",
              "    }\n",
              "</style>\n",
              "<table border=\"1\" class=\"dataframe\">\n",
              "  <thead>\n",
              "    <tr style=\"text-align: right;\">\n",
              "      <th></th>\n",
              "      <th>longitude</th>\n",
              "      <th>latitude</th>\n",
              "      <th>housing_median_age</th>\n",
              "      <th>total_rooms</th>\n",
              "      <th>total_bedrooms</th>\n",
              "      <th>population</th>\n",
              "      <th>households</th>\n",
              "      <th>median_income</th>\n",
              "      <th>median_house_value</th>\n",
              "      <th>random</th>\n",
              "    </tr>\n",
              "  </thead>\n",
              "  <tbody>\n",
              "    <tr>\n",
              "      <th>0</th>\n",
              "      <td>-122.05</td>\n",
              "      <td>37.37</td>\n",
              "      <td>27</td>\n",
              "      <td>3885</td>\n",
              "      <td>661</td>\n",
              "      <td>1537</td>\n",
              "      <td>606</td>\n",
              "      <td>6.6085</td>\n",
              "      <td>344700</td>\n",
              "      <td>-0.160436</td>\n",
              "    </tr>\n",
              "    <tr>\n",
              "      <th>1</th>\n",
              "      <td>-118.30</td>\n",
              "      <td>34.26</td>\n",
              "      <td>43</td>\n",
              "      <td>1510</td>\n",
              "      <td>310</td>\n",
              "      <td>809</td>\n",
              "      <td>277</td>\n",
              "      <td>3.5990</td>\n",
              "      <td>176500</td>\n",
              "      <td>0.678597</td>\n",
              "    </tr>\n",
              "    <tr>\n",
              "      <th>2</th>\n",
              "      <td>-117.81</td>\n",
              "      <td>33.78</td>\n",
              "      <td>27</td>\n",
              "      <td>3589</td>\n",
              "      <td>507</td>\n",
              "      <td>1484</td>\n",
              "      <td>495</td>\n",
              "      <td>5.7934</td>\n",
              "      <td>270500</td>\n",
              "      <td>0.152683</td>\n",
              "    </tr>\n",
              "    <tr>\n",
              "      <th>3</th>\n",
              "      <td>-118.36</td>\n",
              "      <td>33.82</td>\n",
              "      <td>28</td>\n",
              "      <td>67</td>\n",
              "      <td>15</td>\n",
              "      <td>49</td>\n",
              "      <td>11</td>\n",
              "      <td>6.1359</td>\n",
              "      <td>330000</td>\n",
              "      <td>-0.013950</td>\n",
              "    </tr>\n",
              "    <tr>\n",
              "      <th>4</th>\n",
              "      <td>-119.67</td>\n",
              "      <td>36.33</td>\n",
              "      <td>19</td>\n",
              "      <td>1241</td>\n",
              "      <td>244</td>\n",
              "      <td>850</td>\n",
              "      <td>237</td>\n",
              "      <td>2.9375</td>\n",
              "      <td>81700</td>\n",
              "      <td>-0.988726</td>\n",
              "    </tr>\n",
              "    <tr>\n",
              "      <th>...</th>\n",
              "      <td>...</td>\n",
              "      <td>...</td>\n",
              "      <td>...</td>\n",
              "      <td>...</td>\n",
              "      <td>...</td>\n",
              "      <td>...</td>\n",
              "      <td>...</td>\n",
              "      <td>...</td>\n",
              "      <td>...</td>\n",
              "      <td>...</td>\n",
              "    </tr>\n",
              "    <tr>\n",
              "      <th>2995</th>\n",
              "      <td>-119.86</td>\n",
              "      <td>34.42</td>\n",
              "      <td>23</td>\n",
              "      <td>1450</td>\n",
              "      <td>642</td>\n",
              "      <td>1258</td>\n",
              "      <td>607</td>\n",
              "      <td>1.1790</td>\n",
              "      <td>225000</td>\n",
              "      <td>1.212056</td>\n",
              "    </tr>\n",
              "    <tr>\n",
              "      <th>2996</th>\n",
              "      <td>-118.14</td>\n",
              "      <td>34.06</td>\n",
              "      <td>27</td>\n",
              "      <td>5257</td>\n",
              "      <td>1082</td>\n",
              "      <td>3496</td>\n",
              "      <td>1036</td>\n",
              "      <td>3.3906</td>\n",
              "      <td>237200</td>\n",
              "      <td>1.731682</td>\n",
              "    </tr>\n",
              "    <tr>\n",
              "      <th>2997</th>\n",
              "      <td>-119.70</td>\n",
              "      <td>36.30</td>\n",
              "      <td>10</td>\n",
              "      <td>956</td>\n",
              "      <td>201</td>\n",
              "      <td>693</td>\n",
              "      <td>220</td>\n",
              "      <td>2.2895</td>\n",
              "      <td>62000</td>\n",
              "      <td>0.959838</td>\n",
              "    </tr>\n",
              "    <tr>\n",
              "      <th>2998</th>\n",
              "      <td>-117.12</td>\n",
              "      <td>34.10</td>\n",
              "      <td>40</td>\n",
              "      <td>96</td>\n",
              "      <td>14</td>\n",
              "      <td>46</td>\n",
              "      <td>14</td>\n",
              "      <td>3.2708</td>\n",
              "      <td>162500</td>\n",
              "      <td>0.890985</td>\n",
              "    </tr>\n",
              "    <tr>\n",
              "      <th>2999</th>\n",
              "      <td>-119.63</td>\n",
              "      <td>34.42</td>\n",
              "      <td>42</td>\n",
              "      <td>1765</td>\n",
              "      <td>263</td>\n",
              "      <td>753</td>\n",
              "      <td>260</td>\n",
              "      <td>8.5608</td>\n",
              "      <td>500001</td>\n",
              "      <td>-0.370769</td>\n",
              "    </tr>\n",
              "  </tbody>\n",
              "</table>\n",
              "<p>3000 rows × 10 columns</p>\n",
              "</div>"
            ],
            "text/plain": [
              "      longitude  latitude  ...  median_house_value    random\n",
              "0       -122.05     37.37  ...              344700 -0.160436\n",
              "1       -118.30     34.26  ...              176500  0.678597\n",
              "2       -117.81     33.78  ...              270500  0.152683\n",
              "3       -118.36     33.82  ...              330000 -0.013950\n",
              "4       -119.67     36.33  ...               81700 -0.988726\n",
              "...         ...       ...  ...                 ...       ...\n",
              "2995    -119.86     34.42  ...              225000  1.212056\n",
              "2996    -118.14     34.06  ...              237200  1.731682\n",
              "2997    -119.70     36.30  ...               62000  0.959838\n",
              "2998    -117.12     34.10  ...              162500  0.890985\n",
              "2999    -119.63     34.42  ...              500001 -0.370769\n",
              "\n",
              "[3000 rows x 10 columns]"
            ]
          },
          "metadata": {
            "tags": []
          },
          "execution_count": 33
        }
      ]
    },
    {
      "cell_type": "markdown",
      "metadata": {
        "id": "CHV9n0JBAUr_"
      },
      "source": [
        "## Selección con indexación booleana"
      ]
    },
    {
      "cell_type": "code",
      "metadata": {
        "id": "jT8B09O6AUwh",
        "colab": {
          "base_uri": "https://localhost:8080/",
          "height": 422
        },
        "outputId": "2b88aa62-0a00-4766-af31-78502323b813"
      },
      "source": [
        "cali_housing[cali_housing[\"total_bedrooms\"] > 1000]"
      ],
      "execution_count": null,
      "outputs": [
        {
          "output_type": "execute_result",
          "data": {
            "text/html": [
              "<div>\n",
              "<style scoped>\n",
              "    .dataframe tbody tr th:only-of-type {\n",
              "        vertical-align: middle;\n",
              "    }\n",
              "\n",
              "    .dataframe tbody tr th {\n",
              "        vertical-align: top;\n",
              "    }\n",
              "\n",
              "    .dataframe thead th {\n",
              "        text-align: right;\n",
              "    }\n",
              "</style>\n",
              "<table border=\"1\" class=\"dataframe\">\n",
              "  <thead>\n",
              "    <tr style=\"text-align: right;\">\n",
              "      <th></th>\n",
              "      <th>longitude</th>\n",
              "      <th>latitude</th>\n",
              "      <th>housing_median_age</th>\n",
              "      <th>total_rooms</th>\n",
              "      <th>total_bedrooms</th>\n",
              "      <th>population</th>\n",
              "      <th>households</th>\n",
              "      <th>median_income</th>\n",
              "      <th>median_house_value</th>\n",
              "      <th>random</th>\n",
              "    </tr>\n",
              "  </thead>\n",
              "  <tbody>\n",
              "    <tr>\n",
              "      <th>19</th>\n",
              "      <td>-122.59</td>\n",
              "      <td>38.01</td>\n",
              "      <td>35</td>\n",
              "      <td>8814</td>\n",
              "      <td>1307</td>\n",
              "      <td>3450</td>\n",
              "      <td>1258</td>\n",
              "      <td>6.1724</td>\n",
              "      <td>414300</td>\n",
              "      <td>2.037763</td>\n",
              "    </tr>\n",
              "    <tr>\n",
              "      <th>24</th>\n",
              "      <td>-117.28</td>\n",
              "      <td>33.28</td>\n",
              "      <td>13</td>\n",
              "      <td>6131</td>\n",
              "      <td>1040</td>\n",
              "      <td>4049</td>\n",
              "      <td>940</td>\n",
              "      <td>3.8156</td>\n",
              "      <td>150700</td>\n",
              "      <td>1.106254</td>\n",
              "    </tr>\n",
              "    <tr>\n",
              "      <th>26</th>\n",
              "      <td>-122.42</td>\n",
              "      <td>37.76</td>\n",
              "      <td>52</td>\n",
              "      <td>3587</td>\n",
              "      <td>1030</td>\n",
              "      <td>2259</td>\n",
              "      <td>979</td>\n",
              "      <td>2.5403</td>\n",
              "      <td>250000</td>\n",
              "      <td>-0.334876</td>\n",
              "    </tr>\n",
              "    <tr>\n",
              "      <th>28</th>\n",
              "      <td>-118.45</td>\n",
              "      <td>34.07</td>\n",
              "      <td>19</td>\n",
              "      <td>4845</td>\n",
              "      <td>1609</td>\n",
              "      <td>3751</td>\n",
              "      <td>1539</td>\n",
              "      <td>1.5830</td>\n",
              "      <td>350000</td>\n",
              "      <td>-0.713185</td>\n",
              "    </tr>\n",
              "    <tr>\n",
              "      <th>33</th>\n",
              "      <td>-118.08</td>\n",
              "      <td>34.55</td>\n",
              "      <td>5</td>\n",
              "      <td>16181</td>\n",
              "      <td>2971</td>\n",
              "      <td>8152</td>\n",
              "      <td>2651</td>\n",
              "      <td>4.5237</td>\n",
              "      <td>141800</td>\n",
              "      <td>0.832530</td>\n",
              "    </tr>\n",
              "    <tr>\n",
              "      <th>...</th>\n",
              "      <td>...</td>\n",
              "      <td>...</td>\n",
              "      <td>...</td>\n",
              "      <td>...</td>\n",
              "      <td>...</td>\n",
              "      <td>...</td>\n",
              "      <td>...</td>\n",
              "      <td>...</td>\n",
              "      <td>...</td>\n",
              "      <td>...</td>\n",
              "    </tr>\n",
              "    <tr>\n",
              "      <th>2969</th>\n",
              "      <td>-118.11</td>\n",
              "      <td>34.68</td>\n",
              "      <td>6</td>\n",
              "      <td>7430</td>\n",
              "      <td>1184</td>\n",
              "      <td>3489</td>\n",
              "      <td>1115</td>\n",
              "      <td>5.3267</td>\n",
              "      <td>140100</td>\n",
              "      <td>-0.325795</td>\n",
              "    </tr>\n",
              "    <tr>\n",
              "      <th>2971</th>\n",
              "      <td>-120.93</td>\n",
              "      <td>35.76</td>\n",
              "      <td>11</td>\n",
              "      <td>8997</td>\n",
              "      <td>1698</td>\n",
              "      <td>1825</td>\n",
              "      <td>756</td>\n",
              "      <td>3.2300</td>\n",
              "      <td>154300</td>\n",
              "      <td>-0.694757</td>\n",
              "    </tr>\n",
              "    <tr>\n",
              "      <th>2973</th>\n",
              "      <td>-122.73</td>\n",
              "      <td>38.46</td>\n",
              "      <td>14</td>\n",
              "      <td>4042</td>\n",
              "      <td>1298</td>\n",
              "      <td>2323</td>\n",
              "      <td>1158</td>\n",
              "      <td>2.0651</td>\n",
              "      <td>135400</td>\n",
              "      <td>0.301618</td>\n",
              "    </tr>\n",
              "    <tr>\n",
              "      <th>2979</th>\n",
              "      <td>-117.91</td>\n",
              "      <td>34.09</td>\n",
              "      <td>20</td>\n",
              "      <td>4327</td>\n",
              "      <td>1037</td>\n",
              "      <td>2296</td>\n",
              "      <td>963</td>\n",
              "      <td>3.0441</td>\n",
              "      <td>185400</td>\n",
              "      <td>-0.705716</td>\n",
              "    </tr>\n",
              "    <tr>\n",
              "      <th>2996</th>\n",
              "      <td>-118.14</td>\n",
              "      <td>34.06</td>\n",
              "      <td>27</td>\n",
              "      <td>5257</td>\n",
              "      <td>1082</td>\n",
              "      <td>3496</td>\n",
              "      <td>1036</td>\n",
              "      <td>3.3906</td>\n",
              "      <td>237200</td>\n",
              "      <td>1.731682</td>\n",
              "    </tr>\n",
              "  </tbody>\n",
              "</table>\n",
              "<p>279 rows × 10 columns</p>\n",
              "</div>"
            ],
            "text/plain": [
              "      longitude  latitude  ...  median_house_value    random\n",
              "19      -122.59     38.01  ...              414300  2.037763\n",
              "24      -117.28     33.28  ...              150700  1.106254\n",
              "26      -122.42     37.76  ...              250000 -0.334876\n",
              "28      -118.45     34.07  ...              350000 -0.713185\n",
              "33      -118.08     34.55  ...              141800  0.832530\n",
              "...         ...       ...  ...                 ...       ...\n",
              "2969    -118.11     34.68  ...              140100 -0.325795\n",
              "2971    -120.93     35.76  ...              154300 -0.694757\n",
              "2973    -122.73     38.46  ...              135400  0.301618\n",
              "2979    -117.91     34.09  ...              185400 -0.705716\n",
              "2996    -118.14     34.06  ...              237200  1.731682\n",
              "\n",
              "[279 rows x 10 columns]"
            ]
          },
          "metadata": {
            "tags": []
          },
          "execution_count": 42
        }
      ]
    },
    {
      "cell_type": "markdown",
      "metadata": {
        "id": "PDy5UYHRDQQ9"
      },
      "source": [
        "## Selección de celdas con at y iat"
      ]
    },
    {
      "cell_type": "markdown",
      "metadata": {
        "id": "TXG-TXOBKiWz"
      },
      "source": [
        "**at** utiliza etiquetas para seleccionar elementos:"
      ]
    },
    {
      "cell_type": "code",
      "metadata": {
        "id": "is4bKkN9DQYE",
        "colab": {
          "base_uri": "https://localhost:8080/",
          "height": 34
        },
        "outputId": "69a8af77-81ff-4eda-a9b7-be8a415c1b86"
      },
      "source": [
        "cali_housing.at[0, \"housing_median_age\"]"
      ],
      "execution_count": null,
      "outputs": [
        {
          "output_type": "execute_result",
          "data": {
            "text/plain": [
              "27"
            ]
          },
          "metadata": {
            "tags": []
          },
          "execution_count": 39
        }
      ]
    },
    {
      "cell_type": "markdown",
      "metadata": {
        "id": "QvT-XktzKjHr"
      },
      "source": [
        "**iat** utiliza enteros para seleccionar elementos:"
      ]
    },
    {
      "cell_type": "code",
      "metadata": {
        "id": "LdKMvBAHKrtI",
        "colab": {
          "base_uri": "https://localhost:8080/",
          "height": 34
        },
        "outputId": "98c7fbcf-f22f-46c6-85a8-e983f1f358ed"
      },
      "source": [
        "cali_housing.iat[1, 4]"
      ],
      "execution_count": null,
      "outputs": [
        {
          "output_type": "execute_result",
          "data": {
            "text/plain": [
              "310"
            ]
          },
          "metadata": {
            "tags": []
          },
          "execution_count": 43
        }
      ]
    },
    {
      "cell_type": "markdown",
      "metadata": {
        "id": "-KhyFcrLo102"
      },
      "source": [
        "## Asignación elemento"
      ]
    },
    {
      "cell_type": "markdown",
      "metadata": {
        "id": "mbKBHIY1Pvc2"
      },
      "source": [
        "También puedes cambir el contenido de las celdas directamente mediante asignación:"
      ]
    },
    {
      "cell_type": "code",
      "metadata": {
        "id": "B-pJidvUP5BL",
        "colab": {
          "base_uri": "https://localhost:8080/",
          "height": 422
        },
        "outputId": "4fdc75cb-2ccb-42b2-bc69-e31b18fb2f79"
      },
      "source": [
        "cali_housing.iat[1, 4] = 200.0\n",
        "cali_housing"
      ],
      "execution_count": null,
      "outputs": [
        {
          "output_type": "execute_result",
          "data": {
            "text/html": [
              "<div>\n",
              "<style scoped>\n",
              "    .dataframe tbody tr th:only-of-type {\n",
              "        vertical-align: middle;\n",
              "    }\n",
              "\n",
              "    .dataframe tbody tr th {\n",
              "        vertical-align: top;\n",
              "    }\n",
              "\n",
              "    .dataframe thead th {\n",
              "        text-align: right;\n",
              "    }\n",
              "</style>\n",
              "<table border=\"1\" class=\"dataframe\">\n",
              "  <thead>\n",
              "    <tr style=\"text-align: right;\">\n",
              "      <th></th>\n",
              "      <th>longitude</th>\n",
              "      <th>latitude</th>\n",
              "      <th>housing_median_age</th>\n",
              "      <th>total_rooms</th>\n",
              "      <th>total_bedrooms</th>\n",
              "      <th>population</th>\n",
              "      <th>households</th>\n",
              "      <th>median_income</th>\n",
              "      <th>median_house_value</th>\n",
              "      <th>random</th>\n",
              "    </tr>\n",
              "  </thead>\n",
              "  <tbody>\n",
              "    <tr>\n",
              "      <th>0</th>\n",
              "      <td>-122.05</td>\n",
              "      <td>37.37</td>\n",
              "      <td>27</td>\n",
              "      <td>3885</td>\n",
              "      <td>661</td>\n",
              "      <td>1537</td>\n",
              "      <td>606</td>\n",
              "      <td>6.6085</td>\n",
              "      <td>344700</td>\n",
              "      <td>-0.160436</td>\n",
              "    </tr>\n",
              "    <tr>\n",
              "      <th>1</th>\n",
              "      <td>-118.30</td>\n",
              "      <td>34.26</td>\n",
              "      <td>43</td>\n",
              "      <td>1510</td>\n",
              "      <td>200</td>\n",
              "      <td>809</td>\n",
              "      <td>277</td>\n",
              "      <td>3.5990</td>\n",
              "      <td>176500</td>\n",
              "      <td>0.678597</td>\n",
              "    </tr>\n",
              "    <tr>\n",
              "      <th>2</th>\n",
              "      <td>-117.81</td>\n",
              "      <td>33.78</td>\n",
              "      <td>27</td>\n",
              "      <td>3589</td>\n",
              "      <td>507</td>\n",
              "      <td>1484</td>\n",
              "      <td>495</td>\n",
              "      <td>5.7934</td>\n",
              "      <td>270500</td>\n",
              "      <td>0.152683</td>\n",
              "    </tr>\n",
              "    <tr>\n",
              "      <th>3</th>\n",
              "      <td>-118.36</td>\n",
              "      <td>33.82</td>\n",
              "      <td>28</td>\n",
              "      <td>67</td>\n",
              "      <td>15</td>\n",
              "      <td>49</td>\n",
              "      <td>11</td>\n",
              "      <td>6.1359</td>\n",
              "      <td>330000</td>\n",
              "      <td>-0.013950</td>\n",
              "    </tr>\n",
              "    <tr>\n",
              "      <th>4</th>\n",
              "      <td>-119.67</td>\n",
              "      <td>36.33</td>\n",
              "      <td>19</td>\n",
              "      <td>1241</td>\n",
              "      <td>244</td>\n",
              "      <td>850</td>\n",
              "      <td>237</td>\n",
              "      <td>2.9375</td>\n",
              "      <td>81700</td>\n",
              "      <td>-0.988726</td>\n",
              "    </tr>\n",
              "    <tr>\n",
              "      <th>...</th>\n",
              "      <td>...</td>\n",
              "      <td>...</td>\n",
              "      <td>...</td>\n",
              "      <td>...</td>\n",
              "      <td>...</td>\n",
              "      <td>...</td>\n",
              "      <td>...</td>\n",
              "      <td>...</td>\n",
              "      <td>...</td>\n",
              "      <td>...</td>\n",
              "    </tr>\n",
              "    <tr>\n",
              "      <th>2995</th>\n",
              "      <td>-119.86</td>\n",
              "      <td>34.42</td>\n",
              "      <td>23</td>\n",
              "      <td>1450</td>\n",
              "      <td>642</td>\n",
              "      <td>1258</td>\n",
              "      <td>607</td>\n",
              "      <td>1.1790</td>\n",
              "      <td>225000</td>\n",
              "      <td>1.212056</td>\n",
              "    </tr>\n",
              "    <tr>\n",
              "      <th>2996</th>\n",
              "      <td>-118.14</td>\n",
              "      <td>34.06</td>\n",
              "      <td>27</td>\n",
              "      <td>5257</td>\n",
              "      <td>1082</td>\n",
              "      <td>3496</td>\n",
              "      <td>1036</td>\n",
              "      <td>3.3906</td>\n",
              "      <td>237200</td>\n",
              "      <td>1.731682</td>\n",
              "    </tr>\n",
              "    <tr>\n",
              "      <th>2997</th>\n",
              "      <td>-119.70</td>\n",
              "      <td>36.30</td>\n",
              "      <td>10</td>\n",
              "      <td>956</td>\n",
              "      <td>201</td>\n",
              "      <td>693</td>\n",
              "      <td>220</td>\n",
              "      <td>2.2895</td>\n",
              "      <td>62000</td>\n",
              "      <td>0.959838</td>\n",
              "    </tr>\n",
              "    <tr>\n",
              "      <th>2998</th>\n",
              "      <td>-117.12</td>\n",
              "      <td>34.10</td>\n",
              "      <td>40</td>\n",
              "      <td>96</td>\n",
              "      <td>14</td>\n",
              "      <td>46</td>\n",
              "      <td>14</td>\n",
              "      <td>3.2708</td>\n",
              "      <td>162500</td>\n",
              "      <td>0.890985</td>\n",
              "    </tr>\n",
              "    <tr>\n",
              "      <th>2999</th>\n",
              "      <td>-119.63</td>\n",
              "      <td>34.42</td>\n",
              "      <td>42</td>\n",
              "      <td>1765</td>\n",
              "      <td>263</td>\n",
              "      <td>753</td>\n",
              "      <td>260</td>\n",
              "      <td>8.5608</td>\n",
              "      <td>500001</td>\n",
              "      <td>-0.370769</td>\n",
              "    </tr>\n",
              "  </tbody>\n",
              "</table>\n",
              "<p>3000 rows × 10 columns</p>\n",
              "</div>"
            ],
            "text/plain": [
              "      longitude  latitude  ...  median_house_value    random\n",
              "0       -122.05     37.37  ...              344700 -0.160436\n",
              "1       -118.30     34.26  ...              176500  0.678597\n",
              "2       -117.81     33.78  ...              270500  0.152683\n",
              "3       -118.36     33.82  ...              330000 -0.013950\n",
              "4       -119.67     36.33  ...               81700 -0.988726\n",
              "...         ...       ...  ...                 ...       ...\n",
              "2995    -119.86     34.42  ...              225000  1.212056\n",
              "2996    -118.14     34.06  ...              237200  1.731682\n",
              "2997    -119.70     36.30  ...               62000  0.959838\n",
              "2998    -117.12     34.10  ...              162500  0.890985\n",
              "2999    -119.63     34.42  ...              500001 -0.370769\n",
              "\n",
              "[3000 rows x 10 columns]"
            ]
          },
          "metadata": {
            "tags": []
          },
          "execution_count": 44
        }
      ]
    },
    {
      "cell_type": "markdown",
      "metadata": {
        "id": "XS-y991zSHto"
      },
      "source": [
        "# Atributos\n",
        "\n",
        "* df.T\n",
        "* df.axes\n",
        "* df.dtypes\n",
        "* df.shape\n",
        "* df.size\n",
        "* df.values"
      ]
    },
    {
      "cell_type": "markdown",
      "metadata": {
        "id": "Od7ystmNLEZ2"
      },
      "source": [
        "## df.T\n",
        "\n",
        "La transpuesta de df (filas y columnas intercambiadas):"
      ]
    },
    {
      "cell_type": "code",
      "metadata": {
        "id": "T-geuTelA-kY",
        "colab": {
          "base_uri": "https://localhost:8080/",
          "height": 392
        },
        "outputId": "c3fc6b97-c904-4ecb-d1e5-5ddfa50e9901"
      },
      "source": [
        "#Los indices pasan a ser los nombres de las columnas, las columnas a indices\n",
        "cali_housing.T"
      ],
      "execution_count": null,
      "outputs": [
        {
          "output_type": "execute_result",
          "data": {
            "text/html": [
              "<div>\n",
              "<style scoped>\n",
              "    .dataframe tbody tr th:only-of-type {\n",
              "        vertical-align: middle;\n",
              "    }\n",
              "\n",
              "    .dataframe tbody tr th {\n",
              "        vertical-align: top;\n",
              "    }\n",
              "\n",
              "    .dataframe thead th {\n",
              "        text-align: right;\n",
              "    }\n",
              "</style>\n",
              "<table border=\"1\" class=\"dataframe\">\n",
              "  <thead>\n",
              "    <tr style=\"text-align: right;\">\n",
              "      <th></th>\n",
              "      <th>0</th>\n",
              "      <th>1</th>\n",
              "      <th>2</th>\n",
              "      <th>3</th>\n",
              "      <th>4</th>\n",
              "      <th>5</th>\n",
              "      <th>6</th>\n",
              "      <th>7</th>\n",
              "      <th>8</th>\n",
              "      <th>9</th>\n",
              "      <th>10</th>\n",
              "      <th>11</th>\n",
              "      <th>12</th>\n",
              "      <th>13</th>\n",
              "      <th>14</th>\n",
              "      <th>15</th>\n",
              "      <th>16</th>\n",
              "      <th>17</th>\n",
              "      <th>18</th>\n",
              "      <th>19</th>\n",
              "      <th>20</th>\n",
              "      <th>21</th>\n",
              "      <th>22</th>\n",
              "      <th>23</th>\n",
              "      <th>24</th>\n",
              "      <th>25</th>\n",
              "      <th>26</th>\n",
              "      <th>27</th>\n",
              "      <th>28</th>\n",
              "      <th>29</th>\n",
              "      <th>30</th>\n",
              "      <th>31</th>\n",
              "      <th>32</th>\n",
              "      <th>33</th>\n",
              "      <th>34</th>\n",
              "      <th>35</th>\n",
              "      <th>36</th>\n",
              "      <th>37</th>\n",
              "      <th>38</th>\n",
              "      <th>39</th>\n",
              "      <th>...</th>\n",
              "      <th>2960</th>\n",
              "      <th>2961</th>\n",
              "      <th>2962</th>\n",
              "      <th>2963</th>\n",
              "      <th>2964</th>\n",
              "      <th>2965</th>\n",
              "      <th>2966</th>\n",
              "      <th>2967</th>\n",
              "      <th>2968</th>\n",
              "      <th>2969</th>\n",
              "      <th>2970</th>\n",
              "      <th>2971</th>\n",
              "      <th>2972</th>\n",
              "      <th>2973</th>\n",
              "      <th>2974</th>\n",
              "      <th>2975</th>\n",
              "      <th>2976</th>\n",
              "      <th>2977</th>\n",
              "      <th>2978</th>\n",
              "      <th>2979</th>\n",
              "      <th>2980</th>\n",
              "      <th>2981</th>\n",
              "      <th>2982</th>\n",
              "      <th>2983</th>\n",
              "      <th>2984</th>\n",
              "      <th>2985</th>\n",
              "      <th>2986</th>\n",
              "      <th>2987</th>\n",
              "      <th>2988</th>\n",
              "      <th>2989</th>\n",
              "      <th>2990</th>\n",
              "      <th>2991</th>\n",
              "      <th>2992</th>\n",
              "      <th>2993</th>\n",
              "      <th>2994</th>\n",
              "      <th>2995</th>\n",
              "      <th>2996</th>\n",
              "      <th>2997</th>\n",
              "      <th>2998</th>\n",
              "      <th>2999</th>\n",
              "    </tr>\n",
              "  </thead>\n",
              "  <tbody>\n",
              "    <tr>\n",
              "      <th>longitude</th>\n",
              "      <td>-122.050000</td>\n",
              "      <td>-118.300000</td>\n",
              "      <td>-117.810000</td>\n",
              "      <td>-118.36000</td>\n",
              "      <td>-119.670000</td>\n",
              "      <td>-119.560000</td>\n",
              "      <td>-121.430000</td>\n",
              "      <td>-120.650000</td>\n",
              "      <td>-122.840000</td>\n",
              "      <td>-118.020000</td>\n",
              "      <td>-118.24000</td>\n",
              "      <td>-119.120000</td>\n",
              "      <td>-121.930000</td>\n",
              "      <td>-117.030000</td>\n",
              "      <td>-117.970000</td>\n",
              "      <td>-117.990000</td>\n",
              "      <td>-120.810000</td>\n",
              "      <td>-121.200000</td>\n",
              "      <td>-118.880000</td>\n",
              "      <td>-122.590000</td>\n",
              "      <td>-122.150000</td>\n",
              "      <td>-121.370000</td>\n",
              "      <td>-118.16000</td>\n",
              "      <td>-122.200000</td>\n",
              "      <td>-117.280000</td>\n",
              "      <td>-118.030000</td>\n",
              "      <td>-122.420000</td>\n",
              "      <td>-118.39000</td>\n",
              "      <td>-118.450000</td>\n",
              "      <td>-118.480000</td>\n",
              "      <td>-119.350000</td>\n",
              "      <td>-118.300000</td>\n",
              "      <td>-121.130000</td>\n",
              "      <td>-118.08000</td>\n",
              "      <td>-118.320000</td>\n",
              "      <td>-118.110000</td>\n",
              "      <td>-122.530000</td>\n",
              "      <td>-118.020000</td>\n",
              "      <td>-118.050000</td>\n",
              "      <td>-119.01000</td>\n",
              "      <td>...</td>\n",
              "      <td>-117.890000</td>\n",
              "      <td>-118.230000</td>\n",
              "      <td>-118.310000</td>\n",
              "      <td>-118.07000</td>\n",
              "      <td>-118.250000</td>\n",
              "      <td>-122.440000</td>\n",
              "      <td>-119.75000</td>\n",
              "      <td>-117.940000</td>\n",
              "      <td>-119.230000</td>\n",
              "      <td>-118.110000</td>\n",
              "      <td>-122.470000</td>\n",
              "      <td>-120.930000</td>\n",
              "      <td>-118.140000</td>\n",
              "      <td>-122.730000</td>\n",
              "      <td>-117.060000</td>\n",
              "      <td>-120.710000</td>\n",
              "      <td>-118.310000</td>\n",
              "      <td>-119.700000</td>\n",
              "      <td>-121.340000</td>\n",
              "      <td>-117.910000</td>\n",
              "      <td>-119.760000</td>\n",
              "      <td>-120.660000</td>\n",
              "      <td>-118.280000</td>\n",
              "      <td>-122.540000</td>\n",
              "      <td>-117.590000</td>\n",
              "      <td>-120.470000</td>\n",
              "      <td>-118.250000</td>\n",
              "      <td>-121.970000</td>\n",
              "      <td>-122.010000</td>\n",
              "      <td>-122.020000</td>\n",
              "      <td>-118.230000</td>\n",
              "      <td>-117.170000</td>\n",
              "      <td>-122.330000</td>\n",
              "      <td>-117.910000</td>\n",
              "      <td>-117.930000</td>\n",
              "      <td>-119.860000</td>\n",
              "      <td>-118.140000</td>\n",
              "      <td>-119.700000</td>\n",
              "      <td>-117.120000</td>\n",
              "      <td>-119.630000</td>\n",
              "    </tr>\n",
              "    <tr>\n",
              "      <th>latitude</th>\n",
              "      <td>37.370000</td>\n",
              "      <td>34.260000</td>\n",
              "      <td>33.780000</td>\n",
              "      <td>33.82000</td>\n",
              "      <td>36.330000</td>\n",
              "      <td>36.510000</td>\n",
              "      <td>38.630000</td>\n",
              "      <td>35.480000</td>\n",
              "      <td>38.400000</td>\n",
              "      <td>34.080000</td>\n",
              "      <td>33.98000</td>\n",
              "      <td>35.850000</td>\n",
              "      <td>37.250000</td>\n",
              "      <td>32.970000</td>\n",
              "      <td>33.730000</td>\n",
              "      <td>33.810000</td>\n",
              "      <td>37.530000</td>\n",
              "      <td>38.690000</td>\n",
              "      <td>34.210000</td>\n",
              "      <td>38.010000</td>\n",
              "      <td>37.750000</td>\n",
              "      <td>38.680000</td>\n",
              "      <td>34.07000</td>\n",
              "      <td>37.790000</td>\n",
              "      <td>33.280000</td>\n",
              "      <td>34.160000</td>\n",
              "      <td>37.760000</td>\n",
              "      <td>33.99000</td>\n",
              "      <td>34.070000</td>\n",
              "      <td>34.010000</td>\n",
              "      <td>36.330000</td>\n",
              "      <td>33.910000</td>\n",
              "      <td>39.310000</td>\n",
              "      <td>34.55000</td>\n",
              "      <td>33.940000</td>\n",
              "      <td>34.000000</td>\n",
              "      <td>37.970000</td>\n",
              "      <td>33.920000</td>\n",
              "      <td>33.930000</td>\n",
              "      <td>34.23000</td>\n",
              "      <td>...</td>\n",
              "      <td>33.600000</td>\n",
              "      <td>34.650000</td>\n",
              "      <td>34.020000</td>\n",
              "      <td>33.80000</td>\n",
              "      <td>33.940000</td>\n",
              "      <td>37.710000</td>\n",
              "      <td>34.50000</td>\n",
              "      <td>33.940000</td>\n",
              "      <td>34.170000</td>\n",
              "      <td>34.680000</td>\n",
              "      <td>37.770000</td>\n",
              "      <td>35.760000</td>\n",
              "      <td>34.170000</td>\n",
              "      <td>38.460000</td>\n",
              "      <td>32.760000</td>\n",
              "      <td>35.500000</td>\n",
              "      <td>34.050000</td>\n",
              "      <td>36.750000</td>\n",
              "      <td>38.640000</td>\n",
              "      <td>34.090000</td>\n",
              "      <td>36.790000</td>\n",
              "      <td>35.490000</td>\n",
              "      <td>34.080000</td>\n",
              "      <td>37.900000</td>\n",
              "      <td>33.880000</td>\n",
              "      <td>34.940000</td>\n",
              "      <td>33.930000</td>\n",
              "      <td>37.290000</td>\n",
              "      <td>36.970000</td>\n",
              "      <td>37.600000</td>\n",
              "      <td>34.090000</td>\n",
              "      <td>34.280000</td>\n",
              "      <td>37.390000</td>\n",
              "      <td>33.600000</td>\n",
              "      <td>33.860000</td>\n",
              "      <td>34.420000</td>\n",
              "      <td>34.060000</td>\n",
              "      <td>36.300000</td>\n",
              "      <td>34.100000</td>\n",
              "      <td>34.420000</td>\n",
              "    </tr>\n",
              "    <tr>\n",
              "      <th>housing_median_age</th>\n",
              "      <td>27.000000</td>\n",
              "      <td>43.000000</td>\n",
              "      <td>27.000000</td>\n",
              "      <td>28.00000</td>\n",
              "      <td>19.000000</td>\n",
              "      <td>37.000000</td>\n",
              "      <td>43.000000</td>\n",
              "      <td>19.000000</td>\n",
              "      <td>15.000000</td>\n",
              "      <td>31.000000</td>\n",
              "      <td>45.00000</td>\n",
              "      <td>37.000000</td>\n",
              "      <td>36.000000</td>\n",
              "      <td>16.000000</td>\n",
              "      <td>27.000000</td>\n",
              "      <td>42.000000</td>\n",
              "      <td>15.000000</td>\n",
              "      <td>26.000000</td>\n",
              "      <td>26.000000</td>\n",
              "      <td>35.000000</td>\n",
              "      <td>40.000000</td>\n",
              "      <td>36.000000</td>\n",
              "      <td>47.00000</td>\n",
              "      <td>45.000000</td>\n",
              "      <td>13.000000</td>\n",
              "      <td>36.000000</td>\n",
              "      <td>52.000000</td>\n",
              "      <td>32.00000</td>\n",
              "      <td>19.000000</td>\n",
              "      <td>30.000000</td>\n",
              "      <td>14.000000</td>\n",
              "      <td>34.000000</td>\n",
              "      <td>17.000000</td>\n",
              "      <td>5.00000</td>\n",
              "      <td>38.000000</td>\n",
              "      <td>33.000000</td>\n",
              "      <td>52.000000</td>\n",
              "      <td>34.000000</td>\n",
              "      <td>31.000000</td>\n",
              "      <td>11.00000</td>\n",
              "      <td>...</td>\n",
              "      <td>36.000000</td>\n",
              "      <td>17.000000</td>\n",
              "      <td>45.000000</td>\n",
              "      <td>34.00000</td>\n",
              "      <td>43.000000</td>\n",
              "      <td>52.000000</td>\n",
              "      <td>26.00000</td>\n",
              "      <td>26.000000</td>\n",
              "      <td>18.000000</td>\n",
              "      <td>6.000000</td>\n",
              "      <td>52.000000</td>\n",
              "      <td>11.000000</td>\n",
              "      <td>52.000000</td>\n",
              "      <td>14.000000</td>\n",
              "      <td>37.000000</td>\n",
              "      <td>12.000000</td>\n",
              "      <td>35.000000</td>\n",
              "      <td>11.000000</td>\n",
              "      <td>17.000000</td>\n",
              "      <td>20.000000</td>\n",
              "      <td>32.000000</td>\n",
              "      <td>17.000000</td>\n",
              "      <td>42.000000</td>\n",
              "      <td>48.000000</td>\n",
              "      <td>13.000000</td>\n",
              "      <td>17.000000</td>\n",
              "      <td>42.000000</td>\n",
              "      <td>25.000000</td>\n",
              "      <td>43.000000</td>\n",
              "      <td>32.000000</td>\n",
              "      <td>49.000000</td>\n",
              "      <td>13.000000</td>\n",
              "      <td>52.000000</td>\n",
              "      <td>37.000000</td>\n",
              "      <td>35.000000</td>\n",
              "      <td>23.000000</td>\n",
              "      <td>27.000000</td>\n",
              "      <td>10.000000</td>\n",
              "      <td>40.000000</td>\n",
              "      <td>42.000000</td>\n",
              "    </tr>\n",
              "    <tr>\n",
              "      <th>total_rooms</th>\n",
              "      <td>3885.000000</td>\n",
              "      <td>1510.000000</td>\n",
              "      <td>3589.000000</td>\n",
              "      <td>67.00000</td>\n",
              "      <td>1241.000000</td>\n",
              "      <td>1018.000000</td>\n",
              "      <td>1009.000000</td>\n",
              "      <td>2310.000000</td>\n",
              "      <td>3080.000000</td>\n",
              "      <td>2402.000000</td>\n",
              "      <td>972.00000</td>\n",
              "      <td>736.000000</td>\n",
              "      <td>1089.000000</td>\n",
              "      <td>3936.000000</td>\n",
              "      <td>2097.000000</td>\n",
              "      <td>161.000000</td>\n",
              "      <td>570.000000</td>\n",
              "      <td>3077.000000</td>\n",
              "      <td>1590.000000</td>\n",
              "      <td>8814.000000</td>\n",
              "      <td>1445.000000</td>\n",
              "      <td>1775.000000</td>\n",
              "      <td>2994.00000</td>\n",
              "      <td>2021.000000</td>\n",
              "      <td>6131.000000</td>\n",
              "      <td>1401.000000</td>\n",
              "      <td>3587.000000</td>\n",
              "      <td>2612.00000</td>\n",
              "      <td>4845.000000</td>\n",
              "      <td>3078.000000</td>\n",
              "      <td>1195.000000</td>\n",
              "      <td>1617.000000</td>\n",
              "      <td>3442.000000</td>\n",
              "      <td>16181.00000</td>\n",
              "      <td>1067.000000</td>\n",
              "      <td>2886.000000</td>\n",
              "      <td>1560.000000</td>\n",
              "      <td>1478.000000</td>\n",
              "      <td>894.000000</td>\n",
              "      <td>5785.00000</td>\n",
              "      <td>...</td>\n",
              "      <td>1496.000000</td>\n",
              "      <td>1827.000000</td>\n",
              "      <td>1423.000000</td>\n",
              "      <td>3486.00000</td>\n",
              "      <td>1113.000000</td>\n",
              "      <td>2711.000000</td>\n",
              "      <td>3563.00000</td>\n",
              "      <td>1962.000000</td>\n",
              "      <td>6171.000000</td>\n",
              "      <td>7430.000000</td>\n",
              "      <td>2241.000000</td>\n",
              "      <td>8997.000000</td>\n",
              "      <td>2667.000000</td>\n",
              "      <td>4042.000000</td>\n",
              "      <td>2356.000000</td>\n",
              "      <td>3098.000000</td>\n",
              "      <td>1692.000000</td>\n",
              "      <td>3626.000000</td>\n",
              "      <td>2761.000000</td>\n",
              "      <td>4327.000000</td>\n",
              "      <td>2463.000000</td>\n",
              "      <td>4422.000000</td>\n",
              "      <td>1618.000000</td>\n",
              "      <td>2491.000000</td>\n",
              "      <td>3239.000000</td>\n",
              "      <td>1368.000000</td>\n",
              "      <td>819.000000</td>\n",
              "      <td>4096.000000</td>\n",
              "      <td>2162.000000</td>\n",
              "      <td>1295.000000</td>\n",
              "      <td>1638.000000</td>\n",
              "      <td>4867.000000</td>\n",
              "      <td>573.000000</td>\n",
              "      <td>2088.000000</td>\n",
              "      <td>931.000000</td>\n",
              "      <td>1450.000000</td>\n",
              "      <td>5257.000000</td>\n",
              "      <td>956.000000</td>\n",
              "      <td>96.000000</td>\n",
              "      <td>1765.000000</td>\n",
              "    </tr>\n",
              "    <tr>\n",
              "      <th>total_bedrooms</th>\n",
              "      <td>661.000000</td>\n",
              "      <td>200.000000</td>\n",
              "      <td>507.000000</td>\n",
              "      <td>15.00000</td>\n",
              "      <td>244.000000</td>\n",
              "      <td>213.000000</td>\n",
              "      <td>225.000000</td>\n",
              "      <td>471.000000</td>\n",
              "      <td>617.000000</td>\n",
              "      <td>632.000000</td>\n",
              "      <td>249.00000</td>\n",
              "      <td>166.000000</td>\n",
              "      <td>182.000000</td>\n",
              "      <td>694.000000</td>\n",
              "      <td>325.000000</td>\n",
              "      <td>40.000000</td>\n",
              "      <td>123.000000</td>\n",
              "      <td>607.000000</td>\n",
              "      <td>196.000000</td>\n",
              "      <td>1307.000000</td>\n",
              "      <td>256.000000</td>\n",
              "      <td>296.000000</td>\n",
              "      <td>543.00000</td>\n",
              "      <td>528.000000</td>\n",
              "      <td>1040.000000</td>\n",
              "      <td>218.000000</td>\n",
              "      <td>1030.000000</td>\n",
              "      <td>418.00000</td>\n",
              "      <td>1609.000000</td>\n",
              "      <td>954.000000</td>\n",
              "      <td>220.000000</td>\n",
              "      <td>493.000000</td>\n",
              "      <td>705.000000</td>\n",
              "      <td>2971.00000</td>\n",
              "      <td>170.000000</td>\n",
              "      <td>726.000000</td>\n",
              "      <td>451.000000</td>\n",
              "      <td>251.000000</td>\n",
              "      <td>203.000000</td>\n",
              "      <td>1035.00000</td>\n",
              "      <td>...</td>\n",
              "      <td>247.000000</td>\n",
              "      <td>348.000000</td>\n",
              "      <td>278.000000</td>\n",
              "      <td>507.00000</td>\n",
              "      <td>378.000000</td>\n",
              "      <td>591.000000</td>\n",
              "      <td>579.00000</td>\n",
              "      <td>540.000000</td>\n",
              "      <td>1490.000000</td>\n",
              "      <td>1184.000000</td>\n",
              "      <td>443.000000</td>\n",
              "      <td>1698.000000</td>\n",
              "      <td>486.000000</td>\n",
              "      <td>1298.000000</td>\n",
              "      <td>476.000000</td>\n",
              "      <td>453.000000</td>\n",
              "      <td>423.000000</td>\n",
              "      <td>779.000000</td>\n",
              "      <td>501.000000</td>\n",
              "      <td>1037.000000</td>\n",
              "      <td>468.000000</td>\n",
              "      <td>945.000000</td>\n",
              "      <td>522.000000</td>\n",
              "      <td>460.000000</td>\n",
              "      <td>849.000000</td>\n",
              "      <td>308.000000</td>\n",
              "      <td>233.000000</td>\n",
              "      <td>743.000000</td>\n",
              "      <td>509.000000</td>\n",
              "      <td>295.000000</td>\n",
              "      <td>456.000000</td>\n",
              "      <td>718.000000</td>\n",
              "      <td>102.000000</td>\n",
              "      <td>510.000000</td>\n",
              "      <td>181.000000</td>\n",
              "      <td>642.000000</td>\n",
              "      <td>1082.000000</td>\n",
              "      <td>201.000000</td>\n",
              "      <td>14.000000</td>\n",
              "      <td>263.000000</td>\n",
              "    </tr>\n",
              "    <tr>\n",
              "      <th>population</th>\n",
              "      <td>1537.000000</td>\n",
              "      <td>809.000000</td>\n",
              "      <td>1484.000000</td>\n",
              "      <td>49.00000</td>\n",
              "      <td>850.000000</td>\n",
              "      <td>663.000000</td>\n",
              "      <td>604.000000</td>\n",
              "      <td>1341.000000</td>\n",
              "      <td>1446.000000</td>\n",
              "      <td>2830.000000</td>\n",
              "      <td>1288.00000</td>\n",
              "      <td>564.000000</td>\n",
              "      <td>535.000000</td>\n",
              "      <td>1935.000000</td>\n",
              "      <td>1217.000000</td>\n",
              "      <td>157.000000</td>\n",
              "      <td>189.000000</td>\n",
              "      <td>1603.000000</td>\n",
              "      <td>654.000000</td>\n",
              "      <td>3450.000000</td>\n",
              "      <td>849.000000</td>\n",
              "      <td>937.000000</td>\n",
              "      <td>1651.00000</td>\n",
              "      <td>1410.000000</td>\n",
              "      <td>4049.000000</td>\n",
              "      <td>667.000000</td>\n",
              "      <td>2259.000000</td>\n",
              "      <td>1030.00000</td>\n",
              "      <td>3751.000000</td>\n",
              "      <td>1561.000000</td>\n",
              "      <td>568.000000</td>\n",
              "      <td>1530.000000</td>\n",
              "      <td>1693.000000</td>\n",
              "      <td>8152.00000</td>\n",
              "      <td>499.000000</td>\n",
              "      <td>2650.000000</td>\n",
              "      <td>700.000000</td>\n",
              "      <td>956.000000</td>\n",
              "      <td>883.000000</td>\n",
              "      <td>2760.00000</td>\n",
              "      <td>...</td>\n",
              "      <td>441.000000</td>\n",
              "      <td>766.000000</td>\n",
              "      <td>822.000000</td>\n",
              "      <td>1311.00000</td>\n",
              "      <td>1305.000000</td>\n",
              "      <td>1848.000000</td>\n",
              "      <td>1479.00000</td>\n",
              "      <td>1236.000000</td>\n",
              "      <td>2164.000000</td>\n",
              "      <td>3489.000000</td>\n",
              "      <td>1042.000000</td>\n",
              "      <td>1825.000000</td>\n",
              "      <td>1681.000000</td>\n",
              "      <td>2323.000000</td>\n",
              "      <td>1231.000000</td>\n",
              "      <td>1433.000000</td>\n",
              "      <td>1578.000000</td>\n",
              "      <td>1819.000000</td>\n",
              "      <td>1128.000000</td>\n",
              "      <td>2296.000000</td>\n",
              "      <td>1261.000000</td>\n",
              "      <td>2307.000000</td>\n",
              "      <td>1454.000000</td>\n",
              "      <td>937.000000</td>\n",
              "      <td>2751.000000</td>\n",
              "      <td>642.000000</td>\n",
              "      <td>899.000000</td>\n",
              "      <td>2027.000000</td>\n",
              "      <td>1208.000000</td>\n",
              "      <td>1097.000000</td>\n",
              "      <td>1500.000000</td>\n",
              "      <td>780.000000</td>\n",
              "      <td>232.000000</td>\n",
              "      <td>673.000000</td>\n",
              "      <td>516.000000</td>\n",
              "      <td>1258.000000</td>\n",
              "      <td>3496.000000</td>\n",
              "      <td>693.000000</td>\n",
              "      <td>46.000000</td>\n",
              "      <td>753.000000</td>\n",
              "    </tr>\n",
              "    <tr>\n",
              "      <th>households</th>\n",
              "      <td>606.000000</td>\n",
              "      <td>277.000000</td>\n",
              "      <td>495.000000</td>\n",
              "      <td>11.00000</td>\n",
              "      <td>237.000000</td>\n",
              "      <td>204.000000</td>\n",
              "      <td>218.000000</td>\n",
              "      <td>441.000000</td>\n",
              "      <td>599.000000</td>\n",
              "      <td>603.000000</td>\n",
              "      <td>261.00000</td>\n",
              "      <td>138.000000</td>\n",
              "      <td>170.000000</td>\n",
              "      <td>659.000000</td>\n",
              "      <td>331.000000</td>\n",
              "      <td>50.000000</td>\n",
              "      <td>107.000000</td>\n",
              "      <td>595.000000</td>\n",
              "      <td>199.000000</td>\n",
              "      <td>1258.000000</td>\n",
              "      <td>255.000000</td>\n",
              "      <td>305.000000</td>\n",
              "      <td>561.00000</td>\n",
              "      <td>480.000000</td>\n",
              "      <td>940.000000</td>\n",
              "      <td>225.000000</td>\n",
              "      <td>979.000000</td>\n",
              "      <td>402.00000</td>\n",
              "      <td>1539.000000</td>\n",
              "      <td>901.000000</td>\n",
              "      <td>229.000000</td>\n",
              "      <td>500.000000</td>\n",
              "      <td>619.000000</td>\n",
              "      <td>2651.00000</td>\n",
              "      <td>169.000000</td>\n",
              "      <td>728.000000</td>\n",
              "      <td>419.000000</td>\n",
              "      <td>277.000000</td>\n",
              "      <td>190.000000</td>\n",
              "      <td>985.00000</td>\n",
              "      <td>...</td>\n",
              "      <td>203.000000</td>\n",
              "      <td>335.000000</td>\n",
              "      <td>276.000000</td>\n",
              "      <td>503.00000</td>\n",
              "      <td>334.000000</td>\n",
              "      <td>524.000000</td>\n",
              "      <td>575.00000</td>\n",
              "      <td>520.000000</td>\n",
              "      <td>1210.000000</td>\n",
              "      <td>1115.000000</td>\n",
              "      <td>377.000000</td>\n",
              "      <td>756.000000</td>\n",
              "      <td>504.000000</td>\n",
              "      <td>1158.000000</td>\n",
              "      <td>499.000000</td>\n",
              "      <td>434.000000</td>\n",
              "      <td>406.000000</td>\n",
              "      <td>731.000000</td>\n",
              "      <td>482.000000</td>\n",
              "      <td>963.000000</td>\n",
              "      <td>486.000000</td>\n",
              "      <td>885.000000</td>\n",
              "      <td>440.000000</td>\n",
              "      <td>455.000000</td>\n",
              "      <td>813.000000</td>\n",
              "      <td>303.000000</td>\n",
              "      <td>228.000000</td>\n",
              "      <td>741.000000</td>\n",
              "      <td>464.000000</td>\n",
              "      <td>328.000000</td>\n",
              "      <td>430.000000</td>\n",
              "      <td>250.000000</td>\n",
              "      <td>92.000000</td>\n",
              "      <td>390.000000</td>\n",
              "      <td>174.000000</td>\n",
              "      <td>607.000000</td>\n",
              "      <td>1036.000000</td>\n",
              "      <td>220.000000</td>\n",
              "      <td>14.000000</td>\n",
              "      <td>260.000000</td>\n",
              "    </tr>\n",
              "    <tr>\n",
              "      <th>median_income</th>\n",
              "      <td>6.608500</td>\n",
              "      <td>3.599000</td>\n",
              "      <td>5.793400</td>\n",
              "      <td>6.13590</td>\n",
              "      <td>2.937500</td>\n",
              "      <td>1.663500</td>\n",
              "      <td>1.664100</td>\n",
              "      <td>3.225000</td>\n",
              "      <td>3.669600</td>\n",
              "      <td>2.333300</td>\n",
              "      <td>2.20540</td>\n",
              "      <td>2.416700</td>\n",
              "      <td>4.690000</td>\n",
              "      <td>4.562500</td>\n",
              "      <td>5.712100</td>\n",
              "      <td>2.200000</td>\n",
              "      <td>1.875000</td>\n",
              "      <td>2.717400</td>\n",
              "      <td>6.585100</td>\n",
              "      <td>6.172400</td>\n",
              "      <td>3.891300</td>\n",
              "      <td>3.178600</td>\n",
              "      <td>3.86440</td>\n",
              "      <td>2.778800</td>\n",
              "      <td>3.815600</td>\n",
              "      <td>7.161500</td>\n",
              "      <td>2.540300</td>\n",
              "      <td>6.60300</td>\n",
              "      <td>1.583000</td>\n",
              "      <td>3.485200</td>\n",
              "      <td>3.148600</td>\n",
              "      <td>2.618200</td>\n",
              "      <td>2.810200</td>\n",
              "      <td>4.52370</td>\n",
              "      <td>4.638900</td>\n",
              "      <td>2.625000</td>\n",
              "      <td>2.512500</td>\n",
              "      <td>5.523800</td>\n",
              "      <td>3.677100</td>\n",
              "      <td>4.69300</td>\n",
              "      <td>...</td>\n",
              "      <td>7.816400</td>\n",
              "      <td>3.567300</td>\n",
              "      <td>2.451900</td>\n",
              "      <td>7.12210</td>\n",
              "      <td>1.143400</td>\n",
              "      <td>3.956700</td>\n",
              "      <td>5.95220</td>\n",
              "      <td>2.215600</td>\n",
              "      <td>3.687500</td>\n",
              "      <td>5.326700</td>\n",
              "      <td>4.163500</td>\n",
              "      <td>3.230000</td>\n",
              "      <td>4.052400</td>\n",
              "      <td>2.065100</td>\n",
              "      <td>2.965000</td>\n",
              "      <td>5.250800</td>\n",
              "      <td>2.531300</td>\n",
              "      <td>2.495600</td>\n",
              "      <td>3.756200</td>\n",
              "      <td>3.044100</td>\n",
              "      <td>3.328100</td>\n",
              "      <td>2.828500</td>\n",
              "      <td>3.160700</td>\n",
              "      <td>4.437500</td>\n",
              "      <td>2.611100</td>\n",
              "      <td>1.863300</td>\n",
              "      <td>1.134600</td>\n",
              "      <td>5.329400</td>\n",
              "      <td>2.541700</td>\n",
              "      <td>3.238600</td>\n",
              "      <td>2.692300</td>\n",
              "      <td>7.199700</td>\n",
              "      <td>6.226300</td>\n",
              "      <td>5.104800</td>\n",
              "      <td>5.586700</td>\n",
              "      <td>1.179000</td>\n",
              "      <td>3.390600</td>\n",
              "      <td>2.289500</td>\n",
              "      <td>3.270800</td>\n",
              "      <td>8.560800</td>\n",
              "    </tr>\n",
              "    <tr>\n",
              "      <th>median_house_value</th>\n",
              "      <td>344700.000000</td>\n",
              "      <td>176500.000000</td>\n",
              "      <td>270500.000000</td>\n",
              "      <td>330000.00000</td>\n",
              "      <td>81700.000000</td>\n",
              "      <td>67000.000000</td>\n",
              "      <td>67000.000000</td>\n",
              "      <td>166900.000000</td>\n",
              "      <td>194400.000000</td>\n",
              "      <td>164200.000000</td>\n",
              "      <td>125000.00000</td>\n",
              "      <td>58300.000000</td>\n",
              "      <td>252600.000000</td>\n",
              "      <td>231200.000000</td>\n",
              "      <td>222500.000000</td>\n",
              "      <td>153100.000000</td>\n",
              "      <td>181300.000000</td>\n",
              "      <td>137500.000000</td>\n",
              "      <td>300000.000000</td>\n",
              "      <td>414300.000000</td>\n",
              "      <td>126300.000000</td>\n",
              "      <td>83400.000000</td>\n",
              "      <td>241500.00000</td>\n",
              "      <td>115400.000000</td>\n",
              "      <td>150700.000000</td>\n",
              "      <td>484700.000000</td>\n",
              "      <td>250000.000000</td>\n",
              "      <td>369200.00000</td>\n",
              "      <td>350000.000000</td>\n",
              "      <td>425000.000000</td>\n",
              "      <td>105600.000000</td>\n",
              "      <td>172600.000000</td>\n",
              "      <td>128900.000000</td>\n",
              "      <td>141800.00000</td>\n",
              "      <td>183800.000000</td>\n",
              "      <td>178700.000000</td>\n",
              "      <td>270800.000000</td>\n",
              "      <td>185300.000000</td>\n",
              "      <td>141500.000000</td>\n",
              "      <td>232200.00000</td>\n",
              "      <td>...</td>\n",
              "      <td>500001.000000</td>\n",
              "      <td>136300.000000</td>\n",
              "      <td>98100.000000</td>\n",
              "      <td>384500.00000</td>\n",
              "      <td>91300.000000</td>\n",
              "      <td>251500.000000</td>\n",
              "      <td>438400.00000</td>\n",
              "      <td>145000.000000</td>\n",
              "      <td>500001.000000</td>\n",
              "      <td>140100.000000</td>\n",
              "      <td>398400.000000</td>\n",
              "      <td>154300.000000</td>\n",
              "      <td>173100.000000</td>\n",
              "      <td>135400.000000</td>\n",
              "      <td>155700.000000</td>\n",
              "      <td>292900.000000</td>\n",
              "      <td>305800.000000</td>\n",
              "      <td>87500.000000</td>\n",
              "      <td>139700.000000</td>\n",
              "      <td>185400.000000</td>\n",
              "      <td>75100.000000</td>\n",
              "      <td>171300.000000</td>\n",
              "      <td>182000.000000</td>\n",
              "      <td>370000.000000</td>\n",
              "      <td>107000.000000</td>\n",
              "      <td>109400.000000</td>\n",
              "      <td>85400.000000</td>\n",
              "      <td>300300.000000</td>\n",
              "      <td>260900.000000</td>\n",
              "      <td>149600.000000</td>\n",
              "      <td>150000.000000</td>\n",
              "      <td>253800.000000</td>\n",
              "      <td>500001.000000</td>\n",
              "      <td>500001.000000</td>\n",
              "      <td>182500.000000</td>\n",
              "      <td>225000.000000</td>\n",
              "      <td>237200.000000</td>\n",
              "      <td>62000.000000</td>\n",
              "      <td>162500.000000</td>\n",
              "      <td>500001.000000</td>\n",
              "    </tr>\n",
              "    <tr>\n",
              "      <th>random</th>\n",
              "      <td>-0.160436</td>\n",
              "      <td>0.678597</td>\n",
              "      <td>0.152683</td>\n",
              "      <td>-0.01395</td>\n",
              "      <td>-0.988726</td>\n",
              "      <td>0.421445</td>\n",
              "      <td>-0.773653</td>\n",
              "      <td>-0.068166</td>\n",
              "      <td>0.538602</td>\n",
              "      <td>0.730509</td>\n",
              "      <td>0.46861</td>\n",
              "      <td>0.010428</td>\n",
              "      <td>-0.846859</td>\n",
              "      <td>0.050797</td>\n",
              "      <td>0.024838</td>\n",
              "      <td>-0.038523</td>\n",
              "      <td>0.754995</td>\n",
              "      <td>-0.375263</td>\n",
              "      <td>-2.555436</td>\n",
              "      <td>2.037763</td>\n",
              "      <td>0.815655</td>\n",
              "      <td>0.449465</td>\n",
              "      <td>-0.32531</td>\n",
              "      <td>-0.483326</td>\n",
              "      <td>1.106254</td>\n",
              "      <td>-2.425521</td>\n",
              "      <td>-0.334876</td>\n",
              "      <td>-0.78725</td>\n",
              "      <td>-0.713185</td>\n",
              "      <td>1.288571</td>\n",
              "      <td>0.723062</td>\n",
              "      <td>-0.503604</td>\n",
              "      <td>0.018825</td>\n",
              "      <td>0.83253</td>\n",
              "      <td>0.466593</td>\n",
              "      <td>0.293709</td>\n",
              "      <td>1.876091</td>\n",
              "      <td>-0.182784</td>\n",
              "      <td>1.153896</td>\n",
              "      <td>0.50789</td>\n",
              "      <td>...</td>\n",
              "      <td>-1.751628</td>\n",
              "      <td>-1.298225</td>\n",
              "      <td>0.348829</td>\n",
              "      <td>1.01791</td>\n",
              "      <td>1.123259</td>\n",
              "      <td>1.176761</td>\n",
              "      <td>-0.40658</td>\n",
              "      <td>1.288787</td>\n",
              "      <td>0.277311</td>\n",
              "      <td>-0.325795</td>\n",
              "      <td>1.231386</td>\n",
              "      <td>-0.694757</td>\n",
              "      <td>0.629687</td>\n",
              "      <td>0.301618</td>\n",
              "      <td>0.563069</td>\n",
              "      <td>-0.000109</td>\n",
              "      <td>1.065592</td>\n",
              "      <td>-0.765116</td>\n",
              "      <td>-0.497445</td>\n",
              "      <td>-0.705716</td>\n",
              "      <td>0.478683</td>\n",
              "      <td>0.768763</td>\n",
              "      <td>1.508932</td>\n",
              "      <td>-0.045865</td>\n",
              "      <td>-0.982809</td>\n",
              "      <td>0.922151</td>\n",
              "      <td>0.267102</td>\n",
              "      <td>-0.681835</td>\n",
              "      <td>1.095784</td>\n",
              "      <td>-1.005363</td>\n",
              "      <td>0.209908</td>\n",
              "      <td>-0.195698</td>\n",
              "      <td>0.149127</td>\n",
              "      <td>2.064728</td>\n",
              "      <td>-0.778068</td>\n",
              "      <td>1.212056</td>\n",
              "      <td>1.731682</td>\n",
              "      <td>0.959838</td>\n",
              "      <td>0.890985</td>\n",
              "      <td>-0.370769</td>\n",
              "    </tr>\n",
              "  </tbody>\n",
              "</table>\n",
              "<p>10 rows × 3000 columns</p>\n",
              "</div>"
            ],
            "text/plain": [
              "                             0              1     ...           2998           2999\n",
              "longitude             -122.050000    -118.300000  ...    -117.120000    -119.630000\n",
              "latitude                37.370000      34.260000  ...      34.100000      34.420000\n",
              "housing_median_age      27.000000      43.000000  ...      40.000000      42.000000\n",
              "total_rooms           3885.000000    1510.000000  ...      96.000000    1765.000000\n",
              "total_bedrooms         661.000000     200.000000  ...      14.000000     263.000000\n",
              "population            1537.000000     809.000000  ...      46.000000     753.000000\n",
              "households             606.000000     277.000000  ...      14.000000     260.000000\n",
              "median_income            6.608500       3.599000  ...       3.270800       8.560800\n",
              "median_house_value  344700.000000  176500.000000  ...  162500.000000  500001.000000\n",
              "random                  -0.160436       0.678597  ...       0.890985      -0.370769\n",
              "\n",
              "[10 rows x 3000 columns]"
            ]
          },
          "metadata": {
            "tags": []
          },
          "execution_count": 45
        }
      ]
    },
    {
      "cell_type": "markdown",
      "metadata": {
        "id": "7jTK7OIILPGv"
      },
      "source": [
        "## df.axes\n",
        "\n",
        "Retorna información sobre los axes que componen al objeto:\n"
      ]
    },
    {
      "cell_type": "code",
      "metadata": {
        "id": "DFBm4zEvLezZ",
        "colab": {
          "base_uri": "https://localhost:8080/",
          "height": 151
        },
        "outputId": "396c377a-f2d1-4c89-89d3-a347a8704225"
      },
      "source": [
        "cali_housing.axes"
      ],
      "execution_count": null,
      "outputs": [
        {
          "output_type": "execute_result",
          "data": {
            "text/plain": [
              "[Int64Index([   0,    1,    2,    3,    4,    5,    6,    7,    8,    9,\n",
              "             ...\n",
              "             2990, 2991, 2992, 2993, 2994, 2995, 2996, 2997, 2998, 2999],\n",
              "            dtype='int64', length=3000),\n",
              " Index(['longitude', 'latitude', 'housing_median_age', 'total_rooms',\n",
              "        'total_bedrooms', 'population', 'households', 'median_income',\n",
              "        'median_house_value', 'random'],\n",
              "       dtype='object')]"
            ]
          },
          "metadata": {
            "tags": []
          },
          "execution_count": 47
        }
      ]
    },
    {
      "cell_type": "markdown",
      "metadata": {
        "id": "yWLJ_QrBLPNg"
      },
      "source": [
        "## df.dtypes\n",
        "\n",
        "Retorna los tipos de datos utilizados por el objeto:"
      ]
    },
    {
      "cell_type": "code",
      "metadata": {
        "id": "VmixPgzyLw2s",
        "colab": {
          "base_uri": "https://localhost:8080/",
          "height": 202
        },
        "outputId": "faadfcae-a426-45f8-f5d1-31c5742b0ffa"
      },
      "source": [
        "cali_housing.dtypes"
      ],
      "execution_count": null,
      "outputs": [
        {
          "output_type": "execute_result",
          "data": {
            "text/plain": [
              "longitude             float64\n",
              "latitude              float64\n",
              "housing_median_age      int64\n",
              "total_rooms             int64\n",
              "total_bedrooms          int64\n",
              "population              int64\n",
              "households              int64\n",
              "median_income         float64\n",
              "median_house_value      int64\n",
              "random                float64\n",
              "dtype: object"
            ]
          },
          "metadata": {
            "tags": []
          },
          "execution_count": 48
        }
      ]
    },
    {
      "cell_type": "markdown",
      "metadata": {
        "id": "UM0jUGlRLUIi"
      },
      "source": [
        "## df.shape\n",
        "\n",
        "La forma del objeto (número de filas y columnas en un DataFrame):"
      ]
    },
    {
      "cell_type": "code",
      "metadata": {
        "id": "W8GN4lewL48N",
        "colab": {
          "base_uri": "https://localhost:8080/",
          "height": 34
        },
        "outputId": "a1549bdf-83ea-4f6b-9c02-278d7e80c3ed"
      },
      "source": [
        "cali_housing.shape"
      ],
      "execution_count": null,
      "outputs": [
        {
          "output_type": "execute_result",
          "data": {
            "text/plain": [
              "(3000, 10)"
            ]
          },
          "metadata": {
            "tags": []
          },
          "execution_count": 49
        }
      ]
    },
    {
      "cell_type": "markdown",
      "metadata": {
        "id": "FfWUXPnoLUM0"
      },
      "source": [
        "## df.size\n",
        "\n",
        "El número de elementos en el objeto (número de celdas en un DataFrame):"
      ]
    },
    {
      "cell_type": "code",
      "metadata": {
        "id": "g094BaXSL73J",
        "colab": {
          "base_uri": "https://localhost:8080/",
          "height": 34
        },
        "outputId": "ae415bcb-4804-45e9-b9b4-3517f0d6aede"
      },
      "source": [
        "cali_housing.size"
      ],
      "execution_count": null,
      "outputs": [
        {
          "output_type": "execute_result",
          "data": {
            "text/plain": [
              "30000"
            ]
          },
          "metadata": {
            "tags": []
          },
          "execution_count": 50
        }
      ]
    },
    {
      "cell_type": "markdown",
      "metadata": {
        "id": "W3JaXU6jLcnB"
      },
      "source": [
        "## df.values\n",
        "\n",
        "Retorna el objeto de Pandas como un arreglo de Numpy:"
      ]
    },
    {
      "cell_type": "code",
      "metadata": {
        "id": "zkLZjQPnL-Vo",
        "colab": {
          "base_uri": "https://localhost:8080/",
          "height": 118
        },
        "outputId": "74ab9429-7030-4bc7-99ae-4722a47ba3b6"
      },
      "source": [
        "df.values"
      ],
      "execution_count": null,
      "outputs": [
        {
          "output_type": "execute_result",
          "data": {
            "text/plain": [
              "array([[-1.95987443, -0.7130089 ,  0.80605889, -0.66298884],\n",
              "       [-0.40915446, -0.64048059, -1.4139337 , -0.28423197],\n",
              "       [ 0.21255984,  0.2558213 ,  0.62693588,  1.1698601 ],\n",
              "       [ 1.44562043,  0.80940111,  0.81612901,  0.6714292 ],\n",
              "       [-0.37913344, -0.26129881,  0.03435447,  1.32562083],\n",
              "       [ 0.96315875, -1.30140919, -1.23605117,  0.46455795]])"
            ]
          },
          "metadata": {
            "tags": []
          },
          "execution_count": 51
        }
      ]
    },
    {
      "cell_type": "markdown",
      "metadata": {
        "id": "xhUkS2LaQgJb"
      },
      "source": [
        "# Eliminación\n"
      ]
    },
    {
      "cell_type": "markdown",
      "metadata": {
        "id": "RQqR-sPNRM-t"
      },
      "source": [
        "## Remover filas o columnas con df.drop()\n",
        "\n",
        "El método drop() permite eliminar filas o columnas al especificar el axis correspondiente, puedes eliminar más de una usando una lista como parámetro:"
      ]
    },
    {
      "cell_type": "code",
      "metadata": {
        "id": "9P80knKTRNLQ",
        "colab": {
          "base_uri": "https://localhost:8080/",
          "height": 422
        },
        "outputId": "c22f4355-4727-4c24-b129-e9162800d7db"
      },
      "source": [
        "#primero agregamos dos nuevas columnas\n",
        "cali_housing[\"temp\"] = \"temp\"\n",
        "cali_housing[\"temp2\"] = cali_housing[\"temp\"] + \"2\"\n",
        "cali_housing"
      ],
      "execution_count": null,
      "outputs": [
        {
          "output_type": "execute_result",
          "data": {
            "text/html": [
              "<div>\n",
              "<style scoped>\n",
              "    .dataframe tbody tr th:only-of-type {\n",
              "        vertical-align: middle;\n",
              "    }\n",
              "\n",
              "    .dataframe tbody tr th {\n",
              "        vertical-align: top;\n",
              "    }\n",
              "\n",
              "    .dataframe thead th {\n",
              "        text-align: right;\n",
              "    }\n",
              "</style>\n",
              "<table border=\"1\" class=\"dataframe\">\n",
              "  <thead>\n",
              "    <tr style=\"text-align: right;\">\n",
              "      <th></th>\n",
              "      <th>longitude</th>\n",
              "      <th>latitude</th>\n",
              "      <th>housing_median_age</th>\n",
              "      <th>total_rooms</th>\n",
              "      <th>total_bedrooms</th>\n",
              "      <th>population</th>\n",
              "      <th>households</th>\n",
              "      <th>median_income</th>\n",
              "      <th>median_house_value</th>\n",
              "      <th>random</th>\n",
              "      <th>temp</th>\n",
              "      <th>temp2</th>\n",
              "    </tr>\n",
              "  </thead>\n",
              "  <tbody>\n",
              "    <tr>\n",
              "      <th>0</th>\n",
              "      <td>-122.05</td>\n",
              "      <td>37.37</td>\n",
              "      <td>27</td>\n",
              "      <td>3885</td>\n",
              "      <td>661</td>\n",
              "      <td>1537</td>\n",
              "      <td>606</td>\n",
              "      <td>6.6085</td>\n",
              "      <td>344700</td>\n",
              "      <td>-0.160436</td>\n",
              "      <td>temp</td>\n",
              "      <td>temp2</td>\n",
              "    </tr>\n",
              "    <tr>\n",
              "      <th>1</th>\n",
              "      <td>-118.30</td>\n",
              "      <td>34.26</td>\n",
              "      <td>43</td>\n",
              "      <td>1510</td>\n",
              "      <td>200</td>\n",
              "      <td>809</td>\n",
              "      <td>277</td>\n",
              "      <td>3.5990</td>\n",
              "      <td>176500</td>\n",
              "      <td>0.678597</td>\n",
              "      <td>temp</td>\n",
              "      <td>temp2</td>\n",
              "    </tr>\n",
              "    <tr>\n",
              "      <th>2</th>\n",
              "      <td>-117.81</td>\n",
              "      <td>33.78</td>\n",
              "      <td>27</td>\n",
              "      <td>3589</td>\n",
              "      <td>507</td>\n",
              "      <td>1484</td>\n",
              "      <td>495</td>\n",
              "      <td>5.7934</td>\n",
              "      <td>270500</td>\n",
              "      <td>0.152683</td>\n",
              "      <td>temp</td>\n",
              "      <td>temp2</td>\n",
              "    </tr>\n",
              "    <tr>\n",
              "      <th>3</th>\n",
              "      <td>-118.36</td>\n",
              "      <td>33.82</td>\n",
              "      <td>28</td>\n",
              "      <td>67</td>\n",
              "      <td>15</td>\n",
              "      <td>49</td>\n",
              "      <td>11</td>\n",
              "      <td>6.1359</td>\n",
              "      <td>330000</td>\n",
              "      <td>-0.013950</td>\n",
              "      <td>temp</td>\n",
              "      <td>temp2</td>\n",
              "    </tr>\n",
              "    <tr>\n",
              "      <th>4</th>\n",
              "      <td>-119.67</td>\n",
              "      <td>36.33</td>\n",
              "      <td>19</td>\n",
              "      <td>1241</td>\n",
              "      <td>244</td>\n",
              "      <td>850</td>\n",
              "      <td>237</td>\n",
              "      <td>2.9375</td>\n",
              "      <td>81700</td>\n",
              "      <td>-0.988726</td>\n",
              "      <td>temp</td>\n",
              "      <td>temp2</td>\n",
              "    </tr>\n",
              "    <tr>\n",
              "      <th>...</th>\n",
              "      <td>...</td>\n",
              "      <td>...</td>\n",
              "      <td>...</td>\n",
              "      <td>...</td>\n",
              "      <td>...</td>\n",
              "      <td>...</td>\n",
              "      <td>...</td>\n",
              "      <td>...</td>\n",
              "      <td>...</td>\n",
              "      <td>...</td>\n",
              "      <td>...</td>\n",
              "      <td>...</td>\n",
              "    </tr>\n",
              "    <tr>\n",
              "      <th>2995</th>\n",
              "      <td>-119.86</td>\n",
              "      <td>34.42</td>\n",
              "      <td>23</td>\n",
              "      <td>1450</td>\n",
              "      <td>642</td>\n",
              "      <td>1258</td>\n",
              "      <td>607</td>\n",
              "      <td>1.1790</td>\n",
              "      <td>225000</td>\n",
              "      <td>1.212056</td>\n",
              "      <td>temp</td>\n",
              "      <td>temp2</td>\n",
              "    </tr>\n",
              "    <tr>\n",
              "      <th>2996</th>\n",
              "      <td>-118.14</td>\n",
              "      <td>34.06</td>\n",
              "      <td>27</td>\n",
              "      <td>5257</td>\n",
              "      <td>1082</td>\n",
              "      <td>3496</td>\n",
              "      <td>1036</td>\n",
              "      <td>3.3906</td>\n",
              "      <td>237200</td>\n",
              "      <td>1.731682</td>\n",
              "      <td>temp</td>\n",
              "      <td>temp2</td>\n",
              "    </tr>\n",
              "    <tr>\n",
              "      <th>2997</th>\n",
              "      <td>-119.70</td>\n",
              "      <td>36.30</td>\n",
              "      <td>10</td>\n",
              "      <td>956</td>\n",
              "      <td>201</td>\n",
              "      <td>693</td>\n",
              "      <td>220</td>\n",
              "      <td>2.2895</td>\n",
              "      <td>62000</td>\n",
              "      <td>0.959838</td>\n",
              "      <td>temp</td>\n",
              "      <td>temp2</td>\n",
              "    </tr>\n",
              "    <tr>\n",
              "      <th>2998</th>\n",
              "      <td>-117.12</td>\n",
              "      <td>34.10</td>\n",
              "      <td>40</td>\n",
              "      <td>96</td>\n",
              "      <td>14</td>\n",
              "      <td>46</td>\n",
              "      <td>14</td>\n",
              "      <td>3.2708</td>\n",
              "      <td>162500</td>\n",
              "      <td>0.890985</td>\n",
              "      <td>temp</td>\n",
              "      <td>temp2</td>\n",
              "    </tr>\n",
              "    <tr>\n",
              "      <th>2999</th>\n",
              "      <td>-119.63</td>\n",
              "      <td>34.42</td>\n",
              "      <td>42</td>\n",
              "      <td>1765</td>\n",
              "      <td>263</td>\n",
              "      <td>753</td>\n",
              "      <td>260</td>\n",
              "      <td>8.5608</td>\n",
              "      <td>500001</td>\n",
              "      <td>-0.370769</td>\n",
              "      <td>temp</td>\n",
              "      <td>temp2</td>\n",
              "    </tr>\n",
              "  </tbody>\n",
              "</table>\n",
              "<p>3000 rows × 12 columns</p>\n",
              "</div>"
            ],
            "text/plain": [
              "      longitude  latitude  housing_median_age  ...    random  temp  temp2\n",
              "0       -122.05     37.37                  27  ... -0.160436  temp  temp2\n",
              "1       -118.30     34.26                  43  ...  0.678597  temp  temp2\n",
              "2       -117.81     33.78                  27  ...  0.152683  temp  temp2\n",
              "3       -118.36     33.82                  28  ... -0.013950  temp  temp2\n",
              "4       -119.67     36.33                  19  ... -0.988726  temp  temp2\n",
              "...         ...       ...                 ...  ...       ...   ...    ...\n",
              "2995    -119.86     34.42                  23  ...  1.212056  temp  temp2\n",
              "2996    -118.14     34.06                  27  ...  1.731682  temp  temp2\n",
              "2997    -119.70     36.30                  10  ...  0.959838  temp  temp2\n",
              "2998    -117.12     34.10                  40  ...  0.890985  temp  temp2\n",
              "2999    -119.63     34.42                  42  ... -0.370769  temp  temp2\n",
              "\n",
              "[3000 rows x 12 columns]"
            ]
          },
          "metadata": {
            "tags": []
          },
          "execution_count": 52
        }
      ]
    },
    {
      "cell_type": "markdown",
      "metadata": {
        "id": "ZZ2h7ayddnQ-"
      },
      "source": [
        "Eliminar columnas con axis = 1"
      ]
    },
    {
      "cell_type": "code",
      "metadata": {
        "id": "5jwbMO9Xdnen",
        "colab": {
          "base_uri": "https://localhost:8080/",
          "height": 422
        },
        "outputId": "e8a64b06-62a5-48bc-c4ef-f63c1ef83e95"
      },
      "source": [
        "#drop devuelve un nuevo dataframe sin la columna\n",
        "df = cali_housing.drop([\"temp\", \"temp2\"], axis=1)\n",
        "df"
      ],
      "execution_count": null,
      "outputs": [
        {
          "output_type": "execute_result",
          "data": {
            "text/html": [
              "<div>\n",
              "<style scoped>\n",
              "    .dataframe tbody tr th:only-of-type {\n",
              "        vertical-align: middle;\n",
              "    }\n",
              "\n",
              "    .dataframe tbody tr th {\n",
              "        vertical-align: top;\n",
              "    }\n",
              "\n",
              "    .dataframe thead th {\n",
              "        text-align: right;\n",
              "    }\n",
              "</style>\n",
              "<table border=\"1\" class=\"dataframe\">\n",
              "  <thead>\n",
              "    <tr style=\"text-align: right;\">\n",
              "      <th></th>\n",
              "      <th>longitude</th>\n",
              "      <th>latitude</th>\n",
              "      <th>housing_median_age</th>\n",
              "      <th>total_rooms</th>\n",
              "      <th>total_bedrooms</th>\n",
              "      <th>population</th>\n",
              "      <th>households</th>\n",
              "      <th>median_income</th>\n",
              "      <th>median_house_value</th>\n",
              "      <th>random</th>\n",
              "    </tr>\n",
              "  </thead>\n",
              "  <tbody>\n",
              "    <tr>\n",
              "      <th>0</th>\n",
              "      <td>-122.05</td>\n",
              "      <td>37.37</td>\n",
              "      <td>27</td>\n",
              "      <td>3885</td>\n",
              "      <td>661</td>\n",
              "      <td>1537</td>\n",
              "      <td>606</td>\n",
              "      <td>6.6085</td>\n",
              "      <td>344700</td>\n",
              "      <td>-0.160436</td>\n",
              "    </tr>\n",
              "    <tr>\n",
              "      <th>1</th>\n",
              "      <td>-118.30</td>\n",
              "      <td>34.26</td>\n",
              "      <td>43</td>\n",
              "      <td>1510</td>\n",
              "      <td>200</td>\n",
              "      <td>809</td>\n",
              "      <td>277</td>\n",
              "      <td>3.5990</td>\n",
              "      <td>176500</td>\n",
              "      <td>0.678597</td>\n",
              "    </tr>\n",
              "    <tr>\n",
              "      <th>2</th>\n",
              "      <td>-117.81</td>\n",
              "      <td>33.78</td>\n",
              "      <td>27</td>\n",
              "      <td>3589</td>\n",
              "      <td>507</td>\n",
              "      <td>1484</td>\n",
              "      <td>495</td>\n",
              "      <td>5.7934</td>\n",
              "      <td>270500</td>\n",
              "      <td>0.152683</td>\n",
              "    </tr>\n",
              "    <tr>\n",
              "      <th>3</th>\n",
              "      <td>-118.36</td>\n",
              "      <td>33.82</td>\n",
              "      <td>28</td>\n",
              "      <td>67</td>\n",
              "      <td>15</td>\n",
              "      <td>49</td>\n",
              "      <td>11</td>\n",
              "      <td>6.1359</td>\n",
              "      <td>330000</td>\n",
              "      <td>-0.013950</td>\n",
              "    </tr>\n",
              "    <tr>\n",
              "      <th>4</th>\n",
              "      <td>-119.67</td>\n",
              "      <td>36.33</td>\n",
              "      <td>19</td>\n",
              "      <td>1241</td>\n",
              "      <td>244</td>\n",
              "      <td>850</td>\n",
              "      <td>237</td>\n",
              "      <td>2.9375</td>\n",
              "      <td>81700</td>\n",
              "      <td>-0.988726</td>\n",
              "    </tr>\n",
              "    <tr>\n",
              "      <th>...</th>\n",
              "      <td>...</td>\n",
              "      <td>...</td>\n",
              "      <td>...</td>\n",
              "      <td>...</td>\n",
              "      <td>...</td>\n",
              "      <td>...</td>\n",
              "      <td>...</td>\n",
              "      <td>...</td>\n",
              "      <td>...</td>\n",
              "      <td>...</td>\n",
              "    </tr>\n",
              "    <tr>\n",
              "      <th>2995</th>\n",
              "      <td>-119.86</td>\n",
              "      <td>34.42</td>\n",
              "      <td>23</td>\n",
              "      <td>1450</td>\n",
              "      <td>642</td>\n",
              "      <td>1258</td>\n",
              "      <td>607</td>\n",
              "      <td>1.1790</td>\n",
              "      <td>225000</td>\n",
              "      <td>1.212056</td>\n",
              "    </tr>\n",
              "    <tr>\n",
              "      <th>2996</th>\n",
              "      <td>-118.14</td>\n",
              "      <td>34.06</td>\n",
              "      <td>27</td>\n",
              "      <td>5257</td>\n",
              "      <td>1082</td>\n",
              "      <td>3496</td>\n",
              "      <td>1036</td>\n",
              "      <td>3.3906</td>\n",
              "      <td>237200</td>\n",
              "      <td>1.731682</td>\n",
              "    </tr>\n",
              "    <tr>\n",
              "      <th>2997</th>\n",
              "      <td>-119.70</td>\n",
              "      <td>36.30</td>\n",
              "      <td>10</td>\n",
              "      <td>956</td>\n",
              "      <td>201</td>\n",
              "      <td>693</td>\n",
              "      <td>220</td>\n",
              "      <td>2.2895</td>\n",
              "      <td>62000</td>\n",
              "      <td>0.959838</td>\n",
              "    </tr>\n",
              "    <tr>\n",
              "      <th>2998</th>\n",
              "      <td>-117.12</td>\n",
              "      <td>34.10</td>\n",
              "      <td>40</td>\n",
              "      <td>96</td>\n",
              "      <td>14</td>\n",
              "      <td>46</td>\n",
              "      <td>14</td>\n",
              "      <td>3.2708</td>\n",
              "      <td>162500</td>\n",
              "      <td>0.890985</td>\n",
              "    </tr>\n",
              "    <tr>\n",
              "      <th>2999</th>\n",
              "      <td>-119.63</td>\n",
              "      <td>34.42</td>\n",
              "      <td>42</td>\n",
              "      <td>1765</td>\n",
              "      <td>263</td>\n",
              "      <td>753</td>\n",
              "      <td>260</td>\n",
              "      <td>8.5608</td>\n",
              "      <td>500001</td>\n",
              "      <td>-0.370769</td>\n",
              "    </tr>\n",
              "  </tbody>\n",
              "</table>\n",
              "<p>3000 rows × 10 columns</p>\n",
              "</div>"
            ],
            "text/plain": [
              "      longitude  latitude  ...  median_house_value    random\n",
              "0       -122.05     37.37  ...              344700 -0.160436\n",
              "1       -118.30     34.26  ...              176500  0.678597\n",
              "2       -117.81     33.78  ...              270500  0.152683\n",
              "3       -118.36     33.82  ...              330000 -0.013950\n",
              "4       -119.67     36.33  ...               81700 -0.988726\n",
              "...         ...       ...  ...                 ...       ...\n",
              "2995    -119.86     34.42  ...              225000  1.212056\n",
              "2996    -118.14     34.06  ...              237200  1.731682\n",
              "2997    -119.70     36.30  ...               62000  0.959838\n",
              "2998    -117.12     34.10  ...              162500  0.890985\n",
              "2999    -119.63     34.42  ...              500001 -0.370769\n",
              "\n",
              "[3000 rows x 10 columns]"
            ]
          },
          "metadata": {
            "tags": []
          },
          "execution_count": 53
        }
      ]
    },
    {
      "cell_type": "markdown",
      "metadata": {
        "id": "4skGg56odnlF"
      },
      "source": [
        "Eliminar filas con axis = 0"
      ]
    },
    {
      "cell_type": "code",
      "metadata": {
        "id": "8ygP00w8dnsS",
        "colab": {
          "base_uri": "https://localhost:8080/",
          "height": 179
        },
        "outputId": "1b90e808-bce0-457e-bb61-e78cb366c957"
      },
      "source": [
        "#drop devuelve un nuevo dataframe sin la fila\n",
        "df = cali_housing.drop([5,7,9], axis=0)\n",
        "df"
      ],
      "execution_count": null,
      "outputs": [
        {
          "output_type": "error",
          "ename": "NameError",
          "evalue": "ignored",
          "traceback": [
            "\u001b[0;31m---------------------------------------------------------------------------\u001b[0m",
            "\u001b[0;31mNameError\u001b[0m                                 Traceback (most recent call last)",
            "\u001b[0;32m<ipython-input-11-a0686ee94f44>\u001b[0m in \u001b[0;36m<module>\u001b[0;34m()\u001b[0m\n\u001b[0;32m----> 1\u001b[0;31m \u001b[0mdf\u001b[0m \u001b[0;34m=\u001b[0m \u001b[0mcali_housing\u001b[0m\u001b[0;34m.\u001b[0m\u001b[0mdrop\u001b[0m\u001b[0;34m(\u001b[0m\u001b[0;34m[\u001b[0m\u001b[0;36m5\u001b[0m\u001b[0;34m,\u001b[0m\u001b[0;36m7\u001b[0m\u001b[0;34m,\u001b[0m\u001b[0;36m9\u001b[0m\u001b[0;34m]\u001b[0m\u001b[0;34m,\u001b[0m \u001b[0maxis\u001b[0m\u001b[0;34m=\u001b[0m\u001b[0;36m0\u001b[0m\u001b[0;34m)\u001b[0m\u001b[0;34m\u001b[0m\u001b[0;34m\u001b[0m\u001b[0m\n\u001b[0m\u001b[1;32m      2\u001b[0m \u001b[0mdf\u001b[0m\u001b[0;34m\u001b[0m\u001b[0;34m\u001b[0m\u001b[0m\n",
            "\u001b[0;31mNameError\u001b[0m: name 'cali_housing' is not defined"
          ]
        }
      ]
    },
    {
      "cell_type": "markdown",
      "metadata": {
        "id": "93ha10yDA-fF"
      },
      "source": [
        "# Remover columnas con del\n",
        "\n",
        "Puedes usar la notación _del df[col_name]_ para eliminar una columna directamente de un DataFrame:"
      ]
    },
    {
      "cell_type": "code",
      "metadata": {
        "id": "bwpoq_9TQgPF",
        "colab": {
          "base_uri": "https://localhost:8080/",
          "height": 422
        },
        "outputId": "4026671d-2cfc-4625-aa3f-7acf775b0aa5"
      },
      "source": [
        "#el dataframe original no ha sido alterado\n",
        "#aun contiene las columnas temporales\n",
        "cali_housing"
      ],
      "execution_count": null,
      "outputs": [
        {
          "output_type": "execute_result",
          "data": {
            "text/html": [
              "<div>\n",
              "<style scoped>\n",
              "    .dataframe tbody tr th:only-of-type {\n",
              "        vertical-align: middle;\n",
              "    }\n",
              "\n",
              "    .dataframe tbody tr th {\n",
              "        vertical-align: top;\n",
              "    }\n",
              "\n",
              "    .dataframe thead th {\n",
              "        text-align: right;\n",
              "    }\n",
              "</style>\n",
              "<table border=\"1\" class=\"dataframe\">\n",
              "  <thead>\n",
              "    <tr style=\"text-align: right;\">\n",
              "      <th></th>\n",
              "      <th>longitude</th>\n",
              "      <th>latitude</th>\n",
              "      <th>housing_median_age</th>\n",
              "      <th>total_rooms</th>\n",
              "      <th>total_bedrooms</th>\n",
              "      <th>population</th>\n",
              "      <th>households</th>\n",
              "      <th>median_income</th>\n",
              "      <th>median_house_value</th>\n",
              "    </tr>\n",
              "  </thead>\n",
              "  <tbody>\n",
              "    <tr>\n",
              "      <th>0</th>\n",
              "      <td>-122.05</td>\n",
              "      <td>37.37</td>\n",
              "      <td>27</td>\n",
              "      <td>3885</td>\n",
              "      <td>661</td>\n",
              "      <td>1537</td>\n",
              "      <td>606</td>\n",
              "      <td>6.6085</td>\n",
              "      <td>344700</td>\n",
              "    </tr>\n",
              "    <tr>\n",
              "      <th>1</th>\n",
              "      <td>-118.30</td>\n",
              "      <td>34.26</td>\n",
              "      <td>43</td>\n",
              "      <td>1510</td>\n",
              "      <td>310</td>\n",
              "      <td>809</td>\n",
              "      <td>277</td>\n",
              "      <td>3.5990</td>\n",
              "      <td>176500</td>\n",
              "    </tr>\n",
              "    <tr>\n",
              "      <th>2</th>\n",
              "      <td>-117.81</td>\n",
              "      <td>33.78</td>\n",
              "      <td>27</td>\n",
              "      <td>3589</td>\n",
              "      <td>507</td>\n",
              "      <td>1484</td>\n",
              "      <td>495</td>\n",
              "      <td>5.7934</td>\n",
              "      <td>270500</td>\n",
              "    </tr>\n",
              "    <tr>\n",
              "      <th>3</th>\n",
              "      <td>-118.36</td>\n",
              "      <td>33.82</td>\n",
              "      <td>28</td>\n",
              "      <td>67</td>\n",
              "      <td>15</td>\n",
              "      <td>49</td>\n",
              "      <td>11</td>\n",
              "      <td>6.1359</td>\n",
              "      <td>330000</td>\n",
              "    </tr>\n",
              "    <tr>\n",
              "      <th>4</th>\n",
              "      <td>-119.67</td>\n",
              "      <td>36.33</td>\n",
              "      <td>19</td>\n",
              "      <td>1241</td>\n",
              "      <td>244</td>\n",
              "      <td>850</td>\n",
              "      <td>237</td>\n",
              "      <td>2.9375</td>\n",
              "      <td>81700</td>\n",
              "    </tr>\n",
              "    <tr>\n",
              "      <th>...</th>\n",
              "      <td>...</td>\n",
              "      <td>...</td>\n",
              "      <td>...</td>\n",
              "      <td>...</td>\n",
              "      <td>...</td>\n",
              "      <td>...</td>\n",
              "      <td>...</td>\n",
              "      <td>...</td>\n",
              "      <td>...</td>\n",
              "    </tr>\n",
              "    <tr>\n",
              "      <th>2995</th>\n",
              "      <td>-119.86</td>\n",
              "      <td>34.42</td>\n",
              "      <td>23</td>\n",
              "      <td>1450</td>\n",
              "      <td>642</td>\n",
              "      <td>1258</td>\n",
              "      <td>607</td>\n",
              "      <td>1.1790</td>\n",
              "      <td>225000</td>\n",
              "    </tr>\n",
              "    <tr>\n",
              "      <th>2996</th>\n",
              "      <td>-118.14</td>\n",
              "      <td>34.06</td>\n",
              "      <td>27</td>\n",
              "      <td>5257</td>\n",
              "      <td>1082</td>\n",
              "      <td>3496</td>\n",
              "      <td>1036</td>\n",
              "      <td>3.3906</td>\n",
              "      <td>237200</td>\n",
              "    </tr>\n",
              "    <tr>\n",
              "      <th>2997</th>\n",
              "      <td>-119.70</td>\n",
              "      <td>36.30</td>\n",
              "      <td>10</td>\n",
              "      <td>956</td>\n",
              "      <td>201</td>\n",
              "      <td>693</td>\n",
              "      <td>220</td>\n",
              "      <td>2.2895</td>\n",
              "      <td>62000</td>\n",
              "    </tr>\n",
              "    <tr>\n",
              "      <th>2998</th>\n",
              "      <td>-117.12</td>\n",
              "      <td>34.10</td>\n",
              "      <td>40</td>\n",
              "      <td>96</td>\n",
              "      <td>14</td>\n",
              "      <td>46</td>\n",
              "      <td>14</td>\n",
              "      <td>3.2708</td>\n",
              "      <td>162500</td>\n",
              "    </tr>\n",
              "    <tr>\n",
              "      <th>2999</th>\n",
              "      <td>-119.63</td>\n",
              "      <td>34.42</td>\n",
              "      <td>42</td>\n",
              "      <td>1765</td>\n",
              "      <td>263</td>\n",
              "      <td>753</td>\n",
              "      <td>260</td>\n",
              "      <td>8.5608</td>\n",
              "      <td>500001</td>\n",
              "    </tr>\n",
              "  </tbody>\n",
              "</table>\n",
              "<p>3000 rows × 9 columns</p>\n",
              "</div>"
            ],
            "text/plain": [
              "      longitude  latitude  ...  median_income  median_house_value\n",
              "0       -122.05     37.37  ...         6.6085              344700\n",
              "1       -118.30     34.26  ...         3.5990              176500\n",
              "2       -117.81     33.78  ...         5.7934              270500\n",
              "3       -118.36     33.82  ...         6.1359              330000\n",
              "4       -119.67     36.33  ...         2.9375               81700\n",
              "...         ...       ...  ...            ...                 ...\n",
              "2995    -119.86     34.42  ...         1.1790              225000\n",
              "2996    -118.14     34.06  ...         3.3906              237200\n",
              "2997    -119.70     36.30  ...         2.2895               62000\n",
              "2998    -117.12     34.10  ...         3.2708              162500\n",
              "2999    -119.63     34.42  ...         8.5608              500001\n",
              "\n",
              "[3000 rows x 9 columns]"
            ]
          },
          "metadata": {
            "tags": []
          },
          "execution_count": 18
        }
      ]
    },
    {
      "cell_type": "code",
      "metadata": {
        "id": "pmVacTmiQg-j",
        "colab": {
          "base_uri": "https://localhost:8080/",
          "height": 690
        },
        "outputId": "86e5e258-1088-4b30-8207-916145227c58"
      },
      "source": [
        "#eliminamos la nueva columna temp con del directamente en el df\n",
        "del cali_housing[\"temp\"]\n",
        "cali_housing"
      ],
      "execution_count": null,
      "outputs": [
        {
          "output_type": "error",
          "ename": "KeyError",
          "evalue": "ignored",
          "traceback": [
            "\u001b[0;31m---------------------------------------------------------------------------\u001b[0m",
            "\u001b[0;31mKeyError\u001b[0m                                  Traceback (most recent call last)",
            "\u001b[0;32m/usr/local/lib/python3.6/dist-packages/pandas/core/indexes/base.py\u001b[0m in \u001b[0;36mget_loc\u001b[0;34m(self, key, method, tolerance)\u001b[0m\n\u001b[1;32m   2896\u001b[0m             \u001b[0;32mtry\u001b[0m\u001b[0;34m:\u001b[0m\u001b[0;34m\u001b[0m\u001b[0;34m\u001b[0m\u001b[0m\n\u001b[0;32m-> 2897\u001b[0;31m                 \u001b[0;32mreturn\u001b[0m \u001b[0mself\u001b[0m\u001b[0;34m.\u001b[0m\u001b[0m_engine\u001b[0m\u001b[0;34m.\u001b[0m\u001b[0mget_loc\u001b[0m\u001b[0;34m(\u001b[0m\u001b[0mkey\u001b[0m\u001b[0;34m)\u001b[0m\u001b[0;34m\u001b[0m\u001b[0;34m\u001b[0m\u001b[0m\n\u001b[0m\u001b[1;32m   2898\u001b[0m             \u001b[0;32mexcept\u001b[0m \u001b[0mKeyError\u001b[0m\u001b[0;34m:\u001b[0m\u001b[0;34m\u001b[0m\u001b[0;34m\u001b[0m\u001b[0m\n",
            "\u001b[0;32mpandas/_libs/index.pyx\u001b[0m in \u001b[0;36mpandas._libs.index.IndexEngine.get_loc\u001b[0;34m()\u001b[0m\n",
            "\u001b[0;32mpandas/_libs/index.pyx\u001b[0m in \u001b[0;36mpandas._libs.index.IndexEngine.get_loc\u001b[0;34m()\u001b[0m\n",
            "\u001b[0;32mpandas/_libs/hashtable_class_helper.pxi\u001b[0m in \u001b[0;36mpandas._libs.hashtable.PyObjectHashTable.get_item\u001b[0;34m()\u001b[0m\n",
            "\u001b[0;32mpandas/_libs/hashtable_class_helper.pxi\u001b[0m in \u001b[0;36mpandas._libs.hashtable.PyObjectHashTable.get_item\u001b[0;34m()\u001b[0m\n",
            "\u001b[0;31mKeyError\u001b[0m: 'temp'",
            "\nDuring handling of the above exception, another exception occurred:\n",
            "\u001b[0;31mKeyError\u001b[0m                                  Traceback (most recent call last)",
            "\u001b[0;32m<ipython-input-19-24de21ed1e9f>\u001b[0m in \u001b[0;36m<module>\u001b[0;34m()\u001b[0m\n\u001b[0;32m----> 1\u001b[0;31m \u001b[0;32mdel\u001b[0m \u001b[0mcali_housing\u001b[0m\u001b[0;34m[\u001b[0m\u001b[0;34m\"temp\"\u001b[0m\u001b[0;34m]\u001b[0m\u001b[0;34m\u001b[0m\u001b[0;34m\u001b[0m\u001b[0m\n\u001b[0m\u001b[1;32m      2\u001b[0m \u001b[0mcali_housing\u001b[0m\u001b[0;34m\u001b[0m\u001b[0;34m\u001b[0m\u001b[0m\n",
            "\u001b[0;32m/usr/local/lib/python3.6/dist-packages/pandas/core/generic.py\u001b[0m in \u001b[0;36m__delitem__\u001b[0;34m(self, key)\u001b[0m\n\u001b[1;32m   3514\u001b[0m             \u001b[0;31m# there was no match, this call should raise the appropriate\u001b[0m\u001b[0;34m\u001b[0m\u001b[0;34m\u001b[0m\u001b[0;34m\u001b[0m\u001b[0m\n\u001b[1;32m   3515\u001b[0m             \u001b[0;31m# exception:\u001b[0m\u001b[0;34m\u001b[0m\u001b[0;34m\u001b[0m\u001b[0;34m\u001b[0m\u001b[0m\n\u001b[0;32m-> 3516\u001b[0;31m             \u001b[0mself\u001b[0m\u001b[0;34m.\u001b[0m\u001b[0m_data\u001b[0m\u001b[0;34m.\u001b[0m\u001b[0mdelete\u001b[0m\u001b[0;34m(\u001b[0m\u001b[0mkey\u001b[0m\u001b[0;34m)\u001b[0m\u001b[0;34m\u001b[0m\u001b[0;34m\u001b[0m\u001b[0m\n\u001b[0m\u001b[1;32m   3517\u001b[0m \u001b[0;34m\u001b[0m\u001b[0m\n\u001b[1;32m   3518\u001b[0m         \u001b[0;31m# delete from the caches\u001b[0m\u001b[0;34m\u001b[0m\u001b[0;34m\u001b[0m\u001b[0;34m\u001b[0m\u001b[0m\n",
            "\u001b[0;32m/usr/local/lib/python3.6/dist-packages/pandas/core/internals/managers.py\u001b[0m in \u001b[0;36mdelete\u001b[0;34m(self, item)\u001b[0m\n\u001b[1;32m    994\u001b[0m         \u001b[0mDelete\u001b[0m \u001b[0mselected\u001b[0m \u001b[0mitem\u001b[0m \u001b[0;34m(\u001b[0m\u001b[0mitems\u001b[0m \u001b[0;32mif\u001b[0m \u001b[0mnon\u001b[0m\u001b[0;34m-\u001b[0m\u001b[0munique\u001b[0m\u001b[0;34m)\u001b[0m \u001b[0;32min\u001b[0m\u001b[0;34m-\u001b[0m\u001b[0mplace\u001b[0m\u001b[0;34m.\u001b[0m\u001b[0;34m\u001b[0m\u001b[0;34m\u001b[0m\u001b[0m\n\u001b[1;32m    995\u001b[0m         \"\"\"\n\u001b[0;32m--> 996\u001b[0;31m         \u001b[0mindexer\u001b[0m \u001b[0;34m=\u001b[0m \u001b[0mself\u001b[0m\u001b[0;34m.\u001b[0m\u001b[0mitems\u001b[0m\u001b[0;34m.\u001b[0m\u001b[0mget_loc\u001b[0m\u001b[0;34m(\u001b[0m\u001b[0mitem\u001b[0m\u001b[0;34m)\u001b[0m\u001b[0;34m\u001b[0m\u001b[0;34m\u001b[0m\u001b[0m\n\u001b[0m\u001b[1;32m    997\u001b[0m \u001b[0;34m\u001b[0m\u001b[0m\n\u001b[1;32m    998\u001b[0m         \u001b[0mis_deleted\u001b[0m \u001b[0;34m=\u001b[0m \u001b[0mnp\u001b[0m\u001b[0;34m.\u001b[0m\u001b[0mzeros\u001b[0m\u001b[0;34m(\u001b[0m\u001b[0mself\u001b[0m\u001b[0;34m.\u001b[0m\u001b[0mshape\u001b[0m\u001b[0;34m[\u001b[0m\u001b[0;36m0\u001b[0m\u001b[0;34m]\u001b[0m\u001b[0;34m,\u001b[0m \u001b[0mdtype\u001b[0m\u001b[0;34m=\u001b[0m\u001b[0mnp\u001b[0m\u001b[0;34m.\u001b[0m\u001b[0mbool_\u001b[0m\u001b[0;34m)\u001b[0m\u001b[0;34m\u001b[0m\u001b[0;34m\u001b[0m\u001b[0m\n",
            "\u001b[0;32m/usr/local/lib/python3.6/dist-packages/pandas/core/indexes/base.py\u001b[0m in \u001b[0;36mget_loc\u001b[0;34m(self, key, method, tolerance)\u001b[0m\n\u001b[1;32m   2897\u001b[0m                 \u001b[0;32mreturn\u001b[0m \u001b[0mself\u001b[0m\u001b[0;34m.\u001b[0m\u001b[0m_engine\u001b[0m\u001b[0;34m.\u001b[0m\u001b[0mget_loc\u001b[0m\u001b[0;34m(\u001b[0m\u001b[0mkey\u001b[0m\u001b[0;34m)\u001b[0m\u001b[0;34m\u001b[0m\u001b[0;34m\u001b[0m\u001b[0m\n\u001b[1;32m   2898\u001b[0m             \u001b[0;32mexcept\u001b[0m \u001b[0mKeyError\u001b[0m\u001b[0;34m:\u001b[0m\u001b[0;34m\u001b[0m\u001b[0;34m\u001b[0m\u001b[0m\n\u001b[0;32m-> 2899\u001b[0;31m                 \u001b[0;32mreturn\u001b[0m \u001b[0mself\u001b[0m\u001b[0;34m.\u001b[0m\u001b[0m_engine\u001b[0m\u001b[0;34m.\u001b[0m\u001b[0mget_loc\u001b[0m\u001b[0;34m(\u001b[0m\u001b[0mself\u001b[0m\u001b[0;34m.\u001b[0m\u001b[0m_maybe_cast_indexer\u001b[0m\u001b[0;34m(\u001b[0m\u001b[0mkey\u001b[0m\u001b[0;34m)\u001b[0m\u001b[0;34m)\u001b[0m\u001b[0;34m\u001b[0m\u001b[0;34m\u001b[0m\u001b[0m\n\u001b[0m\u001b[1;32m   2900\u001b[0m         \u001b[0mindexer\u001b[0m \u001b[0;34m=\u001b[0m \u001b[0mself\u001b[0m\u001b[0;34m.\u001b[0m\u001b[0mget_indexer\u001b[0m\u001b[0;34m(\u001b[0m\u001b[0;34m[\u001b[0m\u001b[0mkey\u001b[0m\u001b[0;34m]\u001b[0m\u001b[0;34m,\u001b[0m \u001b[0mmethod\u001b[0m\u001b[0;34m=\u001b[0m\u001b[0mmethod\u001b[0m\u001b[0;34m,\u001b[0m \u001b[0mtolerance\u001b[0m\u001b[0;34m=\u001b[0m\u001b[0mtolerance\u001b[0m\u001b[0;34m)\u001b[0m\u001b[0;34m\u001b[0m\u001b[0;34m\u001b[0m\u001b[0m\n\u001b[1;32m   2901\u001b[0m         \u001b[0;32mif\u001b[0m \u001b[0mindexer\u001b[0m\u001b[0;34m.\u001b[0m\u001b[0mndim\u001b[0m \u001b[0;34m>\u001b[0m \u001b[0;36m1\u001b[0m \u001b[0;32mor\u001b[0m \u001b[0mindexer\u001b[0m\u001b[0;34m.\u001b[0m\u001b[0msize\u001b[0m \u001b[0;34m>\u001b[0m \u001b[0;36m1\u001b[0m\u001b[0;34m:\u001b[0m\u001b[0;34m\u001b[0m\u001b[0;34m\u001b[0m\u001b[0m\n",
            "\u001b[0;32mpandas/_libs/index.pyx\u001b[0m in \u001b[0;36mpandas._libs.index.IndexEngine.get_loc\u001b[0;34m()\u001b[0m\n",
            "\u001b[0;32mpandas/_libs/index.pyx\u001b[0m in \u001b[0;36mpandas._libs.index.IndexEngine.get_loc\u001b[0;34m()\u001b[0m\n",
            "\u001b[0;32mpandas/_libs/hashtable_class_helper.pxi\u001b[0m in \u001b[0;36mpandas._libs.hashtable.PyObjectHashTable.get_item\u001b[0;34m()\u001b[0m\n",
            "\u001b[0;32mpandas/_libs/hashtable_class_helper.pxi\u001b[0m in \u001b[0;36mpandas._libs.hashtable.PyObjectHashTable.get_item\u001b[0;34m()\u001b[0m\n",
            "\u001b[0;31mKeyError\u001b[0m: 'temp'"
          ]
        }
      ]
    },
    {
      "cell_type": "code",
      "metadata": {
        "id": "sr9fkAPWhwhd",
        "colab": {
          "base_uri": "https://localhost:8080/",
          "height": 690
        },
        "outputId": "8f5a4658-e94f-45f7-c48e-d203680c4d04"
      },
      "source": [
        "#del elimina una columna a la vez\n",
        "# llamemos del una segunda vez para eliminar temp2\n",
        "del cali_housing[\"temp2\"]\n",
        "cali_housing"
      ],
      "execution_count": null,
      "outputs": [
        {
          "output_type": "error",
          "ename": "KeyError",
          "evalue": "ignored",
          "traceback": [
            "\u001b[0;31m---------------------------------------------------------------------------\u001b[0m",
            "\u001b[0;31mKeyError\u001b[0m                                  Traceback (most recent call last)",
            "\u001b[0;32m/usr/local/lib/python3.6/dist-packages/pandas/core/indexes/base.py\u001b[0m in \u001b[0;36mget_loc\u001b[0;34m(self, key, method, tolerance)\u001b[0m\n\u001b[1;32m   2896\u001b[0m             \u001b[0;32mtry\u001b[0m\u001b[0;34m:\u001b[0m\u001b[0;34m\u001b[0m\u001b[0;34m\u001b[0m\u001b[0m\n\u001b[0;32m-> 2897\u001b[0;31m                 \u001b[0;32mreturn\u001b[0m \u001b[0mself\u001b[0m\u001b[0;34m.\u001b[0m\u001b[0m_engine\u001b[0m\u001b[0;34m.\u001b[0m\u001b[0mget_loc\u001b[0m\u001b[0;34m(\u001b[0m\u001b[0mkey\u001b[0m\u001b[0;34m)\u001b[0m\u001b[0;34m\u001b[0m\u001b[0;34m\u001b[0m\u001b[0m\n\u001b[0m\u001b[1;32m   2898\u001b[0m             \u001b[0;32mexcept\u001b[0m \u001b[0mKeyError\u001b[0m\u001b[0;34m:\u001b[0m\u001b[0;34m\u001b[0m\u001b[0;34m\u001b[0m\u001b[0m\n",
            "\u001b[0;32mpandas/_libs/index.pyx\u001b[0m in \u001b[0;36mpandas._libs.index.IndexEngine.get_loc\u001b[0;34m()\u001b[0m\n",
            "\u001b[0;32mpandas/_libs/index.pyx\u001b[0m in \u001b[0;36mpandas._libs.index.IndexEngine.get_loc\u001b[0;34m()\u001b[0m\n",
            "\u001b[0;32mpandas/_libs/hashtable_class_helper.pxi\u001b[0m in \u001b[0;36mpandas._libs.hashtable.PyObjectHashTable.get_item\u001b[0;34m()\u001b[0m\n",
            "\u001b[0;32mpandas/_libs/hashtable_class_helper.pxi\u001b[0m in \u001b[0;36mpandas._libs.hashtable.PyObjectHashTable.get_item\u001b[0;34m()\u001b[0m\n",
            "\u001b[0;31mKeyError\u001b[0m: 'temp2'",
            "\nDuring handling of the above exception, another exception occurred:\n",
            "\u001b[0;31mKeyError\u001b[0m                                  Traceback (most recent call last)",
            "\u001b[0;32m<ipython-input-20-1cb74408d548>\u001b[0m in \u001b[0;36m<module>\u001b[0;34m()\u001b[0m\n\u001b[0;32m----> 1\u001b[0;31m \u001b[0;32mdel\u001b[0m \u001b[0mcali_housing\u001b[0m\u001b[0;34m[\u001b[0m\u001b[0;34m\"temp2\"\u001b[0m\u001b[0;34m]\u001b[0m\u001b[0;34m\u001b[0m\u001b[0;34m\u001b[0m\u001b[0m\n\u001b[0m\u001b[1;32m      2\u001b[0m \u001b[0mcali_housing\u001b[0m\u001b[0;34m\u001b[0m\u001b[0;34m\u001b[0m\u001b[0m\n",
            "\u001b[0;32m/usr/local/lib/python3.6/dist-packages/pandas/core/generic.py\u001b[0m in \u001b[0;36m__delitem__\u001b[0;34m(self, key)\u001b[0m\n\u001b[1;32m   3514\u001b[0m             \u001b[0;31m# there was no match, this call should raise the appropriate\u001b[0m\u001b[0;34m\u001b[0m\u001b[0;34m\u001b[0m\u001b[0;34m\u001b[0m\u001b[0m\n\u001b[1;32m   3515\u001b[0m             \u001b[0;31m# exception:\u001b[0m\u001b[0;34m\u001b[0m\u001b[0;34m\u001b[0m\u001b[0;34m\u001b[0m\u001b[0m\n\u001b[0;32m-> 3516\u001b[0;31m             \u001b[0mself\u001b[0m\u001b[0;34m.\u001b[0m\u001b[0m_data\u001b[0m\u001b[0;34m.\u001b[0m\u001b[0mdelete\u001b[0m\u001b[0;34m(\u001b[0m\u001b[0mkey\u001b[0m\u001b[0;34m)\u001b[0m\u001b[0;34m\u001b[0m\u001b[0;34m\u001b[0m\u001b[0m\n\u001b[0m\u001b[1;32m   3517\u001b[0m \u001b[0;34m\u001b[0m\u001b[0m\n\u001b[1;32m   3518\u001b[0m         \u001b[0;31m# delete from the caches\u001b[0m\u001b[0;34m\u001b[0m\u001b[0;34m\u001b[0m\u001b[0;34m\u001b[0m\u001b[0m\n",
            "\u001b[0;32m/usr/local/lib/python3.6/dist-packages/pandas/core/internals/managers.py\u001b[0m in \u001b[0;36mdelete\u001b[0;34m(self, item)\u001b[0m\n\u001b[1;32m    994\u001b[0m         \u001b[0mDelete\u001b[0m \u001b[0mselected\u001b[0m \u001b[0mitem\u001b[0m \u001b[0;34m(\u001b[0m\u001b[0mitems\u001b[0m \u001b[0;32mif\u001b[0m \u001b[0mnon\u001b[0m\u001b[0;34m-\u001b[0m\u001b[0munique\u001b[0m\u001b[0;34m)\u001b[0m \u001b[0;32min\u001b[0m\u001b[0;34m-\u001b[0m\u001b[0mplace\u001b[0m\u001b[0;34m.\u001b[0m\u001b[0;34m\u001b[0m\u001b[0;34m\u001b[0m\u001b[0m\n\u001b[1;32m    995\u001b[0m         \"\"\"\n\u001b[0;32m--> 996\u001b[0;31m         \u001b[0mindexer\u001b[0m \u001b[0;34m=\u001b[0m \u001b[0mself\u001b[0m\u001b[0;34m.\u001b[0m\u001b[0mitems\u001b[0m\u001b[0;34m.\u001b[0m\u001b[0mget_loc\u001b[0m\u001b[0;34m(\u001b[0m\u001b[0mitem\u001b[0m\u001b[0;34m)\u001b[0m\u001b[0;34m\u001b[0m\u001b[0;34m\u001b[0m\u001b[0m\n\u001b[0m\u001b[1;32m    997\u001b[0m \u001b[0;34m\u001b[0m\u001b[0m\n\u001b[1;32m    998\u001b[0m         \u001b[0mis_deleted\u001b[0m \u001b[0;34m=\u001b[0m \u001b[0mnp\u001b[0m\u001b[0;34m.\u001b[0m\u001b[0mzeros\u001b[0m\u001b[0;34m(\u001b[0m\u001b[0mself\u001b[0m\u001b[0;34m.\u001b[0m\u001b[0mshape\u001b[0m\u001b[0;34m[\u001b[0m\u001b[0;36m0\u001b[0m\u001b[0;34m]\u001b[0m\u001b[0;34m,\u001b[0m \u001b[0mdtype\u001b[0m\u001b[0;34m=\u001b[0m\u001b[0mnp\u001b[0m\u001b[0;34m.\u001b[0m\u001b[0mbool_\u001b[0m\u001b[0;34m)\u001b[0m\u001b[0;34m\u001b[0m\u001b[0;34m\u001b[0m\u001b[0m\n",
            "\u001b[0;32m/usr/local/lib/python3.6/dist-packages/pandas/core/indexes/base.py\u001b[0m in \u001b[0;36mget_loc\u001b[0;34m(self, key, method, tolerance)\u001b[0m\n\u001b[1;32m   2897\u001b[0m                 \u001b[0;32mreturn\u001b[0m \u001b[0mself\u001b[0m\u001b[0;34m.\u001b[0m\u001b[0m_engine\u001b[0m\u001b[0;34m.\u001b[0m\u001b[0mget_loc\u001b[0m\u001b[0;34m(\u001b[0m\u001b[0mkey\u001b[0m\u001b[0;34m)\u001b[0m\u001b[0;34m\u001b[0m\u001b[0;34m\u001b[0m\u001b[0m\n\u001b[1;32m   2898\u001b[0m             \u001b[0;32mexcept\u001b[0m \u001b[0mKeyError\u001b[0m\u001b[0;34m:\u001b[0m\u001b[0;34m\u001b[0m\u001b[0;34m\u001b[0m\u001b[0m\n\u001b[0;32m-> 2899\u001b[0;31m                 \u001b[0;32mreturn\u001b[0m \u001b[0mself\u001b[0m\u001b[0;34m.\u001b[0m\u001b[0m_engine\u001b[0m\u001b[0;34m.\u001b[0m\u001b[0mget_loc\u001b[0m\u001b[0;34m(\u001b[0m\u001b[0mself\u001b[0m\u001b[0;34m.\u001b[0m\u001b[0m_maybe_cast_indexer\u001b[0m\u001b[0;34m(\u001b[0m\u001b[0mkey\u001b[0m\u001b[0;34m)\u001b[0m\u001b[0;34m)\u001b[0m\u001b[0;34m\u001b[0m\u001b[0;34m\u001b[0m\u001b[0m\n\u001b[0m\u001b[1;32m   2900\u001b[0m         \u001b[0mindexer\u001b[0m \u001b[0;34m=\u001b[0m \u001b[0mself\u001b[0m\u001b[0;34m.\u001b[0m\u001b[0mget_indexer\u001b[0m\u001b[0;34m(\u001b[0m\u001b[0;34m[\u001b[0m\u001b[0mkey\u001b[0m\u001b[0;34m]\u001b[0m\u001b[0;34m,\u001b[0m \u001b[0mmethod\u001b[0m\u001b[0;34m=\u001b[0m\u001b[0mmethod\u001b[0m\u001b[0;34m,\u001b[0m \u001b[0mtolerance\u001b[0m\u001b[0;34m=\u001b[0m\u001b[0mtolerance\u001b[0m\u001b[0;34m)\u001b[0m\u001b[0;34m\u001b[0m\u001b[0;34m\u001b[0m\u001b[0m\n\u001b[1;32m   2901\u001b[0m         \u001b[0;32mif\u001b[0m \u001b[0mindexer\u001b[0m\u001b[0;34m.\u001b[0m\u001b[0mndim\u001b[0m \u001b[0;34m>\u001b[0m \u001b[0;36m1\u001b[0m \u001b[0;32mor\u001b[0m \u001b[0mindexer\u001b[0m\u001b[0;34m.\u001b[0m\u001b[0msize\u001b[0m \u001b[0;34m>\u001b[0m \u001b[0;36m1\u001b[0m\u001b[0;34m:\u001b[0m\u001b[0;34m\u001b[0m\u001b[0;34m\u001b[0m\u001b[0m\n",
            "\u001b[0;32mpandas/_libs/index.pyx\u001b[0m in \u001b[0;36mpandas._libs.index.IndexEngine.get_loc\u001b[0;34m()\u001b[0m\n",
            "\u001b[0;32mpandas/_libs/index.pyx\u001b[0m in \u001b[0;36mpandas._libs.index.IndexEngine.get_loc\u001b[0;34m()\u001b[0m\n",
            "\u001b[0;32mpandas/_libs/hashtable_class_helper.pxi\u001b[0m in \u001b[0;36mpandas._libs.hashtable.PyObjectHashTable.get_item\u001b[0;34m()\u001b[0m\n",
            "\u001b[0;32mpandas/_libs/hashtable_class_helper.pxi\u001b[0m in \u001b[0;36mpandas._libs.hashtable.PyObjectHashTable.get_item\u001b[0;34m()\u001b[0m\n",
            "\u001b[0;31mKeyError\u001b[0m: 'temp2'"
          ]
        }
      ]
    },
    {
      "cell_type": "markdown",
      "metadata": {
        "id": "Dkzdjyk3VZL_"
      },
      "source": [
        "# Datos faltantes"
      ]
    },
    {
      "cell_type": "markdown",
      "metadata": {
        "id": "ySNj8BT8qkI0"
      },
      "source": [
        "En Pandas, los valores faltantes son representado con el valor NaN (de Not a Number). Cuando existen valores faltantes, muchas veces es necesario eliminarlar las entradas que los contienen o reemplazarlos por valores antes de empezar a trabajar con los datos. Pandas provee algunos métodos para realizar este tipo de tareas."
      ]
    },
    {
      "cell_type": "code",
      "metadata": {
        "id": "iymXcdS3uvTB",
        "colab": {
          "base_uri": "https://localhost:8080/",
          "height": 284
        },
        "outputId": "d7c041b2-c91c-458b-cd06-6c441c24ff69"
      },
      "source": [
        "#creando un dataframe con datos faltantes\n",
        "df = pd.DataFrame(np.random.randn(5, 3), index=['a', 'c', 'e', 'f', 'h'], columns=['A', 'B', 'C'])\n",
        "df['D'] = df['A'] > 0\n",
        "df = df.reindex(['a', 'b', 'c', 'd', 'e', 'f', 'g', 'h'])\n",
        "df"
      ],
      "execution_count": null,
      "outputs": [
        {
          "output_type": "execute_result",
          "data": {
            "text/html": [
              "<div>\n",
              "<style scoped>\n",
              "    .dataframe tbody tr th:only-of-type {\n",
              "        vertical-align: middle;\n",
              "    }\n",
              "\n",
              "    .dataframe tbody tr th {\n",
              "        vertical-align: top;\n",
              "    }\n",
              "\n",
              "    .dataframe thead th {\n",
              "        text-align: right;\n",
              "    }\n",
              "</style>\n",
              "<table border=\"1\" class=\"dataframe\">\n",
              "  <thead>\n",
              "    <tr style=\"text-align: right;\">\n",
              "      <th></th>\n",
              "      <th>A</th>\n",
              "      <th>B</th>\n",
              "      <th>C</th>\n",
              "      <th>D</th>\n",
              "    </tr>\n",
              "  </thead>\n",
              "  <tbody>\n",
              "    <tr>\n",
              "      <th>a</th>\n",
              "      <td>0.021820</td>\n",
              "      <td>-0.731079</td>\n",
              "      <td>-0.953484</td>\n",
              "      <td>True</td>\n",
              "    </tr>\n",
              "    <tr>\n",
              "      <th>b</th>\n",
              "      <td>NaN</td>\n",
              "      <td>NaN</td>\n",
              "      <td>NaN</td>\n",
              "      <td>NaN</td>\n",
              "    </tr>\n",
              "    <tr>\n",
              "      <th>c</th>\n",
              "      <td>0.187802</td>\n",
              "      <td>-0.810518</td>\n",
              "      <td>-0.449295</td>\n",
              "      <td>True</td>\n",
              "    </tr>\n",
              "    <tr>\n",
              "      <th>d</th>\n",
              "      <td>NaN</td>\n",
              "      <td>NaN</td>\n",
              "      <td>NaN</td>\n",
              "      <td>NaN</td>\n",
              "    </tr>\n",
              "    <tr>\n",
              "      <th>e</th>\n",
              "      <td>1.708082</td>\n",
              "      <td>0.284112</td>\n",
              "      <td>0.687721</td>\n",
              "      <td>True</td>\n",
              "    </tr>\n",
              "    <tr>\n",
              "      <th>f</th>\n",
              "      <td>-1.371643</td>\n",
              "      <td>0.118616</td>\n",
              "      <td>0.149498</td>\n",
              "      <td>False</td>\n",
              "    </tr>\n",
              "    <tr>\n",
              "      <th>g</th>\n",
              "      <td>NaN</td>\n",
              "      <td>NaN</td>\n",
              "      <td>NaN</td>\n",
              "      <td>NaN</td>\n",
              "    </tr>\n",
              "    <tr>\n",
              "      <th>h</th>\n",
              "      <td>-0.324343</td>\n",
              "      <td>0.040993</td>\n",
              "      <td>-0.074619</td>\n",
              "      <td>False</td>\n",
              "    </tr>\n",
              "  </tbody>\n",
              "</table>\n",
              "</div>"
            ],
            "text/plain": [
              "          A         B         C      D\n",
              "a  0.021820 -0.731079 -0.953484   True\n",
              "b       NaN       NaN       NaN    NaN\n",
              "c  0.187802 -0.810518 -0.449295   True\n",
              "d       NaN       NaN       NaN    NaN\n",
              "e  1.708082  0.284112  0.687721   True\n",
              "f -1.371643  0.118616  0.149498  False\n",
              "g       NaN       NaN       NaN    NaN\n",
              "h -0.324343  0.040993 -0.074619  False"
            ]
          },
          "metadata": {
            "tags": []
          },
          "execution_count": 21
        }
      ]
    },
    {
      "cell_type": "markdown",
      "metadata": {
        "id": "JOQ6eWscx3Zm"
      },
      "source": [
        "## df.isna()\n",
        "\n",
        "El método isna() funciona para conocer si el objeto contiene valores faltantes. Regresa un objeto con elementos booleanos que indican la existencia de datos faltantes."
      ]
    },
    {
      "cell_type": "code",
      "metadata": {
        "id": "Cvk6XMVSx3eN",
        "colab": {
          "base_uri": "https://localhost:8080/",
          "height": 284
        },
        "outputId": "8d91c111-41fe-45d2-9545-e89c86b976a7"
      },
      "source": [
        "df.isna()"
      ],
      "execution_count": null,
      "outputs": [
        {
          "output_type": "execute_result",
          "data": {
            "text/html": [
              "<div>\n",
              "<style scoped>\n",
              "    .dataframe tbody tr th:only-of-type {\n",
              "        vertical-align: middle;\n",
              "    }\n",
              "\n",
              "    .dataframe tbody tr th {\n",
              "        vertical-align: top;\n",
              "    }\n",
              "\n",
              "    .dataframe thead th {\n",
              "        text-align: right;\n",
              "    }\n",
              "</style>\n",
              "<table border=\"1\" class=\"dataframe\">\n",
              "  <thead>\n",
              "    <tr style=\"text-align: right;\">\n",
              "      <th></th>\n",
              "      <th>A</th>\n",
              "      <th>B</th>\n",
              "      <th>C</th>\n",
              "      <th>D</th>\n",
              "    </tr>\n",
              "  </thead>\n",
              "  <tbody>\n",
              "    <tr>\n",
              "      <th>a</th>\n",
              "      <td>False</td>\n",
              "      <td>False</td>\n",
              "      <td>False</td>\n",
              "      <td>False</td>\n",
              "    </tr>\n",
              "    <tr>\n",
              "      <th>b</th>\n",
              "      <td>True</td>\n",
              "      <td>True</td>\n",
              "      <td>True</td>\n",
              "      <td>True</td>\n",
              "    </tr>\n",
              "    <tr>\n",
              "      <th>c</th>\n",
              "      <td>False</td>\n",
              "      <td>False</td>\n",
              "      <td>False</td>\n",
              "      <td>False</td>\n",
              "    </tr>\n",
              "    <tr>\n",
              "      <th>d</th>\n",
              "      <td>True</td>\n",
              "      <td>True</td>\n",
              "      <td>True</td>\n",
              "      <td>True</td>\n",
              "    </tr>\n",
              "    <tr>\n",
              "      <th>e</th>\n",
              "      <td>False</td>\n",
              "      <td>False</td>\n",
              "      <td>False</td>\n",
              "      <td>False</td>\n",
              "    </tr>\n",
              "    <tr>\n",
              "      <th>f</th>\n",
              "      <td>False</td>\n",
              "      <td>False</td>\n",
              "      <td>False</td>\n",
              "      <td>False</td>\n",
              "    </tr>\n",
              "    <tr>\n",
              "      <th>g</th>\n",
              "      <td>True</td>\n",
              "      <td>True</td>\n",
              "      <td>True</td>\n",
              "      <td>True</td>\n",
              "    </tr>\n",
              "    <tr>\n",
              "      <th>h</th>\n",
              "      <td>False</td>\n",
              "      <td>False</td>\n",
              "      <td>False</td>\n",
              "      <td>False</td>\n",
              "    </tr>\n",
              "  </tbody>\n",
              "</table>\n",
              "</div>"
            ],
            "text/plain": [
              "       A      B      C      D\n",
              "a  False  False  False  False\n",
              "b   True   True   True   True\n",
              "c  False  False  False  False\n",
              "d   True   True   True   True\n",
              "e  False  False  False  False\n",
              "f  False  False  False  False\n",
              "g   True   True   True   True\n",
              "h  False  False  False  False"
            ]
          },
          "metadata": {
            "tags": []
          },
          "execution_count": 22
        }
      ]
    },
    {
      "cell_type": "markdown",
      "metadata": {
        "id": "4k7fCgEYqkav"
      },
      "source": [
        "## df.dropna()\n",
        "\n",
        "El método dropna() permite eliminar del DataFrame las filas o columnas que contienen uno o más elementos NaN.\n",
        "\n",
        "Los principales parámetros de dropna():\n",
        "\n",
        "```\n",
        "axis : {0 o 'index', 1 o 'columns'}, por defecto 0\n",
        "        Determina si elimina filas o columnas que contienen\n",
        "        valores faltantes.\n",
        "    \n",
        "how : {'any', 'all'}, por defecto 'any'\n",
        "    Determina si se elimina la fila o columna cuando contiene al menos un valor faltante o solo si todos sus valores son faltantes.\n",
        "\n",
        "    * 'any' : Si hay un valor faltante, elimina la fila o columna.\n",
        "    * 'all' : Si todos los valores son faltantes, elimina la fila o columna.\n",
        "    \n",
        "thresh : int, opcional\n",
        "    Requirir al menos ese número de valores faltantes para eliminar la fila o columna.\n",
        "```\n",
        "\n"
      ]
    },
    {
      "cell_type": "code",
      "metadata": {
        "id": "FlsVq2-fBpXE",
        "colab": {
          "base_uri": "https://localhost:8080/",
          "height": 195
        },
        "outputId": "266db7e8-63de-4edc-b082-c746fd552c88"
      },
      "source": [
        "df.dropna(axis=0, how='any')"
      ],
      "execution_count": null,
      "outputs": [
        {
          "output_type": "execute_result",
          "data": {
            "text/html": [
              "<div>\n",
              "<style scoped>\n",
              "    .dataframe tbody tr th:only-of-type {\n",
              "        vertical-align: middle;\n",
              "    }\n",
              "\n",
              "    .dataframe tbody tr th {\n",
              "        vertical-align: top;\n",
              "    }\n",
              "\n",
              "    .dataframe thead th {\n",
              "        text-align: right;\n",
              "    }\n",
              "</style>\n",
              "<table border=\"1\" class=\"dataframe\">\n",
              "  <thead>\n",
              "    <tr style=\"text-align: right;\">\n",
              "      <th></th>\n",
              "      <th>A</th>\n",
              "      <th>B</th>\n",
              "      <th>C</th>\n",
              "      <th>D</th>\n",
              "    </tr>\n",
              "  </thead>\n",
              "  <tbody>\n",
              "    <tr>\n",
              "      <th>a</th>\n",
              "      <td>0.021820</td>\n",
              "      <td>-0.731079</td>\n",
              "      <td>-0.953484</td>\n",
              "      <td>True</td>\n",
              "    </tr>\n",
              "    <tr>\n",
              "      <th>c</th>\n",
              "      <td>0.187802</td>\n",
              "      <td>-0.810518</td>\n",
              "      <td>-0.449295</td>\n",
              "      <td>True</td>\n",
              "    </tr>\n",
              "    <tr>\n",
              "      <th>e</th>\n",
              "      <td>1.708082</td>\n",
              "      <td>0.284112</td>\n",
              "      <td>0.687721</td>\n",
              "      <td>True</td>\n",
              "    </tr>\n",
              "    <tr>\n",
              "      <th>f</th>\n",
              "      <td>-1.371643</td>\n",
              "      <td>0.118616</td>\n",
              "      <td>0.149498</td>\n",
              "      <td>False</td>\n",
              "    </tr>\n",
              "    <tr>\n",
              "      <th>h</th>\n",
              "      <td>-0.324343</td>\n",
              "      <td>0.040993</td>\n",
              "      <td>-0.074619</td>\n",
              "      <td>False</td>\n",
              "    </tr>\n",
              "  </tbody>\n",
              "</table>\n",
              "</div>"
            ],
            "text/plain": [
              "          A         B         C      D\n",
              "a  0.021820 -0.731079 -0.953484   True\n",
              "c  0.187802 -0.810518 -0.449295   True\n",
              "e  1.708082  0.284112  0.687721   True\n",
              "f -1.371643  0.118616  0.149498  False\n",
              "h -0.324343  0.040993 -0.074619  False"
            ]
          },
          "metadata": {
            "tags": []
          },
          "execution_count": 23
        }
      ]
    },
    {
      "cell_type": "code",
      "metadata": {
        "id": "efPiUeddzm4H"
      },
      "source": [
        "#insertando un nuevo nan\n",
        "df.iat[0, 0] = np.nan"
      ],
      "execution_count": null,
      "outputs": []
    },
    {
      "cell_type": "code",
      "metadata": {
        "id": "byjfnMF0zkyG",
        "colab": {
          "base_uri": "https://localhost:8080/",
          "height": 195
        },
        "outputId": "dd1c4e36-02b7-4ebf-96fe-ad3ac8673e34"
      },
      "source": [
        "df.dropna(axis = 0, how='all')"
      ],
      "execution_count": null,
      "outputs": [
        {
          "output_type": "execute_result",
          "data": {
            "text/html": [
              "<div>\n",
              "<style scoped>\n",
              "    .dataframe tbody tr th:only-of-type {\n",
              "        vertical-align: middle;\n",
              "    }\n",
              "\n",
              "    .dataframe tbody tr th {\n",
              "        vertical-align: top;\n",
              "    }\n",
              "\n",
              "    .dataframe thead th {\n",
              "        text-align: right;\n",
              "    }\n",
              "</style>\n",
              "<table border=\"1\" class=\"dataframe\">\n",
              "  <thead>\n",
              "    <tr style=\"text-align: right;\">\n",
              "      <th></th>\n",
              "      <th>A</th>\n",
              "      <th>B</th>\n",
              "      <th>C</th>\n",
              "      <th>D</th>\n",
              "    </tr>\n",
              "  </thead>\n",
              "  <tbody>\n",
              "    <tr>\n",
              "      <th>a</th>\n",
              "      <td>NaN</td>\n",
              "      <td>-0.731079</td>\n",
              "      <td>-0.953484</td>\n",
              "      <td>True</td>\n",
              "    </tr>\n",
              "    <tr>\n",
              "      <th>c</th>\n",
              "      <td>0.187802</td>\n",
              "      <td>-0.810518</td>\n",
              "      <td>-0.449295</td>\n",
              "      <td>True</td>\n",
              "    </tr>\n",
              "    <tr>\n",
              "      <th>e</th>\n",
              "      <td>1.708082</td>\n",
              "      <td>0.284112</td>\n",
              "      <td>0.687721</td>\n",
              "      <td>True</td>\n",
              "    </tr>\n",
              "    <tr>\n",
              "      <th>f</th>\n",
              "      <td>-1.371643</td>\n",
              "      <td>0.118616</td>\n",
              "      <td>0.149498</td>\n",
              "      <td>False</td>\n",
              "    </tr>\n",
              "    <tr>\n",
              "      <th>h</th>\n",
              "      <td>-0.324343</td>\n",
              "      <td>0.040993</td>\n",
              "      <td>-0.074619</td>\n",
              "      <td>False</td>\n",
              "    </tr>\n",
              "  </tbody>\n",
              "</table>\n",
              "</div>"
            ],
            "text/plain": [
              "          A         B         C      D\n",
              "a       NaN -0.731079 -0.953484   True\n",
              "c  0.187802 -0.810518 -0.449295   True\n",
              "e  1.708082  0.284112  0.687721   True\n",
              "f -1.371643  0.118616  0.149498  False\n",
              "h -0.324343  0.040993 -0.074619  False"
            ]
          },
          "metadata": {
            "tags": []
          },
          "execution_count": 26
        }
      ]
    },
    {
      "cell_type": "markdown",
      "metadata": {
        "id": "NHj2kDTSqk35"
      },
      "source": [
        "## df.fillna()\n",
        "\n",
        "El método fillna() permite reemplazar los valores faltantes en un DataFrame por otro valor.\n",
        "\n",
        "Los principales parámetros de fillna():\n",
        "\n",
        "```\n",
        "value : escalar, diccionario, Series, o un DataFrame\n",
        "    El valor utilizado para reemplazar los faltantes.\n",
        "    Si es un diccionario, una serie o un dataframe, entonces\n",
        "    se utiliza el valor asociado a la clave, indice o columna asociada.\n",
        "\n",
        "method : {'backfill', 'bfill', 'pad', 'ffill', None}, por defecto None\n",
        "    El método utilizado para rellenar los espacios vacios.\n",
        "    * pad / ffill: usa el ultimo valor valido para rellenar \n",
        "    hacia adelante hasta el siguiente valor valido.\n",
        "    * backfill / bfill: utilizar la siguiente observacion \n",
        "    valida para rellenar.\n",
        "\n",
        "axis : {0 or 'index', 1 or 'columns'}\n",
        "```\n",
        "\n"
      ]
    },
    {
      "cell_type": "code",
      "metadata": {
        "id": "_jBS1p9SqlHi"
      },
      "source": [
        "#fillna con escalar\n",
        "df.fillna(0.0)"
      ],
      "execution_count": null,
      "outputs": []
    },
    {
      "cell_type": "code",
      "metadata": {
        "id": "ijAQd576yuK6"
      },
      "source": [
        "#usando un diccionario para reemplazar con un valor diferente cada columna\n",
        "df.fillna({'five': False, 'one': 0.0, 'two': 0.0, 'three': 0.0})"
      ],
      "execution_count": null,
      "outputs": []
    },
    {
      "cell_type": "code",
      "metadata": {
        "id": "qiJaI1CCxnU0"
      },
      "source": [
        "df.fillna(method='ffill')"
      ],
      "execution_count": null,
      "outputs": []
    },
    {
      "cell_type": "code",
      "metadata": {
        "id": "-jsnbmSbxncu"
      },
      "source": [
        "df.fillna(method='bfill')"
      ],
      "execution_count": null,
      "outputs": []
    },
    {
      "cell_type": "markdown",
      "metadata": {
        "id": "7orBVhvQSHzT"
      },
      "source": [
        "# Métodos Utilitarios\n",
        "\n",
        "* df.copy()\n",
        "* df.sort_values()\n",
        "* df.sort_index()"
      ]
    },
    {
      "cell_type": "markdown",
      "metadata": {
        "id": "aUdj9iOdjSsF"
      },
      "source": [
        "## df.copy()\n",
        "\n",
        "Crea una copia profunda (por defecto) del objeto:"
      ]
    },
    {
      "cell_type": "code",
      "metadata": {
        "id": "_ylxot4wjMrA",
        "colab": {
          "base_uri": "https://localhost:8080/",
          "height": 422
        },
        "outputId": "07afe547-5731-49c0-ad42-7dc7e191837f"
      },
      "source": [
        "df = cali_housing.copy()\n",
        "df"
      ],
      "execution_count": null,
      "outputs": [
        {
          "output_type": "execute_result",
          "data": {
            "text/html": [
              "<div>\n",
              "<style scoped>\n",
              "    .dataframe tbody tr th:only-of-type {\n",
              "        vertical-align: middle;\n",
              "    }\n",
              "\n",
              "    .dataframe tbody tr th {\n",
              "        vertical-align: top;\n",
              "    }\n",
              "\n",
              "    .dataframe thead th {\n",
              "        text-align: right;\n",
              "    }\n",
              "</style>\n",
              "<table border=\"1\" class=\"dataframe\">\n",
              "  <thead>\n",
              "    <tr style=\"text-align: right;\">\n",
              "      <th></th>\n",
              "      <th>longitude</th>\n",
              "      <th>latitude</th>\n",
              "      <th>housing_median_age</th>\n",
              "      <th>total_rooms</th>\n",
              "      <th>total_bedrooms</th>\n",
              "      <th>population</th>\n",
              "      <th>households</th>\n",
              "      <th>median_income</th>\n",
              "      <th>median_house_value</th>\n",
              "    </tr>\n",
              "  </thead>\n",
              "  <tbody>\n",
              "    <tr>\n",
              "      <th>0</th>\n",
              "      <td>-122.05</td>\n",
              "      <td>37.37</td>\n",
              "      <td>27</td>\n",
              "      <td>3885</td>\n",
              "      <td>661</td>\n",
              "      <td>1537</td>\n",
              "      <td>606</td>\n",
              "      <td>6.6085</td>\n",
              "      <td>344700</td>\n",
              "    </tr>\n",
              "    <tr>\n",
              "      <th>1</th>\n",
              "      <td>-118.30</td>\n",
              "      <td>34.26</td>\n",
              "      <td>43</td>\n",
              "      <td>1510</td>\n",
              "      <td>310</td>\n",
              "      <td>809</td>\n",
              "      <td>277</td>\n",
              "      <td>3.5990</td>\n",
              "      <td>176500</td>\n",
              "    </tr>\n",
              "    <tr>\n",
              "      <th>2</th>\n",
              "      <td>-117.81</td>\n",
              "      <td>33.78</td>\n",
              "      <td>27</td>\n",
              "      <td>3589</td>\n",
              "      <td>507</td>\n",
              "      <td>1484</td>\n",
              "      <td>495</td>\n",
              "      <td>5.7934</td>\n",
              "      <td>270500</td>\n",
              "    </tr>\n",
              "    <tr>\n",
              "      <th>3</th>\n",
              "      <td>-118.36</td>\n",
              "      <td>33.82</td>\n",
              "      <td>28</td>\n",
              "      <td>67</td>\n",
              "      <td>15</td>\n",
              "      <td>49</td>\n",
              "      <td>11</td>\n",
              "      <td>6.1359</td>\n",
              "      <td>330000</td>\n",
              "    </tr>\n",
              "    <tr>\n",
              "      <th>4</th>\n",
              "      <td>-119.67</td>\n",
              "      <td>36.33</td>\n",
              "      <td>19</td>\n",
              "      <td>1241</td>\n",
              "      <td>244</td>\n",
              "      <td>850</td>\n",
              "      <td>237</td>\n",
              "      <td>2.9375</td>\n",
              "      <td>81700</td>\n",
              "    </tr>\n",
              "    <tr>\n",
              "      <th>...</th>\n",
              "      <td>...</td>\n",
              "      <td>...</td>\n",
              "      <td>...</td>\n",
              "      <td>...</td>\n",
              "      <td>...</td>\n",
              "      <td>...</td>\n",
              "      <td>...</td>\n",
              "      <td>...</td>\n",
              "      <td>...</td>\n",
              "    </tr>\n",
              "    <tr>\n",
              "      <th>2995</th>\n",
              "      <td>-119.86</td>\n",
              "      <td>34.42</td>\n",
              "      <td>23</td>\n",
              "      <td>1450</td>\n",
              "      <td>642</td>\n",
              "      <td>1258</td>\n",
              "      <td>607</td>\n",
              "      <td>1.1790</td>\n",
              "      <td>225000</td>\n",
              "    </tr>\n",
              "    <tr>\n",
              "      <th>2996</th>\n",
              "      <td>-118.14</td>\n",
              "      <td>34.06</td>\n",
              "      <td>27</td>\n",
              "      <td>5257</td>\n",
              "      <td>1082</td>\n",
              "      <td>3496</td>\n",
              "      <td>1036</td>\n",
              "      <td>3.3906</td>\n",
              "      <td>237200</td>\n",
              "    </tr>\n",
              "    <tr>\n",
              "      <th>2997</th>\n",
              "      <td>-119.70</td>\n",
              "      <td>36.30</td>\n",
              "      <td>10</td>\n",
              "      <td>956</td>\n",
              "      <td>201</td>\n",
              "      <td>693</td>\n",
              "      <td>220</td>\n",
              "      <td>2.2895</td>\n",
              "      <td>62000</td>\n",
              "    </tr>\n",
              "    <tr>\n",
              "      <th>2998</th>\n",
              "      <td>-117.12</td>\n",
              "      <td>34.10</td>\n",
              "      <td>40</td>\n",
              "      <td>96</td>\n",
              "      <td>14</td>\n",
              "      <td>46</td>\n",
              "      <td>14</td>\n",
              "      <td>3.2708</td>\n",
              "      <td>162500</td>\n",
              "    </tr>\n",
              "    <tr>\n",
              "      <th>2999</th>\n",
              "      <td>-119.63</td>\n",
              "      <td>34.42</td>\n",
              "      <td>42</td>\n",
              "      <td>1765</td>\n",
              "      <td>263</td>\n",
              "      <td>753</td>\n",
              "      <td>260</td>\n",
              "      <td>8.5608</td>\n",
              "      <td>500001</td>\n",
              "    </tr>\n",
              "  </tbody>\n",
              "</table>\n",
              "<p>3000 rows × 9 columns</p>\n",
              "</div>"
            ],
            "text/plain": [
              "      longitude  latitude  ...  median_income  median_house_value\n",
              "0       -122.05     37.37  ...         6.6085              344700\n",
              "1       -118.30     34.26  ...         3.5990              176500\n",
              "2       -117.81     33.78  ...         5.7934              270500\n",
              "3       -118.36     33.82  ...         6.1359              330000\n",
              "4       -119.67     36.33  ...         2.9375               81700\n",
              "...         ...       ...  ...            ...                 ...\n",
              "2995    -119.86     34.42  ...         1.1790              225000\n",
              "2996    -118.14     34.06  ...         3.3906              237200\n",
              "2997    -119.70     36.30  ...         2.2895               62000\n",
              "2998    -117.12     34.10  ...         3.2708              162500\n",
              "2999    -119.63     34.42  ...         8.5608              500001\n",
              "\n",
              "[3000 rows x 9 columns]"
            ]
          },
          "metadata": {
            "tags": []
          },
          "execution_count": 30
        }
      ]
    },
    {
      "cell_type": "markdown",
      "metadata": {
        "id": "5W8QRU4ajQCl"
      },
      "source": [
        "## df.sort_values()"
      ]
    },
    {
      "cell_type": "code",
      "metadata": {
        "id": "I5dyrY1xjQLY",
        "colab": {
          "base_uri": "https://localhost:8080/",
          "height": 422
        },
        "outputId": "f217131d-eb4e-45c5-bd1a-21b56e853338"
      },
      "source": [
        "df.sort_values(\"housing_median_age\",ascending= False)"
      ],
      "execution_count": null,
      "outputs": [
        {
          "output_type": "execute_result",
          "data": {
            "text/html": [
              "<div>\n",
              "<style scoped>\n",
              "    .dataframe tbody tr th:only-of-type {\n",
              "        vertical-align: middle;\n",
              "    }\n",
              "\n",
              "    .dataframe tbody tr th {\n",
              "        vertical-align: top;\n",
              "    }\n",
              "\n",
              "    .dataframe thead th {\n",
              "        text-align: right;\n",
              "    }\n",
              "</style>\n",
              "<table border=\"1\" class=\"dataframe\">\n",
              "  <thead>\n",
              "    <tr style=\"text-align: right;\">\n",
              "      <th></th>\n",
              "      <th>longitude</th>\n",
              "      <th>latitude</th>\n",
              "      <th>housing_median_age</th>\n",
              "      <th>total_rooms</th>\n",
              "      <th>total_bedrooms</th>\n",
              "      <th>population</th>\n",
              "      <th>households</th>\n",
              "      <th>median_income</th>\n",
              "      <th>median_house_value</th>\n",
              "    </tr>\n",
              "  </thead>\n",
              "  <tbody>\n",
              "    <tr>\n",
              "      <th>2507</th>\n",
              "      <td>-118.15</td>\n",
              "      <td>33.77</td>\n",
              "      <td>52</td>\n",
              "      <td>2204</td>\n",
              "      <td>498</td>\n",
              "      <td>899</td>\n",
              "      <td>445</td>\n",
              "      <td>4.1765</td>\n",
              "      <td>393900</td>\n",
              "    </tr>\n",
              "    <tr>\n",
              "      <th>1865</th>\n",
              "      <td>-122.28</td>\n",
              "      <td>37.90</td>\n",
              "      <td>52</td>\n",
              "      <td>2003</td>\n",
              "      <td>250</td>\n",
              "      <td>658</td>\n",
              "      <td>244</td>\n",
              "      <td>10.0825</td>\n",
              "      <td>397000</td>\n",
              "    </tr>\n",
              "    <tr>\n",
              "      <th>541</th>\n",
              "      <td>-117.18</td>\n",
              "      <td>32.76</td>\n",
              "      <td>52</td>\n",
              "      <td>2023</td>\n",
              "      <td>301</td>\n",
              "      <td>649</td>\n",
              "      <td>285</td>\n",
              "      <td>4.7396</td>\n",
              "      <td>441700</td>\n",
              "    </tr>\n",
              "    <tr>\n",
              "      <th>2876</th>\n",
              "      <td>-122.50</td>\n",
              "      <td>37.77</td>\n",
              "      <td>52</td>\n",
              "      <td>2299</td>\n",
              "      <td>441</td>\n",
              "      <td>1252</td>\n",
              "      <td>415</td>\n",
              "      <td>5.0562</td>\n",
              "      <td>336700</td>\n",
              "    </tr>\n",
              "    <tr>\n",
              "      <th>306</th>\n",
              "      <td>-122.65</td>\n",
              "      <td>38.23</td>\n",
              "      <td>52</td>\n",
              "      <td>1735</td>\n",
              "      <td>347</td>\n",
              "      <td>712</td>\n",
              "      <td>343</td>\n",
              "      <td>3.1711</td>\n",
              "      <td>200800</td>\n",
              "    </tr>\n",
              "    <tr>\n",
              "      <th>...</th>\n",
              "      <td>...</td>\n",
              "      <td>...</td>\n",
              "      <td>...</td>\n",
              "      <td>...</td>\n",
              "      <td>...</td>\n",
              "      <td>...</td>\n",
              "      <td>...</td>\n",
              "      <td>...</td>\n",
              "      <td>...</td>\n",
              "    </tr>\n",
              "    <tr>\n",
              "      <th>2117</th>\n",
              "      <td>-117.51</td>\n",
              "      <td>34.16</td>\n",
              "      <td>2</td>\n",
              "      <td>718</td>\n",
              "      <td>98</td>\n",
              "      <td>119</td>\n",
              "      <td>50</td>\n",
              "      <td>4.1000</td>\n",
              "      <td>315000</td>\n",
              "    </tr>\n",
              "    <tr>\n",
              "      <th>1271</th>\n",
              "      <td>-120.98</td>\n",
              "      <td>37.59</td>\n",
              "      <td>2</td>\n",
              "      <td>5042</td>\n",
              "      <td>834</td>\n",
              "      <td>2784</td>\n",
              "      <td>787</td>\n",
              "      <td>4.6484</td>\n",
              "      <td>145900</td>\n",
              "    </tr>\n",
              "    <tr>\n",
              "      <th>2429</th>\n",
              "      <td>-117.20</td>\n",
              "      <td>33.58</td>\n",
              "      <td>2</td>\n",
              "      <td>30450</td>\n",
              "      <td>5033</td>\n",
              "      <td>9419</td>\n",
              "      <td>3197</td>\n",
              "      <td>4.5936</td>\n",
              "      <td>174300</td>\n",
              "    </tr>\n",
              "    <tr>\n",
              "      <th>1115</th>\n",
              "      <td>-116.95</td>\n",
              "      <td>33.86</td>\n",
              "      <td>1</td>\n",
              "      <td>6</td>\n",
              "      <td>2</td>\n",
              "      <td>8</td>\n",
              "      <td>2</td>\n",
              "      <td>1.6250</td>\n",
              "      <td>55000</td>\n",
              "    </tr>\n",
              "    <tr>\n",
              "      <th>842</th>\n",
              "      <td>-117.95</td>\n",
              "      <td>35.08</td>\n",
              "      <td>1</td>\n",
              "      <td>83</td>\n",
              "      <td>15</td>\n",
              "      <td>32</td>\n",
              "      <td>15</td>\n",
              "      <td>4.8750</td>\n",
              "      <td>141700</td>\n",
              "    </tr>\n",
              "  </tbody>\n",
              "</table>\n",
              "<p>3000 rows × 9 columns</p>\n",
              "</div>"
            ],
            "text/plain": [
              "      longitude  latitude  ...  median_income  median_house_value\n",
              "2507    -118.15     33.77  ...         4.1765              393900\n",
              "1865    -122.28     37.90  ...        10.0825              397000\n",
              "541     -117.18     32.76  ...         4.7396              441700\n",
              "2876    -122.50     37.77  ...         5.0562              336700\n",
              "306     -122.65     38.23  ...         3.1711              200800\n",
              "...         ...       ...  ...            ...                 ...\n",
              "2117    -117.51     34.16  ...         4.1000              315000\n",
              "1271    -120.98     37.59  ...         4.6484              145900\n",
              "2429    -117.20     33.58  ...         4.5936              174300\n",
              "1115    -116.95     33.86  ...         1.6250               55000\n",
              "842     -117.95     35.08  ...         4.8750              141700\n",
              "\n",
              "[3000 rows x 9 columns]"
            ]
          },
          "metadata": {
            "tags": []
          },
          "execution_count": 34
        }
      ]
    },
    {
      "cell_type": "markdown",
      "metadata": {
        "id": "Zet4Wt7DjQaP"
      },
      "source": [
        "## df.sort_index()"
      ]
    },
    {
      "cell_type": "code",
      "metadata": {
        "id": "E0eodMQRjQgb",
        "colab": {
          "base_uri": "https://localhost:8080/",
          "height": 215
        },
        "outputId": "635d0eef-2c28-43a5-8d1f-82e2bf8a5d37"
      },
      "source": [
        "#una muestra aleatoria\n",
        "df = cali_housing.sample(5)\n",
        "df"
      ],
      "execution_count": null,
      "outputs": [
        {
          "output_type": "execute_result",
          "data": {
            "text/html": [
              "<div>\n",
              "<style scoped>\n",
              "    .dataframe tbody tr th:only-of-type {\n",
              "        vertical-align: middle;\n",
              "    }\n",
              "\n",
              "    .dataframe tbody tr th {\n",
              "        vertical-align: top;\n",
              "    }\n",
              "\n",
              "    .dataframe thead th {\n",
              "        text-align: right;\n",
              "    }\n",
              "</style>\n",
              "<table border=\"1\" class=\"dataframe\">\n",
              "  <thead>\n",
              "    <tr style=\"text-align: right;\">\n",
              "      <th></th>\n",
              "      <th>longitude</th>\n",
              "      <th>latitude</th>\n",
              "      <th>housing_median_age</th>\n",
              "      <th>total_rooms</th>\n",
              "      <th>total_bedrooms</th>\n",
              "      <th>population</th>\n",
              "      <th>households</th>\n",
              "      <th>median_income</th>\n",
              "      <th>median_house_value</th>\n",
              "    </tr>\n",
              "  </thead>\n",
              "  <tbody>\n",
              "    <tr>\n",
              "      <th>290</th>\n",
              "      <td>-122.40</td>\n",
              "      <td>37.59</td>\n",
              "      <td>22</td>\n",
              "      <td>2754</td>\n",
              "      <td>477</td>\n",
              "      <td>1163</td>\n",
              "      <td>479</td>\n",
              "      <td>6.2306</td>\n",
              "      <td>500001</td>\n",
              "    </tr>\n",
              "    <tr>\n",
              "      <th>1483</th>\n",
              "      <td>-122.46</td>\n",
              "      <td>37.65</td>\n",
              "      <td>21</td>\n",
              "      <td>2751</td>\n",
              "      <td>502</td>\n",
              "      <td>2027</td>\n",
              "      <td>491</td>\n",
              "      <td>5.2573</td>\n",
              "      <td>322900</td>\n",
              "    </tr>\n",
              "    <tr>\n",
              "      <th>1664</th>\n",
              "      <td>-117.08</td>\n",
              "      <td>32.74</td>\n",
              "      <td>35</td>\n",
              "      <td>1434</td>\n",
              "      <td>253</td>\n",
              "      <td>753</td>\n",
              "      <td>228</td>\n",
              "      <td>2.3812</td>\n",
              "      <td>135100</td>\n",
              "    </tr>\n",
              "    <tr>\n",
              "      <th>862</th>\n",
              "      <td>-117.68</td>\n",
              "      <td>35.65</td>\n",
              "      <td>15</td>\n",
              "      <td>2701</td>\n",
              "      <td>576</td>\n",
              "      <td>1245</td>\n",
              "      <td>513</td>\n",
              "      <td>3.3269</td>\n",
              "      <td>81900</td>\n",
              "    </tr>\n",
              "    <tr>\n",
              "      <th>2678</th>\n",
              "      <td>-118.04</td>\n",
              "      <td>33.93</td>\n",
              "      <td>35</td>\n",
              "      <td>1805</td>\n",
              "      <td>387</td>\n",
              "      <td>1505</td>\n",
              "      <td>366</td>\n",
              "      <td>4.1667</td>\n",
              "      <td>151900</td>\n",
              "    </tr>\n",
              "  </tbody>\n",
              "</table>\n",
              "</div>"
            ],
            "text/plain": [
              "      longitude  latitude  ...  median_income  median_house_value\n",
              "290     -122.40     37.59  ...         6.2306              500001\n",
              "1483    -122.46     37.65  ...         5.2573              322900\n",
              "1664    -117.08     32.74  ...         2.3812              135100\n",
              "862     -117.68     35.65  ...         3.3269               81900\n",
              "2678    -118.04     33.93  ...         4.1667              151900\n",
              "\n",
              "[5 rows x 9 columns]"
            ]
          },
          "metadata": {
            "tags": []
          },
          "execution_count": 38
        }
      ]
    },
    {
      "cell_type": "code",
      "metadata": {
        "id": "z5hZDIeATSuy"
      },
      "source": [
        "#ordenar por index\n",
        "df.sort_index()"
      ],
      "execution_count": null,
      "outputs": []
    },
    {
      "cell_type": "markdown",
      "metadata": {
        "id": "WpFJKTtLSH6q"
      },
      "source": [
        "# Métodos matemáticos\n",
        "\n",
        "Operaciones binarias:\n",
        "\n",
        "* add(other), suma elemento por elemento un DataFrames/Series y other.\n",
        "* sub(other), resta elemento por elemento un DataFrames/Series y other.\n",
        "* mul(other), multiplicación elemento por elemento de un DataFrames/Series por other.\n",
        "* div(other), divide elemento por elemento un DataFrames/Series entre other.\n",
        "* mod(other), calcula el módulo de un DataFrame/Series usando other.\n",
        "* pow(other), calcula el exponente elemento por elemento de un DataFrame/Series elevado a la potencia de other.\n",
        "* dot(other), producto punto o de matrices entre dos Series/DataFrames respectivamente.\n",
        "\n",
        "_Las operaciones binarias pueden utilizar broadcasting._\n",
        "\n",
        "\n",
        "Operaciones estadísticas:\n",
        "* abs(), valor absoluto de los elementos.\n",
        "* count(axis), cuenta el número de elementos no-nulos en las filas o columnas. \n",
        "* max(axis), retorna el valor máximo encontrado por filas o columnas.\n",
        "* min(axis), retorna el valor mínimo encontrado por filas o columnas.\n",
        "* mean(axis), retorna la media de los elementos por filas o columnas.\n",
        "* median(axis), retorna la mediana de los elementos de las filas o columnas.\n",
        "* sum(axis), retorna la suma de todos los elementos de las filas o columnas.\n",
        "* std(axis), retorna la desviación estándar de las filas o columnas.\n",
        "* var(axis),retorna la varianza de las filas o columnas."
      ]
    },
    {
      "cell_type": "markdown",
      "metadata": {
        "id": "GIymgx0GKjyI"
      },
      "source": [
        "## Operaciones binarias"
      ]
    },
    {
      "cell_type": "code",
      "metadata": {
        "id": "t8jB4PTpLlwL",
        "colab": {
          "base_uri": "https://localhost:8080/",
          "height": 136
        },
        "outputId": "3dc6fd32-20ad-46c3-aa54-1ee85c9a27e7"
      },
      "source": [
        "#creamos un dataframe para ejemplificar las funciones\n",
        "df = pd.DataFrame({'angles': [0, 3, 4], 'degrees': [360, 180, 360]}, index=['circle', 'triangle', 'rectangle'])\n",
        "df"
      ],
      "execution_count": null,
      "outputs": [
        {
          "output_type": "execute_result",
          "data": {
            "text/html": [
              "<div>\n",
              "<style scoped>\n",
              "    .dataframe tbody tr th:only-of-type {\n",
              "        vertical-align: middle;\n",
              "    }\n",
              "\n",
              "    .dataframe tbody tr th {\n",
              "        vertical-align: top;\n",
              "    }\n",
              "\n",
              "    .dataframe thead th {\n",
              "        text-align: right;\n",
              "    }\n",
              "</style>\n",
              "<table border=\"1\" class=\"dataframe\">\n",
              "  <thead>\n",
              "    <tr style=\"text-align: right;\">\n",
              "      <th></th>\n",
              "      <th>angles</th>\n",
              "      <th>degrees</th>\n",
              "    </tr>\n",
              "  </thead>\n",
              "  <tbody>\n",
              "    <tr>\n",
              "      <th>circle</th>\n",
              "      <td>0</td>\n",
              "      <td>360</td>\n",
              "    </tr>\n",
              "    <tr>\n",
              "      <th>triangle</th>\n",
              "      <td>3</td>\n",
              "      <td>180</td>\n",
              "    </tr>\n",
              "    <tr>\n",
              "      <th>rectangle</th>\n",
              "      <td>4</td>\n",
              "      <td>360</td>\n",
              "    </tr>\n",
              "  </tbody>\n",
              "</table>\n",
              "</div>"
            ],
            "text/plain": [
              "           angles  degrees\n",
              "circle          0      360\n",
              "triangle        3      180\n",
              "rectangle       4      360"
            ]
          },
          "metadata": {
            "tags": []
          },
          "execution_count": 39
        }
      ]
    },
    {
      "cell_type": "markdown",
      "metadata": {
        "id": "kYiT5W6xKsVt"
      },
      "source": [
        "### add(), sub(), mul() y div()"
      ]
    },
    {
      "cell_type": "code",
      "metadata": {
        "id": "IEyrVIZ1hLEY",
        "colab": {
          "base_uri": "https://localhost:8080/",
          "height": 136
        },
        "outputId": "b6ddfde9-48fd-4238-ea4a-0d2611078af2"
      },
      "source": [
        "df.add(1)"
      ],
      "execution_count": null,
      "outputs": [
        {
          "output_type": "execute_result",
          "data": {
            "text/html": [
              "<div>\n",
              "<style scoped>\n",
              "    .dataframe tbody tr th:only-of-type {\n",
              "        vertical-align: middle;\n",
              "    }\n",
              "\n",
              "    .dataframe tbody tr th {\n",
              "        vertical-align: top;\n",
              "    }\n",
              "\n",
              "    .dataframe thead th {\n",
              "        text-align: right;\n",
              "    }\n",
              "</style>\n",
              "<table border=\"1\" class=\"dataframe\">\n",
              "  <thead>\n",
              "    <tr style=\"text-align: right;\">\n",
              "      <th></th>\n",
              "      <th>angles</th>\n",
              "      <th>degrees</th>\n",
              "    </tr>\n",
              "  </thead>\n",
              "  <tbody>\n",
              "    <tr>\n",
              "      <th>circle</th>\n",
              "      <td>1</td>\n",
              "      <td>361</td>\n",
              "    </tr>\n",
              "    <tr>\n",
              "      <th>triangle</th>\n",
              "      <td>4</td>\n",
              "      <td>181</td>\n",
              "    </tr>\n",
              "    <tr>\n",
              "      <th>rectangle</th>\n",
              "      <td>5</td>\n",
              "      <td>361</td>\n",
              "    </tr>\n",
              "  </tbody>\n",
              "</table>\n",
              "</div>"
            ],
            "text/plain": [
              "           angles  degrees\n",
              "circle          1      361\n",
              "triangle        4      181\n",
              "rectangle       5      361"
            ]
          },
          "metadata": {
            "tags": []
          },
          "execution_count": 40
        }
      ]
    },
    {
      "cell_type": "code",
      "metadata": {
        "id": "VdD5jMxxL9UO",
        "colab": {
          "base_uri": "https://localhost:8080/",
          "height": 136
        },
        "outputId": "898f64bf-6b00-4599-eaf7-ce49f8f754b4"
      },
      "source": [
        "df.mul(3)"
      ],
      "execution_count": null,
      "outputs": [
        {
          "output_type": "execute_result",
          "data": {
            "text/html": [
              "<div>\n",
              "<style scoped>\n",
              "    .dataframe tbody tr th:only-of-type {\n",
              "        vertical-align: middle;\n",
              "    }\n",
              "\n",
              "    .dataframe tbody tr th {\n",
              "        vertical-align: top;\n",
              "    }\n",
              "\n",
              "    .dataframe thead th {\n",
              "        text-align: right;\n",
              "    }\n",
              "</style>\n",
              "<table border=\"1\" class=\"dataframe\">\n",
              "  <thead>\n",
              "    <tr style=\"text-align: right;\">\n",
              "      <th></th>\n",
              "      <th>angles</th>\n",
              "      <th>degrees</th>\n",
              "    </tr>\n",
              "  </thead>\n",
              "  <tbody>\n",
              "    <tr>\n",
              "      <th>circle</th>\n",
              "      <td>0</td>\n",
              "      <td>1080</td>\n",
              "    </tr>\n",
              "    <tr>\n",
              "      <th>triangle</th>\n",
              "      <td>9</td>\n",
              "      <td>540</td>\n",
              "    </tr>\n",
              "    <tr>\n",
              "      <th>rectangle</th>\n",
              "      <td>12</td>\n",
              "      <td>1080</td>\n",
              "    </tr>\n",
              "  </tbody>\n",
              "</table>\n",
              "</div>"
            ],
            "text/plain": [
              "           angles  degrees\n",
              "circle          0     1080\n",
              "triangle        9      540\n",
              "rectangle      12     1080"
            ]
          },
          "metadata": {
            "tags": []
          },
          "execution_count": 45
        }
      ]
    },
    {
      "cell_type": "code",
      "metadata": {
        "id": "uYU8Nj9HL-ys",
        "colab": {
          "base_uri": "https://localhost:8080/",
          "height": 136
        },
        "outputId": "a99bde0b-a787-4743-8ca5-f2a49ba521c5"
      },
      "source": [
        "df.div(2)"
      ],
      "execution_count": null,
      "outputs": [
        {
          "output_type": "execute_result",
          "data": {
            "text/html": [
              "<div>\n",
              "<style scoped>\n",
              "    .dataframe tbody tr th:only-of-type {\n",
              "        vertical-align: middle;\n",
              "    }\n",
              "\n",
              "    .dataframe tbody tr th {\n",
              "        vertical-align: top;\n",
              "    }\n",
              "\n",
              "    .dataframe thead th {\n",
              "        text-align: right;\n",
              "    }\n",
              "</style>\n",
              "<table border=\"1\" class=\"dataframe\">\n",
              "  <thead>\n",
              "    <tr style=\"text-align: right;\">\n",
              "      <th></th>\n",
              "      <th>angles</th>\n",
              "      <th>degrees</th>\n",
              "    </tr>\n",
              "  </thead>\n",
              "  <tbody>\n",
              "    <tr>\n",
              "      <th>circle</th>\n",
              "      <td>0.0</td>\n",
              "      <td>180.0</td>\n",
              "    </tr>\n",
              "    <tr>\n",
              "      <th>triangle</th>\n",
              "      <td>1.5</td>\n",
              "      <td>90.0</td>\n",
              "    </tr>\n",
              "    <tr>\n",
              "      <th>rectangle</th>\n",
              "      <td>2.0</td>\n",
              "      <td>180.0</td>\n",
              "    </tr>\n",
              "  </tbody>\n",
              "</table>\n",
              "</div>"
            ],
            "text/plain": [
              "           angles  degrees\n",
              "circle        0.0    180.0\n",
              "triangle      1.5     90.0\n",
              "rectangle     2.0    180.0"
            ]
          },
          "metadata": {
            "tags": []
          },
          "execution_count": 42
        }
      ]
    },
    {
      "cell_type": "markdown",
      "metadata": {
        "id": "X0eCoCPzKwTT"
      },
      "source": [
        "### mod() y pow()"
      ]
    },
    {
      "cell_type": "code",
      "metadata": {
        "id": "N2LKPhushLmc"
      },
      "source": [
        "df.mod(2)"
      ],
      "execution_count": null,
      "outputs": []
    },
    {
      "cell_type": "code",
      "metadata": {
        "id": "ZtqiK_x9MP9z",
        "colab": {
          "base_uri": "https://localhost:8080/",
          "height": 136
        },
        "outputId": "ca149b5e-3392-410c-e195-ca652e48ded9"
      },
      "source": [
        "df.pow(3)"
      ],
      "execution_count": null,
      "outputs": [
        {
          "output_type": "execute_result",
          "data": {
            "text/html": [
              "<div>\n",
              "<style scoped>\n",
              "    .dataframe tbody tr th:only-of-type {\n",
              "        vertical-align: middle;\n",
              "    }\n",
              "\n",
              "    .dataframe tbody tr th {\n",
              "        vertical-align: top;\n",
              "    }\n",
              "\n",
              "    .dataframe thead th {\n",
              "        text-align: right;\n",
              "    }\n",
              "</style>\n",
              "<table border=\"1\" class=\"dataframe\">\n",
              "  <thead>\n",
              "    <tr style=\"text-align: right;\">\n",
              "      <th></th>\n",
              "      <th>angles</th>\n",
              "      <th>degrees</th>\n",
              "    </tr>\n",
              "  </thead>\n",
              "  <tbody>\n",
              "    <tr>\n",
              "      <th>circle</th>\n",
              "      <td>0</td>\n",
              "      <td>46656000</td>\n",
              "    </tr>\n",
              "    <tr>\n",
              "      <th>triangle</th>\n",
              "      <td>27</td>\n",
              "      <td>5832000</td>\n",
              "    </tr>\n",
              "    <tr>\n",
              "      <th>rectangle</th>\n",
              "      <td>64</td>\n",
              "      <td>46656000</td>\n",
              "    </tr>\n",
              "  </tbody>\n",
              "</table>\n",
              "</div>"
            ],
            "text/plain": [
              "           angles   degrees\n",
              "circle          0  46656000\n",
              "triangle       27   5832000\n",
              "rectangle      64  46656000"
            ]
          },
          "metadata": {
            "tags": []
          },
          "execution_count": 44
        }
      ]
    },
    {
      "cell_type": "markdown",
      "metadata": {
        "id": "d9BNaw_GK01I"
      },
      "source": [
        "### dot()"
      ]
    },
    {
      "cell_type": "code",
      "metadata": {
        "id": "7CjDky-LMcQN",
        "colab": {
          "base_uri": "https://localhost:8080/",
          "height": 106
        },
        "outputId": "5f5f8877-af61-4a7e-a6a1-28ae1501114e"
      },
      "source": [
        "#un nuevo dataframe para ejemplificar dot\n",
        "df = pd.DataFrame([[0, 1, -2, -1], [1, 1, 1, 1]])\n",
        "df"
      ],
      "execution_count": null,
      "outputs": [
        {
          "output_type": "execute_result",
          "data": {
            "text/html": [
              "<div>\n",
              "<style scoped>\n",
              "    .dataframe tbody tr th:only-of-type {\n",
              "        vertical-align: middle;\n",
              "    }\n",
              "\n",
              "    .dataframe tbody tr th {\n",
              "        vertical-align: top;\n",
              "    }\n",
              "\n",
              "    .dataframe thead th {\n",
              "        text-align: right;\n",
              "    }\n",
              "</style>\n",
              "<table border=\"1\" class=\"dataframe\">\n",
              "  <thead>\n",
              "    <tr style=\"text-align: right;\">\n",
              "      <th></th>\n",
              "      <th>0</th>\n",
              "      <th>1</th>\n",
              "      <th>2</th>\n",
              "      <th>3</th>\n",
              "    </tr>\n",
              "  </thead>\n",
              "  <tbody>\n",
              "    <tr>\n",
              "      <th>0</th>\n",
              "      <td>0</td>\n",
              "      <td>1</td>\n",
              "      <td>-2</td>\n",
              "      <td>-1</td>\n",
              "    </tr>\n",
              "    <tr>\n",
              "      <th>1</th>\n",
              "      <td>1</td>\n",
              "      <td>1</td>\n",
              "      <td>1</td>\n",
              "      <td>1</td>\n",
              "    </tr>\n",
              "  </tbody>\n",
              "</table>\n",
              "</div>"
            ],
            "text/plain": [
              "   0  1  2  3\n",
              "0  0  1 -2 -1\n",
              "1  1  1  1  1"
            ]
          },
          "metadata": {
            "tags": []
          },
          "execution_count": 46
        }
      ]
    },
    {
      "cell_type": "code",
      "metadata": {
        "id": "GdKKQyURK08h",
        "colab": {
          "base_uri": "https://localhost:8080/",
          "height": 67
        },
        "outputId": "8eccea6c-bb85-4f45-a979-392ae51a1954"
      },
      "source": [
        "#dot usando una serie\n",
        "s = pd.Series([1, 1, 2, 1])\n",
        "df.dot(s)"
      ],
      "execution_count": null,
      "outputs": [
        {
          "output_type": "execute_result",
          "data": {
            "text/plain": [
              "0   -4\n",
              "1    5\n",
              "dtype: int64"
            ]
          },
          "metadata": {
            "tags": []
          },
          "execution_count": 47
        }
      ]
    },
    {
      "cell_type": "code",
      "metadata": {
        "id": "jLvzQjZOMuJR",
        "colab": {
          "base_uri": "https://localhost:8080/",
          "height": 106
        },
        "outputId": "e0434215-457c-4fe0-f63f-f1b7bd177fd1"
      },
      "source": [
        "#dot de dos matrices\n",
        "other = pd.DataFrame([[0, 1], [1, 2], [-1, -1], [2, 0]])\n",
        "df.dot(other)"
      ],
      "execution_count": null,
      "outputs": [
        {
          "output_type": "execute_result",
          "data": {
            "text/html": [
              "<div>\n",
              "<style scoped>\n",
              "    .dataframe tbody tr th:only-of-type {\n",
              "        vertical-align: middle;\n",
              "    }\n",
              "\n",
              "    .dataframe tbody tr th {\n",
              "        vertical-align: top;\n",
              "    }\n",
              "\n",
              "    .dataframe thead th {\n",
              "        text-align: right;\n",
              "    }\n",
              "</style>\n",
              "<table border=\"1\" class=\"dataframe\">\n",
              "  <thead>\n",
              "    <tr style=\"text-align: right;\">\n",
              "      <th></th>\n",
              "      <th>0</th>\n",
              "      <th>1</th>\n",
              "    </tr>\n",
              "  </thead>\n",
              "  <tbody>\n",
              "    <tr>\n",
              "      <th>0</th>\n",
              "      <td>1</td>\n",
              "      <td>4</td>\n",
              "    </tr>\n",
              "    <tr>\n",
              "      <th>1</th>\n",
              "      <td>2</td>\n",
              "      <td>2</td>\n",
              "    </tr>\n",
              "  </tbody>\n",
              "</table>\n",
              "</div>"
            ],
            "text/plain": [
              "   0  1\n",
              "0  1  4\n",
              "1  2  2"
            ]
          },
          "metadata": {
            "tags": []
          },
          "execution_count": 48
        }
      ]
    },
    {
      "cell_type": "markdown",
      "metadata": {
        "id": "hN3IC4dlKnUI"
      },
      "source": [
        "## Operaciones estadísticas"
      ]
    },
    {
      "cell_type": "markdown",
      "metadata": {
        "id": "giITZgImLK05"
      },
      "source": [
        "### abs()"
      ]
    },
    {
      "cell_type": "code",
      "metadata": {
        "id": "qR_CH7C6jMFk",
        "colab": {
          "base_uri": "https://localhost:8080/",
          "height": 166
        },
        "outputId": "704fd948-5aa8-43a7-f74e-8b77f87b8113"
      },
      "source": [
        "#un df con valores negativos\n",
        "df = pd.DataFrame({'a': [4, -5, -6, 7], 'b': [-10, 20, 30, -40], 'c': [100, 50, -30, -50]})\n",
        "df"
      ],
      "execution_count": null,
      "outputs": [
        {
          "output_type": "execute_result",
          "data": {
            "text/html": [
              "<div>\n",
              "<style scoped>\n",
              "    .dataframe tbody tr th:only-of-type {\n",
              "        vertical-align: middle;\n",
              "    }\n",
              "\n",
              "    .dataframe tbody tr th {\n",
              "        vertical-align: top;\n",
              "    }\n",
              "\n",
              "    .dataframe thead th {\n",
              "        text-align: right;\n",
              "    }\n",
              "</style>\n",
              "<table border=\"1\" class=\"dataframe\">\n",
              "  <thead>\n",
              "    <tr style=\"text-align: right;\">\n",
              "      <th></th>\n",
              "      <th>a</th>\n",
              "      <th>b</th>\n",
              "      <th>c</th>\n",
              "    </tr>\n",
              "  </thead>\n",
              "  <tbody>\n",
              "    <tr>\n",
              "      <th>0</th>\n",
              "      <td>4</td>\n",
              "      <td>-10</td>\n",
              "      <td>100</td>\n",
              "    </tr>\n",
              "    <tr>\n",
              "      <th>1</th>\n",
              "      <td>-5</td>\n",
              "      <td>20</td>\n",
              "      <td>50</td>\n",
              "    </tr>\n",
              "    <tr>\n",
              "      <th>2</th>\n",
              "      <td>-6</td>\n",
              "      <td>30</td>\n",
              "      <td>-30</td>\n",
              "    </tr>\n",
              "    <tr>\n",
              "      <th>3</th>\n",
              "      <td>7</td>\n",
              "      <td>-40</td>\n",
              "      <td>-50</td>\n",
              "    </tr>\n",
              "  </tbody>\n",
              "</table>\n",
              "</div>"
            ],
            "text/plain": [
              "   a   b    c\n",
              "0  4 -10  100\n",
              "1 -5  20   50\n",
              "2 -6  30  -30\n",
              "3  7 -40  -50"
            ]
          },
          "metadata": {
            "tags": []
          },
          "execution_count": 49
        }
      ]
    },
    {
      "cell_type": "code",
      "metadata": {
        "id": "6Fvi1UeOmQZI",
        "colab": {
          "base_uri": "https://localhost:8080/",
          "height": 166
        },
        "outputId": "eb0db576-4ee8-4adc-b7be-f43bf292d650"
      },
      "source": [
        "df.abs()"
      ],
      "execution_count": null,
      "outputs": [
        {
          "output_type": "execute_result",
          "data": {
            "text/html": [
              "<div>\n",
              "<style scoped>\n",
              "    .dataframe tbody tr th:only-of-type {\n",
              "        vertical-align: middle;\n",
              "    }\n",
              "\n",
              "    .dataframe tbody tr th {\n",
              "        vertical-align: top;\n",
              "    }\n",
              "\n",
              "    .dataframe thead th {\n",
              "        text-align: right;\n",
              "    }\n",
              "</style>\n",
              "<table border=\"1\" class=\"dataframe\">\n",
              "  <thead>\n",
              "    <tr style=\"text-align: right;\">\n",
              "      <th></th>\n",
              "      <th>a</th>\n",
              "      <th>b</th>\n",
              "      <th>c</th>\n",
              "    </tr>\n",
              "  </thead>\n",
              "  <tbody>\n",
              "    <tr>\n",
              "      <th>0</th>\n",
              "      <td>4</td>\n",
              "      <td>10</td>\n",
              "      <td>100</td>\n",
              "    </tr>\n",
              "    <tr>\n",
              "      <th>1</th>\n",
              "      <td>5</td>\n",
              "      <td>20</td>\n",
              "      <td>50</td>\n",
              "    </tr>\n",
              "    <tr>\n",
              "      <th>2</th>\n",
              "      <td>6</td>\n",
              "      <td>30</td>\n",
              "      <td>30</td>\n",
              "    </tr>\n",
              "    <tr>\n",
              "      <th>3</th>\n",
              "      <td>7</td>\n",
              "      <td>40</td>\n",
              "      <td>50</td>\n",
              "    </tr>\n",
              "  </tbody>\n",
              "</table>\n",
              "</div>"
            ],
            "text/plain": [
              "   a   b    c\n",
              "0  4  10  100\n",
              "1  5  20   50\n",
              "2  6  30   30\n",
              "3  7  40   50"
            ]
          },
          "metadata": {
            "tags": []
          },
          "execution_count": 50
        }
      ]
    },
    {
      "cell_type": "markdown",
      "metadata": {
        "id": "1Qpx3o7tLO2L"
      },
      "source": [
        "### count()"
      ]
    },
    {
      "cell_type": "code",
      "metadata": {
        "id": "TRQ1-i_MLO6R",
        "colab": {
          "base_uri": "https://localhost:8080/",
          "height": 195
        },
        "outputId": "efa95429-a695-41da-ca9f-17d4efcfb55d"
      },
      "source": [
        "#un dataframe con valores no-nulos y nuelos\n",
        "df = pd.DataFrame({\"Person\":[\"John\", \"Myla\", \"Lewis\", \"John\", \"Myla\"],\n",
        "                    \"Age\": [24., np.nan, 21., 33, 26],\n",
        "                    \"Single\": [False, True, True, np.nan, np.nan]})\n",
        "df"
      ],
      "execution_count": null,
      "outputs": [
        {
          "output_type": "execute_result",
          "data": {
            "text/html": [
              "<div>\n",
              "<style scoped>\n",
              "    .dataframe tbody tr th:only-of-type {\n",
              "        vertical-align: middle;\n",
              "    }\n",
              "\n",
              "    .dataframe tbody tr th {\n",
              "        vertical-align: top;\n",
              "    }\n",
              "\n",
              "    .dataframe thead th {\n",
              "        text-align: right;\n",
              "    }\n",
              "</style>\n",
              "<table border=\"1\" class=\"dataframe\">\n",
              "  <thead>\n",
              "    <tr style=\"text-align: right;\">\n",
              "      <th></th>\n",
              "      <th>Person</th>\n",
              "      <th>Age</th>\n",
              "      <th>Single</th>\n",
              "    </tr>\n",
              "  </thead>\n",
              "  <tbody>\n",
              "    <tr>\n",
              "      <th>0</th>\n",
              "      <td>John</td>\n",
              "      <td>24.0</td>\n",
              "      <td>False</td>\n",
              "    </tr>\n",
              "    <tr>\n",
              "      <th>1</th>\n",
              "      <td>Myla</td>\n",
              "      <td>NaN</td>\n",
              "      <td>True</td>\n",
              "    </tr>\n",
              "    <tr>\n",
              "      <th>2</th>\n",
              "      <td>Lewis</td>\n",
              "      <td>21.0</td>\n",
              "      <td>True</td>\n",
              "    </tr>\n",
              "    <tr>\n",
              "      <th>3</th>\n",
              "      <td>John</td>\n",
              "      <td>33.0</td>\n",
              "      <td>NaN</td>\n",
              "    </tr>\n",
              "    <tr>\n",
              "      <th>4</th>\n",
              "      <td>Myla</td>\n",
              "      <td>26.0</td>\n",
              "      <td>NaN</td>\n",
              "    </tr>\n",
              "  </tbody>\n",
              "</table>\n",
              "</div>"
            ],
            "text/plain": [
              "  Person   Age Single\n",
              "0   John  24.0  False\n",
              "1   Myla   NaN   True\n",
              "2  Lewis  21.0   True\n",
              "3   John  33.0    NaN\n",
              "4   Myla  26.0    NaN"
            ]
          },
          "metadata": {
            "tags": []
          },
          "execution_count": 51
        }
      ]
    },
    {
      "cell_type": "markdown",
      "metadata": {
        "id": "bhRjhAwsoc3i"
      },
      "source": [
        "Por columna (por defecto axis=0):"
      ]
    },
    {
      "cell_type": "code",
      "metadata": {
        "id": "b9UZfmFrmuxM",
        "colab": {
          "base_uri": "https://localhost:8080/",
          "height": 84
        },
        "outputId": "95799e4c-56c4-4920-9341-e40e209a02ad"
      },
      "source": [
        "df.count()"
      ],
      "execution_count": null,
      "outputs": [
        {
          "output_type": "execute_result",
          "data": {
            "text/plain": [
              "Person    5\n",
              "Age       4\n",
              "Single    3\n",
              "dtype: int64"
            ]
          },
          "metadata": {
            "tags": []
          },
          "execution_count": 52
        }
      ]
    },
    {
      "cell_type": "markdown",
      "metadata": {
        "id": "rm_XPyieodTa"
      },
      "source": [
        "Por fila (axis=1)"
      ]
    },
    {
      "cell_type": "code",
      "metadata": {
        "id": "xIecQd5aodY3",
        "colab": {
          "base_uri": "https://localhost:8080/",
          "height": 118
        },
        "outputId": "08620cb1-ce48-4c90-9207-8fc4a87a6666"
      },
      "source": [
        "df.count(axis=1)"
      ],
      "execution_count": null,
      "outputs": [
        {
          "output_type": "execute_result",
          "data": {
            "text/plain": [
              "0    3\n",
              "1    2\n",
              "2    3\n",
              "3    2\n",
              "4    2\n",
              "dtype: int64"
            ]
          },
          "metadata": {
            "tags": []
          },
          "execution_count": 53
        }
      ]
    },
    {
      "cell_type": "markdown",
      "metadata": {
        "id": "sYkKe0CeLQj9"
      },
      "source": [
        "### max() y min()"
      ]
    },
    {
      "cell_type": "code",
      "metadata": {
        "id": "i8ASz2GHm0oN",
        "colab": {
          "base_uri": "https://localhost:8080/",
          "height": 136
        },
        "outputId": "c0e11e8e-58ec-4b12-b129-38d9eae50d15"
      },
      "source": [
        "#creamos un dataframe para ejemplificar las funciones\n",
        "df = pd.DataFrame({'angles': [0, 3, 4], 'degrees': [360, 180, 360]}, index=['circle', 'triangle', 'rectangle'])\n",
        "df"
      ],
      "execution_count": null,
      "outputs": [
        {
          "output_type": "execute_result",
          "data": {
            "text/html": [
              "<div>\n",
              "<style scoped>\n",
              "    .dataframe tbody tr th:only-of-type {\n",
              "        vertical-align: middle;\n",
              "    }\n",
              "\n",
              "    .dataframe tbody tr th {\n",
              "        vertical-align: top;\n",
              "    }\n",
              "\n",
              "    .dataframe thead th {\n",
              "        text-align: right;\n",
              "    }\n",
              "</style>\n",
              "<table border=\"1\" class=\"dataframe\">\n",
              "  <thead>\n",
              "    <tr style=\"text-align: right;\">\n",
              "      <th></th>\n",
              "      <th>angles</th>\n",
              "      <th>degrees</th>\n",
              "    </tr>\n",
              "  </thead>\n",
              "  <tbody>\n",
              "    <tr>\n",
              "      <th>circle</th>\n",
              "      <td>0</td>\n",
              "      <td>360</td>\n",
              "    </tr>\n",
              "    <tr>\n",
              "      <th>triangle</th>\n",
              "      <td>3</td>\n",
              "      <td>180</td>\n",
              "    </tr>\n",
              "    <tr>\n",
              "      <th>rectangle</th>\n",
              "      <td>4</td>\n",
              "      <td>360</td>\n",
              "    </tr>\n",
              "  </tbody>\n",
              "</table>\n",
              "</div>"
            ],
            "text/plain": [
              "           angles  degrees\n",
              "circle          0      360\n",
              "triangle        3      180\n",
              "rectangle       4      360"
            ]
          },
          "metadata": {
            "tags": []
          },
          "execution_count": 55
        }
      ]
    },
    {
      "cell_type": "markdown",
      "metadata": {
        "id": "bQavGGrFnH1l"
      },
      "source": [
        "Por columna (por defecto o axis=0):"
      ]
    },
    {
      "cell_type": "code",
      "metadata": {
        "id": "voNH4Yf5csuy",
        "colab": {
          "base_uri": "https://localhost:8080/",
          "height": 67
        },
        "outputId": "2c2e776b-d973-45f5-aee7-4f662df7a097"
      },
      "source": [
        "df.max(axis=0)"
      ],
      "execution_count": null,
      "outputs": [
        {
          "output_type": "execute_result",
          "data": {
            "text/plain": [
              "angles       4\n",
              "degrees    360\n",
              "dtype: int64"
            ]
          },
          "metadata": {
            "tags": []
          },
          "execution_count": 56
        }
      ]
    },
    {
      "cell_type": "code",
      "metadata": {
        "id": "LtId7n9PnEyr",
        "colab": {
          "base_uri": "https://localhost:8080/",
          "height": 67
        },
        "outputId": "40adde2f-3b40-4584-9b64-d080de01e589"
      },
      "source": [
        "df.min()"
      ],
      "execution_count": null,
      "outputs": [
        {
          "output_type": "execute_result",
          "data": {
            "text/plain": [
              "angles       0\n",
              "degrees    180\n",
              "dtype: int64"
            ]
          },
          "metadata": {
            "tags": []
          },
          "execution_count": 57
        }
      ]
    },
    {
      "cell_type": "markdown",
      "metadata": {
        "id": "e4JTvqUnnMr8"
      },
      "source": [
        "Por filas:"
      ]
    },
    {
      "cell_type": "code",
      "metadata": {
        "id": "6D5arL57nO43",
        "colab": {
          "base_uri": "https://localhost:8080/",
          "height": 84
        },
        "outputId": "90d89e1f-9942-46b2-922f-b7344f7be8e4"
      },
      "source": [
        "df.max(axis=1)"
      ],
      "execution_count": null,
      "outputs": [
        {
          "output_type": "execute_result",
          "data": {
            "text/plain": [
              "circle       360\n",
              "triangle     180\n",
              "rectangle    360\n",
              "dtype: int64"
            ]
          },
          "metadata": {
            "tags": []
          },
          "execution_count": 58
        }
      ]
    },
    {
      "cell_type": "code",
      "metadata": {
        "id": "ZGo4traHnPTu",
        "colab": {
          "base_uri": "https://localhost:8080/",
          "height": 84
        },
        "outputId": "7bd95063-de98-4ed9-cf3e-d301ba8d0695"
      },
      "source": [
        "df.min(axis=1)"
      ],
      "execution_count": null,
      "outputs": [
        {
          "output_type": "execute_result",
          "data": {
            "text/plain": [
              "circle       0\n",
              "triangle     3\n",
              "rectangle    4\n",
              "dtype: int64"
            ]
          },
          "metadata": {
            "tags": []
          },
          "execution_count": 59
        }
      ]
    },
    {
      "cell_type": "markdown",
      "metadata": {
        "id": "rN6bfSoILUzq"
      },
      "source": [
        "### mean() y median()"
      ]
    },
    {
      "cell_type": "markdown",
      "metadata": {
        "id": "2VYzRogro2FS"
      },
      "source": [
        "Por columnas (por defecto axis=0)"
      ]
    },
    {
      "cell_type": "code",
      "metadata": {
        "id": "mzy5zOQ5o22-",
        "colab": {
          "base_uri": "https://localhost:8080/",
          "height": 67
        },
        "outputId": "7f129dbc-e77e-4b2f-9c3a-f4860fe9e6d8"
      },
      "source": [
        "df.mean()"
      ],
      "execution_count": null,
      "outputs": [
        {
          "output_type": "execute_result",
          "data": {
            "text/plain": [
              "angles       2.333333\n",
              "degrees    300.000000\n",
              "dtype: float64"
            ]
          },
          "metadata": {
            "tags": []
          },
          "execution_count": 60
        }
      ]
    },
    {
      "cell_type": "code",
      "metadata": {
        "id": "aVCiWZimpA01",
        "colab": {
          "base_uri": "https://localhost:8080/",
          "height": 67
        },
        "outputId": "666a1aa2-ab3f-4583-e1a8-6140b66b3037"
      },
      "source": [
        "df.median()"
      ],
      "execution_count": null,
      "outputs": [
        {
          "output_type": "execute_result",
          "data": {
            "text/plain": [
              "angles       3.0\n",
              "degrees    360.0\n",
              "dtype: float64"
            ]
          },
          "metadata": {
            "tags": []
          },
          "execution_count": 61
        }
      ]
    },
    {
      "cell_type": "markdown",
      "metadata": {
        "id": "zaBNhyVWo2-v"
      },
      "source": [
        "Por filas (axis=1):"
      ]
    },
    {
      "cell_type": "code",
      "metadata": {
        "id": "KfQwjwIYLakL",
        "colab": {
          "base_uri": "https://localhost:8080/",
          "height": 84
        },
        "outputId": "baea241d-4b66-41d8-c8d0-c6a429ab720d"
      },
      "source": [
        "df.mean(axis=1)"
      ],
      "execution_count": null,
      "outputs": [
        {
          "output_type": "execute_result",
          "data": {
            "text/plain": [
              "circle       180.0\n",
              "triangle      91.5\n",
              "rectangle    182.0\n",
              "dtype: float64"
            ]
          },
          "metadata": {
            "tags": []
          },
          "execution_count": 62
        }
      ]
    },
    {
      "cell_type": "code",
      "metadata": {
        "id": "2Hfdph4hpQ_c",
        "colab": {
          "base_uri": "https://localhost:8080/",
          "height": 84
        },
        "outputId": "4dd28fab-ec02-464a-c855-cd03a90b2f84"
      },
      "source": [
        "df.median(axis=1)"
      ],
      "execution_count": null,
      "outputs": [
        {
          "output_type": "execute_result",
          "data": {
            "text/plain": [
              "circle       180.0\n",
              "triangle      91.5\n",
              "rectangle    182.0\n",
              "dtype: float64"
            ]
          },
          "metadata": {
            "tags": []
          },
          "execution_count": 63
        }
      ]
    },
    {
      "cell_type": "markdown",
      "metadata": {
        "id": "HPTgv9gBLaqN"
      },
      "source": [
        "### sum()"
      ]
    },
    {
      "cell_type": "markdown",
      "metadata": {
        "id": "44usShNUpbb3"
      },
      "source": [
        "Por columnas (por defecto axis=0):"
      ]
    },
    {
      "cell_type": "code",
      "metadata": {
        "id": "cGGOiXdwLawP",
        "colab": {
          "base_uri": "https://localhost:8080/",
          "height": 67
        },
        "outputId": "c2f4ab53-113a-427b-be46-73e50f74ddc7"
      },
      "source": [
        "df.sum()"
      ],
      "execution_count": null,
      "outputs": [
        {
          "output_type": "execute_result",
          "data": {
            "text/plain": [
              "angles       7\n",
              "degrees    900\n",
              "dtype: int64"
            ]
          },
          "metadata": {
            "tags": []
          },
          "execution_count": 64
        }
      ]
    },
    {
      "cell_type": "markdown",
      "metadata": {
        "id": "8Wkp93t_pb75"
      },
      "source": [
        "Por filas (axis=1):"
      ]
    },
    {
      "cell_type": "code",
      "metadata": {
        "id": "g_fIp2cXpcA-",
        "colab": {
          "base_uri": "https://localhost:8080/",
          "height": 84
        },
        "outputId": "cb2e4f8e-01dc-4283-e244-16164f4e9356"
      },
      "source": [
        "df.sum(axis=1)"
      ],
      "execution_count": null,
      "outputs": [
        {
          "output_type": "execute_result",
          "data": {
            "text/plain": [
              "circle       360\n",
              "triangle     183\n",
              "rectangle    364\n",
              "dtype: int64"
            ]
          },
          "metadata": {
            "tags": []
          },
          "execution_count": 65
        }
      ]
    },
    {
      "cell_type": "markdown",
      "metadata": {
        "id": "Ep_iABKeLcN2"
      },
      "source": [
        "### std() y var()"
      ]
    },
    {
      "cell_type": "markdown",
      "metadata": {
        "id": "cqDKnpRlpzD4"
      },
      "source": [
        "Por columnas (por defecto axis=0):"
      ]
    },
    {
      "cell_type": "code",
      "metadata": {
        "id": "wvQx0krDLcUZ",
        "colab": {
          "base_uri": "https://localhost:8080/",
          "height": 67
        },
        "outputId": "3d2f8116-0702-437b-f237-9287f90b6768"
      },
      "source": [
        "df.std()"
      ],
      "execution_count": null,
      "outputs": [
        {
          "output_type": "execute_result",
          "data": {
            "text/plain": [
              "angles       2.081666\n",
              "degrees    103.923048\n",
              "dtype: float64"
            ]
          },
          "metadata": {
            "tags": []
          },
          "execution_count": 66
        }
      ]
    },
    {
      "cell_type": "code",
      "metadata": {
        "id": "ZMP8viIvp-54",
        "colab": {
          "base_uri": "https://localhost:8080/",
          "height": 67
        },
        "outputId": "74d88a08-5076-4f4a-dbb0-14b88436c168"
      },
      "source": [
        "df.var()"
      ],
      "execution_count": null,
      "outputs": [
        {
          "output_type": "execute_result",
          "data": {
            "text/plain": [
              "angles         4.333333\n",
              "degrees    10800.000000\n",
              "dtype: float64"
            ]
          },
          "metadata": {
            "tags": []
          },
          "execution_count": 67
        }
      ]
    },
    {
      "cell_type": "markdown",
      "metadata": {
        "id": "wk7PNbHnpzoY"
      },
      "source": [
        "Por filas (axis=1):"
      ]
    },
    {
      "cell_type": "code",
      "metadata": {
        "id": "ePFAQ62DpztQ",
        "colab": {
          "base_uri": "https://localhost:8080/",
          "height": 84
        },
        "outputId": "fb587b09-f2a9-4ec1-d1e8-efff9e6d5e85"
      },
      "source": [
        "df.std(axis=1)"
      ],
      "execution_count": null,
      "outputs": [
        {
          "output_type": "execute_result",
          "data": {
            "text/plain": [
              "circle       254.558441\n",
              "triangle     125.157900\n",
              "rectangle    251.730014\n",
              "dtype: float64"
            ]
          },
          "metadata": {
            "tags": []
          },
          "execution_count": 68
        }
      ]
    },
    {
      "cell_type": "code",
      "metadata": {
        "id": "0dzqX_njqDGZ",
        "colab": {
          "base_uri": "https://localhost:8080/",
          "height": 84
        },
        "outputId": "a0778cc5-5e13-46df-bb1b-302da3163e4a"
      },
      "source": [
        "df.var(axis=1)"
      ],
      "execution_count": null,
      "outputs": [
        {
          "output_type": "execute_result",
          "data": {
            "text/plain": [
              "circle       64800.0\n",
              "triangle     15664.5\n",
              "rectangle    63368.0\n",
              "dtype: float64"
            ]
          },
          "metadata": {
            "tags": []
          },
          "execution_count": 69
        }
      ]
    },
    {
      "cell_type": "markdown",
      "metadata": {
        "id": "Z4ZjI7Xzcr91"
      },
      "source": [
        "# Aplicando funciones propias"
      ]
    },
    {
      "cell_type": "markdown",
      "metadata": {
        "id": "rLqL8hxHcvhp"
      },
      "source": [
        "## apply()\n",
        "\n",
        "Recibe una función y la aplica a todas las filas o columnas según el axis indicado."
      ]
    },
    {
      "cell_type": "code",
      "metadata": {
        "id": "ik_aP1hjT-PU",
        "colab": {
          "base_uri": "https://localhost:8080/",
          "height": 422
        },
        "outputId": "cd0407f8-5693-4e18-80ae-8e268d288143"
      },
      "source": [
        "f = lambda x: (x - x.mean())/x.var()\n",
        "\n",
        "#aplica la funcion a todas las filas\n",
        "cali_housing.apply(f, axis=0) "
      ],
      "execution_count": null,
      "outputs": [
        {
          "output_type": "execute_result",
          "data": {
            "text/html": [
              "<div>\n",
              "<style scoped>\n",
              "    .dataframe tbody tr th:only-of-type {\n",
              "        vertical-align: middle;\n",
              "    }\n",
              "\n",
              "    .dataframe tbody tr th {\n",
              "        vertical-align: top;\n",
              "    }\n",
              "\n",
              "    .dataframe thead th {\n",
              "        text-align: right;\n",
              "    }\n",
              "</style>\n",
              "<table border=\"1\" class=\"dataframe\">\n",
              "  <thead>\n",
              "    <tr style=\"text-align: right;\">\n",
              "      <th></th>\n",
              "      <th>longitude</th>\n",
              "      <th>latitude</th>\n",
              "      <th>housing_median_age</th>\n",
              "      <th>total_rooms</th>\n",
              "      <th>total_bedrooms</th>\n",
              "      <th>population</th>\n",
              "      <th>households</th>\n",
              "      <th>median_income</th>\n",
              "      <th>median_house_value</th>\n",
              "    </tr>\n",
              "  </thead>\n",
              "  <tbody>\n",
              "    <tr>\n",
              "      <th>0</th>\n",
              "      <td>-0.618327</td>\n",
              "      <td>0.382452</td>\n",
              "      <td>-0.011706</td>\n",
              "      <td>0.000277</td>\n",
              "      <td>0.000759</td>\n",
              "      <td>0.000126</td>\n",
              "      <td>0.000869</td>\n",
              "      <td>0.814497</td>\n",
              "      <td>0.000011</td>\n",
              "    </tr>\n",
              "    <tr>\n",
              "      <th>1</th>\n",
              "      <td>0.323938</td>\n",
              "      <td>-0.303250</td>\n",
              "      <td>0.089792</td>\n",
              "      <td>-0.000234</td>\n",
              "      <td>-0.001273</td>\n",
              "      <td>-0.000559</td>\n",
              "      <td>-0.001594</td>\n",
              "      <td>-0.060558</td>\n",
              "      <td>-0.000002</td>\n",
              "    </tr>\n",
              "    <tr>\n",
              "      <th>2</th>\n",
              "      <td>0.447061</td>\n",
              "      <td>-0.409082</td>\n",
              "      <td>-0.011706</td>\n",
              "      <td>0.000213</td>\n",
              "      <td>-0.000133</td>\n",
              "      <td>0.000076</td>\n",
              "      <td>0.000038</td>\n",
              "      <td>0.577495</td>\n",
              "      <td>0.000005</td>\n",
              "    </tr>\n",
              "    <tr>\n",
              "      <th>3</th>\n",
              "      <td>0.308862</td>\n",
              "      <td>-0.400263</td>\n",
              "      <td>-0.005362</td>\n",
              "      <td>-0.000545</td>\n",
              "      <td>-0.002981</td>\n",
              "      <td>-0.001275</td>\n",
              "      <td>-0.003586</td>\n",
              "      <td>0.677082</td>\n",
              "      <td>0.000010</td>\n",
              "    </tr>\n",
              "    <tr>\n",
              "      <th>4</th>\n",
              "      <td>-0.020303</td>\n",
              "      <td>0.153150</td>\n",
              "      <td>-0.062455</td>\n",
              "      <td>-0.000292</td>\n",
              "      <td>-0.001655</td>\n",
              "      <td>-0.000521</td>\n",
              "      <td>-0.001894</td>\n",
              "      <td>-0.252898</td>\n",
              "      <td>-0.000010</td>\n",
              "    </tr>\n",
              "    <tr>\n",
              "      <th>...</th>\n",
              "      <td>...</td>\n",
              "      <td>...</td>\n",
              "      <td>...</td>\n",
              "      <td>...</td>\n",
              "      <td>...</td>\n",
              "      <td>...</td>\n",
              "      <td>...</td>\n",
              "      <td>...</td>\n",
              "      <td>...</td>\n",
              "    </tr>\n",
              "    <tr>\n",
              "      <th>2995</th>\n",
              "      <td>-0.068044</td>\n",
              "      <td>-0.267973</td>\n",
              "      <td>-0.037081</td>\n",
              "      <td>-0.000247</td>\n",
              "      <td>0.000649</td>\n",
              "      <td>-0.000136</td>\n",
              "      <td>0.000877</td>\n",
              "      <td>-0.764207</td>\n",
              "      <td>0.000001</td>\n",
              "    </tr>\n",
              "    <tr>\n",
              "      <th>2996</th>\n",
              "      <td>0.364142</td>\n",
              "      <td>-0.347347</td>\n",
              "      <td>-0.011706</td>\n",
              "      <td>0.000572</td>\n",
              "      <td>0.003195</td>\n",
              "      <td>0.001971</td>\n",
              "      <td>0.004090</td>\n",
              "      <td>-0.121153</td>\n",
              "      <td>0.000002</td>\n",
              "    </tr>\n",
              "    <tr>\n",
              "      <th>2997</th>\n",
              "      <td>-0.027841</td>\n",
              "      <td>0.146535</td>\n",
              "      <td>-0.119548</td>\n",
              "      <td>-0.000354</td>\n",
              "      <td>-0.001904</td>\n",
              "      <td>-0.000668</td>\n",
              "      <td>-0.002021</td>\n",
              "      <td>-0.441314</td>\n",
              "      <td>-0.000011</td>\n",
              "    </tr>\n",
              "    <tr>\n",
              "      <th>2998</th>\n",
              "      <td>0.620438</td>\n",
              "      <td>-0.338528</td>\n",
              "      <td>0.070761</td>\n",
              "      <td>-0.000539</td>\n",
              "      <td>-0.002986</td>\n",
              "      <td>-0.001278</td>\n",
              "      <td>-0.003564</td>\n",
              "      <td>-0.155987</td>\n",
              "      <td>-0.000003</td>\n",
              "    </tr>\n",
              "    <tr>\n",
              "      <th>2999</th>\n",
              "      <td>-0.010252</td>\n",
              "      <td>-0.267973</td>\n",
              "      <td>0.083449</td>\n",
              "      <td>-0.000180</td>\n",
              "      <td>-0.001545</td>\n",
              "      <td>-0.000612</td>\n",
              "      <td>-0.001722</td>\n",
              "      <td>1.382155</td>\n",
              "      <td>0.000023</td>\n",
              "    </tr>\n",
              "  </tbody>\n",
              "</table>\n",
              "<p>3000 rows × 9 columns</p>\n",
              "</div>"
            ],
            "text/plain": [
              "      longitude  latitude  ...  median_income  median_house_value\n",
              "0     -0.618327  0.382452  ...       0.814497            0.000011\n",
              "1      0.323938 -0.303250  ...      -0.060558           -0.000002\n",
              "2      0.447061 -0.409082  ...       0.577495            0.000005\n",
              "3      0.308862 -0.400263  ...       0.677082            0.000010\n",
              "4     -0.020303  0.153150  ...      -0.252898           -0.000010\n",
              "...         ...       ...  ...            ...                 ...\n",
              "2995  -0.068044 -0.267973  ...      -0.764207            0.000001\n",
              "2996   0.364142 -0.347347  ...      -0.121153            0.000002\n",
              "2997  -0.027841  0.146535  ...      -0.441314           -0.000011\n",
              "2998   0.620438 -0.338528  ...      -0.155987           -0.000003\n",
              "2999  -0.010252 -0.267973  ...       1.382155            0.000023\n",
              "\n",
              "[3000 rows x 9 columns]"
            ]
          },
          "metadata": {
            "tags": []
          },
          "execution_count": 70
        }
      ]
    },
    {
      "cell_type": "code",
      "metadata": {
        "id": "YicJc0p2hGTw",
        "colab": {
          "base_uri": "https://localhost:8080/",
          "height": 422
        },
        "outputId": "b4e75246-569f-4d8f-e57a-e87b486f2ab3"
      },
      "source": [
        "#aplica la funcion a todas las columnas\n",
        "cali_housing.apply(f, axis=1) "
      ],
      "execution_count": null,
      "outputs": [
        {
          "output_type": "execute_result",
          "data": {
            "text/html": [
              "<div>\n",
              "<style scoped>\n",
              "    .dataframe tbody tr th:only-of-type {\n",
              "        vertical-align: middle;\n",
              "    }\n",
              "\n",
              "    .dataframe tbody tr th {\n",
              "        vertical-align: top;\n",
              "    }\n",
              "\n",
              "    .dataframe thead th {\n",
              "        text-align: right;\n",
              "    }\n",
              "</style>\n",
              "<table border=\"1\" class=\"dataframe\">\n",
              "  <thead>\n",
              "    <tr style=\"text-align: right;\">\n",
              "      <th></th>\n",
              "      <th>longitude</th>\n",
              "      <th>latitude</th>\n",
              "      <th>housing_median_age</th>\n",
              "      <th>total_rooms</th>\n",
              "      <th>total_bedrooms</th>\n",
              "      <th>population</th>\n",
              "      <th>households</th>\n",
              "      <th>median_income</th>\n",
              "      <th>median_house_value</th>\n",
              "    </tr>\n",
              "  </thead>\n",
              "  <tbody>\n",
              "    <tr>\n",
              "      <th>0</th>\n",
              "      <td>-0.000003</td>\n",
              "      <td>-0.000003</td>\n",
              "      <td>-0.000003</td>\n",
              "      <td>-0.000003</td>\n",
              "      <td>-0.000003</td>\n",
              "      <td>-0.000003</td>\n",
              "      <td>-0.000003</td>\n",
              "      <td>-0.000003</td>\n",
              "      <td>0.000023</td>\n",
              "    </tr>\n",
              "    <tr>\n",
              "      <th>1</th>\n",
              "      <td>-0.000006</td>\n",
              "      <td>-0.000006</td>\n",
              "      <td>-0.000006</td>\n",
              "      <td>-0.000005</td>\n",
              "      <td>-0.000006</td>\n",
              "      <td>-0.000006</td>\n",
              "      <td>-0.000006</td>\n",
              "      <td>-0.000006</td>\n",
              "      <td>0.000045</td>\n",
              "    </tr>\n",
              "    <tr>\n",
              "      <th>2</th>\n",
              "      <td>-0.000004</td>\n",
              "      <td>-0.000004</td>\n",
              "      <td>-0.000004</td>\n",
              "      <td>-0.000003</td>\n",
              "      <td>-0.000004</td>\n",
              "      <td>-0.000004</td>\n",
              "      <td>-0.000004</td>\n",
              "      <td>-0.000004</td>\n",
              "      <td>0.000030</td>\n",
              "    </tr>\n",
              "    <tr>\n",
              "      <th>3</th>\n",
              "      <td>-0.000003</td>\n",
              "      <td>-0.000003</td>\n",
              "      <td>-0.000003</td>\n",
              "      <td>-0.000003</td>\n",
              "      <td>-0.000003</td>\n",
              "      <td>-0.000003</td>\n",
              "      <td>-0.000003</td>\n",
              "      <td>-0.000003</td>\n",
              "      <td>0.000024</td>\n",
              "    </tr>\n",
              "    <tr>\n",
              "      <th>4</th>\n",
              "      <td>-0.000013</td>\n",
              "      <td>-0.000013</td>\n",
              "      <td>-0.000013</td>\n",
              "      <td>-0.000011</td>\n",
              "      <td>-0.000012</td>\n",
              "      <td>-0.000012</td>\n",
              "      <td>-0.000012</td>\n",
              "      <td>-0.000013</td>\n",
              "      <td>0.000098</td>\n",
              "    </tr>\n",
              "    <tr>\n",
              "      <th>...</th>\n",
              "      <td>...</td>\n",
              "      <td>...</td>\n",
              "      <td>...</td>\n",
              "      <td>...</td>\n",
              "      <td>...</td>\n",
              "      <td>...</td>\n",
              "      <td>...</td>\n",
              "      <td>...</td>\n",
              "      <td>...</td>\n",
              "    </tr>\n",
              "    <tr>\n",
              "      <th>2995</th>\n",
              "      <td>-0.000005</td>\n",
              "      <td>-0.000005</td>\n",
              "      <td>-0.000005</td>\n",
              "      <td>-0.000004</td>\n",
              "      <td>-0.000004</td>\n",
              "      <td>-0.000004</td>\n",
              "      <td>-0.000004</td>\n",
              "      <td>-0.000005</td>\n",
              "      <td>0.000036</td>\n",
              "    </tr>\n",
              "    <tr>\n",
              "      <th>2996</th>\n",
              "      <td>-0.000004</td>\n",
              "      <td>-0.000004</td>\n",
              "      <td>-0.000004</td>\n",
              "      <td>-0.000004</td>\n",
              "      <td>-0.000004</td>\n",
              "      <td>-0.000004</td>\n",
              "      <td>-0.000004</td>\n",
              "      <td>-0.000004</td>\n",
              "      <td>0.000034</td>\n",
              "    </tr>\n",
              "    <tr>\n",
              "      <th>2997</th>\n",
              "      <td>-0.000017</td>\n",
              "      <td>-0.000017</td>\n",
              "      <td>-0.000017</td>\n",
              "      <td>-0.000015</td>\n",
              "      <td>-0.000016</td>\n",
              "      <td>-0.000015</td>\n",
              "      <td>-0.000016</td>\n",
              "      <td>-0.000017</td>\n",
              "      <td>0.000130</td>\n",
              "    </tr>\n",
              "    <tr>\n",
              "      <th>2998</th>\n",
              "      <td>-0.000006</td>\n",
              "      <td>-0.000006</td>\n",
              "      <td>-0.000006</td>\n",
              "      <td>-0.000006</td>\n",
              "      <td>-0.000006</td>\n",
              "      <td>-0.000006</td>\n",
              "      <td>-0.000006</td>\n",
              "      <td>-0.000006</td>\n",
              "      <td>0.000049</td>\n",
              "    </tr>\n",
              "    <tr>\n",
              "      <th>2999</th>\n",
              "      <td>-0.000002</td>\n",
              "      <td>-0.000002</td>\n",
              "      <td>-0.000002</td>\n",
              "      <td>-0.000002</td>\n",
              "      <td>-0.000002</td>\n",
              "      <td>-0.000002</td>\n",
              "      <td>-0.000002</td>\n",
              "      <td>-0.000002</td>\n",
              "      <td>0.000016</td>\n",
              "    </tr>\n",
              "  </tbody>\n",
              "</table>\n",
              "<p>3000 rows × 9 columns</p>\n",
              "</div>"
            ],
            "text/plain": [
              "      longitude  latitude  ...  median_income  median_house_value\n",
              "0     -0.000003 -0.000003  ...      -0.000003            0.000023\n",
              "1     -0.000006 -0.000006  ...      -0.000006            0.000045\n",
              "2     -0.000004 -0.000004  ...      -0.000004            0.000030\n",
              "3     -0.000003 -0.000003  ...      -0.000003            0.000024\n",
              "4     -0.000013 -0.000013  ...      -0.000013            0.000098\n",
              "...         ...       ...  ...            ...                 ...\n",
              "2995  -0.000005 -0.000005  ...      -0.000005            0.000036\n",
              "2996  -0.000004 -0.000004  ...      -0.000004            0.000034\n",
              "2997  -0.000017 -0.000017  ...      -0.000017            0.000130\n",
              "2998  -0.000006 -0.000006  ...      -0.000006            0.000049\n",
              "2999  -0.000002 -0.000002  ...      -0.000002            0.000016\n",
              "\n",
              "[3000 rows x 9 columns]"
            ]
          },
          "metadata": {
            "tags": []
          },
          "execution_count": 71
        }
      ]
    },
    {
      "cell_type": "markdown",
      "metadata": {
        "id": "874C05ZNcwDB"
      },
      "source": [
        "## applymap()\n",
        "\n",
        "Aplica una función elemento por elemento al objeto de Pandas."
      ]
    },
    {
      "cell_type": "code",
      "metadata": {
        "id": "GOaAV64ncwKT",
        "colab": {
          "base_uri": "https://localhost:8080/",
          "height": 422
        },
        "outputId": "65096cfb-394d-4da5-9889-a1f98db03214"
      },
      "source": [
        "f = lambda x: round(x)\n",
        "\n",
        "#aplica la funcion a todos los elementos\n",
        "cali_housing.applymap(f)"
      ],
      "execution_count": null,
      "outputs": [
        {
          "output_type": "execute_result",
          "data": {
            "text/html": [
              "<div>\n",
              "<style scoped>\n",
              "    .dataframe tbody tr th:only-of-type {\n",
              "        vertical-align: middle;\n",
              "    }\n",
              "\n",
              "    .dataframe tbody tr th {\n",
              "        vertical-align: top;\n",
              "    }\n",
              "\n",
              "    .dataframe thead th {\n",
              "        text-align: right;\n",
              "    }\n",
              "</style>\n",
              "<table border=\"1\" class=\"dataframe\">\n",
              "  <thead>\n",
              "    <tr style=\"text-align: right;\">\n",
              "      <th></th>\n",
              "      <th>longitude</th>\n",
              "      <th>latitude</th>\n",
              "      <th>housing_median_age</th>\n",
              "      <th>total_rooms</th>\n",
              "      <th>total_bedrooms</th>\n",
              "      <th>population</th>\n",
              "      <th>households</th>\n",
              "      <th>median_income</th>\n",
              "      <th>median_house_value</th>\n",
              "    </tr>\n",
              "  </thead>\n",
              "  <tbody>\n",
              "    <tr>\n",
              "      <th>0</th>\n",
              "      <td>-122</td>\n",
              "      <td>37</td>\n",
              "      <td>27</td>\n",
              "      <td>3885</td>\n",
              "      <td>661</td>\n",
              "      <td>1537</td>\n",
              "      <td>606</td>\n",
              "      <td>7</td>\n",
              "      <td>344700</td>\n",
              "    </tr>\n",
              "    <tr>\n",
              "      <th>1</th>\n",
              "      <td>-118</td>\n",
              "      <td>34</td>\n",
              "      <td>43</td>\n",
              "      <td>1510</td>\n",
              "      <td>310</td>\n",
              "      <td>809</td>\n",
              "      <td>277</td>\n",
              "      <td>4</td>\n",
              "      <td>176500</td>\n",
              "    </tr>\n",
              "    <tr>\n",
              "      <th>2</th>\n",
              "      <td>-118</td>\n",
              "      <td>34</td>\n",
              "      <td>27</td>\n",
              "      <td>3589</td>\n",
              "      <td>507</td>\n",
              "      <td>1484</td>\n",
              "      <td>495</td>\n",
              "      <td>6</td>\n",
              "      <td>270500</td>\n",
              "    </tr>\n",
              "    <tr>\n",
              "      <th>3</th>\n",
              "      <td>-118</td>\n",
              "      <td>34</td>\n",
              "      <td>28</td>\n",
              "      <td>67</td>\n",
              "      <td>15</td>\n",
              "      <td>49</td>\n",
              "      <td>11</td>\n",
              "      <td>6</td>\n",
              "      <td>330000</td>\n",
              "    </tr>\n",
              "    <tr>\n",
              "      <th>4</th>\n",
              "      <td>-120</td>\n",
              "      <td>36</td>\n",
              "      <td>19</td>\n",
              "      <td>1241</td>\n",
              "      <td>244</td>\n",
              "      <td>850</td>\n",
              "      <td>237</td>\n",
              "      <td>3</td>\n",
              "      <td>81700</td>\n",
              "    </tr>\n",
              "    <tr>\n",
              "      <th>...</th>\n",
              "      <td>...</td>\n",
              "      <td>...</td>\n",
              "      <td>...</td>\n",
              "      <td>...</td>\n",
              "      <td>...</td>\n",
              "      <td>...</td>\n",
              "      <td>...</td>\n",
              "      <td>...</td>\n",
              "      <td>...</td>\n",
              "    </tr>\n",
              "    <tr>\n",
              "      <th>2995</th>\n",
              "      <td>-120</td>\n",
              "      <td>34</td>\n",
              "      <td>23</td>\n",
              "      <td>1450</td>\n",
              "      <td>642</td>\n",
              "      <td>1258</td>\n",
              "      <td>607</td>\n",
              "      <td>1</td>\n",
              "      <td>225000</td>\n",
              "    </tr>\n",
              "    <tr>\n",
              "      <th>2996</th>\n",
              "      <td>-118</td>\n",
              "      <td>34</td>\n",
              "      <td>27</td>\n",
              "      <td>5257</td>\n",
              "      <td>1082</td>\n",
              "      <td>3496</td>\n",
              "      <td>1036</td>\n",
              "      <td>3</td>\n",
              "      <td>237200</td>\n",
              "    </tr>\n",
              "    <tr>\n",
              "      <th>2997</th>\n",
              "      <td>-120</td>\n",
              "      <td>36</td>\n",
              "      <td>10</td>\n",
              "      <td>956</td>\n",
              "      <td>201</td>\n",
              "      <td>693</td>\n",
              "      <td>220</td>\n",
              "      <td>2</td>\n",
              "      <td>62000</td>\n",
              "    </tr>\n",
              "    <tr>\n",
              "      <th>2998</th>\n",
              "      <td>-117</td>\n",
              "      <td>34</td>\n",
              "      <td>40</td>\n",
              "      <td>96</td>\n",
              "      <td>14</td>\n",
              "      <td>46</td>\n",
              "      <td>14</td>\n",
              "      <td>3</td>\n",
              "      <td>162500</td>\n",
              "    </tr>\n",
              "    <tr>\n",
              "      <th>2999</th>\n",
              "      <td>-120</td>\n",
              "      <td>34</td>\n",
              "      <td>42</td>\n",
              "      <td>1765</td>\n",
              "      <td>263</td>\n",
              "      <td>753</td>\n",
              "      <td>260</td>\n",
              "      <td>9</td>\n",
              "      <td>500001</td>\n",
              "    </tr>\n",
              "  </tbody>\n",
              "</table>\n",
              "<p>3000 rows × 9 columns</p>\n",
              "</div>"
            ],
            "text/plain": [
              "      longitude  latitude  ...  median_income  median_house_value\n",
              "0          -122        37  ...              7              344700\n",
              "1          -118        34  ...              4              176500\n",
              "2          -118        34  ...              6              270500\n",
              "3          -118        34  ...              6              330000\n",
              "4          -120        36  ...              3               81700\n",
              "...         ...       ...  ...            ...                 ...\n",
              "2995       -120        34  ...              1              225000\n",
              "2996       -118        34  ...              3              237200\n",
              "2997       -120        36  ...              2               62000\n",
              "2998       -117        34  ...              3              162500\n",
              "2999       -120        34  ...              9              500001\n",
              "\n",
              "[3000 rows x 9 columns]"
            ]
          },
          "metadata": {
            "tags": []
          },
          "execution_count": 73
        }
      ]
    },
    {
      "cell_type": "markdown",
      "metadata": {
        "id": "rH43oj20UmsY"
      },
      "source": [
        "# Operaciones en columnas\n",
        "\n",
        "Puedes realizar operaciones directamente en las columnas de un DataFrame para obtener resultados como una Serie o para crear nuevas columnas.  Por ejemplo:\n",
        "\n",
        "* Relizar operaciones binarias entre columnas. (suma, resta, multiplicación, etc.).\n",
        "* Aplicar métodos estadísticos en las columnas. (sum(), mean(), var(), etc.).\n",
        "* Una mezcla de operaciones binarias y métodos."
      ]
    },
    {
      "cell_type": "code",
      "metadata": {
        "id": "O3KKVANJUrDx",
        "colab": {
          "base_uri": "https://localhost:8080/",
          "height": 136
        },
        "outputId": "36a93ed3-6c23-4ea8-9ad1-2e0e2d73756f"
      },
      "source": [
        "#creando un dataframe\n",
        "df = pd.DataFrame({\"A\":[1, 2, 3], \"B\":[2, 2, 2]})\n",
        "df"
      ],
      "execution_count": null,
      "outputs": [
        {
          "output_type": "execute_result",
          "data": {
            "text/html": [
              "<div>\n",
              "<style scoped>\n",
              "    .dataframe tbody tr th:only-of-type {\n",
              "        vertical-align: middle;\n",
              "    }\n",
              "\n",
              "    .dataframe tbody tr th {\n",
              "        vertical-align: top;\n",
              "    }\n",
              "\n",
              "    .dataframe thead th {\n",
              "        text-align: right;\n",
              "    }\n",
              "</style>\n",
              "<table border=\"1\" class=\"dataframe\">\n",
              "  <thead>\n",
              "    <tr style=\"text-align: right;\">\n",
              "      <th></th>\n",
              "      <th>A</th>\n",
              "      <th>B</th>\n",
              "    </tr>\n",
              "  </thead>\n",
              "  <tbody>\n",
              "    <tr>\n",
              "      <th>0</th>\n",
              "      <td>1</td>\n",
              "      <td>2</td>\n",
              "    </tr>\n",
              "    <tr>\n",
              "      <th>1</th>\n",
              "      <td>2</td>\n",
              "      <td>2</td>\n",
              "    </tr>\n",
              "    <tr>\n",
              "      <th>2</th>\n",
              "      <td>3</td>\n",
              "      <td>2</td>\n",
              "    </tr>\n",
              "  </tbody>\n",
              "</table>\n",
              "</div>"
            ],
            "text/plain": [
              "   A  B\n",
              "0  1  2\n",
              "1  2  2\n",
              "2  3  2"
            ]
          },
          "metadata": {
            "tags": []
          },
          "execution_count": 74
        }
      ]
    },
    {
      "cell_type": "code",
      "metadata": {
        "id": "s5NCuK2LbE8y",
        "colab": {
          "base_uri": "https://localhost:8080/",
          "height": 84
        },
        "outputId": "87489279-cda2-43b8-a99f-64bd9401be13"
      },
      "source": [
        "#operaciones entre columna regresan una serie\n",
        "df[\"A\"] * df[\"B\"]"
      ],
      "execution_count": null,
      "outputs": [
        {
          "output_type": "execute_result",
          "data": {
            "text/plain": [
              "0    2\n",
              "1    4\n",
              "2    6\n",
              "dtype: int64"
            ]
          },
          "metadata": {
            "tags": []
          },
          "execution_count": 75
        }
      ]
    },
    {
      "cell_type": "code",
      "metadata": {
        "id": "LcpfXx-mb2-f",
        "colab": {
          "base_uri": "https://localhost:8080/",
          "height": 136
        },
        "outputId": "a759b4be-300e-4976-8bde-d3e86cd07a3f"
      },
      "source": [
        "#generar una nueva columna desde una operacion\n",
        "df[\"A^B\"] = df[\"A\"].pow(df[\"B\"])\n",
        "df "
      ],
      "execution_count": null,
      "outputs": [
        {
          "output_type": "execute_result",
          "data": {
            "text/html": [
              "<div>\n",
              "<style scoped>\n",
              "    .dataframe tbody tr th:only-of-type {\n",
              "        vertical-align: middle;\n",
              "    }\n",
              "\n",
              "    .dataframe tbody tr th {\n",
              "        vertical-align: top;\n",
              "    }\n",
              "\n",
              "    .dataframe thead th {\n",
              "        text-align: right;\n",
              "    }\n",
              "</style>\n",
              "<table border=\"1\" class=\"dataframe\">\n",
              "  <thead>\n",
              "    <tr style=\"text-align: right;\">\n",
              "      <th></th>\n",
              "      <th>A</th>\n",
              "      <th>B</th>\n",
              "      <th>A^B</th>\n",
              "    </tr>\n",
              "  </thead>\n",
              "  <tbody>\n",
              "    <tr>\n",
              "      <th>0</th>\n",
              "      <td>1</td>\n",
              "      <td>2</td>\n",
              "      <td>1</td>\n",
              "    </tr>\n",
              "    <tr>\n",
              "      <th>1</th>\n",
              "      <td>2</td>\n",
              "      <td>2</td>\n",
              "      <td>4</td>\n",
              "    </tr>\n",
              "    <tr>\n",
              "      <th>2</th>\n",
              "      <td>3</td>\n",
              "      <td>2</td>\n",
              "      <td>9</td>\n",
              "    </tr>\n",
              "  </tbody>\n",
              "</table>\n",
              "</div>"
            ],
            "text/plain": [
              "   A  B  A^B\n",
              "0  1  2    1\n",
              "1  2  2    4\n",
              "2  3  2    9"
            ]
          },
          "metadata": {
            "tags": []
          },
          "execution_count": 76
        }
      ]
    },
    {
      "cell_type": "code",
      "metadata": {
        "id": "NR78G-lZcPEb",
        "colab": {
          "base_uri": "https://localhost:8080/",
          "height": 34
        },
        "outputId": "eb4435d3-f10a-4ea6-b820-a28516be4440"
      },
      "source": [
        "#aplicar un metodo estadistico a una columna genera un valor\n",
        "df[\"A\"].sum()"
      ],
      "execution_count": null,
      "outputs": [
        {
          "output_type": "execute_result",
          "data": {
            "text/plain": [
              "6"
            ]
          },
          "metadata": {
            "tags": []
          },
          "execution_count": 77
        }
      ]
    },
    {
      "cell_type": "code",
      "metadata": {
        "id": "I7L1MVTIcl99",
        "colab": {
          "base_uri": "https://localhost:8080/",
          "height": 136
        },
        "outputId": "410d5539-1b92-4ec7-c756-4fb94808dc38"
      },
      "source": [
        "#generando una nueva columna con la suma de las filas\n",
        "df[\"suma\"] = df.sum(axis=1)\n",
        "df"
      ],
      "execution_count": null,
      "outputs": [
        {
          "output_type": "execute_result",
          "data": {
            "text/html": [
              "<div>\n",
              "<style scoped>\n",
              "    .dataframe tbody tr th:only-of-type {\n",
              "        vertical-align: middle;\n",
              "    }\n",
              "\n",
              "    .dataframe tbody tr th {\n",
              "        vertical-align: top;\n",
              "    }\n",
              "\n",
              "    .dataframe thead th {\n",
              "        text-align: right;\n",
              "    }\n",
              "</style>\n",
              "<table border=\"1\" class=\"dataframe\">\n",
              "  <thead>\n",
              "    <tr style=\"text-align: right;\">\n",
              "      <th></th>\n",
              "      <th>A</th>\n",
              "      <th>B</th>\n",
              "      <th>A^B</th>\n",
              "      <th>suma</th>\n",
              "    </tr>\n",
              "  </thead>\n",
              "  <tbody>\n",
              "    <tr>\n",
              "      <th>0</th>\n",
              "      <td>1</td>\n",
              "      <td>2</td>\n",
              "      <td>1</td>\n",
              "      <td>4</td>\n",
              "    </tr>\n",
              "    <tr>\n",
              "      <th>1</th>\n",
              "      <td>2</td>\n",
              "      <td>2</td>\n",
              "      <td>4</td>\n",
              "      <td>8</td>\n",
              "    </tr>\n",
              "    <tr>\n",
              "      <th>2</th>\n",
              "      <td>3</td>\n",
              "      <td>2</td>\n",
              "      <td>9</td>\n",
              "      <td>14</td>\n",
              "    </tr>\n",
              "  </tbody>\n",
              "</table>\n",
              "</div>"
            ],
            "text/plain": [
              "   A  B  A^B  suma\n",
              "0  1  2    1     4\n",
              "1  2  2    4     8\n",
              "2  3  2    9    14"
            ]
          },
          "metadata": {
            "tags": []
          },
          "execution_count": 78
        }
      ]
    },
    {
      "cell_type": "markdown",
      "metadata": {
        "id": "kQX4ek7hVAuu"
      },
      "source": [
        "# Funciones por grupos y agregación"
      ]
    },
    {
      "cell_type": "markdown",
      "metadata": {
        "id": "3kP0btfyqbvP"
      },
      "source": [
        "## aggregate()/agg()\n",
        "\n",
        "La agregación de datos es una transformación que produce un valor escalar a partir de un arreglo, por ejemplo, las funciones/métodos \"sum\" y \"mean\". Los métodos aggregate() y su alias agg() permiten aplicar una o más funciones de agregación a los objetos de Pandas. \n",
        "\n",
        "Los parámetros principales son:\n",
        "\n",
        "\n",
        "\n",
        "```\n",
        "func : funcion, str, list o dict\n",
        "  La funcion o funciones utilizada spara la agregacion de los datos.\n",
        "\n",
        "  Las combinaciones aceptadas:\n",
        "\n",
        "  funcion\n",
        "  cadena con el nombre de la funcion\n",
        "  lista de funciones y/o nombre de las funciones (ej, [np.sum, 'mean'])\n",
        "  diccionario de etiquetas del axis que mapean a:\n",
        "  - las funciones.\n",
        "  - nombre de funciones.\n",
        "  - lista de funciones.\n",
        "\n",
        "axis : {0 or ‘index’, 1 or ‘columns’}, por defecto 0\n",
        "  Si axis=0 o ‘index’: aplica la funcion a cada columna.\n",
        "  Si axis=1 o ‘columns’: aplica la funcion a cada fila.\n",
        "```\n",
        "\n"
      ]
    },
    {
      "cell_type": "code",
      "metadata": {
        "id": "n7WDkeCDh9Ne",
        "colab": {
          "base_uri": "https://localhost:8080/",
          "height": 136
        },
        "outputId": "f939c528-f501-455a-b98a-4c7908b87b22"
      },
      "source": [
        "df = pd.DataFrame([[1, 2, 3],\n",
        "                   [4, 5, 6],\n",
        "                   [7, 8, 9]],\n",
        "                  columns=['A', 'B', 'C'])\n",
        "df"
      ],
      "execution_count": null,
      "outputs": [
        {
          "output_type": "execute_result",
          "data": {
            "text/html": [
              "<div>\n",
              "<style scoped>\n",
              "    .dataframe tbody tr th:only-of-type {\n",
              "        vertical-align: middle;\n",
              "    }\n",
              "\n",
              "    .dataframe tbody tr th {\n",
              "        vertical-align: top;\n",
              "    }\n",
              "\n",
              "    .dataframe thead th {\n",
              "        text-align: right;\n",
              "    }\n",
              "</style>\n",
              "<table border=\"1\" class=\"dataframe\">\n",
              "  <thead>\n",
              "    <tr style=\"text-align: right;\">\n",
              "      <th></th>\n",
              "      <th>A</th>\n",
              "      <th>B</th>\n",
              "      <th>C</th>\n",
              "    </tr>\n",
              "  </thead>\n",
              "  <tbody>\n",
              "    <tr>\n",
              "      <th>0</th>\n",
              "      <td>1</td>\n",
              "      <td>2</td>\n",
              "      <td>3</td>\n",
              "    </tr>\n",
              "    <tr>\n",
              "      <th>1</th>\n",
              "      <td>4</td>\n",
              "      <td>5</td>\n",
              "      <td>6</td>\n",
              "    </tr>\n",
              "    <tr>\n",
              "      <th>2</th>\n",
              "      <td>7</td>\n",
              "      <td>8</td>\n",
              "      <td>9</td>\n",
              "    </tr>\n",
              "  </tbody>\n",
              "</table>\n",
              "</div>"
            ],
            "text/plain": [
              "   A  B  C\n",
              "0  1  2  3\n",
              "1  4  5  6\n",
              "2  7  8  9"
            ]
          },
          "metadata": {
            "tags": []
          },
          "execution_count": 80
        }
      ]
    },
    {
      "cell_type": "markdown",
      "metadata": {
        "id": "UAmPy6H_kEV1"
      },
      "source": [
        "Por columna (por defecto axis=0):"
      ]
    },
    {
      "cell_type": "code",
      "metadata": {
        "id": "F4qbT9ESeVG-",
        "colab": {
          "base_uri": "https://localhost:8080/",
          "height": 136
        },
        "outputId": "861224b4-538d-4784-9d88-60fe2cd85076"
      },
      "source": [
        "#funcion de agregacion para calcular varios estadisticos a las columnas\n",
        "df.agg([\"max\", \"min\",\"mean\"],axis=0)"
      ],
      "execution_count": null,
      "outputs": [
        {
          "output_type": "execute_result",
          "data": {
            "text/html": [
              "<div>\n",
              "<style scoped>\n",
              "    .dataframe tbody tr th:only-of-type {\n",
              "        vertical-align: middle;\n",
              "    }\n",
              "\n",
              "    .dataframe tbody tr th {\n",
              "        vertical-align: top;\n",
              "    }\n",
              "\n",
              "    .dataframe thead th {\n",
              "        text-align: right;\n",
              "    }\n",
              "</style>\n",
              "<table border=\"1\" class=\"dataframe\">\n",
              "  <thead>\n",
              "    <tr style=\"text-align: right;\">\n",
              "      <th></th>\n",
              "      <th>A</th>\n",
              "      <th>B</th>\n",
              "      <th>C</th>\n",
              "    </tr>\n",
              "  </thead>\n",
              "  <tbody>\n",
              "    <tr>\n",
              "      <th>max</th>\n",
              "      <td>7.0</td>\n",
              "      <td>8.0</td>\n",
              "      <td>9.0</td>\n",
              "    </tr>\n",
              "    <tr>\n",
              "      <th>min</th>\n",
              "      <td>1.0</td>\n",
              "      <td>2.0</td>\n",
              "      <td>3.0</td>\n",
              "    </tr>\n",
              "    <tr>\n",
              "      <th>mean</th>\n",
              "      <td>4.0</td>\n",
              "      <td>5.0</td>\n",
              "      <td>6.0</td>\n",
              "    </tr>\n",
              "  </tbody>\n",
              "</table>\n",
              "</div>"
            ],
            "text/plain": [
              "        A    B    C\n",
              "max   7.0  8.0  9.0\n",
              "min   1.0  2.0  3.0\n",
              "mean  4.0  5.0  6.0"
            ]
          },
          "metadata": {
            "tags": []
          },
          "execution_count": 84
        }
      ]
    },
    {
      "cell_type": "markdown",
      "metadata": {
        "id": "0h2JljwtkIYQ"
      },
      "source": [
        "Por filas (axis=1):"
      ]
    },
    {
      "cell_type": "code",
      "metadata": {
        "id": "uTuA399VkIcC",
        "colab": {
          "base_uri": "https://localhost:8080/",
          "height": 136
        },
        "outputId": "b2c234ae-07e8-4e3b-b864-8281d90d6ce6"
      },
      "source": [
        "#funcion de agregacion para calcular varios estadisticos a las filas\n",
        "df.agg([\"min\", \"max\"], axis=1)"
      ],
      "execution_count": null,
      "outputs": [
        {
          "output_type": "execute_result",
          "data": {
            "text/html": [
              "<div>\n",
              "<style scoped>\n",
              "    .dataframe tbody tr th:only-of-type {\n",
              "        vertical-align: middle;\n",
              "    }\n",
              "\n",
              "    .dataframe tbody tr th {\n",
              "        vertical-align: top;\n",
              "    }\n",
              "\n",
              "    .dataframe thead th {\n",
              "        text-align: right;\n",
              "    }\n",
              "</style>\n",
              "<table border=\"1\" class=\"dataframe\">\n",
              "  <thead>\n",
              "    <tr style=\"text-align: right;\">\n",
              "      <th></th>\n",
              "      <th>min</th>\n",
              "      <th>max</th>\n",
              "    </tr>\n",
              "  </thead>\n",
              "  <tbody>\n",
              "    <tr>\n",
              "      <th>0</th>\n",
              "      <td>1</td>\n",
              "      <td>3</td>\n",
              "    </tr>\n",
              "    <tr>\n",
              "      <th>1</th>\n",
              "      <td>4</td>\n",
              "      <td>6</td>\n",
              "    </tr>\n",
              "    <tr>\n",
              "      <th>2</th>\n",
              "      <td>7</td>\n",
              "      <td>9</td>\n",
              "    </tr>\n",
              "  </tbody>\n",
              "</table>\n",
              "</div>"
            ],
            "text/plain": [
              "   min  max\n",
              "0    1    3\n",
              "1    4    6\n",
              "2    7    9"
            ]
          },
          "metadata": {
            "tags": []
          },
          "execution_count": 87
        }
      ]
    },
    {
      "cell_type": "markdown",
      "metadata": {
        "id": "3yyCfud-kTdn"
      },
      "source": [
        "Usando un diccionario como parámetro:"
      ]
    },
    {
      "cell_type": "code",
      "metadata": {
        "id": "8qrOoj_7kUQs",
        "colab": {
          "base_uri": "https://localhost:8080/",
          "height": 84
        },
        "outputId": "360f9e2c-5afd-4cae-f078-1259945655e4"
      },
      "source": [
        "df.agg({\"A\": np.min, \"B\": np.max, \"C\": np.mean})"
      ],
      "execution_count": null,
      "outputs": [
        {
          "output_type": "execute_result",
          "data": {
            "text/plain": [
              "A    1.0\n",
              "B    8.0\n",
              "C    6.0\n",
              "dtype: float64"
            ]
          },
          "metadata": {
            "tags": []
          },
          "execution_count": 88
        }
      ]
    },
    {
      "cell_type": "markdown",
      "metadata": {
        "id": "C7R7riKcVDt6"
      },
      "source": [
        "## groupby()\n",
        "\n",
        "El método groupby() permite generar grupos de datos usando una o más columnas para aplicar funciones de transformación o de agregación. \n",
        "\n",
        "Groupby es útil para contestar preguntas tipo: ¿cuál es la media de altura en hombres y mujeres? o ¿cúal es estado con menor población para cada país?"
      ]
    },
    {
      "cell_type": "code",
      "metadata": {
        "id": "Ba0EwO9GVCsO",
        "colab": {
          "base_uri": "https://localhost:8080/",
          "height": 166
        },
        "outputId": "d99d6dc7-bdcf-4362-b4ac-616965b212b8"
      },
      "source": [
        "df = pd.DataFrame({\"Sexo\": [\"M\", \"F\", \"F\", \"M\"], \"Altura\": [1.68, 1.55, 1.75, 1.82], \"Peso\": [70, 50, 68, 72]})\n",
        "df"
      ],
      "execution_count": null,
      "outputs": [
        {
          "output_type": "execute_result",
          "data": {
            "text/html": [
              "<div>\n",
              "<style scoped>\n",
              "    .dataframe tbody tr th:only-of-type {\n",
              "        vertical-align: middle;\n",
              "    }\n",
              "\n",
              "    .dataframe tbody tr th {\n",
              "        vertical-align: top;\n",
              "    }\n",
              "\n",
              "    .dataframe thead th {\n",
              "        text-align: right;\n",
              "    }\n",
              "</style>\n",
              "<table border=\"1\" class=\"dataframe\">\n",
              "  <thead>\n",
              "    <tr style=\"text-align: right;\">\n",
              "      <th></th>\n",
              "      <th>Sexo</th>\n",
              "      <th>Altura</th>\n",
              "      <th>Peso</th>\n",
              "    </tr>\n",
              "  </thead>\n",
              "  <tbody>\n",
              "    <tr>\n",
              "      <th>0</th>\n",
              "      <td>M</td>\n",
              "      <td>1.68</td>\n",
              "      <td>70</td>\n",
              "    </tr>\n",
              "    <tr>\n",
              "      <th>1</th>\n",
              "      <td>F</td>\n",
              "      <td>1.55</td>\n",
              "      <td>50</td>\n",
              "    </tr>\n",
              "    <tr>\n",
              "      <th>2</th>\n",
              "      <td>F</td>\n",
              "      <td>1.75</td>\n",
              "      <td>68</td>\n",
              "    </tr>\n",
              "    <tr>\n",
              "      <th>3</th>\n",
              "      <td>M</td>\n",
              "      <td>1.82</td>\n",
              "      <td>72</td>\n",
              "    </tr>\n",
              "  </tbody>\n",
              "</table>\n",
              "</div>"
            ],
            "text/plain": [
              "  Sexo  Altura  Peso\n",
              "0    M    1.68    70\n",
              "1    F    1.55    50\n",
              "2    F    1.75    68\n",
              "3    M    1.82    72"
            ]
          },
          "metadata": {
            "tags": []
          },
          "execution_count": 89
        }
      ]
    },
    {
      "cell_type": "code",
      "metadata": {
        "id": "4SjCIZ6Cm2RN",
        "colab": {
          "base_uri": "https://localhost:8080/",
          "height": 166
        },
        "outputId": "72b624bf-1c18-45d9-e678-9adc64b92829"
      },
      "source": [
        "#generar un dataframe argupado por una columna\n",
        "df.groupby(\"Sexo\")\n",
        "df"
      ],
      "execution_count": null,
      "outputs": [
        {
          "output_type": "execute_result",
          "data": {
            "text/html": [
              "<div>\n",
              "<style scoped>\n",
              "    .dataframe tbody tr th:only-of-type {\n",
              "        vertical-align: middle;\n",
              "    }\n",
              "\n",
              "    .dataframe tbody tr th {\n",
              "        vertical-align: top;\n",
              "    }\n",
              "\n",
              "    .dataframe thead th {\n",
              "        text-align: right;\n",
              "    }\n",
              "</style>\n",
              "<table border=\"1\" class=\"dataframe\">\n",
              "  <thead>\n",
              "    <tr style=\"text-align: right;\">\n",
              "      <th></th>\n",
              "      <th>Sexo</th>\n",
              "      <th>Altura</th>\n",
              "      <th>Peso</th>\n",
              "    </tr>\n",
              "  </thead>\n",
              "  <tbody>\n",
              "    <tr>\n",
              "      <th>0</th>\n",
              "      <td>M</td>\n",
              "      <td>1.68</td>\n",
              "      <td>70</td>\n",
              "    </tr>\n",
              "    <tr>\n",
              "      <th>1</th>\n",
              "      <td>F</td>\n",
              "      <td>1.55</td>\n",
              "      <td>50</td>\n",
              "    </tr>\n",
              "    <tr>\n",
              "      <th>2</th>\n",
              "      <td>F</td>\n",
              "      <td>1.75</td>\n",
              "      <td>68</td>\n",
              "    </tr>\n",
              "    <tr>\n",
              "      <th>3</th>\n",
              "      <td>M</td>\n",
              "      <td>1.82</td>\n",
              "      <td>72</td>\n",
              "    </tr>\n",
              "  </tbody>\n",
              "</table>\n",
              "</div>"
            ],
            "text/plain": [
              "  Sexo  Altura  Peso\n",
              "0    M    1.68    70\n",
              "1    F    1.55    50\n",
              "2    F    1.75    68\n",
              "3    M    1.82    72"
            ]
          },
          "metadata": {
            "tags": []
          },
          "execution_count": 92
        }
      ]
    },
    {
      "cell_type": "markdown",
      "metadata": {
        "id": "Qkxna7JlnIbD"
      },
      "source": [
        "groupby() por si solo no resulta en la salida esperada.\n",
        "\n",
        "Hay que aplicar una función:"
      ]
    },
    {
      "cell_type": "code",
      "metadata": {
        "id": "uw0pANH5nans",
        "colab": {
          "base_uri": "https://localhost:8080/",
          "height": 136
        },
        "outputId": "8955e7b4-f817-42e8-f93a-f523fb0aad23"
      },
      "source": [
        "#la media de las columnas\n",
        "df.groupby(\"Sexo\").mean()"
      ],
      "execution_count": null,
      "outputs": [
        {
          "output_type": "execute_result",
          "data": {
            "text/html": [
              "<div>\n",
              "<style scoped>\n",
              "    .dataframe tbody tr th:only-of-type {\n",
              "        vertical-align: middle;\n",
              "    }\n",
              "\n",
              "    .dataframe tbody tr th {\n",
              "        vertical-align: top;\n",
              "    }\n",
              "\n",
              "    .dataframe thead th {\n",
              "        text-align: right;\n",
              "    }\n",
              "</style>\n",
              "<table border=\"1\" class=\"dataframe\">\n",
              "  <thead>\n",
              "    <tr style=\"text-align: right;\">\n",
              "      <th></th>\n",
              "      <th>Altura</th>\n",
              "      <th>Peso</th>\n",
              "    </tr>\n",
              "    <tr>\n",
              "      <th>Sexo</th>\n",
              "      <th></th>\n",
              "      <th></th>\n",
              "    </tr>\n",
              "  </thead>\n",
              "  <tbody>\n",
              "    <tr>\n",
              "      <th>F</th>\n",
              "      <td>1.65</td>\n",
              "      <td>59</td>\n",
              "    </tr>\n",
              "    <tr>\n",
              "      <th>M</th>\n",
              "      <td>1.75</td>\n",
              "      <td>71</td>\n",
              "    </tr>\n",
              "  </tbody>\n",
              "</table>\n",
              "</div>"
            ],
            "text/plain": [
              "      Altura  Peso\n",
              "Sexo              \n",
              "F       1.65    59\n",
              "M       1.75    71"
            ]
          },
          "metadata": {
            "tags": []
          },
          "execution_count": 94
        }
      ]
    },
    {
      "cell_type": "code",
      "metadata": {
        "id": "jlBYy_eWnrm9"
      },
      "source": [
        "#seleccionando una sola columna para la agregacion\n",
        "df.groupby(\"Sexo\")[\"Altura\"].mean()"
      ],
      "execution_count": null,
      "outputs": []
    },
    {
      "cell_type": "markdown",
      "metadata": {
        "id": "j7H3MQN3hrSB"
      },
      "source": [
        "**groupby() y agg()**\n",
        "\n",
        "Puedes mezclar groupby() con agg() para aplicar más de una función. "
      ]
    },
    {
      "cell_type": "code",
      "metadata": {
        "id": "9l3IAtYBhrv8",
        "colab": {
          "base_uri": "https://localhost:8080/",
          "height": 166
        },
        "outputId": "c35d3abb-4e96-47e8-e265-0515146145e3"
      },
      "source": [
        "df.groupby(\"Sexo\").agg([\"mean\", \"std\"])"
      ],
      "execution_count": null,
      "outputs": [
        {
          "output_type": "execute_result",
          "data": {
            "text/html": [
              "<div>\n",
              "<style scoped>\n",
              "    .dataframe tbody tr th:only-of-type {\n",
              "        vertical-align: middle;\n",
              "    }\n",
              "\n",
              "    .dataframe tbody tr th {\n",
              "        vertical-align: top;\n",
              "    }\n",
              "\n",
              "    .dataframe thead tr th {\n",
              "        text-align: left;\n",
              "    }\n",
              "\n",
              "    .dataframe thead tr:last-of-type th {\n",
              "        text-align: right;\n",
              "    }\n",
              "</style>\n",
              "<table border=\"1\" class=\"dataframe\">\n",
              "  <thead>\n",
              "    <tr>\n",
              "      <th></th>\n",
              "      <th colspan=\"2\" halign=\"left\">Altura</th>\n",
              "      <th colspan=\"2\" halign=\"left\">Peso</th>\n",
              "    </tr>\n",
              "    <tr>\n",
              "      <th></th>\n",
              "      <th>mean</th>\n",
              "      <th>std</th>\n",
              "      <th>mean</th>\n",
              "      <th>std</th>\n",
              "    </tr>\n",
              "    <tr>\n",
              "      <th>Sexo</th>\n",
              "      <th></th>\n",
              "      <th></th>\n",
              "      <th></th>\n",
              "      <th></th>\n",
              "    </tr>\n",
              "  </thead>\n",
              "  <tbody>\n",
              "    <tr>\n",
              "      <th>F</th>\n",
              "      <td>1.65</td>\n",
              "      <td>0.141421</td>\n",
              "      <td>59</td>\n",
              "      <td>12.727922</td>\n",
              "    </tr>\n",
              "    <tr>\n",
              "      <th>M</th>\n",
              "      <td>1.75</td>\n",
              "      <td>0.098995</td>\n",
              "      <td>71</td>\n",
              "      <td>1.414214</td>\n",
              "    </tr>\n",
              "  </tbody>\n",
              "</table>\n",
              "</div>"
            ],
            "text/plain": [
              "     Altura           Peso           \n",
              "       mean       std mean        std\n",
              "Sexo                                 \n",
              "F      1.65  0.141421   59  12.727922\n",
              "M      1.75  0.098995   71   1.414214"
            ]
          },
          "metadata": {
            "tags": []
          },
          "execution_count": 95
        }
      ]
    },
    {
      "cell_type": "markdown",
      "metadata": {
        "id": "WNskBq1do9g5"
      },
      "source": [
        "**Agrupando con más de una columna**"
      ]
    },
    {
      "cell_type": "code",
      "metadata": {
        "id": "aqA4S2dPo97J",
        "colab": {
          "base_uri": "https://localhost:8080/",
          "height": 166
        },
        "outputId": "ab7806fa-90bd-4d2c-9ac3-6b57991681ac"
      },
      "source": [
        "#agregar una nueva columna al df\n",
        "df[\"Estado\"] = [\"Morelos\", \"DF\", \"DF\", \"DF\"]\n",
        "df"
      ],
      "execution_count": null,
      "outputs": [
        {
          "output_type": "execute_result",
          "data": {
            "text/html": [
              "<div>\n",
              "<style scoped>\n",
              "    .dataframe tbody tr th:only-of-type {\n",
              "        vertical-align: middle;\n",
              "    }\n",
              "\n",
              "    .dataframe tbody tr th {\n",
              "        vertical-align: top;\n",
              "    }\n",
              "\n",
              "    .dataframe thead th {\n",
              "        text-align: right;\n",
              "    }\n",
              "</style>\n",
              "<table border=\"1\" class=\"dataframe\">\n",
              "  <thead>\n",
              "    <tr style=\"text-align: right;\">\n",
              "      <th></th>\n",
              "      <th>Sexo</th>\n",
              "      <th>Altura</th>\n",
              "      <th>Peso</th>\n",
              "      <th>Estado</th>\n",
              "    </tr>\n",
              "  </thead>\n",
              "  <tbody>\n",
              "    <tr>\n",
              "      <th>0</th>\n",
              "      <td>M</td>\n",
              "      <td>1.68</td>\n",
              "      <td>70</td>\n",
              "      <td>Morelos</td>\n",
              "    </tr>\n",
              "    <tr>\n",
              "      <th>1</th>\n",
              "      <td>F</td>\n",
              "      <td>1.55</td>\n",
              "      <td>50</td>\n",
              "      <td>DF</td>\n",
              "    </tr>\n",
              "    <tr>\n",
              "      <th>2</th>\n",
              "      <td>F</td>\n",
              "      <td>1.75</td>\n",
              "      <td>68</td>\n",
              "      <td>DF</td>\n",
              "    </tr>\n",
              "    <tr>\n",
              "      <th>3</th>\n",
              "      <td>M</td>\n",
              "      <td>1.82</td>\n",
              "      <td>72</td>\n",
              "      <td>DF</td>\n",
              "    </tr>\n",
              "  </tbody>\n",
              "</table>\n",
              "</div>"
            ],
            "text/plain": [
              "  Sexo  Altura  Peso   Estado\n",
              "0    M    1.68    70  Morelos\n",
              "1    F    1.55    50       DF\n",
              "2    F    1.75    68       DF\n",
              "3    M    1.82    72       DF"
            ]
          },
          "metadata": {
            "tags": []
          },
          "execution_count": 96
        }
      ]
    },
    {
      "cell_type": "code",
      "metadata": {
        "id": "bA7HP3yLpY9N",
        "colab": {
          "base_uri": "https://localhost:8080/",
          "height": 136
        },
        "outputId": "a21eb010-717d-461d-d012-3a83893fed37"
      },
      "source": [
        "#usando mas de una clave para la agrupacion\n",
        "df.groupby([\"Sexo\", \"Estado\"]).agg([\"mean\", np.linalg.norm])"
      ],
      "execution_count": null,
      "outputs": [
        {
          "output_type": "execute_result",
          "data": {
            "text/html": [
              "<div>\n",
              "<style scoped>\n",
              "    .dataframe tbody tr th:only-of-type {\n",
              "        vertical-align: middle;\n",
              "    }\n",
              "\n",
              "    .dataframe tbody tr th {\n",
              "        vertical-align: top;\n",
              "    }\n",
              "\n",
              "    .dataframe thead tr th {\n",
              "        text-align: left;\n",
              "    }\n",
              "</style>\n",
              "<table border=\"1\" class=\"dataframe\">\n",
              "  <thead>\n",
              "    <tr>\n",
              "      <th></th>\n",
              "      <th colspan=\"2\" halign=\"left\">A</th>\n",
              "      <th colspan=\"2\" halign=\"left\">B</th>\n",
              "    </tr>\n",
              "    <tr>\n",
              "      <th></th>\n",
              "      <th>mean</th>\n",
              "      <th>norm</th>\n",
              "      <th>mean</th>\n",
              "      <th>norm</th>\n",
              "    </tr>\n",
              "  </thead>\n",
              "  <tbody>\n",
              "    <tr>\n",
              "      <th>Estado</th>\n",
              "      <td>3</td>\n",
              "      <td>3</td>\n",
              "      <td>4</td>\n",
              "      <td>4</td>\n",
              "    </tr>\n",
              "    <tr>\n",
              "      <th>Sexo</th>\n",
              "      <td>1</td>\n",
              "      <td>1</td>\n",
              "      <td>2</td>\n",
              "      <td>2</td>\n",
              "    </tr>\n",
              "  </tbody>\n",
              "</table>\n",
              "</div>"
            ],
            "text/plain": [
              "          A         B     \n",
              "       mean norm mean norm\n",
              "Estado    3    3    4    4\n",
              "Sexo      1    1    2    2"
            ]
          },
          "metadata": {
            "tags": []
          },
          "execution_count": 102
        }
      ]
    },
    {
      "cell_type": "markdown",
      "metadata": {
        "id": "tn76gw-kVIX5"
      },
      "source": [
        "# Combinar Dataframes"
      ]
    },
    {
      "cell_type": "markdown",
      "metadata": {
        "id": "QTjnCTA0oKOZ"
      },
      "source": [
        "## append()\n",
        "\n",
        "Concatena las filas de un DataFrame a otro usando las columnas que coinciden. Columnas que no coinciden son agregadas al DataFrame resultante."
      ]
    },
    {
      "cell_type": "code",
      "metadata": {
        "id": "H3iFTLk7VKbK",
        "colab": {
          "base_uri": "https://localhost:8080/",
          "height": 106
        },
        "outputId": "aca94035-0b36-47f1-ef2c-00dd4e29626f"
      },
      "source": [
        "df = pd.DataFrame([[1, 2], [3, 4]], columns=[\"A\", \"B\"])\n",
        "df"
      ],
      "execution_count": null,
      "outputs": [
        {
          "output_type": "execute_result",
          "data": {
            "text/html": [
              "<div>\n",
              "<style scoped>\n",
              "    .dataframe tbody tr th:only-of-type {\n",
              "        vertical-align: middle;\n",
              "    }\n",
              "\n",
              "    .dataframe tbody tr th {\n",
              "        vertical-align: top;\n",
              "    }\n",
              "\n",
              "    .dataframe thead th {\n",
              "        text-align: right;\n",
              "    }\n",
              "</style>\n",
              "<table border=\"1\" class=\"dataframe\">\n",
              "  <thead>\n",
              "    <tr style=\"text-align: right;\">\n",
              "      <th></th>\n",
              "      <th>A</th>\n",
              "      <th>B</th>\n",
              "    </tr>\n",
              "  </thead>\n",
              "  <tbody>\n",
              "    <tr>\n",
              "      <th>0</th>\n",
              "      <td>1</td>\n",
              "      <td>2</td>\n",
              "    </tr>\n",
              "    <tr>\n",
              "      <th>1</th>\n",
              "      <td>3</td>\n",
              "      <td>4</td>\n",
              "    </tr>\n",
              "  </tbody>\n",
              "</table>\n",
              "</div>"
            ],
            "text/plain": [
              "   A  B\n",
              "0  1  2\n",
              "1  3  4"
            ]
          },
          "metadata": {
            "tags": []
          },
          "execution_count": 103
        }
      ]
    },
    {
      "cell_type": "code",
      "metadata": {
        "id": "l6w99m9aqLaO",
        "colab": {
          "base_uri": "https://localhost:8080/",
          "height": 106
        },
        "outputId": "78cb837d-4390-4659-e933-b2db716d5646"
      },
      "source": [
        "df2 = df2 = pd.DataFrame([[5, 6, 7], [8,9,10]], columns=[\"A\", \"B\",\"C\"])\n",
        "df2"
      ],
      "execution_count": null,
      "outputs": [
        {
          "output_type": "execute_result",
          "data": {
            "text/html": [
              "<div>\n",
              "<style scoped>\n",
              "    .dataframe tbody tr th:only-of-type {\n",
              "        vertical-align: middle;\n",
              "    }\n",
              "\n",
              "    .dataframe tbody tr th {\n",
              "        vertical-align: top;\n",
              "    }\n",
              "\n",
              "    .dataframe thead th {\n",
              "        text-align: right;\n",
              "    }\n",
              "</style>\n",
              "<table border=\"1\" class=\"dataframe\">\n",
              "  <thead>\n",
              "    <tr style=\"text-align: right;\">\n",
              "      <th></th>\n",
              "      <th>A</th>\n",
              "      <th>B</th>\n",
              "      <th>C</th>\n",
              "    </tr>\n",
              "  </thead>\n",
              "  <tbody>\n",
              "    <tr>\n",
              "      <th>0</th>\n",
              "      <td>5</td>\n",
              "      <td>6</td>\n",
              "      <td>7</td>\n",
              "    </tr>\n",
              "    <tr>\n",
              "      <th>1</th>\n",
              "      <td>8</td>\n",
              "      <td>9</td>\n",
              "      <td>10</td>\n",
              "    </tr>\n",
              "  </tbody>\n",
              "</table>\n",
              "</div>"
            ],
            "text/plain": [
              "   A  B   C\n",
              "0  5  6   7\n",
              "1  8  9  10"
            ]
          },
          "metadata": {
            "tags": []
          },
          "execution_count": 107
        }
      ]
    },
    {
      "cell_type": "code",
      "metadata": {
        "id": "37SLtmNhrfPi",
        "colab": {
          "base_uri": "https://localhost:8080/",
          "height": 320
        },
        "outputId": "b657df1b-a5d8-4f98-9e42-36e5bf268160"
      },
      "source": [
        "df.append(df2)"
      ],
      "execution_count": null,
      "outputs": [
        {
          "output_type": "stream",
          "text": [
            "/usr/local/lib/python3.6/dist-packages/pandas/core/frame.py:7138: FutureWarning: Sorting because non-concatenation axis is not aligned. A future version\n",
            "of pandas will change to not sort by default.\n",
            "\n",
            "To accept the future behavior, pass 'sort=False'.\n",
            "\n",
            "To retain the current behavior and silence the warning, pass 'sort=True'.\n",
            "\n",
            "  sort=sort,\n"
          ],
          "name": "stderr"
        },
        {
          "output_type": "execute_result",
          "data": {
            "text/html": [
              "<div>\n",
              "<style scoped>\n",
              "    .dataframe tbody tr th:only-of-type {\n",
              "        vertical-align: middle;\n",
              "    }\n",
              "\n",
              "    .dataframe tbody tr th {\n",
              "        vertical-align: top;\n",
              "    }\n",
              "\n",
              "    .dataframe thead th {\n",
              "        text-align: right;\n",
              "    }\n",
              "</style>\n",
              "<table border=\"1\" class=\"dataframe\">\n",
              "  <thead>\n",
              "    <tr style=\"text-align: right;\">\n",
              "      <th></th>\n",
              "      <th>A</th>\n",
              "      <th>B</th>\n",
              "      <th>C</th>\n",
              "    </tr>\n",
              "  </thead>\n",
              "  <tbody>\n",
              "    <tr>\n",
              "      <th>0</th>\n",
              "      <td>1</td>\n",
              "      <td>2</td>\n",
              "      <td>NaN</td>\n",
              "    </tr>\n",
              "    <tr>\n",
              "      <th>1</th>\n",
              "      <td>3</td>\n",
              "      <td>4</td>\n",
              "      <td>NaN</td>\n",
              "    </tr>\n",
              "    <tr>\n",
              "      <th>0</th>\n",
              "      <td>5</td>\n",
              "      <td>6</td>\n",
              "      <td>7.0</td>\n",
              "    </tr>\n",
              "    <tr>\n",
              "      <th>1</th>\n",
              "      <td>8</td>\n",
              "      <td>9</td>\n",
              "      <td>10.0</td>\n",
              "    </tr>\n",
              "  </tbody>\n",
              "</table>\n",
              "</div>"
            ],
            "text/plain": [
              "   A  B     C\n",
              "0  1  2   NaN\n",
              "1  3  4   NaN\n",
              "0  5  6   7.0\n",
              "1  8  9  10.0"
            ]
          },
          "metadata": {
            "tags": []
          },
          "execution_count": 108
        }
      ]
    },
    {
      "cell_type": "markdown",
      "metadata": {
        "id": "9exwc3KToKoF"
      },
      "source": [
        "## merge() y join()\n",
        "\n",
        "Joins al estilo SQL.\n",
        "\n",
        "Si no conoces SQL visita este sitio para darte una idea de los tipos de joins disponibles: https://www.w3schools.com/sql/sql_join.asp\n",
        "\n",
        "![dofactory.com](https://www.dofactory.com/Images/sql-joins.png)"
      ]
    },
    {
      "cell_type": "markdown",
      "metadata": {
        "id": "p7okKBKWtsea"
      },
      "source": [
        "**merge()**\n",
        "\n",
        "Parámetros principales:\n",
        "\n",
        "\n",
        "```\n",
        "right : DataFrame o  Series\n",
        "  Objeto con el que realizar merge()\n",
        "\n",
        "how:{‘left’, ‘right’, ‘outer’, ‘inner’}, Por defecto ‘inner’\n",
        "  Type of merge to be performed.\n",
        "\n",
        "  left: similar a un left outer join de SQL.\n",
        "  right: similar a un  right outer join SQL.\n",
        "  outer:  similar a un full outer join SQL.\n",
        "  inner: similar a un inner join de SQL.\n",
        "\n",
        "on : etiqueta o lista de etiquetas\n",
        "  Columnas o indices para unir. Deben estar en ambos DataFrames.\n",
        "\n",
        "left_on : etiqueta, lista de etiquetas\n",
        "  Columnas o indices para unir del DataFrame de la izquierda.\n",
        "\n",
        "right_on : etiqueta, lista de etiquetas\n",
        "  Columnas o indices para unir del DataFrame de la derecha.\n",
        "```\n"
      ]
    },
    {
      "cell_type": "code",
      "metadata": {
        "id": "2Du2Y5qHqOOK",
        "colab": {
          "base_uri": "https://localhost:8080/",
          "height": 166
        },
        "outputId": "0798ae87-8d4b-4994-d3f5-04634deb9c41"
      },
      "source": [
        "df1 = pd.DataFrame({'key': ['foo', 'bar', 'baz', 'foo'], 'value': [1, 2, 3, 5]})\n",
        "df1"
      ],
      "execution_count": null,
      "outputs": [
        {
          "output_type": "execute_result",
          "data": {
            "text/html": [
              "<div>\n",
              "<style scoped>\n",
              "    .dataframe tbody tr th:only-of-type {\n",
              "        vertical-align: middle;\n",
              "    }\n",
              "\n",
              "    .dataframe tbody tr th {\n",
              "        vertical-align: top;\n",
              "    }\n",
              "\n",
              "    .dataframe thead th {\n",
              "        text-align: right;\n",
              "    }\n",
              "</style>\n",
              "<table border=\"1\" class=\"dataframe\">\n",
              "  <thead>\n",
              "    <tr style=\"text-align: right;\">\n",
              "      <th></th>\n",
              "      <th>key</th>\n",
              "      <th>value</th>\n",
              "    </tr>\n",
              "  </thead>\n",
              "  <tbody>\n",
              "    <tr>\n",
              "      <th>0</th>\n",
              "      <td>foo</td>\n",
              "      <td>1</td>\n",
              "    </tr>\n",
              "    <tr>\n",
              "      <th>1</th>\n",
              "      <td>bar</td>\n",
              "      <td>2</td>\n",
              "    </tr>\n",
              "    <tr>\n",
              "      <th>2</th>\n",
              "      <td>baz</td>\n",
              "      <td>3</td>\n",
              "    </tr>\n",
              "    <tr>\n",
              "      <th>3</th>\n",
              "      <td>foo</td>\n",
              "      <td>5</td>\n",
              "    </tr>\n",
              "  </tbody>\n",
              "</table>\n",
              "</div>"
            ],
            "text/plain": [
              "   key  value\n",
              "0  foo      1\n",
              "1  bar      2\n",
              "2  baz      3\n",
              "3  foo      5"
            ]
          },
          "metadata": {
            "tags": []
          },
          "execution_count": 109
        }
      ]
    },
    {
      "cell_type": "code",
      "metadata": {
        "id": "Cj-XgVtqtYA7",
        "colab": {
          "base_uri": "https://localhost:8080/",
          "height": 166
        },
        "outputId": "a45e6fb1-76bc-48b5-deb8-54ad1d178f2b"
      },
      "source": [
        "df2 = pd.DataFrame({'key': ['foo', 'bar', 'baz', 'foo'], 'value': [5, 6, 7, 8]})\n",
        "df2"
      ],
      "execution_count": null,
      "outputs": [
        {
          "output_type": "execute_result",
          "data": {
            "text/html": [
              "<div>\n",
              "<style scoped>\n",
              "    .dataframe tbody tr th:only-of-type {\n",
              "        vertical-align: middle;\n",
              "    }\n",
              "\n",
              "    .dataframe tbody tr th {\n",
              "        vertical-align: top;\n",
              "    }\n",
              "\n",
              "    .dataframe thead th {\n",
              "        text-align: right;\n",
              "    }\n",
              "</style>\n",
              "<table border=\"1\" class=\"dataframe\">\n",
              "  <thead>\n",
              "    <tr style=\"text-align: right;\">\n",
              "      <th></th>\n",
              "      <th>key</th>\n",
              "      <th>value</th>\n",
              "    </tr>\n",
              "  </thead>\n",
              "  <tbody>\n",
              "    <tr>\n",
              "      <th>0</th>\n",
              "      <td>foo</td>\n",
              "      <td>5</td>\n",
              "    </tr>\n",
              "    <tr>\n",
              "      <th>1</th>\n",
              "      <td>bar</td>\n",
              "      <td>6</td>\n",
              "    </tr>\n",
              "    <tr>\n",
              "      <th>2</th>\n",
              "      <td>baz</td>\n",
              "      <td>7</td>\n",
              "    </tr>\n",
              "    <tr>\n",
              "      <th>3</th>\n",
              "      <td>foo</td>\n",
              "      <td>8</td>\n",
              "    </tr>\n",
              "  </tbody>\n",
              "</table>\n",
              "</div>"
            ],
            "text/plain": [
              "   key  value\n",
              "0  foo      5\n",
              "1  bar      6\n",
              "2  baz      7\n",
              "3  foo      8"
            ]
          },
          "metadata": {
            "tags": []
          },
          "execution_count": 110
        }
      ]
    },
    {
      "cell_type": "code",
      "metadata": {
        "id": "nC1dlsPztc-I",
        "colab": {
          "base_uri": "https://localhost:8080/",
          "height": 225
        },
        "outputId": "669340b7-b6c6-47d4-be39-d392ff664757"
      },
      "source": [
        "df1.merge(df2, how=\"inner\", on=\"key\")"
      ],
      "execution_count": null,
      "outputs": [
        {
          "output_type": "execute_result",
          "data": {
            "text/html": [
              "<div>\n",
              "<style scoped>\n",
              "    .dataframe tbody tr th:only-of-type {\n",
              "        vertical-align: middle;\n",
              "    }\n",
              "\n",
              "    .dataframe tbody tr th {\n",
              "        vertical-align: top;\n",
              "    }\n",
              "\n",
              "    .dataframe thead th {\n",
              "        text-align: right;\n",
              "    }\n",
              "</style>\n",
              "<table border=\"1\" class=\"dataframe\">\n",
              "  <thead>\n",
              "    <tr style=\"text-align: right;\">\n",
              "      <th></th>\n",
              "      <th>key</th>\n",
              "      <th>value_x</th>\n",
              "      <th>value_y</th>\n",
              "    </tr>\n",
              "  </thead>\n",
              "  <tbody>\n",
              "    <tr>\n",
              "      <th>0</th>\n",
              "      <td>foo</td>\n",
              "      <td>1</td>\n",
              "      <td>5</td>\n",
              "    </tr>\n",
              "    <tr>\n",
              "      <th>1</th>\n",
              "      <td>foo</td>\n",
              "      <td>1</td>\n",
              "      <td>8</td>\n",
              "    </tr>\n",
              "    <tr>\n",
              "      <th>2</th>\n",
              "      <td>foo</td>\n",
              "      <td>5</td>\n",
              "      <td>5</td>\n",
              "    </tr>\n",
              "    <tr>\n",
              "      <th>3</th>\n",
              "      <td>foo</td>\n",
              "      <td>5</td>\n",
              "      <td>8</td>\n",
              "    </tr>\n",
              "    <tr>\n",
              "      <th>4</th>\n",
              "      <td>bar</td>\n",
              "      <td>2</td>\n",
              "      <td>6</td>\n",
              "    </tr>\n",
              "    <tr>\n",
              "      <th>5</th>\n",
              "      <td>baz</td>\n",
              "      <td>3</td>\n",
              "      <td>7</td>\n",
              "    </tr>\n",
              "  </tbody>\n",
              "</table>\n",
              "</div>"
            ],
            "text/plain": [
              "   key  value_x  value_y\n",
              "0  foo        1        5\n",
              "1  foo        1        8\n",
              "2  foo        5        5\n",
              "3  foo        5        8\n",
              "4  bar        2        6\n",
              "5  baz        3        7"
            ]
          },
          "metadata": {
            "tags": []
          },
          "execution_count": 111
        }
      ]
    },
    {
      "cell_type": "markdown",
      "metadata": {
        "id": "RcwPQghivj8S"
      },
      "source": [
        "**join()**\n",
        "\n",
        "Permite unir las columnas de uno o más objetos usando su índice o usando una columna como clave.\n",
        "\n",
        "\n",
        "Parámetros:\n",
        "```\n",
        "other : DataFrame, Series, o lista de DataFrames\n",
        "\n",
        "on : str o lista de str, opcional (por defecto usa los indices)\n",
        "\n",
        "how:{‘left’, ‘right’, ‘outer’, ‘inner’}, Por defecto ‘inner’\n",
        "  Type of merge to be performed.\n",
        "\n",
        "  left: usar el indice del DataFrame que llama al metodo.\n",
        "  right: usar el indice de other.\n",
        "  outer:  union de los indices.\n",
        "  inner: interseccion de los indices.\n",
        "\n",
        "lsuffix : str, por defecto ‘’\n",
        "  sufijo a utilizar del dataframe izq para la columnas sobrelapadas.\n",
        "\n",
        "rsuffix : str, default ‘’\n",
        "  sufijo a utilizar del dataframe der para la columnas sobrelapadas.\n",
        "```\n",
        "\n"
      ]
    },
    {
      "cell_type": "code",
      "metadata": {
        "id": "OPJ0nnz0w_Sk",
        "colab": {
          "base_uri": "https://localhost:8080/",
          "height": 195
        },
        "outputId": "f4fb802b-36b2-4fea-922b-8067fd37f88b"
      },
      "source": [
        "df1 = pd.DataFrame({'key': ['foo', 'bar', 'baz', 'foo'], 'value': [1, 2, 3, 5]}).set_index(\"key\")\n",
        "df1"
      ],
      "execution_count": null,
      "outputs": [
        {
          "output_type": "execute_result",
          "data": {
            "text/html": [
              "<div>\n",
              "<style scoped>\n",
              "    .dataframe tbody tr th:only-of-type {\n",
              "        vertical-align: middle;\n",
              "    }\n",
              "\n",
              "    .dataframe tbody tr th {\n",
              "        vertical-align: top;\n",
              "    }\n",
              "\n",
              "    .dataframe thead th {\n",
              "        text-align: right;\n",
              "    }\n",
              "</style>\n",
              "<table border=\"1\" class=\"dataframe\">\n",
              "  <thead>\n",
              "    <tr style=\"text-align: right;\">\n",
              "      <th></th>\n",
              "      <th>value</th>\n",
              "    </tr>\n",
              "    <tr>\n",
              "      <th>key</th>\n",
              "      <th></th>\n",
              "    </tr>\n",
              "  </thead>\n",
              "  <tbody>\n",
              "    <tr>\n",
              "      <th>foo</th>\n",
              "      <td>1</td>\n",
              "    </tr>\n",
              "    <tr>\n",
              "      <th>bar</th>\n",
              "      <td>2</td>\n",
              "    </tr>\n",
              "    <tr>\n",
              "      <th>baz</th>\n",
              "      <td>3</td>\n",
              "    </tr>\n",
              "    <tr>\n",
              "      <th>foo</th>\n",
              "      <td>5</td>\n",
              "    </tr>\n",
              "  </tbody>\n",
              "</table>\n",
              "</div>"
            ],
            "text/plain": [
              "     value\n",
              "key       \n",
              "foo      1\n",
              "bar      2\n",
              "baz      3\n",
              "foo      5"
            ]
          },
          "metadata": {
            "tags": []
          },
          "execution_count": 112
        }
      ]
    },
    {
      "cell_type": "code",
      "metadata": {
        "id": "s1NKoBucw_b2",
        "colab": {
          "base_uri": "https://localhost:8080/",
          "height": 195
        },
        "outputId": "ee10ad8c-5a60-40c7-8d95-efc5d3fd65be"
      },
      "source": [
        "df2 = pd.DataFrame({'key': ['foo', 'bar', 'baz', 'foo'], 'value': [5, 6, 7, 8]}).set_index(\"key\")\n",
        "df2"
      ],
      "execution_count": null,
      "outputs": [
        {
          "output_type": "execute_result",
          "data": {
            "text/html": [
              "<div>\n",
              "<style scoped>\n",
              "    .dataframe tbody tr th:only-of-type {\n",
              "        vertical-align: middle;\n",
              "    }\n",
              "\n",
              "    .dataframe tbody tr th {\n",
              "        vertical-align: top;\n",
              "    }\n",
              "\n",
              "    .dataframe thead th {\n",
              "        text-align: right;\n",
              "    }\n",
              "</style>\n",
              "<table border=\"1\" class=\"dataframe\">\n",
              "  <thead>\n",
              "    <tr style=\"text-align: right;\">\n",
              "      <th></th>\n",
              "      <th>value</th>\n",
              "    </tr>\n",
              "    <tr>\n",
              "      <th>key</th>\n",
              "      <th></th>\n",
              "    </tr>\n",
              "  </thead>\n",
              "  <tbody>\n",
              "    <tr>\n",
              "      <th>foo</th>\n",
              "      <td>5</td>\n",
              "    </tr>\n",
              "    <tr>\n",
              "      <th>bar</th>\n",
              "      <td>6</td>\n",
              "    </tr>\n",
              "    <tr>\n",
              "      <th>baz</th>\n",
              "      <td>7</td>\n",
              "    </tr>\n",
              "    <tr>\n",
              "      <th>foo</th>\n",
              "      <td>8</td>\n",
              "    </tr>\n",
              "  </tbody>\n",
              "</table>\n",
              "</div>"
            ],
            "text/plain": [
              "     value\n",
              "key       \n",
              "foo      5\n",
              "bar      6\n",
              "baz      7\n",
              "foo      8"
            ]
          },
          "metadata": {
            "tags": []
          },
          "execution_count": 113
        }
      ]
    },
    {
      "cell_type": "code",
      "metadata": {
        "id": "XxGont_ExMFH",
        "colab": {
          "base_uri": "https://localhost:8080/",
          "height": 254
        },
        "outputId": "ba0a2d27-4441-4253-e8d7-85c022c3cb49"
      },
      "source": [
        "df1.join(df2, lsuffix=\"_l\", rsuffix=\"_r\")"
      ],
      "execution_count": null,
      "outputs": [
        {
          "output_type": "execute_result",
          "data": {
            "text/html": [
              "<div>\n",
              "<style scoped>\n",
              "    .dataframe tbody tr th:only-of-type {\n",
              "        vertical-align: middle;\n",
              "    }\n",
              "\n",
              "    .dataframe tbody tr th {\n",
              "        vertical-align: top;\n",
              "    }\n",
              "\n",
              "    .dataframe thead th {\n",
              "        text-align: right;\n",
              "    }\n",
              "</style>\n",
              "<table border=\"1\" class=\"dataframe\">\n",
              "  <thead>\n",
              "    <tr style=\"text-align: right;\">\n",
              "      <th></th>\n",
              "      <th>value_l</th>\n",
              "      <th>value_r</th>\n",
              "    </tr>\n",
              "    <tr>\n",
              "      <th>key</th>\n",
              "      <th></th>\n",
              "      <th></th>\n",
              "    </tr>\n",
              "  </thead>\n",
              "  <tbody>\n",
              "    <tr>\n",
              "      <th>bar</th>\n",
              "      <td>2</td>\n",
              "      <td>6</td>\n",
              "    </tr>\n",
              "    <tr>\n",
              "      <th>baz</th>\n",
              "      <td>3</td>\n",
              "      <td>7</td>\n",
              "    </tr>\n",
              "    <tr>\n",
              "      <th>foo</th>\n",
              "      <td>1</td>\n",
              "      <td>5</td>\n",
              "    </tr>\n",
              "    <tr>\n",
              "      <th>foo</th>\n",
              "      <td>1</td>\n",
              "      <td>8</td>\n",
              "    </tr>\n",
              "    <tr>\n",
              "      <th>foo</th>\n",
              "      <td>5</td>\n",
              "      <td>5</td>\n",
              "    </tr>\n",
              "    <tr>\n",
              "      <th>foo</th>\n",
              "      <td>5</td>\n",
              "      <td>8</td>\n",
              "    </tr>\n",
              "  </tbody>\n",
              "</table>\n",
              "</div>"
            ],
            "text/plain": [
              "     value_l  value_r\n",
              "key                  \n",
              "bar        2        6\n",
              "baz        3        7\n",
              "foo        1        5\n",
              "foo        1        8\n",
              "foo        5        5\n",
              "foo        5        8"
            ]
          },
          "metadata": {
            "tags": []
          },
          "execution_count": 114
        }
      ]
    },
    {
      "cell_type": "markdown",
      "metadata": {
        "id": "_L-No5v8Vm2a"
      },
      "source": [
        "# Cadenas\n",
        "\n",
        "Muchas de los métodos/funciones de Python para variables string, tienen un método equivalente en los objetos Series y DataFrames de Pandas.\n",
        "\n",
        "Métodos principales para cadenas:\n",
        "\n",
        "* str.cat(other, sep), concatenta sep y other a cada str en el objeto.\n",
        "* str.split(str), divide la cadena usando el separador especificado.\n",
        "* str.replace(patt, repl), reemplaza en la cadena patt por repl.\n",
        "* str.lower() y str.upper(), para convertir cadenas a minúsculas o mayúsculas.\n",
        "* str.len(), calcula la longitud de la cadena.\n",
        "* str.count(str), cuenta el número de apariciones de str en la cadena.\n",
        "* str.strip(str), elimina str al inicio y final de la cadena.\n",
        "\n",
        "Visita la documentación para la lista completa de [métodos para cadenas de texto de Pandas](https://pandas.pydata.org/pandas-docs/stable/user_guide/text.html#method-summary).\n"
      ]
    },
    {
      "cell_type": "code",
      "metadata": {
        "id": "x6OD5UjjVRgL",
        "colab": {
          "base_uri": "https://localhost:8080/",
          "height": 84
        },
        "outputId": "955c6876-88ff-4228-b3e7-a3cf78bd1389"
      },
      "source": [
        "s1 = pd.Series([\"A\", \"B\", \"C\"])\n",
        "s1"
      ],
      "execution_count": null,
      "outputs": [
        {
          "output_type": "execute_result",
          "data": {
            "text/plain": [
              "0    A\n",
              "1    B\n",
              "2    C\n",
              "dtype: object"
            ]
          },
          "metadata": {
            "tags": []
          },
          "execution_count": 115
        }
      ]
    },
    {
      "cell_type": "code",
      "metadata": {
        "id": "MxstMIglhypx",
        "colab": {
          "base_uri": "https://localhost:8080/",
          "height": 84
        },
        "outputId": "891372bc-bca2-441b-ce8d-6e32bebb9130"
      },
      "source": [
        "s2 = pd.Series([\"1\", \"2\", \"3\"])\n",
        "s2"
      ],
      "execution_count": null,
      "outputs": [
        {
          "output_type": "execute_result",
          "data": {
            "text/plain": [
              "0    1\n",
              "1    2\n",
              "2    3\n",
              "dtype: object"
            ]
          },
          "metadata": {
            "tags": []
          },
          "execution_count": 116
        }
      ]
    },
    {
      "cell_type": "code",
      "metadata": {
        "id": "x9F2lAoyg765",
        "colab": {
          "base_uri": "https://localhost:8080/",
          "height": 84
        },
        "outputId": "2c0f4591-f13b-4fbb-ab1d-fd7bf397c3c3"
      },
      "source": [
        "#concatenando s1 y s2 generando s3\n",
        "s3 = s1.str.cat(s2, sep=\"-\")\n",
        "s3"
      ],
      "execution_count": null,
      "outputs": [
        {
          "output_type": "execute_result",
          "data": {
            "text/plain": [
              "0    A-1\n",
              "1    B-2\n",
              "2    C-3\n",
              "dtype: object"
            ]
          },
          "metadata": {
            "tags": []
          },
          "execution_count": 118
        }
      ]
    },
    {
      "cell_type": "code",
      "metadata": {
        "id": "BHPmiTLFiG4a",
        "colab": {
          "base_uri": "https://localhost:8080/",
          "height": 84
        },
        "outputId": "9c3e586b-735a-4890-db6d-3669cd5319fa"
      },
      "source": [
        "#str split\n",
        "s3.str.split(\"-\")"
      ],
      "execution_count": null,
      "outputs": [
        {
          "output_type": "execute_result",
          "data": {
            "text/plain": [
              "0    [A, 1]\n",
              "1    [B, 2]\n",
              "2    [C, 3]\n",
              "dtype: object"
            ]
          },
          "metadata": {
            "tags": []
          },
          "execution_count": 119
        }
      ]
    },
    {
      "cell_type": "code",
      "metadata": {
        "id": "p5UZmIieiOYh",
        "colab": {
          "base_uri": "https://localhost:8080/",
          "height": 84
        },
        "outputId": "4a5ee1ee-f0a2-463f-8c50-cc1515819b01"
      },
      "source": [
        "#str.replace\n",
        "s3.str.replace(pat=\"-\", repl=\"_\")"
      ],
      "execution_count": null,
      "outputs": [
        {
          "output_type": "execute_result",
          "data": {
            "text/plain": [
              "0    A_1\n",
              "1    B_2\n",
              "2    C_3\n",
              "dtype: object"
            ]
          },
          "metadata": {
            "tags": []
          },
          "execution_count": 120
        }
      ]
    },
    {
      "cell_type": "code",
      "metadata": {
        "id": "EA3DyWgOiAen"
      },
      "source": [
        "#un nuevo df\n",
        "s = pd.Series([\"gato\", \"perro\", \"elefante\"])"
      ],
      "execution_count": null,
      "outputs": []
    },
    {
      "cell_type": "code",
      "metadata": {
        "id": "DwtQJJwriluM",
        "colab": {
          "base_uri": "https://localhost:8080/",
          "height": 84
        },
        "outputId": "00542618-9bfa-4041-b24e-8dbe29a1241f"
      },
      "source": [
        "#upper\n",
        "s.str.upper()"
      ],
      "execution_count": null,
      "outputs": [
        {
          "output_type": "execute_result",
          "data": {
            "text/plain": [
              "0        GATO\n",
              "1       PERRO\n",
              "2    ELEFANTE\n",
              "dtype: object"
            ]
          },
          "metadata": {
            "tags": []
          },
          "execution_count": 123
        }
      ]
    },
    {
      "cell_type": "code",
      "metadata": {
        "id": "ISoIjll3ir8W",
        "colab": {
          "base_uri": "https://localhost:8080/",
          "height": 84
        },
        "outputId": "b66e1fb9-aebb-45e0-8eb5-70cfad061c6e"
      },
      "source": [
        "#len\n",
        "s.str.len()"
      ],
      "execution_count": null,
      "outputs": [
        {
          "output_type": "execute_result",
          "data": {
            "text/plain": [
              "0    4\n",
              "1    5\n",
              "2    8\n",
              "dtype: int64"
            ]
          },
          "metadata": {
            "tags": []
          },
          "execution_count": 124
        }
      ]
    },
    {
      "cell_type": "code",
      "metadata": {
        "id": "1axpUP6vivRY",
        "colab": {
          "base_uri": "https://localhost:8080/",
          "height": 84
        },
        "outputId": "317a745a-0286-422b-b371-11ba93c43213"
      },
      "source": [
        "#count\n",
        "s.str.count(\"o\")"
      ],
      "execution_count": null,
      "outputs": [
        {
          "output_type": "execute_result",
          "data": {
            "text/plain": [
              "0    1\n",
              "1    1\n",
              "2    0\n",
              "dtype: int64"
            ]
          },
          "metadata": {
            "tags": []
          },
          "execution_count": 125
        }
      ]
    },
    {
      "cell_type": "code",
      "metadata": {
        "id": "4AfZk9Pyi42j",
        "colab": {
          "base_uri": "https://localhost:8080/",
          "height": 101
        },
        "outputId": "781ce7eb-fb60-41d1-e0b2-cf87be4008ca"
      },
      "source": [
        "#un nuevo df\n",
        "s4 = pd.Series([\"_A_\", \"_B_\", \"_C_\", \"_D_\"])\n",
        "s4"
      ],
      "execution_count": null,
      "outputs": [
        {
          "output_type": "execute_result",
          "data": {
            "text/plain": [
              "0    _A_\n",
              "1    _B_\n",
              "2    _C_\n",
              "3    _D_\n",
              "dtype: object"
            ]
          },
          "metadata": {
            "tags": []
          },
          "execution_count": 126
        }
      ]
    },
    {
      "cell_type": "code",
      "metadata": {
        "id": "xGUWuWAkjJGM",
        "colab": {
          "base_uri": "https://localhost:8080/",
          "height": 101
        },
        "outputId": "34e383fe-b24f-4965-9fa2-cf494bea650f"
      },
      "source": [
        "s4.str.strip(\"_\")"
      ],
      "execution_count": null,
      "outputs": [
        {
          "output_type": "execute_result",
          "data": {
            "text/plain": [
              "0    A\n",
              "1    B\n",
              "2    C\n",
              "3    D\n",
              "dtype: object"
            ]
          },
          "metadata": {
            "tags": []
          },
          "execution_count": 127
        }
      ]
    },
    {
      "cell_type": "markdown",
      "metadata": {
        "id": "k3f__tkwckYx"
      },
      "source": [
        "# Series de tiempo\n",
        "\n",
        "Pandas utiliza el tipo de dato \"Timestamp\" para el manejo de fechas y tiempo."
      ]
    },
    {
      "cell_type": "markdown",
      "metadata": {
        "id": "f8dQbtFPg0RI"
      },
      "source": [
        "## String a Timestamp"
      ]
    },
    {
      "cell_type": "code",
      "metadata": {
        "id": "00MB65mOckiQ",
        "colab": {
          "base_uri": "https://localhost:8080/",
          "height": 34
        },
        "outputId": "6a09c19e-3ddb-4d1d-85ab-8e162811830f"
      },
      "source": [
        "ts_index = pd.to_datetime([\"10/09/2006\", \"11/09/2006\", \"12/09/2006\"])\n",
        "ts_index"
      ],
      "execution_count": null,
      "outputs": [
        {
          "output_type": "execute_result",
          "data": {
            "text/plain": [
              "DatetimeIndex(['2006-10-09', '2006-11-09', '2006-12-09'], dtype='datetime64[ns]', freq=None)"
            ]
          },
          "metadata": {
            "tags": []
          },
          "execution_count": 129
        }
      ]
    },
    {
      "cell_type": "markdown",
      "metadata": {
        "id": "OAwU2ETlg7Aq"
      },
      "source": [
        "Creando una serie de tiempo desde objetos:"
      ]
    },
    {
      "cell_type": "code",
      "metadata": {
        "id": "oXrkDmylg7KB",
        "colab": {
          "base_uri": "https://localhost:8080/",
          "height": 84
        },
        "outputId": "bdb13d57-81e4-42ad-b10b-205b9d412515"
      },
      "source": [
        "ts = pd.Series([\"5\", \"10\", \"15\"], index=ts_index)\n",
        "ts"
      ],
      "execution_count": null,
      "outputs": [
        {
          "output_type": "execute_result",
          "data": {
            "text/plain": [
              "2006-10-09     5\n",
              "2006-11-09    10\n",
              "2006-12-09    15\n",
              "dtype: object"
            ]
          },
          "metadata": {
            "tags": []
          },
          "execution_count": 130
        }
      ]
    },
    {
      "cell_type": "markdown",
      "metadata": {
        "id": "tc8pIQAMmods"
      },
      "source": [
        "Creando una serie de tiempo usando aleatoriamente usando Numpy y date_range de Pandas:"
      ]
    },
    {
      "cell_type": "code",
      "metadata": {
        "id": "I-g0NLy4moi6",
        "colab": {
          "base_uri": "https://localhost:8080/",
          "height": 202
        },
        "outputId": "757de321-6ba3-44f5-f681-a07f1dce1908"
      },
      "source": [
        "ts = pd.Series(np.random.normal(0, 1, 100), index=pd.date_range(start=\"2006-01-01\", periods=100, freq=\"D\"))\n",
        "ts.head(10)"
      ],
      "execution_count": null,
      "outputs": [
        {
          "output_type": "execute_result",
          "data": {
            "text/plain": [
              "2006-01-01   -0.149178\n",
              "2006-01-02   -1.391077\n",
              "2006-01-03    0.069124\n",
              "2006-01-04   -1.349129\n",
              "2006-01-05   -0.118142\n",
              "2006-01-06    0.369815\n",
              "2006-01-07    1.756218\n",
              "2006-01-08   -0.274998\n",
              "2006-01-09   -1.029905\n",
              "2006-01-10    1.684656\n",
              "Freq: D, dtype: float64"
            ]
          },
          "metadata": {
            "tags": []
          },
          "execution_count": 131
        }
      ]
    },
    {
      "cell_type": "markdown",
      "metadata": {
        "id": "oRuwhTMRmdNM"
      },
      "source": [
        "## Indexing\n",
        "\n",
        "Puedes utilizar fechas para indexar una serie de tiempo:"
      ]
    },
    {
      "cell_type": "code",
      "metadata": {
        "id": "wGH6izcRl4q_",
        "colab": {
          "base_uri": "https://localhost:8080/",
          "height": 504
        },
        "outputId": "f6309122-0b7c-41cf-d3bd-e802101e6387"
      },
      "source": [
        "#usando el anio y mes como indice\n",
        "ts[\"2006-02\"]"
      ],
      "execution_count": null,
      "outputs": [
        {
          "output_type": "execute_result",
          "data": {
            "text/plain": [
              "2006-02-01   -0.193844\n",
              "2006-02-02    2.390622\n",
              "2006-02-03    0.641411\n",
              "2006-02-04   -0.548074\n",
              "2006-02-05    0.185789\n",
              "2006-02-06   -0.741275\n",
              "2006-02-07    0.645990\n",
              "2006-02-08   -0.424972\n",
              "2006-02-09    0.495229\n",
              "2006-02-10   -0.242077\n",
              "2006-02-11    1.279780\n",
              "2006-02-12    1.289061\n",
              "2006-02-13    0.169381\n",
              "2006-02-14   -0.757396\n",
              "2006-02-15   -0.471986\n",
              "2006-02-16   -0.404526\n",
              "2006-02-17   -2.044730\n",
              "2006-02-18    0.503670\n",
              "2006-02-19   -0.107773\n",
              "2006-02-20   -2.412615\n",
              "2006-02-21   -0.515289\n",
              "2006-02-22    0.054879\n",
              "2006-02-23   -1.550037\n",
              "2006-02-24    0.661040\n",
              "2006-02-25    1.114360\n",
              "2006-02-26    0.343812\n",
              "2006-02-27    0.459963\n",
              "2006-02-28   -0.388547\n",
              "Freq: D, dtype: float64"
            ]
          },
          "metadata": {
            "tags": []
          },
          "execution_count": 132
        }
      ]
    },
    {
      "cell_type": "code",
      "metadata": {
        "id": "3Ap7AU9bunh_",
        "colab": {
          "base_uri": "https://localhost:8080/",
          "height": 353
        },
        "outputId": "e7165870-e708-4325-8df8-b4fca29687c0"
      },
      "source": [
        "#una rebanada entre fechas\n",
        "ts[\"2006-02-20\": \"2006-03-10\"]"
      ],
      "execution_count": null,
      "outputs": [
        {
          "output_type": "execute_result",
          "data": {
            "text/plain": [
              "2006-02-20   -2.412615\n",
              "2006-02-21   -0.515289\n",
              "2006-02-22    0.054879\n",
              "2006-02-23   -1.550037\n",
              "2006-02-24    0.661040\n",
              "2006-02-25    1.114360\n",
              "2006-02-26    0.343812\n",
              "2006-02-27    0.459963\n",
              "2006-02-28   -0.388547\n",
              "2006-03-01   -0.725322\n",
              "2006-03-02    1.822384\n",
              "2006-03-03   -1.547441\n",
              "2006-03-04   -0.234181\n",
              "2006-03-05   -0.016259\n",
              "2006-03-06    1.367736\n",
              "2006-03-07    4.040254\n",
              "2006-03-08    1.499947\n",
              "2006-03-09   -0.954345\n",
              "2006-03-10    1.708500\n",
              "Freq: D, dtype: float64"
            ]
          },
          "metadata": {
            "tags": []
          },
          "execution_count": 133
        }
      ]
    },
    {
      "cell_type": "markdown",
      "metadata": {
        "id": "OhcR1uS6n2py"
      },
      "source": [
        "## Resampling / agregación\n",
        "\n",
        "Permite obtener desde una serie de tiempo una nueva serie de tiempo a una frecuencia de tiempo menor al agregar los datos."
      ]
    },
    {
      "cell_type": "code",
      "metadata": {
        "id": "jwU6jpz0n41e",
        "colab": {
          "base_uri": "https://localhost:8080/",
          "height": 302
        },
        "outputId": "82030975-ea45-4778-ad23-1064e97ee848"
      },
      "source": [
        "#De frecuencia por dias a semanas\n",
        "ts.resample(\"W\").mean()"
      ],
      "execution_count": null,
      "outputs": [
        {
          "output_type": "execute_result",
          "data": {
            "text/plain": [
              "2006-01-01   -0.149178\n",
              "2006-01-08   -0.134027\n",
              "2006-01-15    0.394807\n",
              "2006-01-22   -0.179085\n",
              "2006-01-29   -0.599690\n",
              "2006-02-05    0.220403\n",
              "2006-02-12    0.328819\n",
              "2006-02-19   -0.444766\n",
              "2006-02-26   -0.329121\n",
              "2006-03-05   -0.089915\n",
              "2006-03-12    0.981684\n",
              "2006-03-19    0.639924\n",
              "2006-03-26   -0.003630\n",
              "2006-04-02    0.543973\n",
              "2006-04-09    0.371085\n",
              "2006-04-16    0.156955\n",
              "Freq: W-SUN, dtype: float64"
            ]
          },
          "metadata": {
            "tags": []
          },
          "execution_count": 135
        }
      ]
    },
    {
      "cell_type": "markdown",
      "metadata": {
        "id": "-xUm9dhkn5RX"
      },
      "source": [
        "## Ventanas\n",
        "\n",
        "Puedes aplicar ventanas deslizantes a series de tiempo para calcular distintos estadísticos."
      ]
    },
    {
      "cell_type": "code",
      "metadata": {
        "id": "DCVmpAFTn5e6",
        "colab": {
          "base_uri": "https://localhost:8080/",
          "height": 269
        },
        "outputId": "8e5b23ef-c9a6-4e22-b80f-0f781f00bc5f"
      },
      "source": [
        "ts.rolling(window=2).mean().head(14)"
      ],
      "execution_count": null,
      "outputs": [
        {
          "output_type": "execute_result",
          "data": {
            "text/plain": [
              "2006-01-01         NaN\n",
              "2006-01-02   -0.770127\n",
              "2006-01-03   -0.660976\n",
              "2006-01-04   -0.640003\n",
              "2006-01-05   -0.733636\n",
              "2006-01-06    0.125836\n",
              "2006-01-07    1.063016\n",
              "2006-01-08    0.740610\n",
              "2006-01-09   -0.652452\n",
              "2006-01-10    0.327375\n",
              "2006-01-11    1.046530\n",
              "2006-01-12    1.259927\n",
              "2006-01-13    0.730453\n",
              "2006-01-14    0.051378\n",
              "Freq: D, dtype: float64"
            ]
          },
          "metadata": {
            "tags": []
          },
          "execution_count": 137
        }
      ]
    }
  ]
}